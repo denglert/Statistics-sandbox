{
 "cells": [
  {
   "cell_type": "markdown",
   "metadata": {},
   "source": [
    "# Predictive posterior distribution"
   ]
  },
  {
   "cell_type": "markdown",
   "metadata": {},
   "source": [
    "## General setup\n",
    "\n",
    "Poisson distribution:\n",
    "\n",
    "\\begin{equation}\n",
    "    p(n|\\lambda)\n",
    "    =\n",
    "    \\frac{\\lambda^{n} e^{-\\lambda}}{n!}\n",
    "\\end{equation}\n",
    "\n",
    "Posterior for the parameter $\\lambda$:\n",
    "\n",
    "\\begin{equation}\n",
    "    p(\\lambda | n_{obs})\n",
    "    =\n",
    "    \\frac{p(n_{obs},\\lambda,M) p(\\lambda, M)}{ p(n_{obs},M) }\n",
    "\\end{equation}\n",
    "\n",
    "\n",
    "Posterior predictive distribution:\n",
    "\n",
    "\\begin{equation}\n",
    "    p(n | n_{obs})\n",
    "    =\n",
    "    \\int~\n",
    "    d\\lambda\n",
    "    ~\n",
    "    p(n | \\lambda)\n",
    "    p(\\lambda | n_{obs})\n",
    "\\end{equation}\n",
    "\n",
    "## Single observation and non-informative prior\n",
    "\n",
    "Choosing a non-informative prior:\n",
    "\n",
    "\\begin{equation}\n",
    "    p(\\lambda|M)\n",
    "    =\n",
    "    \\Theta(\\lambda)\n",
    "\\end{equation}\n",
    "\n",
    "yields and evidence of\n",
    "\n",
    "\\begin{equation}\n",
    "    p(n_{obs}|M)\n",
    "    =\n",
    "    \\int\n",
    "    d\\lambda~\n",
    "    \\frac{\\lambda^{n_{obs}} e^{-\\lambda}}{n_{obs}!}\n",
    "    \\Theta(\\lambda)\n",
    "    = 1.\n",
    "\\end{equation}\n",
    "\n",
    "The corresponding posterior predictive distribution:\n",
    "\n",
    "\\begin{equation}\n",
    "    p(n|n_{obs})\n",
    "    =\n",
    "    \\frac{(n+n_{obs})!}{n! n_{obs}!}\n",
    "    2^{-n_{obs}-1-n}\n",
    "\\end{equation}"
   ]
  },
  {
   "cell_type": "code",
   "execution_count": 37,
   "metadata": {
    "collapsed": true
   },
   "outputs": [],
   "source": [
    "import numpy as np\n",
    "import scipy.stats\n",
    "from scipy.misc import factorial\n",
    "from scipy.stats import poisson\n",
    "import matplotlib.pyplot as plt\n",
    "%matplotlib inline"
   ]
  },
  {
   "cell_type": "code",
   "execution_count": null,
   "metadata": {
    "collapsed": true
   },
   "outputs": [],
   "source": [
    "scipy.stats.nbinom"
   ]
  },
  {
   "cell_type": "code",
   "execution_count": 15,
   "metadata": {},
   "outputs": [],
   "source": [
    "def calc_predictive_posterior(N, N_obs):\n",
    "    \n",
    "    p = factorial(N+N_obs)/(factorial(N)*factorial(N_obs))*0.5**(N+N_obs+1)\n",
    "    \n",
    "    return p"
   ]
  },
  {
   "cell_type": "code",
   "execution_count": 58,
   "metadata": {},
   "outputs": [],
   "source": [
    "Ns = range(0, 30, 1)\n",
    "N_obs = 10"
   ]
  },
  {
   "cell_type": "code",
   "execution_count": 59,
   "metadata": {},
   "outputs": [],
   "source": [
    "ps = np.array([calc_predictive_posterior(N, N_obs) for N in Ns])"
   ]
  },
  {
   "cell_type": "code",
   "execution_count": 60,
   "metadata": {},
   "outputs": [],
   "source": [
    "poisson_pdf = np.array([poisson.pmf(N, mu=N_obs) for N in Ns])"
   ]
  },
  {
   "cell_type": "code",
   "execution_count": 63,
   "metadata": {},
   "outputs": [
    {
     "data": {
      "text/plain": [
       "<matplotlib.legend.Legend at 0x7f60393cd0f0>"
      ]
     },
     "execution_count": 63,
     "metadata": {},
     "output_type": "execute_result"
    },
    {
     "data": {
      "image/png": "[encoded data removed]",
      "text/plain": [
       "<Figure size 576x432 with 1 Axes>"
      ]
     },
     "metadata": {},
     "output_type": "display_data"
    }
   ],
   "source": [
    "f,a = plt.subplots(figsize=(8,6))\n",
    "a.scatter(Ns, ps, label='Posterior predictive distribution')\n",
    "a.scatter(Ns, poisson_pdf, label='$p(n | \\lambda=10)$')\n",
    "a.set_xlabel('n')\n",
    "a.set_ylabel('Probability')\n",
    "a.axvline(N_obs, linestyle='--')\n",
    "a.legend()"
   ]
  },
  {
   "cell_type": "code",
   "execution_count": 62,
   "metadata": {},
   "outputs": [
    {
     "data": {
      "text/plain": [
       "0.99888928311338532"
      ]
     },
     "execution_count": 62,
     "metadata": {},
     "output_type": "execute_result"
    }
   ],
   "source": [
    "ps.sum()"
   ]
  },
  {
   "cell_type": "code",
   "execution_count": null,
   "metadata": {
    "collapsed": true
   },
   "outputs": [],
   "source": []
  }
 ],
 "metadata": {
  "kernelspec": {
   "display_name": "Python 3",
   "language": "python",
   "name": "python3"
  },
  "language_info": {
   "codemirror_mode": {
    "name": "ipython",
    "version": 3
   },
   "file_extension": ".py",
   "mimetype": "text/x-python",
   "name": "python",
   "nbconvert_exporter": "python",
   "pygments_lexer": "ipython3",
   "version": "3.6.6"
  }
 },
 "nbformat": 4,
 "nbformat_minor": 2
}
