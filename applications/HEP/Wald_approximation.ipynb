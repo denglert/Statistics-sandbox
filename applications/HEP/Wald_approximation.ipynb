{
 "cells": [
  {
   "cell_type": "markdown",
   "metadata": {},
   "source": [
    "# Wald approximation\n",
    "\n",
    "General test statistic is defined as:\n",
    "\n",
    "$t_{\\mu} = -2 \\ln \\left[ \\frac{\\mathcal{L}(\\mu)}{\\mathcal{L}(\\hat{\\mu})} \\right]$\n",
    "\n",
    "In case of large statistic the Wald approximation holds:\n",
    "\n",
    "$t_{\\mu} \\rightarrow \\frac{(\\mu - \\hat{\\mu})^{2}}{\\sigma^{2}} + \\mathcal{O}\\left( \\frac{1}{\\sqrt{N}} \\right)$ \n",
    "\n",
    "\n",
    "Another type of test statistic (used at Tevatron):\n",
    "\n",
    "$q = -2 \\ln \\left[ \\frac{\\mathcal{L}(\\mu=1)}{\\mathcal{L}(\\mu=0)} \\right]$\n",
    "\n",
    "which can be rewritten as:\n",
    "\n",
    "$q\n",
    "=\n",
    "-2 \\ln \\left[ \\frac{\\mathcal{L}(\\mu=1)}{\\mathcal{L}(\\hat{\\mu)}} \\right]\n",
    "+2 \\ln \\left[ \\frac{\\mathcal{L}(\\mu=0)}{\\mathcal{L}(\\hat{\\mu)}} \\right]\n",
    "$\n",
    "\n",
    "therefore at large statistic using the the Wald approximation we get:\n",
    "\n",
    "$q = \\frac{(1 - \\hat{\\mu})^{2}}{\\sigma^{2}_{\\hat{\\mu}}} - \\frac{\\hat{\\mu}^{2}}{\\sigma^{2}_{\\hat{\\mu}}}$\n",
    "\n",
    "\n",
    "**Likelihood:**\n",
    "\n",
    "$\\mathcal{L} = \\prod\\limits_{i=1}^{n_{bins}} \\mathcal{L_{i}}$"
   ]
  },
  {
   "cell_type": "code",
   "execution_count": 7,
   "metadata": {
    "collapsed": true
   },
   "outputs": [],
   "source": [
    "import matplotlib.pyplot as plt\n",
    "import numpy as np\n",
    "from scipy.stats import norm\n",
    "from scipy.stats import poisson\n",
    "%matplotlib inline"
   ]
  },
  {
   "cell_type": "markdown",
   "metadata": {},
   "source": [
    "### Utility functions"
   ]
  },
  {
   "cell_type": "code",
   "execution_count": 84,
   "metadata": {
    "collapsed": true
   },
   "outputs": [],
   "source": [
    "def calc_ll(data, model):\n",
    "    \"\"\"Calculates the log likelihood based on Poisson distribution\"\"\"\n",
    "    if not len(data) == len(model):\n",
    "        print('Data and model arrays are not the same length!')\n",
    "        \n",
    "    ll_sum = 0.0\n",
    "    for d, m in zip(data, model):\n",
    "        ll = np.log(poisson.pmf(d, m))\n",
    "        ll_sum = ll_sum + ll\n",
    "    return ll_sum"
   ]
  },
  {
   "cell_type": "code",
   "execution_count": 94,
   "metadata": {
    "collapsed": true
   },
   "outputs": [],
   "source": [
    "def calc_tmu(data, model):\n",
    "    l1 = calc_ll(data, model)\n",
    "    l2 = calc_ll(data, model)\n",
    "    tmu = -2.0*(l1 - l2)\n",
    "    return tmu"
   ]
  },
  {
   "cell_type": "code",
   "execution_count": 95,
   "metadata": {
    "collapsed": true
   },
   "outputs": [],
   "source": [
    "def get_ll_from_generated_sample_ensemble(samples):\n",
    "    ll = []\n",
    "    for i in range(samples):\n",
    "        bkg = poisson.rvs(bkg_model)\n",
    "        ll.append( calc_ll(bkg, bkg_model) )\n",
    "    return ll"
   ]
  },
  {
   "cell_type": "code",
   "execution_count": 96,
   "metadata": {
    "collapsed": true
   },
   "outputs": [],
   "source": [
    "def get_tmu_from_generated_sample_ensemble(samples):\n",
    "    tmu = []\n",
    "    for i in range(samples):\n",
    "        bkg = poisson.rvs(bkg_model)\n",
    "        tmu.append( calc_tmu(bkg, bkg_model) )\n",
    "    return tmu"
   ]
  },
  {
   "cell_type": "code",
   "execution_count": 97,
   "metadata": {},
   "outputs": [
    {
     "data": {
      "text/plain": [
       "0.2706705664732254"
      ]
     },
     "execution_count": 97,
     "metadata": {},
     "output_type": "execute_result"
    }
   ],
   "source": [
    "log_likelihood([1], [2])"
   ]
  },
  {
   "cell_type": "markdown",
   "metadata": {},
   "source": [
    "## Main block"
   ]
  },
  {
   "cell_type": "markdown",
   "metadata": {},
   "source": [
    "### Background model"
   ]
  },
  {
   "cell_type": "code",
   "execution_count": 98,
   "metadata": {
    "collapsed": true
   },
   "outputs": [],
   "source": [
    "x   = np.linspace(0.0, 100.0)\n",
    "a   = 20.0\n",
    "tau = 50.0\n",
    "bkg_model = a*np.exp(-x/tau)"
   ]
  },
  {
   "cell_type": "markdown",
   "metadata": {},
   "source": [
    "Actual realization of the background"
   ]
  },
  {
   "cell_type": "code",
   "execution_count": 99,
   "metadata": {
    "collapsed": true
   },
   "outputs": [],
   "source": [
    "bkg = poisson.rvs(bkg_model, 1)"
   ]
  },
  {
   "cell_type": "code",
   "execution_count": 100,
   "metadata": {},
   "outputs": [
    {
     "data": {
      "image/png": "[encoded data removed]",
      "text/plain": [
       "<matplotlib.figure.Figure at 0x119ce5b00>"
      ]
     },
     "metadata": {},
     "output_type": "display_data"
    }
   ],
   "source": [
    "f, a = plt.subplots();\n",
    "a.plot(x, bkg_model, 'k', linestyle='--', label='Background model');\n",
    "a.plot(x, bkg, label='Background');\n",
    "a.set_xlabel('x');\n",
    "a.set_ylabel('dN/dx');\n",
    "a.set_ylim(0.0, 50.0);"
   ]
  },
  {
   "cell_type": "markdown",
   "metadata": {},
   "source": [
    "## Signal model"
   ]
  },
  {
   "cell_type": "code",
   "execution_count": 108,
   "metadata": {
    "collapsed": true
   },
   "outputs": [],
   "source": [
    "x   = np.linspace(0.0, 100.0)\n",
    "x0    = 30.0\n",
    "sigma = 5.0\n",
    "amp   = 100.0\n",
    "sig_model = amp*norm.pdf(x, x0, sigma)"
   ]
  },
  {
   "cell_type": "code",
   "execution_count": 110,
   "metadata": {},
   "outputs": [
    {
     "data": {
      "image/png": "[encoded data removed]",
      "text/plain": [
       "<matplotlib.figure.Figure at 0x119fd1080>"
      ]
     },
     "metadata": {},
     "output_type": "display_data"
    }
   ],
   "source": [
    "f, a = plt.subplots();\n",
    "a.plot(x, sig_model, 'k', linestyle='--', label='Signal model');\n",
    "a.set_xlabel('x');\n",
    "a.set_ylabel('dN/dx');\n",
    "a.set_ylim(0.0, 50.0);"
   ]
  },
  {
   "cell_type": "markdown",
   "metadata": {},
   "source": [
    "## Signal + background model"
   ]
  },
  {
   "cell_type": "code",
   "execution_count": 111,
   "metadata": {
    "collapsed": true
   },
   "outputs": [],
   "source": [
    "sigbkg_model = bkg_model + sig_model"
   ]
  },
  {
   "cell_type": "code",
   "execution_count": 112,
   "metadata": {},
   "outputs": [
    {
     "data": {
      "image/png": "[encoded data removed]",
      "text/plain": [
       "<matplotlib.figure.Figure at 0x11a7f2da0>"
      ]
     },
     "metadata": {},
     "output_type": "display_data"
    }
   ],
   "source": [
    "f, a = plt.subplots();\n",
    "a.plot(x, sigbkg_model, 'k', linestyle='--', label='Signal + background model');\n",
    "a.set_xlabel('x');\n",
    "a.set_ylabel('dN/dx');\n",
    "a.set_ylim(0.0, 50.0);"
   ]
  },
  {
   "cell_type": "markdown",
   "metadata": {},
   "source": [
    "## Generate ensemble"
   ]
  },
  {
   "cell_type": "code",
   "execution_count": null,
   "metadata": {
    "collapsed": true
   },
   "outputs": [],
   "source": [
    "tmu_ensemble = get_tmu_from_generated_sample_ensemble(10000);"
   ]
  },
  {
   "cell_type": "code",
   "execution_count": null,
   "metadata": {
    "collapsed": true
   },
   "outputs": [],
   "source": [
    "f, a = plt.subplots();\n",
    "a.hist(tmu_ensemble, bins=30);\n",
    "a.set_xlabel(r'$t_{\\mu}$')\n",
    "a.set_ylabel('Frequency')"
   ]
  },
  {
   "cell_type": "code",
   "execution_count": null,
   "metadata": {
    "collapsed": true
   },
   "outputs": [],
   "source": []
  }
 ],
 "metadata": {
  "kernelspec": {
   "display_name": "Python 3",
   "language": "python",
   "name": "python3"
  },
  "language_info": {
   "codemirror_mode": {
    "name": "ipython",
    "version": 3
   },
   "file_extension": ".py",
   "mimetype": "text/x-python",
   "name": "python",
   "nbconvert_exporter": "python",
   "pygments_lexer": "ipython3",
   "version": "3.6.0"
  }
 },
 "nbformat": 4,
 "nbformat_minor": 2
}
