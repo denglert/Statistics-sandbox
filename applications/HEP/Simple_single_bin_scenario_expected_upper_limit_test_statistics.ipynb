{
 "cells": [
  {
   "cell_type": "markdown",
   "metadata": {},
   "source": [
    "# Distribution of different test statistics under $H_{0}$ and $H_{1}$, when deriving an upper limit on the signal parameters"
   ]
  },
  {
   "cell_type": "markdown",
   "metadata": {},
   "source": [
    "**References:**\n",
    "- [Asimov paper](https://arxiv.org/abs/1007.1727)\n",
    "\n",
    "Here we show the distributions of the different test statistics ($t$, $q_{u.l.}$, $\\sqrt{q_{u.l.}}$, $g$, $q$) in the context of deriving upper limits on the signal parameters. To illustrate we make a simple experiment of measuring the number of events in a single bin (counting experiment).\n",
    "\n",
    "## Competing hypotheses\n",
    "\n",
    "### $H_{0}$: s+b\n",
    "### $H_{1}$: b\n",
    "\n",
    "## Test statistics used:\n",
    "\n",
    "- $t = -2 \\ln \\left[ \\frac{\\mathcal{L}(\\mu)}{ \\mathcal{L} (\\hat{\\mu}) }\\right]$\n",
    "- $q_{u.l.} = \\begin{cases} -2 \\ln \\left[ \\frac{\\mathcal{L}(\\mu)}{ \\mathcal{L}(\\hat{\\mu})} \\right] & \\hat{\\mu} \\leq \\mu, \\\\  0 & \\hat{\\mu} > \\mu \\end{cases}$\n",
    "- $\\sqrt{q_{u.l.}}$, just simply taking the square root of $q_{u.l.}$\n",
    "- $g = \\frac{\\hat{\\mu} - \\mu}{\\sigma_{\\hat{\\mu}}}$\n",
    "- $q = -2 \\ln \\frac{ \\mathcal{L}(\\mu) }{ \\mathcal{L}(\\mu=0) }$\n",
    "\n",
    "\n",
    "In this example we take the likelihood, $\\mathcal{L}$ to be the Poission likelihood, which is a function of the data ($n$ = number of events observed) and the model parameters (here, it's just $\\lambda$, the expected number of events):\n",
    "\n",
    "$$\\mathcal{L}(\\text{data}, \\lambda) = \\frac{\\lambda^{n}}{n!} e^{-\\lambda}$$\n",
    "\n",
    "\n",
    "The expected number of events, $\\lambda$ is the sum of background events and signal events:\n",
    "\n",
    "$$\\lambda = b + \\mu s_{0},$$\n",
    "\n",
    "where $\\mu$ is the signal parameter relative to a nominal value of expected number of signal events.\n",
    "\n",
    "$\\hat{\\mu}$ in this example is simply:\n",
    "\n",
    "$$\\hat{\\mu} = \\frac{n_{obs}-b}{s_{0}}$$\n",
    "\n",
    "Notation:\n",
    "$\\hat{a}$ denotes the maximum likelihood estimator (MLE) of a parameter, which is defined by:\n",
    "$$\\mathcal{L}|_{\\hat{a}} = \\mathcal{L}_{max}$$"
   ]
  },
  {
   "cell_type": "markdown",
   "metadata": {},
   "source": [
    "Importing required libraries"
   ]
  },
  {
   "cell_type": "code",
   "execution_count": 1,
   "metadata": {
    "collapsed": true
   },
   "outputs": [],
   "source": [
    "import matplotlib.pyplot as plt\n",
    "import numpy as np\n",
    "from scipy.stats import norm\n",
    "from scipy.stats import poisson\n",
    "from scipy.optimize import minimize\n",
    "%matplotlib inline"
   ]
  },
  {
   "cell_type": "markdown",
   "metadata": {},
   "source": [
    "Utility functions"
   ]
  },
  {
   "cell_type": "code",
   "execution_count": 2,
   "metadata": {
    "collapsed": true
   },
   "outputs": [],
   "source": [
    "def likelihood_poi(mu, n, bkg, s0=1.0, neg=False):\n",
    "    \"\"\"Return the value of the Poisson likelihood function, given the:\n",
    "       - mu: signal strength parameter,\n",
    "       - n: number of events observed,\n",
    "       - bkg: expected number of background events,\n",
    "       - s0: nominal number of signal events\n",
    "       The total expected number of events is lambda = bkg + mu*s0.\n",
    "       \n",
    "       The `neg` argument just multiplies the likelihood by (-1).\n",
    "       This is used to for the minimize() function.\"\"\"\n",
    "    sig = mu * s0\n",
    "    exp = bkg + sig\n",
    "    likelihood = poisson.pmf(n, mu=exp)\n",
    "    \n",
    "    if neg:\n",
    "        return -likelihood\n",
    "    return likelihood"
   ]
  },
  {
   "cell_type": "code",
   "execution_count": 3,
   "metadata": {
    "collapsed": true
   },
   "outputs": [],
   "source": [
    "def calc_muhat(likelihood, n, bkg, s0=1.0, simple=True):\n",
    "    \"\"\"Calculated the MLE estimator for mu given the:\n",
    "        - likelihood: likelihood function,\n",
    "        - n: number of events observed,\n",
    "        - bkg: expected number of background events,\n",
    "        - s0: nominal number of signal events.\n",
    "        The `simple` argument switches between actually\n",
    "        maximizing the Poisson distribution, or just the simple solution,\n",
    "        (n-bkg)/s0\"\"\"\n",
    "    if simple:\n",
    "        muhat = (n-bkg)/s0\n",
    "        return muhat\n",
    "    else:\n",
    "        res = minimize(likelihood, x0=[0.0], args=(n, bkg, s0, True), method='Nelder-Mead')\n",
    "        likelihood = -res['fun']\n",
    "        muhat      =  res['x'][0]\n",
    "        return muhat"
   ]
  },
  {
   "cell_type": "code",
   "execution_count": 4,
   "metadata": {
    "collapsed": true
   },
   "outputs": [],
   "source": [
    "def get_significance_from_CL(CL):\n",
    "    \"\"\"Calculate the significance corresponding to a confidence level\"\"\"\n",
    "    p = 1.0 - CL\n",
    "    Z = norm.isf(p)\n",
    "    return Z"
   ]
  },
  {
   "cell_type": "code",
   "execution_count": 5,
   "metadata": {
    "collapsed": true
   },
   "outputs": [],
   "source": [
    "def calc_s(b, CL=0.95, simple=False):\n",
    "    \"\"\"Calculates the x% CL upper limit on the number of signal events\n",
    "    given the expected number of background events.\"\"\"\n",
    "    Z = get_significance_from_CL(CL)\n",
    "    if simple:\n",
    "        s = Z * np.sqrt(b)\n",
    "    else:\n",
    "        s = 0.5*Z*(Z + np.sqrt(1.0+4.0*b))\n",
    "    return s"
   ]
  },
  {
   "cell_type": "code",
   "execution_count": 6,
   "metadata": {},
   "outputs": [
    {
     "data": {
      "text/plain": [
       "1.959963984540054"
      ]
     },
     "execution_count": 6,
     "metadata": {},
     "output_type": "execute_result"
    }
   ],
   "source": [
    "get_significance_from_CL(0.975)"
   ]
  },
  {
   "cell_type": "markdown",
   "metadata": {},
   "source": [
    "Test statistics"
   ]
  },
  {
   "cell_type": "code",
   "execution_count": 4,
   "metadata": {
    "collapsed": true
   },
   "outputs": [],
   "source": [
    "def t(likelihood, mu, n, bkg, s0=1.0):\n",
    "    \"\"\"Calculates the value of the test statistic t\"\"\"\n",
    "    muhat = calc_muhat(likelihood, n, bkg, s0)\n",
    "    ll1   = np.log( likelihood(mu,    n, bkg, s0=s0) )\n",
    "    ll2   = np.log( likelihood(muhat, n, bkg, s0=s0) )\n",
    "    t = -2.0 * (ll1 - ll2)\n",
    "    return t"
   ]
  },
  {
   "cell_type": "code",
   "execution_count": 5,
   "metadata": {
    "collapsed": true
   },
   "outputs": [],
   "source": [
    "def q_ul(likelihood, mu, n, bkg, s0=1.0):\n",
    "    \"\"\"Calculates the value of the test static q_{u.l}\"\"\"\n",
    "    muhat = calc_muhat(likelihood, n, bkg, s0)\n",
    "    if muhat > mu:\n",
    "        return 0.0\n",
    "    ll1   = np.log( likelihood(mu,    n, bkg, s0=s0) )\n",
    "    ll2   = np.log( likelihood(muhat, n, bkg, s0=s0) )\n",
    "    t = -2.0 * (ll1 - ll2)\n",
    "    return t"
   ]
  },
  {
   "cell_type": "code",
   "execution_count": 6,
   "metadata": {
    "collapsed": true
   },
   "outputs": [],
   "source": [
    "def g(likelihood, mu, n, bkg, s0=1.0):\n",
    "    \"\"\"Calculates the value of the test statistic g\"\"\"\n",
    "    muhat = calc_muhat(likelihood, n, bkg, s0)\n",
    "    sigma_n  = np.sqrt(mu*s0 + bkg)\n",
    "    sigma_mu = sigma_n/s0\n",
    "    g = (muhat - mu)/sigma_mu\n",
    "    return g"
   ]
  },
  {
   "cell_type": "code",
   "execution_count": 7,
   "metadata": {
    "collapsed": true
   },
   "outputs": [],
   "source": [
    "def q(likelihood, mu, n, bkg, s0=1.0):\n",
    "    \"\"\"Calculates the value of the test statistic q (Tevatron test statistic)\"\"\"\n",
    "    ll_s_b  = np.log( likelihood(mu=mu,   n=n, bkg=bkg, s0=s0) )\n",
    "    ll_b    = np.log( likelihood(mu=0.0,  n=n, bkg=bkg, s0=s0) )\n",
    "    q = -2.0 * (ll_s_b - ll_b)\n",
    "    return q"
   ]
  },
  {
   "cell_type": "markdown",
   "metadata": {},
   "source": [
    "Vectorized test statistics"
   ]
  },
  {
   "cell_type": "code",
   "execution_count": 10,
   "metadata": {
    "collapsed": true
   },
   "outputs": [],
   "source": [
    "t_vec    = np.vectorize(t)\n",
    "q_ul_vec = np.vectorize(q_ul)\n",
    "g_vec    = np.vectorize(g)\n",
    "q_vec    = np.vectorize(q)"
   ]
  },
  {
   "cell_type": "markdown",
   "metadata": {},
   "source": [
    "Demonstrating that `muhat()`, `t()` and `q_ul` it works correctly:"
   ]
  },
  {
   "cell_type": "code",
   "execution_count": 11,
   "metadata": {},
   "outputs": [
    {
     "data": {
      "text/plain": [
       "5.0"
      ]
     },
     "execution_count": 11,
     "metadata": {},
     "output_type": "execute_result"
    }
   ],
   "source": [
    "calc_muhat(likelihood_poi, n=15.0, bkg=10.0)"
   ]
  },
  {
   "cell_type": "code",
   "execution_count": 12,
   "metadata": {},
   "outputs": [
    {
     "data": {
      "text/plain": [
       "5.0"
      ]
     },
     "execution_count": 12,
     "metadata": {},
     "output_type": "execute_result"
    }
   ],
   "source": [
    "calc_muhat(likelihood_poi, n=15.0, bkg=10.0)"
   ]
  },
  {
   "cell_type": "code",
   "execution_count": 13,
   "metadata": {},
   "outputs": [
    {
     "data": {
      "text/plain": [
       "2.1639532432449187"
      ]
     },
     "execution_count": 13,
     "metadata": {},
     "output_type": "execute_result"
    }
   ],
   "source": [
    "t(likelihood_poi, mu=0.0, n=15.0, bkg=10.0)"
   ]
  },
  {
   "cell_type": "code",
   "execution_count": 14,
   "metadata": {},
   "outputs": [
    {
     "data": {
      "text/plain": [
       "3.0685281944005425"
      ]
     },
     "execution_count": 14,
     "metadata": {},
     "output_type": "execute_result"
    }
   ],
   "source": [
    "q_ul(likelihood_poi, mu=0.0, n=5.0, bkg=10.0)"
   ]
  },
  {
   "cell_type": "code",
   "execution_count": 15,
   "metadata": {},
   "outputs": [
    {
     "data": {
      "text/plain": [
       "0.0"
      ]
     },
     "execution_count": 15,
     "metadata": {},
     "output_type": "execute_result"
    }
   ],
   "source": [
    "q_ul(likelihood_poi, mu=0.0, n=1010.0, bkg=1000.0)"
   ]
  },
  {
   "cell_type": "markdown",
   "metadata": {},
   "source": [
    "Generate an ensemble of data samples"
   ]
  },
  {
   "cell_type": "code",
   "execution_count": 16,
   "metadata": {
    "collapsed": true
   },
   "outputs": [],
   "source": [
    "nExperiments = 100000"
   ]
  },
  {
   "cell_type": "code",
   "execution_count": 17,
   "metadata": {
    "collapsed": true
   },
   "outputs": [],
   "source": [
    "Z = 1.64\n",
    "s0 = 1.0"
   ]
  },
  {
   "cell_type": "markdown",
   "metadata": {},
   "source": [
    "## Hypotheses"
   ]
  },
  {
   "cell_type": "markdown",
   "metadata": {},
   "source": [
    "### Null hypothesis $H_{0}: s + b$"
   ]
  },
  {
   "cell_type": "markdown",
   "metadata": {},
   "source": [
    "$H_{0}$ hypothesis parameters"
   ]
  },
  {
   "cell_type": "code",
   "execution_count": 18,
   "metadata": {
    "collapsed": true
   },
   "outputs": [],
   "source": [
    "b_H0 = 1000.0            # - Number of background events\n",
    "s_H0 = calc_s(b=b_H0)    # - 95% CL Upper limit on the nufmber of signal events\n",
    "n_pred_H0 = b_H0 + s_H0  # - s + b\n",
    "mup_H0 = s_H0/s0         # - mu^' (mu prime)"
   ]
  },
  {
   "cell_type": "markdown",
   "metadata": {},
   "source": [
    "Above we set the number of signal events $s|_{H_{0}}$ (=`s_H0`) to be exactly the number of events that we could exclude at 95% CL for the given background $b|_{H_{0}}$ (`b_H0`). The expected limit is:"
   ]
  },
  {
   "cell_type": "code",
   "execution_count": 19,
   "metadata": {},
   "outputs": [
    {
     "data": {
      "text/plain": [
       "53.374111963136748"
      ]
     },
     "execution_count": 19,
     "metadata": {},
     "output_type": "execute_result"
    }
   ],
   "source": [
    "s_H0"
   ]
  },
  {
   "cell_type": "markdown",
   "metadata": {},
   "source": [
    "Generate events"
   ]
  },
  {
   "cell_type": "code",
   "execution_count": 20,
   "metadata": {
    "collapsed": true
   },
   "outputs": [],
   "source": [
    "events_H0 = poisson.rvs(mu=n_pred_H0, loc=0.0, size=nExperiments)"
   ]
  },
  {
   "cell_type": "markdown",
   "metadata": {},
   "source": [
    "### Alternative hypothesis $H_{1}: b$ only"
   ]
  },
  {
   "cell_type": "markdown",
   "metadata": {},
   "source": [
    "$H_{1}$ hypothesis parameters"
   ]
  },
  {
   "cell_type": "code",
   "execution_count": 21,
   "metadata": {
    "collapsed": true
   },
   "outputs": [],
   "source": [
    "b_H1 = 1000.0\n",
    "s_H1 = 0.0\n",
    "n_pred_H1 = b_H1 + s_H1\n",
    "mup_H1 = s_H1/s0"
   ]
  },
  {
   "cell_type": "markdown",
   "metadata": {},
   "source": [
    "Note that we choose the same background model for $H_{1}$ as $H_{0}$."
   ]
  },
  {
   "cell_type": "markdown",
   "metadata": {},
   "source": [
    "Generating events"
   ]
  },
  {
   "cell_type": "code",
   "execution_count": 22,
   "metadata": {
    "collapsed": true
   },
   "outputs": [],
   "source": [
    "events_H1 = poisson.rvs(mu=n_pred_H1, loc=0.0, size=nExperiments)"
   ]
  },
  {
   "cell_type": "markdown",
   "metadata": {},
   "source": [
    "## Distributions for the number of events observed assuming $H_{0}$ and $H_{1}$"
   ]
  },
  {
   "cell_type": "code",
   "execution_count": 23,
   "metadata": {},
   "outputs": [
    {
     "data": {
      "image/png": "[encoded data removed]",
      "text/plain": [
       "<matplotlib.figure.Figure at 0x1190edc50>"
      ]
     },
     "metadata": {},
     "output_type": "display_data"
    }
   ],
   "source": [
    "f, a = plt.subplots();\n",
    "h0 = a.hist(events_H0, bins=50, color=\"navy\",  label=r'$H_{0}$', alpha=0.5);\n",
    "h1 = a.hist(events_H1, bins=50, color=\"firebrick\", label=r'$H_{1}$', alpha=0.5);\n",
    "handles, labels = a.get_legend_handles_labels()\n",
    "a.legend(handles, labels)\n",
    "a.set_xlabel('Number of events');\n",
    "a.set_ylabel('Frequency');"
   ]
  },
  {
   "cell_type": "markdown",
   "metadata": {},
   "source": [
    "## Distribution of test statistic, $t$"
   ]
  },
  {
   "cell_type": "markdown",
   "metadata": {},
   "source": [
    "$$t = -2 \\ln \\left[ \\frac{\\mathcal{L}(\\mu)}{ \\mathcal{L} (\\hat{\\mu}) }\\right]$$"
   ]
  },
  {
   "cell_type": "code",
   "execution_count": 27,
   "metadata": {
    "collapsed": true
   },
   "outputs": [],
   "source": [
    "# - Note:\n",
    "# - Depending on the the number of samples requested this might take a while.\n",
    "t_H0 = t_vec(likelihood_poi, mu=mup_H0,  n=events_H0, bkg=b_H0, s0=1.0)\n",
    "t_H1 = t_vec(likelihood_poi, mu=mup_H0,  n=events_H1, bkg=b_H1, s0=1.0)"
   ]
  },
  {
   "cell_type": "code",
   "execution_count": 28,
   "metadata": {},
   "outputs": [
    {
     "data": {
      "image/png": "[encoded data removed]",
      "text/plain": [
       "<matplotlib.figure.Figure at 0x11d5c7978>"
      ]
     },
     "metadata": {},
     "output_type": "display_data"
    }
   ],
   "source": [
    "f, a = plt.subplots();\n",
    "a.hist(t_H0, bins=50, color='navy',      label=r'$H_{0}$', alpha=0.5);\n",
    "a.hist(t_H1, bins=50, color='firebrick', label=r'$H_{1}$', alpha=0.5);\n",
    "handles, labels = a.get_legend_handles_labels()\n",
    "a.legend(handles, labels)\n",
    "a.set_xlabel('$t$');\n",
    "a.set_ylabel('Frequency');"
   ]
  },
  {
   "cell_type": "markdown",
   "metadata": {},
   "source": [
    "We check below if our assumption is correct (`s_H0` is indeed the number that we could exclude at 95% CL). We can do this comparing the median of $t|_{H_{1}}$ and the 95% percentile of $t|_{H_{0}}$:"
   ]
  },
  {
   "cell_type": "code",
   "execution_count": 29,
   "metadata": {},
   "outputs": [
    {
     "data": {
      "text/plain": [
       "2.7513197854696045"
      ]
     },
     "execution_count": 29,
     "metadata": {},
     "output_type": "execute_result"
    }
   ],
   "source": [
    "np.median(t_H1)"
   ]
  },
  {
   "cell_type": "code",
   "execution_count": 31,
   "metadata": {},
   "outputs": [
    {
     "data": {
      "text/plain": [
       "3.7685360221785231"
      ]
     },
     "execution_count": 31,
     "metadata": {},
     "output_type": "execute_result"
    }
   ],
   "source": [
    "np.percentile(t_H0, 95)"
   ]
  },
  {
   "cell_type": "markdown",
   "metadata": {},
   "source": [
    "We see that $\\text{med}(t|_{H_{1}}) \\neq \\text{Percentile}(t|_{H_{0}}, 95)$.\n",
    "\n",
    "**Reason:** the general LLR test statistic, $t$ maps events where $\\hat{\\mu} > \\mu$ (i.e. $\\hat{s} > s$ or $n > b+s$) to non-zero values of $t$, however when setting upper limits one would not regard data with $\\hat{\\mu} > \\mu$ as representing less compatibility with $\\mu$ than the data obtained, and therefore this is not taken as part of the rejection region of the test."
   ]
  },
  {
   "cell_type": "markdown",
   "metadata": {},
   "source": [
    "## Distribution of test statistic, $q_{u.l.}$"
   ]
  },
  {
   "cell_type": "markdown",
   "metadata": {},
   "source": [
    "$$q_{u.l.} = \\begin{cases} -2 \\ln \\left[ \\frac{\\mathcal{L}(\\mu)}{ \\mathcal{L}(\\hat{\\mu})} \\right] & \\hat{\\mu} \\leq \\mu, \\\\  0 & \\hat{\\mu} > \\mu \\end{cases}$$"
   ]
  },
  {
   "cell_type": "code",
   "execution_count": 32,
   "metadata": {
    "collapsed": true
   },
   "outputs": [],
   "source": [
    "# - Note:\n",
    "# - Depending on the the number of samples requested this might take a while.\n",
    "q_ul_H0 = q_ul_vec(likelihood_poi, mu=mup_H0,  n=events_H0, bkg=b_H0, s0=1.0)\n",
    "q_ul_H1 = q_ul_vec(likelihood_poi, mu=mup_H0,  n=events_H1, bkg=b_H1, s0=1.0)"
   ]
  },
  {
   "cell_type": "code",
   "execution_count": 33,
   "metadata": {},
   "outputs": [
    {
     "data": {
      "image/png": "[encoded data removed]",
      "text/plain": [
       "<matplotlib.figure.Figure at 0x11d908e10>"
      ]
     },
     "metadata": {},
     "output_type": "display_data"
    }
   ],
   "source": [
    "f, a = plt.subplots();\n",
    "a.hist(q_ul_H0, bins=50, color='navy',      label=r'$H_{0}$', alpha=0.5);\n",
    "a.hist(q_ul_H1, bins=50, color='firebrick', label=r'$H_{1}$', alpha=0.5);\n",
    "handles, labels = a.get_legend_handles_labels()\n",
    "a.legend(handles, labels)\n",
    "a.set_xlabel('$q_{u.l.}$');\n",
    "a.set_ylabel('Frequency');"
   ]
  },
  {
   "cell_type": "markdown",
   "metadata": {},
   "source": [
    "We check again below if our assumption is correct (`s_H0` is indeed the number that we could exclude at 95% CL) now using $q_{u.l.}$. We can do this comparing the median of $q_{u.l.}|_{H_{1}}$ and the 95% percentile of $q_{u.l.}|_{H_{0}}$:"
   ]
  },
  {
   "cell_type": "code",
   "execution_count": 34,
   "metadata": {},
   "outputs": [
    {
     "data": {
      "text/plain": [
       "2.7513197854696045"
      ]
     },
     "execution_count": 34,
     "metadata": {},
     "output_type": "execute_result"
    }
   ],
   "source": [
    "np.percentile(q_ul_H0, 95)"
   ]
  },
  {
   "cell_type": "code",
   "execution_count": 35,
   "metadata": {},
   "outputs": [
    {
     "data": {
      "text/plain": [
       "2.7513197854696045"
      ]
     },
     "execution_count": 35,
     "metadata": {},
     "output_type": "execute_result"
    }
   ],
   "source": [
    "np.median(q_ul_H1)"
   ]
  },
  {
   "cell_type": "markdown",
   "metadata": {},
   "source": [
    "We see that $\\text{med}(q_{u.l.}|_{H_{1}}) \\approx \\text{Percentile}(q_{u.l.}|_{H_{0}}, 95)$ ($\\approx$ depends on the number of samples) $\\implies$ our assumption was correct.\n",
    "\n",
    "Note: It is '$\\approx$' only and not equality since we have have a finite sample size from which we determine these quantities."
   ]
  },
  {
   "cell_type": "markdown",
   "metadata": {},
   "source": [
    "## Distribution of test statistic, $\\sqrt{q_{u.l}}$"
   ]
  },
  {
   "cell_type": "markdown",
   "metadata": {},
   "source": [
    "$$\\sqrt{q_{u.l.}}$$  (just simply taking the square root of $q_{u.l.}$)"
   ]
  },
  {
   "cell_type": "code",
   "execution_count": 37,
   "metadata": {
    "collapsed": true
   },
   "outputs": [],
   "source": [
    "sqrt_q_ul_H0 = np.sqrt(q_ul_H0)\n",
    "sqrt_q_ul_H1 = np.sqrt(q_ul_H1)"
   ]
  },
  {
   "cell_type": "code",
   "execution_count": 38,
   "metadata": {},
   "outputs": [
    {
     "data": {
      "image/png": "[encoded data removed]",
      "text/plain": [
       "<matplotlib.figure.Figure at 0x11cd4b748>"
      ]
     },
     "metadata": {},
     "output_type": "display_data"
    }
   ],
   "source": [
    "f, a = plt.subplots();\n",
    "a.hist(sqrt_q_ul_H0, bins=50, color='navy',      label=r'$H_{0}$', alpha=0.5);\n",
    "a.hist(sqrt_q_ul_H1, bins=50, color='firebrick', label=r'$H_{1}$', alpha=0.5);\n",
    "handles, labels = a.get_legend_handles_labels()\n",
    "a.legend(handles, labels)\n",
    "a.set_xlabel('$\\sqrt{q_{u.l}}$');\n",
    "a.set_ylabel('Frequency');\n",
    "#a.set_ylim(0.0, 1000.0)"
   ]
  },
  {
   "cell_type": "markdown",
   "metadata": {},
   "source": [
    "We check again below if our assumption is correct (`s_H0` is indeed the number that we could exclude at 95% CL) now using $\\sqrt{q_{u.l.}}$. We can do this comparing the median of $\\sqrt{q_{u.l.}}|_{H_{1}}$ and the 95% percentile of $\\sqrt{q_{u.l.}}|_{H_{0}}$:"
   ]
  },
  {
   "cell_type": "code",
   "execution_count": 39,
   "metadata": {},
   "outputs": [
    {
     "data": {
      "text/plain": [
       "1.6587102777367735"
      ]
     },
     "execution_count": 39,
     "metadata": {},
     "output_type": "execute_result"
    }
   ],
   "source": [
    "np.percentile(sqrt_q_ul_H0, 95)"
   ]
  },
  {
   "cell_type": "code",
   "execution_count": 40,
   "metadata": {},
   "outputs": [
    {
     "data": {
      "text/plain": [
       "1.6587102777367735"
      ]
     },
     "execution_count": 40,
     "metadata": {},
     "output_type": "execute_result"
    }
   ],
   "source": [
    "np.median(sqrt_q_ul_H1)"
   ]
  },
  {
   "cell_type": "markdown",
   "metadata": {},
   "source": [
    "We see that $\\text{med}(\\sqrt{q_{u.l.}}|_{H_{1}}) \\approx \\text{Percentile}(\\sqrt{q_{u.l.}}|_{H_{0}}, 95)$ $\\implies$ our assumption was correct."
   ]
  },
  {
   "cell_type": "markdown",
   "metadata": {},
   "source": [
    "## Distribution of test statistic, $g$"
   ]
  },
  {
   "cell_type": "markdown",
   "metadata": {},
   "source": [
    "$$g = \\frac{\\hat{\\mu} - \\mu}{\\sigma_{\\hat{\\mu}}}$$"
   ]
  },
  {
   "cell_type": "code",
   "execution_count": 41,
   "metadata": {
    "collapsed": true
   },
   "outputs": [],
   "source": [
    "# - Note:\n",
    "# - Depending on the the number of samples requested this might take a while.\n",
    "g_H0 = g_vec(likelihood_poi, mu=mup_H0,  n=events_H0, bkg=b_H0, s0=1.0)\n",
    "g_H1 = g_vec(likelihood_poi, mu=mup_H0,  n=events_H1, bkg=b_H1, s0=1.0)"
   ]
  },
  {
   "cell_type": "code",
   "execution_count": 42,
   "metadata": {},
   "outputs": [
    {
     "data": {
      "image/png": "[encoded data removed]",
      "text/plain": [
       "<matplotlib.figure.Figure at 0x11d28fc88>"
      ]
     },
     "metadata": {},
     "output_type": "display_data"
    }
   ],
   "source": [
    "f, a = plt.subplots();\n",
    "a.hist(g_H0, bins=50, color='navy',      label=r'$H_{0}$', alpha=0.5);\n",
    "a.hist(g_H1, bins=50, color='firebrick', label=r'$H_{1}$', alpha=0.5);\n",
    "handles, labels = a.get_legend_handles_labels()\n",
    "a.legend(handles, labels)\n",
    "a.set_xlabel('$g$');\n",
    "a.set_ylabel('Frequency');\n",
    "#a.set_ylim(0.0, 1000.0)"
   ]
  },
  {
   "cell_type": "markdown",
   "metadata": {},
   "source": [
    "We check again below if our assumption is correct (`s_H0` is indeed the number that we could exclude at 95% CL) now using $g$. We can do this comparing the median of $g|_{H_{1}}$ and the 95% percentile (here 5% percentile, as the distribution is flipped) of $g|_{H_{0}}$:"
   ]
  },
  {
   "cell_type": "code",
   "execution_count": 43,
   "metadata": {},
   "outputs": [
    {
     "data": {
      "text/plain": [
       "-1.6445206904795109"
      ]
     },
     "execution_count": 43,
     "metadata": {},
     "output_type": "execute_result"
    }
   ],
   "source": [
    "np.percentile(g_H0, 5)"
   ]
  },
  {
   "cell_type": "code",
   "execution_count": 44,
   "metadata": {},
   "outputs": [
    {
     "data": {
      "text/plain": [
       "-1.6445206904795109"
      ]
     },
     "execution_count": 44,
     "metadata": {},
     "output_type": "execute_result"
    }
   ],
   "source": [
    "np.median(g_H1)"
   ]
  },
  {
   "cell_type": "markdown",
   "metadata": {},
   "source": [
    "We see that $\\text{med}(g|_{H_{1}}) \\approx \\text{Percentile}(g|_{H_{0}}, 95)$ $\\implies$ our assumption was correct."
   ]
  },
  {
   "cell_type": "markdown",
   "metadata": {},
   "source": [
    "## Distribution of test statistic, $q$\n",
    "\n",
    "In the [Asimov paper](https://arxiv.org/abs/1007.1727) the test statistic $q$ is defined to be the following:\n",
    "\n",
    ">\\begin{equation}\n",
    "    q = -2 \\ln \\frac{ \\mathcal{L}_{b+s} }{ \\mathcal{L}_{b} },\n",
    "\\end{equation}\n",
    "\n",
    "> where $\\mathcal{L}_{s+b}$ is the likelihood of the nominal signal model and $L_{b}$ is that of the background only hypothesis. That is, the $s + b$ corresponds to having the strength parameter $\\mu = 1$ and $\\mathcal{L}_{b}$ refers to $\\mathcal{\\mu} = 0$. The statistic $q$ can therefore be written:\n",
    "\n",
    "> \\begin{equation}\n",
    "    q = -2 \\ln \\frac{ \\mathcal{L}(\\mu=1, \\hat{\\hat{\\theta}}(1)) }{ \\mathcal{L} (\\mu = 0, \\hat{\\hat{\\theta}}(0)) },\n",
    "\\end{equation}\n",
    "> Assuming the validty of the Wald approximation, $q$ is given by:\n",
    "> \\begin{equation}\n",
    "    q\n",
    "    =\n",
    "    \\frac{ (\\hat{\\mu} - 1)^{2} }{ \\sigma_{\\hat{\\mu}}^{2} }\n",
    "    -\n",
    "    \\frac{\\hat{\\mu}^{2}}{\\sigma_{\\hat{\\mu}}}\n",
    "    =\n",
    "    \\frac{ 1 - 2\\hat{\\mu}}{ \\sigma^{2}_{\\hat{\\mu}}}\n",
    "\\end{equation}\n",
    "\n",
    "Here, instead of fixing the $\\mu$ in the numerator to be $\\mu=1$, we let it be any other fixed value, which is up for us to choose, so that we can tune the normalisation of the signal model.\n",
    "For us the the test statistics $q$ will be:\n",
    "\n",
    "\\begin{equation}\n",
    "    q\n",
    "    =\n",
    "    -2 \\ln \\frac{ \\mathcal{L}(\\mu) }{ \\mathcal{L}(\\mu=0) }\n",
    "    =\n",
    "    -2 \\ln \\mathcal{L}(\\mu) + 2 \\ln \\mathcal{L}(\\mu=0)\n",
    "\\end{equation}\n",
    "\n",
    "Note that $q$ right above is equivalent to $q$ in the Asimov paper if $\\mu=1$ in the numerator.\n",
    "\n",
    "Below we choose `mu=mup_H0`, i.e. $\\mu = \\hat{\\mu}|_{H_{0}}$"
   ]
  },
  {
   "cell_type": "code",
   "execution_count": 24,
   "metadata": {
    "collapsed": true
   },
   "outputs": [],
   "source": [
    "# - Note:\n",
    "# - Depending on the the number of samples requested this might take a while.\n",
    "q_H0 = q_vec(likelihood_poi, mu=mup_H0,  n=events_H0, bkg=b_H0, s0=1.0)\n",
    "q_H1 = q_vec(likelihood_poi, mu=mup_H0,  n=events_H1, bkg=b_H1, s0=1.0)"
   ]
  },
  {
   "cell_type": "markdown",
   "metadata": {},
   "source": [
    "Distribution of $q$ assuming $H_{0}$ and $H_{1}$:"
   ]
  },
  {
   "cell_type": "code",
   "execution_count": 25,
   "metadata": {},
   "outputs": [
    {
     "data": {
      "image/png": "[encoded data removed]",
      "text/plain": [
       "<matplotlib.figure.Figure at 0x7f342dcd0400>"
      ]
     },
     "metadata": {},
     "output_type": "display_data"
    }
   ],
   "source": [
    "f, a = plt.subplots();\n",
    "a.hist(q_H0, bins=50, color='navy',      label=r'$H_{0}$', alpha=0.5);\n",
    "a.hist(q_H1, bins=50, color='firebrick', label=r'$H_{1}$', alpha=0.5);\n",
    "handles, labels = a.get_legend_handles_labels()\n",
    "a.legend(handles, labels)\n",
    "a.set_xlabel('$q$');\n",
    "a.set_ylabel('Frequency');"
   ]
  },
  {
   "cell_type": "code",
   "execution_count": 26,
   "metadata": {
    "collapsed": true
   },
   "outputs": [],
   "source": [
    "q_H1_median       = np.median(q_H1)\n",
    "q_H0_median       = np.median(q_H0)\n",
    "q_H0_95percentile = np.percentile(q_H0, 95)"
   ]
  },
  {
   "cell_type": "code",
   "execution_count": 66,
   "metadata": {},
   "outputs": [
    {
     "data": {
      "image/png": "[encoded data removed]",
      "text/plain": [
       "<matplotlib.figure.Figure at 0x11d3605f8>"
      ]
     },
     "metadata": {},
     "output_type": "display_data"
    }
   ],
   "source": [
    "f, a = plt.subplots();\n",
    "(n0, bins0, patches0) = a.hist(q_H0, bins=50, edgecolor='navy',      label=r'$H_{0}$', alpha=0.5, fill=False, normed=True, histtype='step');\n",
    "(n1, bins1, patches1) = a.hist(q_H1, bins=50, edgecolor='firebrick', label=r'$H_{1}$', alpha=0.5, fill=False, normed=True, histtype='step');\n",
    "binc0 = 0.5*(bins0[1:]+bins0[:-1])    \n",
    "binc1 = 0.5*(bins1[1:]+bins1[:-1])    \n",
    "a.fill_between(binc0, 0, n0, interpolate=True, where=((binc0>=q_H0_95percentile)), color='y')\n",
    "a.fill_between(binc1, 0, n1, interpolate=True, where=((binc1<q_H1_median)), color='g')\n",
    "handles, labels = a.get_legend_handles_labels()\n",
    "a.axvline(x=q_H1_median, linewidth=2, color='k', linestyle='--')\n",
    "a.legend(handles, labels)\n",
    "a.set_xlabel('$q$');\n",
    "a.set_ylabel('Frequency');"
   ]
  },
  {
   "cell_type": "markdown",
   "metadata": {},
   "source": [
    "p-values:\n",
    "\n",
    "\n",
    "\\begin{equation}\n",
    "p_{s+b} = \\int_{q_{obs}}^{\\infty} f(q|s+b) dq\n",
    "\\end{equation}\n",
    "\n",
    "\\begin{equation}\n",
    "p_{b} = \\int_{-\\infty}^{q_{obs}} f(q|s) dq\n",
    "\\end{equation}\n",
    "\n",
    "Above:\n",
    "- $p_{s+b}$ is the integral of the yellow patch\n",
    "- $p_{b}$ is the integral of the green patch"
   ]
  },
  {
   "cell_type": "code",
   "execution_count": 49,
   "metadata": {},
   "outputs": [
    {
     "data": {
      "text/plain": [
       "2.7513197854696045"
      ]
     },
     "execution_count": 49,
     "metadata": {},
     "output_type": "execute_result"
    }
   ],
   "source": [
    "q_H0_95percentile"
   ]
  },
  {
   "cell_type": "code",
   "execution_count": 50,
   "metadata": {},
   "outputs": [
    {
     "data": {
      "text/plain": [
       "2.7513197854696045"
      ]
     },
     "execution_count": 50,
     "metadata": {},
     "output_type": "execute_result"
    }
   ],
   "source": [
    "q_H1_median"
   ]
  },
  {
   "cell_type": "markdown",
   "metadata": {},
   "source": [
    "### $CL_{s}$ method (incomplete!)"
   ]
  },
  {
   "cell_type": "markdown",
   "metadata": {},
   "source": [
    "In case of the $CL_{s}$ method, we are not excluding a hypothesis based on the $p$-value of the hypothesis in question, but use the quantity:\n",
    "\n",
    "$$CL_{s} = \\frac{p_{s+b}}{1 - p_{b}}$$\n",
    "\n",
    "to be our measure of compatibility. Here $p_{s+b}$ and $p_{b}$ are the $p$-values of the hypotheses $H_{0}$ ($s+b$) and $H_{1}$ ($b$ only). \n",
    "\n",
    "Exclusion of $H_{0}$ occurs when:\n",
    "\n",
    "$$CL_{s} \\leq  \\alpha$$\n",
    "\n",
    "When calculating the expected upper limit the median $p_{b}$, under the assumption of $H_{1}$ is:\n",
    "\n",
    "$$p_{b} = 0.5$$\n",
    "\n",
    "Therefore the $CL_{s}$ is:\n",
    "\n",
    "$$CL_{s} = \\frac{p_{s+b}}{1-p_{b}} = \\frac{p_{s+b}}{0.5} \\leq \\alpha$$\n",
    "\n",
    "$$p_{s+b} \\leq \\frac{\\alpha}{2}$$"
   ]
  },
  {
   "cell_type": "markdown",
   "metadata": {},
   "source": [
    "### Null hypothesis $H_{0}: s + b$"
   ]
  },
  {
   "cell_type": "markdown",
   "metadata": {},
   "source": [
    "$H_{0}$ hypothesis parameters"
   ]
  },
  {
   "cell_type": "code",
   "execution_count": 51,
   "metadata": {
    "collapsed": true
   },
   "outputs": [],
   "source": [
    "b_H0 = 1000.0\n",
    "s_H0 = calc_s(b=b_H0, CL=0.975)\n",
    "n_pred_H0 = b_H0 + s_H0\n",
    "mup_H0 = s_H0/s0"
   ]
  },
  {
   "cell_type": "markdown",
   "metadata": {},
   "source": [
    "Above we set the number of signal events $s|_{H_{0}}$ (=`s_H0`) to be exactly the number of events that we could exclude at 95% CL for the given background $b|_{H_{0}}$ (`b_H0`) **using the $CL_{s}$ test statistic now**(!). The expected limit is:"
   ]
  },
  {
   "cell_type": "code",
   "execution_count": 52,
   "metadata": {},
   "outputs": [
    {
     "data": {
      "text/plain": [
       "63.907979594552685"
      ]
     },
     "execution_count": 52,
     "metadata": {},
     "output_type": "execute_result"
    }
   ],
   "source": [
    "calc_s(b=b_H0, CL=0.975)"
   ]
  },
  {
   "cell_type": "markdown",
   "metadata": {},
   "source": [
    "Generate events"
   ]
  },
  {
   "cell_type": "code",
   "execution_count": 53,
   "metadata": {
    "collapsed": true
   },
   "outputs": [],
   "source": [
    "events_H0 = poisson.rvs(mu=n_pred_H0, loc=0.0, size=nExperiments)"
   ]
  },
  {
   "cell_type": "markdown",
   "metadata": {},
   "source": [
    "### Alternative hypothesis $H_{1}: b$ only"
   ]
  },
  {
   "cell_type": "markdown",
   "metadata": {},
   "source": [
    "$H_{1}$ hypothesis parameters"
   ]
  },
  {
   "cell_type": "code",
   "execution_count": 54,
   "metadata": {
    "collapsed": true
   },
   "outputs": [],
   "source": [
    "b_H1 = 1000.0\n",
    "s_H1 = 0.0\n",
    "n_pred_H1 = b_H1 + s_H1\n",
    "mup_H1 = s_H1/s0"
   ]
  },
  {
   "cell_type": "markdown",
   "metadata": {},
   "source": [
    "Generate events"
   ]
  },
  {
   "cell_type": "code",
   "execution_count": 55,
   "metadata": {
    "collapsed": true
   },
   "outputs": [],
   "source": [
    "events_H1 = poisson.rvs(mu=n_pred_H1, loc=0.0, size=nExperiments)"
   ]
  },
  {
   "cell_type": "code",
   "execution_count": 56,
   "metadata": {
    "collapsed": true
   },
   "outputs": [],
   "source": [
    "# - Note:\n",
    "# - Depending on the the number of samples requested this might take a while.\n",
    "q_H0 = q_vec(likelihood_poi, mu=mup_H0,  n=events_H0, bkg=b_H0, s0=1.0)\n",
    "q_H1 = q_vec(likelihood_poi, mu=mup_H0,  n=events_H1, bkg=b_H1, s0=1.0)"
   ]
  },
  {
   "cell_type": "code",
   "execution_count": 57,
   "metadata": {},
   "outputs": [
    {
     "data": {
      "image/png": "[encoded data removed]",
      "text/plain": [
       "<matplotlib.figure.Figure at 0x11c853978>"
      ]
     },
     "metadata": {},
     "output_type": "display_data"
    }
   ],
   "source": [
    "f, a = plt.subplots();\n",
    "a.hist(q_H0, bins=50, color='navy',      label=r'$H_{0}$', alpha=0.5, normed=True);\n",
    "a.hist(q_H1, bins=50, color='firebrick', label=r'$H_{1}$', alpha=0.5, normed=True);\n",
    "handles, labels = a.get_legend_handles_labels()\n",
    "a.legend(handles, labels)\n",
    "a.set_xlabel('$q$');\n",
    "a.set_ylabel('Frequency');"
   ]
  },
  {
   "cell_type": "code",
   "execution_count": 58,
   "metadata": {
    "collapsed": true
   },
   "outputs": [],
   "source": [
    "q_H1_median = np.median(q_H1)\n",
    "q_H0_95percentile = np.percentile(q_H0, 95)"
   ]
  },
  {
   "cell_type": "code",
   "execution_count": 59,
   "metadata": {},
   "outputs": [
    {
     "data": {
      "text/plain": [
       "3.9181555172763183"
      ]
     },
     "execution_count": 59,
     "metadata": {},
     "output_type": "execute_result"
    }
   ],
   "source": [
    "q_H1_median"
   ]
  },
  {
   "cell_type": "code",
   "execution_count": 60,
   "metadata": {},
   "outputs": [
    {
     "data": {
      "text/plain": [
       "2.5552796768861299"
      ]
     },
     "execution_count": 60,
     "metadata": {},
     "output_type": "execute_result"
    }
   ],
   "source": [
    "q_H0_95percentile"
   ]
  },
  {
   "cell_type": "code",
   "execution_count": 61,
   "metadata": {},
   "outputs": [
    {
     "data": {
      "image/png": "[encoded data removed]",
      "text/plain": [
       "<matplotlib.figure.Figure at 0x11da4dda0>"
      ]
     },
     "metadata": {},
     "output_type": "display_data"
    }
   ],
   "source": [
    "f, a = plt.subplots();\n",
    "(n0, bins0, patches0) = a.hist(q_H0, bins=50, edgecolor='navy',      label=r'$H_{0}$', alpha=0.5, fill=False, histtype='step', normed=True);\n",
    "(n1, bins1, patches1) = a.hist(q_H1, bins=50, edgecolor='firebrick', label=r'$H_{1}$', alpha=0.5, fill=False, histtype='step', normed=True);\n",
    "binc0 = 0.5*(bins0[1:]+bins0[:-1])    \n",
    "binc1 = 0.5*(bins1[1:]+bins1[:-1])    \n",
    "a.fill_between(binc0, 0, n0, interpolate=True, where=((binc0>=q_H0_95percentile)), color='y')\n",
    "a.fill_between(binc1, 0, n1, interpolate=True, where=((binc1<q_H1_median)), color='g')\n",
    "handles, labels = a.get_legend_handles_labels()\n",
    "a.axvline(x=q_H1_median, linewidth=2, color='k', linestyle='--')\n",
    "a.legend(handles, labels)\n",
    "a.set_xlabel('$q$');\n",
    "a.set_ylabel('Frequency');"
   ]
  },
  {
   "cell_type": "code",
   "execution_count": 62,
   "metadata": {
    "collapsed": true
   },
   "outputs": [],
   "source": [
    "def calc_cdf(hits, bin_edges, x):\n",
    "    dx = bin_edges[1]-bin_edges[0]\n",
    "    nBins = len(hits)\n",
    "    xBin = int((x - bin_edges[0])/dx)\n",
    "    cumsum = np.cumsum(hits)\n",
    "    cdf = cumsum[xBin]*dx\n",
    "    return cdf"
   ]
  },
  {
   "cell_type": "code",
   "execution_count": 63,
   "metadata": {},
   "outputs": [
    {
     "data": {
      "text/plain": [
       "0.037459999999996052"
      ]
     },
     "execution_count": 63,
     "metadata": {},
     "output_type": "execute_result"
    }
   ],
   "source": [
    "(1.0 - calc_cdf(n0, bins0, q_H1_median))/0.5"
   ]
  },
  {
   "cell_type": "markdown",
   "metadata": {},
   "source": [
    "$\\pm \\sigma$ bands"
   ]
  },
  {
   "cell_type": "code",
   "execution_count": 72,
   "metadata": {
    "collapsed": true
   },
   "outputs": [],
   "source": [
    "alpha = 0.05"
   ]
  },
  {
   "cell_type": "code",
   "execution_count": 78,
   "metadata": {
    "collapsed": true
   },
   "outputs": [],
   "source": [
    "p_up = (1-norm.cdf(-1))*alpha"
   ]
  },
  {
   "cell_type": "code",
   "execution_count": 79,
   "metadata": {
    "collapsed": true
   },
   "outputs": [],
   "source": [
    "p_down = (1-norm.cdf(+1))*alpha"
   ]
  },
  {
   "cell_type": "code",
   "execution_count": 80,
   "metadata": {},
   "outputs": [
    {
     "data": {
      "text/plain": [
       "0.042067237303427152"
      ]
     },
     "execution_count": 80,
     "metadata": {},
     "output_type": "execute_result"
    }
   ],
   "source": [
    "p_up"
   ]
  },
  {
   "cell_type": "code",
   "execution_count": 81,
   "metadata": {},
   "outputs": [
    {
     "data": {
      "text/plain": [
       "0.0079327626965728544"
      ]
     },
     "execution_count": 81,
     "metadata": {},
     "output_type": "execute_result"
    }
   ],
   "source": [
    "p_down"
   ]
  },
  {
   "cell_type": "code",
   "execution_count": 109,
   "metadata": {
    "collapsed": true
   },
   "outputs": [],
   "source": [
    "def invcdf(x):\n",
    "    return - norm.isf(x)"
   ]
  },
  {
   "cell_type": "code",
   "execution_count": 110,
   "metadata": {
    "collapsed": true
   },
   "outputs": [],
   "source": [
    "Z_med = invcdf(1.0-0.025)"
   ]
  },
  {
   "cell_type": "code",
   "execution_count": 115,
   "metadata": {
    "collapsed": true
   },
   "outputs": [],
   "source": [
    "Z_up = invcdf(1-p_up)"
   ]
  },
  {
   "cell_type": "code",
   "execution_count": 116,
   "metadata": {
    "collapsed": true
   },
   "outputs": [],
   "source": [
    "Z_down = invcdf(1-p_down)"
   ]
  },
  {
   "cell_type": "code",
   "execution_count": 117,
   "metadata": {},
   "outputs": [
    {
     "data": {
      "text/plain": [
       "1.959963984540054"
      ]
     },
     "execution_count": 117,
     "metadata": {},
     "output_type": "execute_result"
    }
   ],
   "source": [
    "Z_med"
   ]
  },
  {
   "cell_type": "code",
   "execution_count": 118,
   "metadata": {},
   "outputs": [
    {
     "data": {
      "text/plain": [
       "1.727184828821438"
      ]
     },
     "execution_count": 118,
     "metadata": {},
     "output_type": "execute_result"
    }
   ],
   "source": [
    "Z_up"
   ]
  },
  {
   "cell_type": "code",
   "execution_count": 119,
   "metadata": {},
   "outputs": [
    {
     "data": {
      "text/plain": [
       "2.4119943957872021"
      ]
     },
     "execution_count": 119,
     "metadata": {},
     "output_type": "execute_result"
    }
   ],
   "source": [
    "Z_down"
   ]
  },
  {
   "cell_type": "code",
   "execution_count": 120,
   "metadata": {},
   "outputs": [
    {
     "data": {
      "text/plain": [
       "-0.11876705773919743"
      ]
     },
     "execution_count": 120,
     "metadata": {},
     "output_type": "execute_result"
    }
   ],
   "source": [
    "(Z_up-Z_med)/Z_med"
   ]
  },
  {
   "cell_type": "code",
   "execution_count": 121,
   "metadata": {},
   "outputs": [
    {
     "data": {
      "text/plain": [
       "0.23063199875748039"
      ]
     },
     "execution_count": 121,
     "metadata": {},
     "output_type": "execute_result"
    }
   ],
   "source": [
    "(Z_down-Z_med)/Z_med"
   ]
  },
  {
   "cell_type": "code",
   "execution_count": null,
   "metadata": {
    "collapsed": true
   },
   "outputs": [],
   "source": []
  },
  {
   "cell_type": "code",
   "execution_count": 71,
   "metadata": {},
   "outputs": [
    {
     "data": {
      "text/plain": [
       "0.84134474606854293"
      ]
     },
     "execution_count": 71,
     "metadata": {},
     "output_type": "execute_result"
    }
   ],
   "source": [
    "norm.cdf(1)"
   ]
  },
  {
   "cell_type": "code",
   "execution_count": null,
   "metadata": {
    "collapsed": true
   },
   "outputs": [],
   "source": []
  }
 ],
 "metadata": {
  "anaconda-cloud": {},
  "kernelspec": {
   "display_name": "Python 3",
   "language": "python",
   "name": "python3"
  },
  "language_info": {
   "codemirror_mode": {
    "name": "ipython",
    "version": 3
   },
   "file_extension": ".py",
   "mimetype": "text/x-python",
   "name": "python",
   "nbconvert_exporter": "python",
   "pygments_lexer": "ipython3",
   "version": "3.6.8"
  }
 },
 "nbformat": 4,
 "nbformat_minor": 2
}
