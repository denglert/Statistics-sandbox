{
 "cells": [
  {
   "cell_type": "code",
   "execution_count": 125,
   "metadata": {
    "collapsed": true
   },
   "outputs": [],
   "source": [
    "import matplotlib.pyplot as plt\n",
    "import numpy as np\n",
    "from scipy.stats import norm\n",
    "from scipy.stats import poisson\n",
    "from scipy.optimize import minimize\n",
    "%matplotlib inline"
   ]
  },
  {
   "cell_type": "code",
   "execution_count": 127,
   "metadata": {
    "collapsed": true
   },
   "outputs": [],
   "source": [
    "def likelihood_poi(n, mu, bkg, s0=1.0, neg=False):\n",
    "    \"\"\"Return the value of the Poisson likelihood function, given the:\n",
    "       - mu: signal strength parameter,\n",
    "       - n: number of events observed,\n",
    "       - bkg: expected number of background events,\n",
    "       - s0: nominal number of signal events\n",
    "       The total expected number of events is lambda = bkg + mu*s0.\n",
    "       \n",
    "       The `neg` argument just multiplies the likelihood by (-1).\n",
    "       This is used for the minimize() function.\"\"\"\n",
    "    sig = mu * s0\n",
    "    exp = bkg + sig\n",
    "    likelihood = poisson.pmf(n, mu=exp)\n",
    "    \n",
    "    if neg:\n",
    "        return -likelihood\n",
    "    return likelihood"
   ]
  },
  {
   "cell_type": "code",
   "execution_count": 128,
   "metadata": {
    "collapsed": true
   },
   "outputs": [],
   "source": [
    "def q(likelihood, mu, n, bkg, s0=1.0):\n",
    "    \"\"\"Calculates the value of the test statistic q (Tevatron test statistic)\"\"\"\n",
    "    ll_s_b  = np.log( likelihood(n=n, mu=mu, bkg=bkg, s0=s0) )\n",
    "    ll_b    = np.log( likelihood(n=n, mu=0,  bkg=bkg, s0=s0) )\n",
    "    q = -2.0 * (ll_s_b - ll_b)\n",
    "    return q"
   ]
  },
  {
   "cell_type": "code",
   "execution_count": 80,
   "metadata": {
    "collapsed": true
   },
   "outputs": [],
   "source": [
    "q_vec    = np.vectorize(q)"
   ]
  },
  {
   "cell_type": "code",
   "execution_count": 105,
   "metadata": {
    "collapsed": true
   },
   "outputs": [],
   "source": [
    "nExperiments = 10000\n",
    "s0 = 1.0"
   ]
  },
  {
   "cell_type": "markdown",
   "metadata": {},
   "source": [
    "## Hypotheses"
   ]
  },
  {
   "cell_type": "code",
   "execution_count": 106,
   "metadata": {
    "collapsed": true
   },
   "outputs": [],
   "source": [
    "mu = 20.0"
   ]
  },
  {
   "cell_type": "markdown",
   "metadata": {},
   "source": [
    "### Null hypothesis $H_{0}: s + b$"
   ]
  },
  {
   "cell_type": "markdown",
   "metadata": {},
   "source": [
    "$H_{1}$ hypothesis parameters"
   ]
  },
  {
   "cell_type": "code",
   "execution_count": 107,
   "metadata": {},
   "outputs": [],
   "source": [
    "b_H0 = 1000.0     # - Number of background events\n",
    "s_H0 = mu * s0    # - Number of signal events\n",
    "n_pred_H0 = b_H0 + s_H0  # - s + b\n",
    "mup_H0 = s_H0/s0         # - mu^' (mu prime)\n",
    "sigma_muhat_H0 = np.sqrt(n_pred_H0)/s0"
   ]
  },
  {
   "cell_type": "code",
   "execution_count": 108,
   "metadata": {
    "collapsed": true
   },
   "outputs": [],
   "source": [
    "events_H0 = poisson.rvs(mu=n_pred_H0, loc=0.0, size=nExperiments)"
   ]
  },
  {
   "cell_type": "markdown",
   "metadata": {},
   "source": [
    "### Alternative hypothesis $H_{1}: b$ only"
   ]
  },
  {
   "cell_type": "code",
   "execution_count": 109,
   "metadata": {},
   "outputs": [],
   "source": [
    "b_H1 = 1000.0\n",
    "s_H1 = 0.0\n",
    "n_pred_H1 = b_H1 + s_H1\n",
    "mup_H1 = s_H1/s0\n",
    "sigma_muhat_H1 = np.sqrt(n_pred_H1)/s0"
   ]
  },
  {
   "cell_type": "code",
   "execution_count": 110,
   "metadata": {},
   "outputs": [],
   "source": [
    "events_H1 = poisson.rvs(mu=n_pred_H1, loc=0.0, size=nExperiments)"
   ]
  },
  {
   "cell_type": "markdown",
   "metadata": {},
   "source": [
    "Reminder:\n",
    "\n",
    "\\begin{equation}\n",
    "    s = \\mu s_{0}\n",
    "\\end{equation}\n",
    "\n",
    "\\begin{equation}\n",
    "    \\hat{\\mu} = \\frac{n - b}{s_{0}}\n",
    "\\end{equation}"
   ]
  },
  {
   "cell_type": "markdown",
   "metadata": {},
   "source": [
    "The test statistic $q$ can be simplified as:\n",
    "\\begin{equation}\n",
    "    q\n",
    "    = \n",
    "    -2 \\ln \\frac{\\mathcal{L}(\\mu)}{\\mathcal{L}(\\mu=0)}\n",
    "    =\n",
    "    -2 \\ln \\frac{\\mathcal{L}(\\mu)}{\\mathcal{L}(\\hat{\\mu})}\n",
    "    +2 \\ln \\frac{\\mathcal{L}(\\mu=0)}{\\mathcal{L}(\\hat{\\mu})}\n",
    "    =\n",
    "    \\frac{(\\hat{\\mu}-\\mu)^{2}}{\\sigma^{2}_{\\hat{\\mu}}}\n",
    "    -\n",
    "    \\frac{\\hat{\\mu}^{2}}{\\sigma^{2}_{\\hat{\\mu}}}\n",
    "    =\n",
    "    \\frac{ \\mu^{2} - 2 \\mu \\hat{\\mu} }{\\sigma^{2}_{\\hat{\\mu}}}\n",
    "\\end{equation}\n",
    "\n",
    "Therefore $q$ is simply:\n",
    "\n",
    "\\begin{equation}\n",
    "    q \n",
    "    =\n",
    "    \\frac{\\mu^{2} - 2 \\hat{\\mu} \\mu}{\\sigma^{2}_{\\hat{\\mu}}}\n",
    "\\end{equation}"
   ]
  },
  {
   "cell_type": "markdown",
   "metadata": {},
   "source": [
    "### Expected values\n",
    "\n",
    "Expected value under the assumption of $H_0$:\n",
    "\n",
    "- $\\hat{\\mu} = \\mu$\n",
    "\n",
    "\\begin{equation}\n",
    "    E[q]|_{H_{0}}\n",
    "    =\n",
    "    - \\frac{\\mu^{2}}{\\sigma^{2}_{\\hat{\\mu}}|_{H_{0}}}\n",
    "    = \n",
    "    \\frac{\\mu^{2}}{ \\frac{ b+\\mu s_{0}}{s^{2}_{0}} }\n",
    "\\end{equation}\n",
    "\n",
    "Expected value under the assumption of $H_1$:\n",
    "\n",
    "- $\\hat{\\mu} = 0$\n",
    "\n",
    "\\begin{equation}\n",
    "    E[q]|_{H_{1}}\n",
    "    =\n",
    "    \\frac{\\mu^{2}}{\\sigma^{2}_{\\hat{\\mu}}|_{H_{1}}}\n",
    "    =\n",
    "    \\frac{\\mu^{2}}{ \\frac{b}{s^{2}_{0}} }\n",
    "\\end{equation}"
   ]
  },
  {
   "cell_type": "markdown",
   "metadata": {},
   "source": [
    "### Variance\n",
    "\n",
    "Variance value under the assumption of $H_0$:\n",
    "\n",
    "- $\\hat{\\mu} = \\mu$\n",
    "\n",
    "\\begin{equation}\n",
    "    V[q]|_{H_{0}}\n",
    "    =\n",
    "    - \\frac{4 \\mu^{2}}{\\sigma^{2}_{\\hat{\\mu}}|_{H_{0}}}\n",
    "    = \n",
    "    \\frac{4 \\mu^{2}}{ \\frac{ b+\\mu s_{0}}{s^{2}_{0}} }\n",
    "\\end{equation}\n",
    "\n",
    "Variance under the assumption of $H_1$:\n",
    "\n",
    "- $\\hat{\\mu} = 0$\n",
    "\n",
    "\\begin{equation}\n",
    "    V[q]|_{H_{1}}\n",
    "    =\n",
    "    \\frac{4 \\mu^{2}}{\\sigma^{2}_{\\hat{\\mu}}|_{H_{1}}}\n",
    "    =\n",
    "    \\frac{4 \\mu^{2}}{ \\frac{b}{s^{2}_{0}} }\n",
    "\\end{equation}"
   ]
  },
  {
   "cell_type": "markdown",
   "metadata": {},
   "source": [
    "## Distributions for the number of events observed assuming $H_{0}$ and $H_{1}$"
   ]
  },
  {
   "cell_type": "code",
   "execution_count": 111,
   "metadata": {},
   "outputs": [
    {
     "data": {
      "image/png": "[encoded data removed]",
      "text/plain": [
       "<matplotlib.figure.Figure at 0x11bbe9e10>"
      ]
     },
     "metadata": {},
     "output_type": "display_data"
    }
   ],
   "source": [
    "f, a = plt.subplots();\n",
    "h0 = a.hist(events_H0, bins=50, color=\"navy\",      label=r'$H_{0}$', normed=True, alpha=0.5);\n",
    "h1 = a.hist(events_H1, bins=50, color=\"firebrick\", label=r'$H_{1}$', normed=True, alpha=0.5);\n",
    "handles, labels = a.get_legend_handles_labels()\n",
    "a.legend(handles, labels)\n",
    "a.set_xlabel('Number of events');\n",
    "a.set_ylabel('Frequency');"
   ]
  },
  {
   "cell_type": "markdown",
   "metadata": {},
   "source": [
    "## Distribution of test statistic, $q$"
   ]
  },
  {
   "cell_type": "code",
   "execution_count": 112,
   "metadata": {
    "collapsed": true
   },
   "outputs": [],
   "source": [
    "# - Note:\n",
    "# - Depending on the the number of samples requested this might take a while.\n",
    "q_H0 = q_vec(likelihood_poi, mu=mu,  n=events_H0, bkg=b_H0, s0=1.0)\n",
    "q_H1 = q_vec(likelihood_poi, mu=mu,  n=events_H1, bkg=b_H1, s0=1.0)"
   ]
  },
  {
   "cell_type": "code",
   "execution_count": 113,
   "metadata": {},
   "outputs": [
    {
     "data": {
      "image/png": "[encoded data removed]",
      "text/plain": [
       "<matplotlib.figure.Figure at 0x11b13c0f0>"
      ]
     },
     "metadata": {},
     "output_type": "display_data"
    }
   ],
   "source": [
    "f, a = plt.subplots();\n",
    "a.hist(q_H0, bins=50, color='navy',      label=r'$H_{0}$', normed=True, alpha=0.5);\n",
    "a.hist(q_H1, bins=50, color='firebrick', label=r'$H_{1}$', normed=True, alpha=0.5);\n",
    "handles, labels = a.get_legend_handles_labels()\n",
    "a.legend(handles, labels)\n",
    "a.set_xlabel('$q$');\n",
    "a.set_ylabel('Frequency');"
   ]
  },
  {
   "cell_type": "code",
   "execution_count": 114,
   "metadata": {
    "collapsed": true
   },
   "outputs": [],
   "source": [
    "q_median_H0 = np.median(q_H0)\n",
    "q_median_H1 = np.median(q_H1)"
   ]
  },
  {
   "cell_type": "code",
   "execution_count": 115,
   "metadata": {
    "collapsed": true
   },
   "outputs": [],
   "source": [
    "q_exp_H0 = - mu**2 / sigma_muhat_H0**2\n",
    "q_exp_H1 = + mu**2 / sigma_muhat_H1**2"
   ]
  },
  {
   "cell_type": "code",
   "execution_count": 116,
   "metadata": {},
   "outputs": [
    {
     "name": "stdout",
     "output_type": "stream",
     "text": [
      "Med[q]|H0 = -0.39735968420791323 (from simulation)\n",
      "Med[q]|H1 = 0.39474540764058474 (from simulation)\n",
      "Exp[q]|H0 = -0.3921568627450981 (formula)\n",
      "Exp[q]|H1 = 0.4 (formula)\n"
     ]
    }
   ],
   "source": [
    "print(\"Med[q]|H0 = {} (from simulation)\".format(q_median_H0))\n",
    "print(\"Med[q]|H1 = {} (from simulation)\".format(q_median_H1))\n",
    "print(\"Exp[q]|H0 = {} (formula)\".format(q_exp_H0))\n",
    "print(\"Exp[q]|H1 = {} (formula)\".format(q_exp_H1))"
   ]
  },
  {
   "cell_type": "code",
   "execution_count": 133,
   "metadata": {},
   "outputs": [],
   "source": [
    "var_H0_sample  = np.var(q_H0)\n",
    "var_H1_sample  = np.var(q_H1)\n",
    "var_H0_formula = 4.0 * mu**2 / sigma_muhat_H0**2\n",
    "var_H1_formula = 4.0 * mu**2 / sigma_muhat_H1**2"
   ]
  },
  {
   "cell_type": "code",
   "execution_count": 134,
   "metadata": {},
   "outputs": [
    {
     "name": "stdout",
     "output_type": "stream",
     "text": [
      "Var[q]|H0 = 1.5725042843081811 (from simulation)\n",
      "Var[q]|H1 = 1.5499619648609704 (from simulation)\n",
      "Var[q]|H0 = 1.5686274509803924 (formula)\n",
      "Var[q]|H1 = 1.6 (formula)\n"
     ]
    }
   ],
   "source": [
    "print(\"Var[q]|H0 = {} (from simulation)\".format(var_H0_sample))\n",
    "print(\"Var[q]|H1 = {} (from simulation)\".format(var_H1_sample))\n",
    "print(\"Var[q]|H0 = {} (formula)\".format(var_H0_formula))\n",
    "print(\"Var[q]|H1 = {} (formula)\".format(var_H1_formula))"
   ]
  }
 ],
 "metadata": {
  "anaconda-cloud": {},
  "kernelspec": {
   "display_name": "Python 3",
   "language": "python",
   "name": "python3"
  },
  "language_info": {
   "codemirror_mode": {
    "name": "ipython",
    "version": 3
   },
   "file_extension": ".py",
   "mimetype": "text/x-python",
   "name": "python",
   "nbconvert_exporter": "python",
   "pygments_lexer": "ipython3",
   "version": "3.6.0"
  }
 },
 "nbformat": 4,
 "nbformat_minor": 2
}
