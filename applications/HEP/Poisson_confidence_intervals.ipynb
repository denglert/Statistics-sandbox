{
 "cells": [
  {
   "cell_type": "code",
   "execution_count": 1,
   "metadata": {},
   "outputs": [
    {
     "name": "stderr",
     "output_type": "stream",
     "text": [
      "/Users/edy/lib/build/anaconda/lib/python3.6/importlib/_bootstrap.py:219: RuntimeWarning: numpy.dtype size changed, may indicate binary incompatibility. Expected 96, got 88\n",
      "  return f(*args, **kwds)\n"
     ]
    }
   ],
   "source": [
    "import numpy as np\n",
    "import matplotlib.pyplot as plt\n",
    "import scipy.stats\n",
    "%matplotlib inline"
   ]
  },
  {
   "cell_type": "code",
   "execution_count": 19,
   "metadata": {},
   "outputs": [],
   "source": [
    "def poisson_interval(k, alpha=0.05): \n",
    "    \"\"\"\n",
    "    uses chisquared info to get the poisson interval. Uses scipy.stats \n",
    "    (imports in function). \n",
    "    \"\"\"\n",
    "    from scipy.stats import chi2\n",
    "    a = alpha\n",
    "    low, high, high_1s = (chi2.ppf(a/2, 2*k) / 2, chi2.ppf(1-a/2, 2*k + 2) / 2,  chi2.ppf(1-a, 2*k + 2) / 2)\n",
    "    if k == 0: \n",
    "        low = 0.0\n",
    "    return low, high, high_1s"
   ]
  },
  {
   "cell_type": "code",
   "execution_count": 20,
   "metadata": {},
   "outputs": [
    {
     "data": {
      "text/plain": [
       "<bound method rv_discrete.ppf of <scipy.stats._discrete_distns.poisson_gen object at 0x1810d6d400>>"
      ]
     },
     "execution_count": 20,
     "metadata": {},
     "output_type": "execute_result"
    }
   ],
   "source": [
    "scipy.stats.poisson.ppf"
   ]
  },
  {
   "cell_type": "code",
   "execution_count": 21,
   "metadata": {},
   "outputs": [],
   "source": [
    "nsamples = 10000"
   ]
  },
  {
   "cell_type": "code",
   "execution_count": 22,
   "metadata": {},
   "outputs": [],
   "source": [
    "mu_true = 1000"
   ]
  },
  {
   "cell_type": "code",
   "execution_count": 23,
   "metadata": {},
   "outputs": [],
   "source": [
    "X = scipy.stats.poisson.rvs(mu=mu_true, size=nsamples)"
   ]
  },
  {
   "cell_type": "code",
   "execution_count": 24,
   "metadata": {},
   "outputs": [],
   "source": [
    "CI = np.array([poisson_interval(x) for x in X])"
   ]
  },
  {
   "cell_type": "code",
   "execution_count": 25,
   "metadata": {},
   "outputs": [
    {
     "data": {
      "image/png": "[encoded data removed]",
      "text/plain": [
       "<Figure size 432x288 with 1 Axes>"
      ]
     },
     "metadata": {},
     "output_type": "display_data"
    }
   ],
   "source": [
    "fig, ax = plt.subplots()\n",
    "ax.hist(X, bins=30, range=(0, 30));"
   ]
  },
  {
   "cell_type": "code",
   "execution_count": 26,
   "metadata": {},
   "outputs": [],
   "source": [
    "experiments = np.c_[X, CI]"
   ]
  },
  {
   "cell_type": "code",
   "execution_count": 27,
   "metadata": {},
   "outputs": [
    {
     "data": {
      "text/plain": [
       "Text(0.5,1,'One-sided Upper limit')"
      ]
     },
     "execution_count": 27,
     "metadata": {},
     "output_type": "execute_result"
    },
    {
     "data": {
      "image/png": "[encoded data removed]",
      "text/plain": [
       "<Figure size 576x576 with 2 Axes>"
      ]
     },
     "metadata": {},
     "output_type": "display_data"
    }
   ],
   "source": [
    "fig, axes = plt.subplots(ncols=2, figsize=(8,8))\n",
    "ax = axes.flatten()\n",
    "ax[0].axvline(mu_true, linestyle='--', label=r\"$\\mu_{t}$\", c='k')\n",
    "ax[1].axvline(mu_true, linestyle='--', label=r\"$\\mu_{t}$\", c='k')\n",
    "for i, experiment in enumerate(experiments[:30]):\n",
    "    x = experiment[0]\n",
    "    CI_low  = experiment[1]\n",
    "    CI_high = experiment[2]\n",
    "    CI_high_1s = experiment[3]\n",
    "    ax[0].scatter(x, 2*i, c='navy',)\n",
    "    ax[0].hlines(2*i, xmin=CI_low, xmax=CI_high, colors='r')\n",
    "    ax[1].hlines(2*i, xmin=-1000, xmax=CI_high_1s, colors='purple')\n",
    "ax[0].legend()\n",
    "ax[1].set_xlim(0.0, 30.0)\n",
    "ax[0].get_yaxis().set_visible(False)\n",
    "ax[0].set_xlabel(r\"$\\lambda$\")\n",
    "ax[1].set_xlabel(r\"$\\lambda$\")\n",
    "ax[0].set_title(r\"Two-sided CI\")\n",
    "ax[1].set_title(r\"One-sided Upper limit\")"
   ]
  },
  {
   "cell_type": "code",
   "execution_count": 28,
   "metadata": {},
   "outputs": [
    {
     "name": "stdout",
     "output_type": "stream",
     "text": [
      "9550/10000: 0.955\n",
      "9537/10000: 0.9537\n"
     ]
    }
   ],
   "source": [
    "counter1 = 0\n",
    "counter2 = 0\n",
    "\n",
    "for experiment in experiments:\n",
    "    \n",
    "    CI_low  = experiment[1]\n",
    "    CI_high = experiment[2]\n",
    "    CI_high_1s = experiment[3]\n",
    "    \n",
    "    if CI_low < mu_true and mu_true < CI_high:\n",
    "        counter1 += 1\n",
    "        \n",
    "    if mu_true < CI_high_1s:\n",
    "        counter2 += 1\n",
    "        \n",
    "ratio1 = counter1/len(experiments)\n",
    "ratio2 = counter2/len(experiments)\n",
    "\n",
    "print(\"{}/{}: {}\".format(counter1, len(experiments), ratio1))\n",
    "print(\"{}/{}: {}\".format(counter2, len(experiments), ratio2))"
   ]
  }
 ],
 "metadata": {
  "kernelspec": {
   "display_name": "Python 3",
   "language": "python",
   "name": "python3"
  },
  "language_info": {
   "codemirror_mode": {
    "name": "ipython",
    "version": 3
   },
   "file_extension": ".py",
   "mimetype": "text/x-python",
   "name": "python",
   "nbconvert_exporter": "python",
   "pygments_lexer": "ipython3",
   "version": "3.6.6"
  }
 },
 "nbformat": 4,
 "nbformat_minor": 2
}
