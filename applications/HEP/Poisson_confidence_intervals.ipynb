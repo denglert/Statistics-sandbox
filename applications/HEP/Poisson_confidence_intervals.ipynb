{
 "cells": [
  {
   "cell_type": "markdown",
   "metadata": {},
   "source": [
    "# Poisson confidence intervals in HEP"
   ]
  },
  {
   "cell_type": "markdown",
   "metadata": {},
   "source": [
    "**References:**\n",
    "- [Poisson confidence interval](../../confidence_intervals/poisson_parameter_confidence_interval.ipynb)\n",
    "- [Asimov paper](https://arxiv.org/abs/1007.1727)\n",
    "- [G. Cowan: Statistical Methods for Particle Physics (GGI lectures 3/3)](https://www.youtube.com/watch?v=jSIpGKRmS1A&index=4&list=PLDxsZU4NC6Z5DFFFx2bj03phoZpP1qrp2&t=0s)"
   ]
  },
  {
   "cell_type": "code",
   "execution_count": 1,
   "metadata": {},
   "outputs": [],
   "source": [
    "import numpy as np\n",
    "import matplotlib.pyplot as plt\n",
    "import scipy.stats\n",
    "%matplotlib inline"
   ]
  },
  {
   "cell_type": "code",
   "execution_count": 2,
   "metadata": {
    "collapsed": true
   },
   "outputs": [],
   "source": [
    "def calc_lambda_CI_upper(n_obs, alpha=0.05):\n",
    "    \"\"\"Calculates the one-sided, upper bound confidence interval with α significance level\"\"\"\n",
    "    chi2_df = 2 * (n_obs+1)\n",
    "    lambda_UL = 0.5 * scipy.stats.chi2.ppf(1.0-alpha, df=chi2_df)\n",
    "    return lambda_UL"
   ]
  },
  {
   "cell_type": "markdown",
   "metadata": {},
   "source": [
    "## Poisson count measurement - Example of a negative upper limit"
   ]
  },
  {
   "cell_type": "markdown",
   "metadata": {},
   "source": [
    "\\begin{equation}\n",
    "    N \\sim Poi(\\lambda=b+s)\n",
    "\\end{equation}\n",
    "\n",
    "where\n",
    "- $b$ is some known background, here $b=2.5$\n",
    "- $s$ is the signal contribution on which we wish to impose an upper limit"
   ]
  },
  {
   "cell_type": "code",
   "execution_count": 3,
   "metadata": {
    "collapsed": true
   },
   "outputs": [],
   "source": [
    "b = 5\n",
    "n = 0\n",
    "alpha = 0.05"
   ]
  },
  {
   "cell_type": "code",
   "execution_count": 4,
   "metadata": {},
   "outputs": [
    {
     "data": {
      "text/plain": [
       "2.99573227355399"
      ]
     },
     "execution_count": 4,
     "metadata": {},
     "output_type": "execute_result"
    }
   ],
   "source": [
    "lambda_UL = calc_lambda_CI_upper(n, alpha=alpha)\n",
    "lambda_UL"
   ]
  },
  {
   "cell_type": "code",
   "execution_count": 5,
   "metadata": {},
   "outputs": [
    {
     "data": {
      "text/plain": [
       "-2.00426772644601"
      ]
     },
     "execution_count": 5,
     "metadata": {},
     "output_type": "execute_result"
    }
   ],
   "source": [
    "s_UL = lambda_UL - b\n",
    "s_UL"
   ]
  },
  {
   "cell_type": "code",
   "execution_count": 6,
   "metadata": {},
   "outputs": [
    {
     "data": {
      "text/plain": [
       "-2.00426772644601"
      ]
     },
     "execution_count": 6,
     "metadata": {},
     "output_type": "execute_result"
    }
   ],
   "source": [
    "calc_lambda_CI_upper(n, alpha=0.05) - b"
   ]
  },
  {
   "cell_type": "markdown",
   "metadata": {},
   "source": [
    "### Simulation under the assumption there is only background"
   ]
  },
  {
   "cell_type": "code",
   "execution_count": 7,
   "metadata": {
    "collapsed": true
   },
   "outputs": [],
   "source": [
    "nsamples = 1000\n",
    "alpha = 0.05\n",
    "lambda_true = b"
   ]
  },
  {
   "cell_type": "markdown",
   "metadata": {},
   "source": [
    "Generating samples"
   ]
  },
  {
   "cell_type": "code",
   "execution_count": 8,
   "metadata": {
    "collapsed": true
   },
   "outputs": [],
   "source": [
    "n_obs = scipy.stats.poisson.rvs(mu=lambda_true, size=nsamples)"
   ]
  },
  {
   "cell_type": "markdown",
   "metadata": {},
   "source": [
    "Calculating corresponding upper limits"
   ]
  },
  {
   "cell_type": "code",
   "execution_count": 9,
   "metadata": {
    "collapsed": true
   },
   "outputs": [],
   "source": [
    "s_ULs = np.array([calc_lambda_CI_upper(n, alpha=alpha)-b for n in n_obs])"
   ]
  },
  {
   "cell_type": "markdown",
   "metadata": {},
   "source": [
    "Concetanating"
   ]
  },
  {
   "cell_type": "code",
   "execution_count": 10,
   "metadata": {
    "collapsed": true
   },
   "outputs": [],
   "source": [
    "experiments = np.c_[n_obs, s_ULs]"
   ]
  },
  {
   "cell_type": "markdown",
   "metadata": {},
   "source": [
    "Characteristic values of $s^{U.L.}$ (median, $\\pm 1/2 \\sigma$)"
   ]
  },
  {
   "cell_type": "code",
   "execution_count": 11,
   "metadata": {},
   "outputs": [
    {
     "data": {
      "text/plain": [
       "(0.022750131948179195,\n",
       " 0.15865525393145707,\n",
       " 0.84134474606854293,\n",
       " 0.97724986805182079)"
      ]
     },
     "execution_count": 11,
     "metadata": {},
     "output_type": "execute_result"
    }
   ],
   "source": [
    "m2s = scipy.stats.norm.cdf(-2)\n",
    "m1s = scipy.stats.norm.cdf(-1)\n",
    "p1s = scipy.stats.norm.cdf(+1)\n",
    "p2s = scipy.stats.norm.cdf(+2)\n",
    "m2s, m1s, p1s, p2s"
   ]
  },
  {
   "cell_type": "code",
   "execution_count": 12,
   "metadata": {},
   "outputs": [
    {
     "data": {
      "text/plain": [
       "(-0.25613548160942301,\n",
       " 2.7536565279327263,\n",
       " 5.5130349087415329,\n",
       " 5.5130349087415329,\n",
       " 8.1481138024321176,\n",
       " 13.20751425090365)"
      ]
     },
     "execution_count": 12,
     "metadata": {},
     "output_type": "execute_result"
    }
   ],
   "source": [
    "s_UL_m2s = np.percentile(s_ULs, m2s*100)\n",
    "s_UL_m1s = np.percentile(s_ULs, m1s*100)\n",
    "s_UL_med = np.percentile(s_ULs, 0.5*100)\n",
    "s_UL_p1s = np.percentile(s_ULs, p1s*100)\n",
    "s_UL_p2s = np.percentile(s_ULs, p2s*100)\n",
    "s_UL_m2s, s_UL_m1s, s_UL_med, s_UL_med, s_UL_p1s, s_UL_p2s"
   ]
  },
  {
   "cell_type": "markdown",
   "metadata": {},
   "source": [
    "### Distribution of $s^{U.L.}$"
   ]
  },
  {
   "cell_type": "code",
   "execution_count": 13,
   "metadata": {},
   "outputs": [
    {
     "data": {
      "text/plain": [
       "Text(0.5,0,'$s^{U.L.}$')"
      ]
     },
     "execution_count": 13,
     "metadata": {},
     "output_type": "execute_result"
    },
    {
     "data": {
      "image/png": "[encoded data removed]",
      "text/plain": [
       "<Figure size 432x288 with 1 Axes>"
      ]
     },
     "metadata": {},
     "output_type": "display_data"
    }
   ],
   "source": [
    "fig, ax = plt.subplots()\n",
    "bins = np.unique(s_ULs)\n",
    "ax.hist(s_ULs, bins=bins, density=True, width=0.2, edgecolor='k');\n",
    "ax.axvline(s_UL_m2s, linestyle='-',  c='orange', label=r'$Percentile[s^{U.L.}, -2\\sigma]$')\n",
    "ax.axvline(s_UL_m1s, linestyle='-',  c='forestgreen', label=r'$Percentile[s^{U.L.}, -1\\sigma]$')\n",
    "ax.axvline(s_UL_med, linestyle='--', c='k', label=r'$Med[s^{U.L.}] = Percentile[s^{U.L.}, 0.5]$')\n",
    "ax.axvline(s_UL_p1s, linestyle='-',  c='forestgreen', label=r'$Percentile[s^{U.L.}, +1\\sigma]$')\n",
    "ax.axvline(s_UL_p2s, linestyle='-',  c='orange', label=r'$Percentile[s^{U.L.}, +2\\sigma]$')\n",
    "ax.legend(loc='upper left',  bbox_to_anchor=(1,1))\n",
    "ax.set_xlabel(r\"$s^{U.L.}$\")"
   ]
  },
  {
   "cell_type": "markdown",
   "metadata": {},
   "source": [
    "## Brazilian plot"
   ]
  },
  {
   "cell_type": "markdown",
   "metadata": {},
   "source": [
    "Taking the first experiment as an example for the observed value"
   ]
  },
  {
   "cell_type": "code",
   "execution_count": 14,
   "metadata": {
    "collapsed": true
   },
   "outputs": [],
   "source": [
    "n_obs = experiments[0,0]\n",
    "s_UL_obs = experiments[0,1]"
   ]
  },
  {
   "cell_type": "code",
   "execution_count": 15,
   "metadata": {},
   "outputs": [
    {
     "name": "stdout",
     "output_type": "stream",
     "text": [
      "Assumed background:  5\n",
      "Observed number of events:  5.0\n",
      "Observed upper limit on s:  5.51303490874\n",
      "Expected upper limit on s assuming there is only background:  5.51303490874\n"
     ]
    }
   ],
   "source": [
    "print(\"Assumed background: \", b)\n",
    "print(\"Observed number of events: \", n_obs)\n",
    "print(\"Observed upper limit on s: \", experiments[0,1])\n",
    "print(\"Expected upper limit on s assuming there is only background: \", s_UL_med)"
   ]
  },
  {
   "cell_type": "code",
   "execution_count": 16,
   "metadata": {},
   "outputs": [
    {
     "data": {
      "text/plain": [
       "<matplotlib.legend.Legend at 0x7f8081385400>"
      ]
     },
     "execution_count": 16,
     "metadata": {},
     "output_type": "execute_result"
    },
    {
     "data": {
      "image/png": "[encoded data removed]",
      "text/plain": [
       "<Figure size 432x288 with 1 Axes>"
      ]
     },
     "metadata": {},
     "output_type": "display_data"
    }
   ],
   "source": [
    "fig, ax = plt.subplots()\n",
    "ax.hlines(y=s_UL_med, xmin=-1.0, xmax=1.0, linestyle='--', label='Expected')\n",
    "ax.set_ylabel(r\"Upper limit on $s$\")\n",
    "ax.fill_between((-1.0, 1.0), s_UL_m2s, s_UL_p2s, color='orange', label='$\\pm 2\\sigma$')\n",
    "ax.fill_between((-1.0, 1.0), s_UL_m1s, s_UL_p1s, color='forestgreen', label='$\\pm 1\\sigma$')\n",
    "ax.scatter(0.0, s_ULs[0], c='k', label='Observed')\n",
    "ax.get_xaxis().set_visible(False)\n",
    "ax.legend(loc='upper left',  bbox_to_anchor=(1,1))"
   ]
  },
  {
   "cell_type": "markdown",
   "metadata": {},
   "source": [
    "### Consistency check on the observed value of $s^{U.L.}$"
   ]
  },
  {
   "cell_type": "markdown",
   "metadata": {},
   "source": [
    "Plugging back in $s^{U.L.}_{obs}$ to $\\lambda$, and calculating the p-value for $N=n_{obs}$ we should get back $\\alpha$."
   ]
  },
  {
   "cell_type": "code",
   "execution_count": 17,
   "metadata": {},
   "outputs": [
    {
     "data": {
      "text/plain": [
       "10.513034908741533"
      ]
     },
     "execution_count": 17,
     "metadata": {},
     "output_type": "execute_result"
    }
   ],
   "source": [
    "lambda_H1 = s_UL_obs + b\n",
    "lambda_H1"
   ]
  },
  {
   "cell_type": "code",
   "execution_count": 18,
   "metadata": {},
   "outputs": [
    {
     "data": {
      "text/plain": [
       "0.050000000000000024"
      ]
     },
     "execution_count": 18,
     "metadata": {},
     "output_type": "execute_result"
    }
   ],
   "source": [
    "pvalue = scipy.stats.poisson.cdf(n_obs, mu=lambda_H1)\n",
    "pvalue"
   ]
  },
  {
   "cell_type": "code",
   "execution_count": 19,
   "metadata": {
    "collapsed": true
   },
   "outputs": [],
   "source": [
    "epsilon = 1e-5"
   ]
  },
  {
   "cell_type": "code",
   "execution_count": 20,
   "metadata": {},
   "outputs": [
    {
     "name": "stdout",
     "output_type": "stream",
     "text": [
      "Consistent.\n"
     ]
    }
   ],
   "source": [
    "if abs(pvalue-alpha) < epsilon:\n",
    "    print(\"Consistent.\")"
   ]
  }
 ],
 "metadata": {
  "kernelspec": {
   "display_name": "Python 3",
   "language": "python",
   "name": "python3"
  },
  "language_info": {
   "codemirror_mode": {
    "name": "ipython",
    "version": 3
   },
   "file_extension": ".py",
   "mimetype": "text/x-python",
   "name": "python",
   "nbconvert_exporter": "python",
   "pygments_lexer": "ipython3",
   "version": "3.6.8"
  }
 },
 "nbformat": 4,
 "nbformat_minor": 2
}
