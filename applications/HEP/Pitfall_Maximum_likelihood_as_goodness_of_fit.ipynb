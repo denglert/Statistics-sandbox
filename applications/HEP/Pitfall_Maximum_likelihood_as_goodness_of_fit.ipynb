{
 "cells": [
  {
   "cell_type": "markdown",
   "metadata": {},
   "source": [
    "# Pitfalls of Goodnes-of-Fit from Likelihood"
   ]
  },
  {
   "cell_type": "markdown",
   "metadata": {},
   "source": [
    "**References:**\n",
    "- https://arxiv.org/abs/physics/0310167"
   ]
  },
  {
   "cell_type": "markdown",
   "metadata": {},
   "source": [
    "**Abstract:**\n",
    "\n",
    "> The value of the likelihood is occasionally used by high energy physicists as a statistic to measure goodness-of-fit in unbinned maximum likelihood fits. Simple examples are presented that illustrate why this (seemingly intuitive) method fails in practice to achieve the desired goal. "
   ]
  },
  {
   "cell_type": "markdown",
   "metadata": {},
   "source": [
    "## Example: Expotential distribution"
   ]
  },
  {
   "cell_type": "markdown",
   "metadata": {},
   "source": [
    "\\begin{equation}\n",
    "    f(t)\n",
    "    =\n",
    "    \\frac{1}{\\tau} e^{-\\frac{t}{\\tau}}\n",
    "\\end{equation}\n",
    "\n",
    "\\begin{equation}\n",
    "    \\mathcal{L}\n",
    "    =\n",
    "    \\prod_{i}^{n}\n",
    "    f(t_{i})\n",
    "    =\n",
    "    \\frac{1}{\\tau^{n}}\n",
    "    \\prod_{i}\n",
    "    e^{\\frac{t_{i}}{\\tau}}\n",
    "\\end{equation}\n",
    "\n",
    "\\begin{equation}\n",
    "    \\ln \\mathcal{L}\n",
    "    =\n",
    "    \\sum_{i}^{n}\n",
    "    \\ln f(t_{i})\n",
    "    =\n",
    "    - n \\ln \\tau\n",
    "    -\n",
    "    \\frac{1}{\\tau}\n",
    "    \\sum_{i}^{n}\n",
    "    t_{i}\n",
    "    =\n",
    "    - n \\ln \\tau\n",
    "    -\n",
    "    \\frac{n}{\\tau}\n",
    "    \\bar{t}\n",
    "\\end{equation}\n",
    "\n",
    "MLE estimator for \\tau %\\hat{\\tau}$\n",
    "\n",
    "\\begin{equation}\n",
    "    \\frac{\\partial }{\\partial \\tau}\n",
    "    \\ln \\mathcal{L}\n",
    "    = \n",
    "    - \\frac{n}{\\tau}\n",
    "    +\n",
    "    \\frac{n}{\\tau^{2}}\n",
    "    \\bar{t}\n",
    "\\end{equation}\n",
    "\n",
    "\\begin{equation}\n",
    "    \\frac{n}{\\tau^{2}} \\bar{t}\n",
    "    =\n",
    "    \\frac{n}{\\tau}\n",
    "\\end{equation}\n",
    "\n",
    "\\begin{equation}\n",
    "    \\hat{\\tau} = \\bar{t}\n",
    "\\end{equation}\n",
    "\n",
    "$\\ln \\mathcal{L}$ evaluated at $\\hat{\\tau}$:\n",
    "\n",
    "\\begin{equation}\n",
    "    \\ln \\mathcal{L}_{max}\n",
    "    =\n",
    "    - n \\ln \\bar{t}\n",
    "    - n\n",
    "    =\n",
    "    -n (1 + \\ln \\bar{t})\n",
    "\\end{equation}"
   ]
  },
  {
   "cell_type": "markdown",
   "metadata": {},
   "source": [
    "**Neyman-Pearson test statistic**\n",
    "\n",
    "Alternative hypothesis $H_{1}$: $t \\sim Uniform$"
   ]
  },
  {
   "cell_type": "markdown",
   "metadata": {},
   "source": [
    "## Claims of the paper"
   ]
  },
  {
   "cell_type": "markdown",
   "metadata": {},
   "source": [
    "> The value of the likelihood at its maximum (in this test case) is just a simple function of $\\hat{t}$ —all samples with the same mean obtain the same “g.o.f.” value. This is a disaster for g.o.f. Even if the true value of $\\tau$ — call it $T$ — were known in advance, so that we could calculate the $p$-value associated with the observed $\\hat{t}$, merely comparing the $\\hat{t}$ of the data with $T$ is not sufficient to show that the observed data are modeled well by the exponential distribution."
   ]
  },
  {
   "cell_type": "markdown",
   "metadata": {},
   "source": [
    "> Since under this method, our P-value ensemble is actually based on the value of $\\hat{\\tau}$ computed from the data (not knowing the true value $T$ ), we always obtain a $p$-value of about 50%, for any data whatsoever. This is a second disaster for g.o.f. By construction, the distribution of L max from our ensemble of N -event pseudo experiments tracks the $\\mathcal{L}_{max}$ observed from the data. The fact that the method yields “reasonable” $p$-values has undoubtedly contributed to its longevity in practice: $p$-values very near 0 or 100% would have triggered further investigation."
   ]
  },
  {
   "cell_type": "code",
   "execution_count": 1,
   "metadata": {
    "collapsed": true
   },
   "outputs": [],
   "source": [
    "import numpy as np\n",
    "import scipy.stats\n",
    "import matplotlib.pyplot as plt\n",
    "%matplotlib inline"
   ]
  },
  {
   "cell_type": "code",
   "execution_count": 2,
   "metadata": {
    "collapsed": true
   },
   "outputs": [],
   "source": [
    "def calc_NLL_min(ts):\n",
    "    t_mean = np.mean(ts)\n",
    "    n = len(ts)\n",
    "    NLL_min = n*(1+np.log(t_mean))\n",
    "    return NLL_min"
   ]
  },
  {
   "cell_type": "code",
   "execution_count": 3,
   "metadata": {},
   "outputs": [],
   "source": [
    "def calc_NP_lambda(ts, tau=5):\n",
    "    lam = np.sum(scipy.stats.expon.logpdf(ts, scale=tau))\n",
    "    return lam"
   ]
  },
  {
   "cell_type": "code",
   "execution_count": 4,
   "metadata": {
    "collapsed": true
   },
   "outputs": [],
   "source": [
    "nensemble = 1000\n",
    "nsamples =  10\n",
    "tau = 5"
   ]
  },
  {
   "cell_type": "code",
   "execution_count": 5,
   "metadata": {},
   "outputs": [],
   "source": [
    "t_ensemble_exponential = np.array([scipy.stats.expon.rvs(scale=tau, size=nsamples) for dummy in range(nensemble)])\n",
    "t_ensemble_uniform     = np.array([scipy.stats.uniform.rvs(scale=tau*2, loc=0.0, size=nsamples) for dummy in range(nensemble)])"
   ]
  },
  {
   "cell_type": "code",
   "execution_count": 6,
   "metadata": {},
   "outputs": [],
   "source": [
    "NLL_mins_exponential = np.array([calc_NLL_min(ts) for ts in t_ensemble_exponential])\n",
    "NLL_mins_uniform     = np.array([calc_NLL_min(ts) for ts in t_ensemble_uniform])\n",
    "NP_lambda_exponential  = np.array([calc_NP_lambda(ts) for ts in t_ensemble_exponential])\n",
    "NP_lambda_uniform      = np.array([calc_NP_lambda(ts) for ts in t_ensemble_uniform])"
   ]
  },
  {
   "cell_type": "code",
   "execution_count": 7,
   "metadata": {},
   "outputs": [
    {
     "data": {
      "image/png": "[encoded data removed]",
      "text/plain": [
       "<Figure size 432x288 with 1 Axes>"
      ]
     },
     "metadata": {},
     "output_type": "display_data"
    }
   ],
   "source": [
    "#ts = ts_ensemble[0]\n",
    "fig, ax = plt.subplots()\n",
    "ax.hist(t_ensemble_exponential.flatten(), bins=20, color='C0', label='Exponential distribution')\n",
    "ax.hist(t_ensemble_uniform.flatten(), bins=20, color='C1', label='Uniform distribution')\n",
    "t_mean_exponential = np.mean(t_ensemble_exponential)\n",
    "t_mean_uniform = np.mean(t_ensemble_uniform)\n",
    "ax.axvline(t_mean_exponential, linestyle='--', color='C0', label=\"Mean: {:.2f} from exponential\".format(t_mean_exponential))\n",
    "ax.axvline(t_mean_uniform, linestyle='--', color='C1', label=\"Mean: {:.2f} from uniform\".format(t_mean_uniform))\n",
    "ax.legend();"
   ]
  },
  {
   "cell_type": "code",
   "execution_count": 8,
   "metadata": {},
   "outputs": [
    {
     "data": {
      "image/png": "[encoded data removed]",
      "text/plain": [
       "<Figure size 432x288 with 1 Axes>"
      ]
     },
     "metadata": {},
     "output_type": "display_data"
    }
   ],
   "source": [
    "fig, ax = plt.subplots()\n",
    "ax.hist(NLL_mins_exponential, label=r'$- \\ln \\mathcal{L}$ evaluated using data from exponential distr.', color='C0')\n",
    "ax.hist(NLL_mins_uniform, label=r'$- \\ln \\mathcal{L}$ evaluated using data from uniform distr.', color='C1')\n",
    "ax.legend(loc='upper left', bbox_to_anchor=(1,1));"
   ]
  },
  {
   "cell_type": "code",
   "execution_count": 9,
   "metadata": {},
   "outputs": [
    {
     "data": {
      "image/png": "[encoded data removed]",
      "text/plain": [
       "<Figure size 432x288 with 1 Axes>"
      ]
     },
     "metadata": {},
     "output_type": "display_data"
    }
   ],
   "source": [
    "fig, ax = plt.subplots()\n",
    "ax.hist(NP_lambda_exponential, label=r'$\\lambda$ evaluated using data from exponential distr.', color='C0')\n",
    "ax.hist(NP_lambda_uniform, label=r'$\\lambda$ evaluated using data from uniform distr.', color='C1')\n",
    "ax.legend(loc='upper left', bbox_to_anchor=(1,1));"
   ]
  }
 ],
 "metadata": {
  "kernelspec": {
   "display_name": "Python 3",
   "language": "python",
   "name": "python3"
  },
  "language_info": {
   "codemirror_mode": {
    "name": "ipython",
    "version": 3
   },
   "file_extension": ".py",
   "mimetype": "text/x-python",
   "name": "python",
   "nbconvert_exporter": "python",
   "pygments_lexer": "ipython3",
   "version": "3.6.8"
  }
 },
 "nbformat": 4,
 "nbformat_minor": 2
}
