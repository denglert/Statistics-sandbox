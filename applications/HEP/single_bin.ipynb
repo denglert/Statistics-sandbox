{
 "cells": [
  {
   "cell_type": "markdown",
   "metadata": {},
   "source": [
    "\\begin{equation}\n",
    "    \\mathcal{L}(\\mu)\n",
    "    =\n",
    "    Poi(n_{obs} | \\lambda=\\mu s_{0} + b)\n",
    "\\end{equation}\n",
    "\n",
    "\\begin{equation}\n",
    "    t\n",
    "    =\n",
    "    -2 \\ln \\frac{\\mathcal{L}(\\mu)}{\\mathcal{L}(\\hat{\\mu})}\n",
    "\\end{equation}"
   ]
  },
  {
   "cell_type": "markdown",
   "metadata": {},
   "source": [
    "\\begin{equation}\n",
    "    \\frac{\\lambda^{n}}{n!} e^{-\\lambda}\n",
    "    \\rightarrow\n",
    "    \\frac{n^{n}}{n!} e^{-n}\n",
    "\\end{equation}"
   ]
  },
  {
   "cell_type": "code",
   "execution_count": 67,
   "metadata": {},
   "outputs": [],
   "source": [
    "import numpy as np\n",
    "import scipy.stats\n",
    "from scipy.stats import poisson\n",
    "from scipy.optimize import minimize\n",
    "import matplotlib.pyplot as plt\n",
    "%matplotlib inline"
   ]
  },
  {
   "cell_type": "code",
   "execution_count": 69,
   "metadata": {},
   "outputs": [],
   "source": [
    "def likelihood_model(mu, n, bkg, s0=1.0, neg=False, log=False):\n",
    "    \"\"\"Return the value of the Poisson likelihood function, given the:\n",
    "       - mu: signal strength parameter,\n",
    "       - n: number of events observed,\n",
    "       - bkg: expected number of background events,\n",
    "       - s0: nominal number of signal events\n",
    "       The total expected number of events is lambda = bkg + mu*s0.\n",
    "       \n",
    "       The `neg` argument just multiplies the likelihood by (-1).\n",
    "       This is used for the minimize() function.\"\"\"\n",
    "    sig = mu * s0\n",
    "    N_exp = bkg + sig\n",
    "    if log:\n",
    "        likelihood = poisson.logpmf(n, mu=N_exp)\n",
    "    else:\n",
    "        likelihood = poisson.pmf(n, mu=N_exp)\n",
    "    \n",
    "    if neg:\n",
    "        return -likelihood\n",
    "    else:\n",
    "        return likelihood"
   ]
  },
  {
   "cell_type": "code",
   "execution_count": 70,
   "metadata": {},
   "outputs": [],
   "source": [
    "def perform_fit(N_obs, mu, bkg, s0=1.0):\n",
    "    \n",
    "    fit_result_free = minimize(likelihood_model, x0=[0.0], args=(N_obs, bkg, s0, True, True), method='Nelder-Mead')\n",
    "    LL_free = -fit_result_free['fun'] # (-1)*(-log likelihood)\n",
    "    LL_cond = likelihood_model(mu, N_obs, bkg, s0=1.0, neg=False, log=True)\n",
    "    parameter_MLE_free = fit_result_free['x']\n",
    "    muhat = parameter_MLE_free[0]    \n",
    "    \n",
    "    t =  -2.0*(LL_cond-LL_free)\n",
    "    \n",
    "    return (muhat, LL_free, LL_cond, t)"
   ]
  },
  {
   "cell_type": "code",
   "execution_count": 71,
   "metadata": {},
   "outputs": [],
   "source": [
    "nExperiments = 1000"
   ]
  },
  {
   "cell_type": "code",
   "execution_count": 72,
   "metadata": {},
   "outputs": [],
   "source": [
    "s0 = 1.0"
   ]
  },
  {
   "cell_type": "markdown",
   "metadata": {},
   "source": [
    "## $H_{0}$"
   ]
  },
  {
   "cell_type": "code",
   "execution_count": 129,
   "metadata": {},
   "outputs": [],
   "source": [
    "b_H0     = 100.0\n",
    "mu_H0    = 0.0\n",
    "N_exp_H0 = mu_H0*s0 + b_H0"
   ]
  },
  {
   "cell_type": "code",
   "execution_count": 130,
   "metadata": {},
   "outputs": [],
   "source": [
    "N_events_H0 = poisson.rvs(mu=N_exp_H0, loc=0.0, size=nExperiments)"
   ]
  },
  {
   "cell_type": "code",
   "execution_count": 131,
   "metadata": {},
   "outputs": [],
   "source": [
    "fit_results_H0 = np.array([perform_fit(N_obs, mu=0.0, bkg=b_H0, s0=1.0) for N_obs in N_events_H0])"
   ]
  },
  {
   "cell_type": "markdown",
   "metadata": {},
   "source": [
    "## $H_{1}$"
   ]
  },
  {
   "cell_type": "code",
   "execution_count": 49,
   "metadata": {},
   "outputs": [],
   "source": [
    "b_H1     = 100.0\n",
    "mu_H1    = 10.0\n",
    "N_exp_H1 = mu_H1*s0 + b_H1"
   ]
  },
  {
   "cell_type": "code",
   "execution_count": 50,
   "metadata": {},
   "outputs": [],
   "source": [
    "N_events_H1 = poisson.rvs(mu=N_exp_H1, loc=0.0, size=nExperiments)"
   ]
  },
  {
   "cell_type": "code",
   "execution_count": 76,
   "metadata": {},
   "outputs": [],
   "source": [
    "fit_results_H1 = np.array([perform_fit(N_obs, mu=0.0, bkg=b_H1, s0=1.0) for N_obs in N_events_H1])"
   ]
  },
  {
   "cell_type": "code",
   "execution_count": 77,
   "metadata": {},
   "outputs": [
    {
     "data": {
      "text/plain": [
       "<matplotlib.legend.Legend at 0x1a183ab358>"
      ]
     },
     "execution_count": 77,
     "metadata": {},
     "output_type": "execute_result"
    },
    {
     "data": {
      "image/png": "[encoded data removed]",
      "text/plain": [
       "<Figure size 576x432 with 1 Axes>"
      ]
     },
     "metadata": {},
     "output_type": "display_data"
    }
   ],
   "source": [
    "fig,ax = plt.subplots(figsize=(8,6))\n",
    "n, bins, patches = ax.hist(N_events_H0, bins=100, range=(60.5, 160.5), color='b', alpha=0.5, label=r'$H_{0}$')\n",
    "ax.hist(N_events_H1, bins=100, range=(60.5, 160.5), color='r', alpha=0.5, label=r'$H_{1}$')\n",
    "#ax.set_title(\"Signal region\")\n",
    "ax.set_xlabel(\"Number of events observed\")\n",
    "ax.set_ylabel(\"Frequency\")\n",
    "ax.legend()"
   ]
  },
  {
   "cell_type": "code",
   "execution_count": 122,
   "metadata": {},
   "outputs": [
    {
     "data": {
      "text/plain": [
       "<matplotlib.collections.PathCollection at 0x1a1bdcea58>"
      ]
     },
     "execution_count": 122,
     "metadata": {},
     "output_type": "execute_result"
    },
    {
     "data": {
      "image/png": "[encoded data removed]",
      "text/plain": [
       "<Figure size 576x432 with 1 Axes>"
      ]
     },
     "metadata": {},
     "output_type": "display_data"
    }
   ],
   "source": [
    "fig, ax = plt.subplots(figsize=(8,6))\n",
    "ax.scatter(fit_results_H0[:,0], N_events_H0, alpha=0.5, color='b')\n",
    "ax.scatter(fit_results_H1[:,0], N_events_H1, alpha=0.5, color='r')"
   ]
  },
  {
   "cell_type": "code",
   "execution_count": 137,
   "metadata": {},
   "outputs": [
    {
     "data": {
      "text/plain": [
       "array([109,  88,  89, 102,  99,  84, 113,  92, 101, 106, 106,  95, 101,\n",
       "        84,  95, 117,  98, 119, 103,  97, 113,  85, 119, 108,  76, 103,\n",
       "        70,  86,  97, 109, 102, 100, 108, 101,  90, 108,  97, 114, 112,\n",
       "       127,  96, 107, 112,  92, 104,  86, 127,  95, 118,  86,  92,  82,\n",
       "        92,  99, 100,  98,  91, 107, 108, 109, 102, 103,  96, 110, 106,\n",
       "        91, 116, 110, 128,  92,  87, 107,  99, 109,  82, 119,  93, 122,\n",
       "       100, 106,  97, 101, 106, 111,  83, 110,  85,  93, 120,  90, 100,\n",
       "       101,  89, 103, 105,  96, 122,  93,  91,  89,  94, 101, 102, 100,\n",
       "        96,  97,  90,  95,  97, 101,  84,  92, 106,  99,  90,  95, 114,\n",
       "       103, 105,  95, 116, 103, 100, 107,  97,  87,  83, 108,  89, 101,\n",
       "       114, 112, 101,  97, 101,  86, 113, 105,  95,  99, 115, 105, 109,\n",
       "        90, 100,  85, 105,  88,  91, 114,  86,  96, 112,  93,  90,  85,\n",
       "        97, 100, 100, 115, 110, 113,  93,  88,  94, 115,  98, 107,  98,\n",
       "       116, 103,  96, 101, 105,  88, 103, 101, 102, 107, 102,  94, 105,\n",
       "       123, 119,  95,  92,  98,  87,  80,  92, 110,  99, 120,  87,  83,\n",
       "        90, 104, 101, 102,  79, 105,  84,  68, 107, 103, 119, 107, 108,\n",
       "        93, 107, 104, 105,  99,  90,  99,  94,  87, 117,  96,  79, 110,\n",
       "       141, 103, 114, 108,  80, 115,  95, 105, 108, 100,  89, 106,  92,\n",
       "       103, 108,  89, 112, 107, 103,  95, 110,  94, 102, 109,  94, 103,\n",
       "       111, 100, 102,  99, 104, 100, 108,  98, 111, 107,  99, 112, 107,\n",
       "        91,  86,  92,  97, 100,  86,  96, 104, 101, 104, 102,  99,  77,\n",
       "        95, 101,  94, 110,  96, 100, 119, 108,  97, 102, 107,  90, 105,\n",
       "       112, 102, 113, 107, 124, 122, 105,  96, 104, 102,  84, 112, 115,\n",
       "       109,  98,  99, 100,  84, 110, 104,  93,  86, 102,  87,  97,  97,\n",
       "        87, 114, 103, 106,  96,  89,  89,  91, 102,  95, 107, 105, 106,\n",
       "        90,  93, 104,  90, 102, 100,  88, 105, 107,  96,  80,  95,  98,\n",
       "        95,  95, 109,  95, 107, 101,  94,  97, 102,  94, 110, 102, 107,\n",
       "       100,  99, 106,  90,  97,  93, 112, 100, 101,  89, 102, 112,  99,\n",
       "        88, 110, 102,  92, 123, 107,  98, 102, 104,  82,  89,  80,  99,\n",
       "        95,  89, 110,  97,  90, 106,  99, 101,  98,  94,  94,  87, 106,\n",
       "       102,  93, 101, 119,  96,  95,  95,  96,  80, 102,  79,  99, 106,\n",
       "        91,  82, 116,  96,  89,  97,  77,  91,  95, 107, 109, 110, 109,\n",
       "        98,  87,  87,  89,  85,  86,  96, 107,  98,  99,  89,  70, 102,\n",
       "       114,  98,  89, 102, 112, 105,  99,  99,  88, 110,  98,  86,  94,\n",
       "        92,  76, 105,  95,  99, 103,  88,  84, 101,  91, 113,  84, 108,\n",
       "        91, 103,  98, 105,  90,  92,  94,  93, 109, 102, 113, 115, 104,\n",
       "        97,  95,  97,  91, 112, 108,  95,  88,  96,  90, 100, 104, 108,\n",
       "       111,  94,  98, 104,  85,  86, 106, 102,  83,  99,  83, 102,  79,\n",
       "        96,  84,  91, 103,  98,  94,  83, 108,  97,  97, 107,  98, 106,\n",
       "       113,  93, 103,  86,  89,  98,  87,  87, 111, 101,  95, 104,  91,\n",
       "       100,  96, 116,  94, 115,  94, 101, 109, 103,  93,  93,  91,  92,\n",
       "       121,  85, 115, 102, 101, 104,  82, 103,  96, 112, 108, 106, 109,\n",
       "        88,  78,  94,  89, 116, 106,  96,  82,  95,  97, 102,  84, 111,\n",
       "        91, 100, 118, 113,  99,  98, 103, 100,  92, 106, 101, 104, 102,\n",
       "        96, 105, 102,  84,  95,  88,  87,  85,  99,  97,  98, 109,  92,\n",
       "        98, 105, 116,  96,  98, 111,  99,  97, 118, 102, 113,  90,  90,\n",
       "       108,  94, 109, 108, 104, 102,  98,  92, 102,  86, 121,  95,  88,\n",
       "       116,  98, 110,  97,  93, 107,  91,  96,  85,  88, 102,  97,  91,\n",
       "       127,  96, 115, 103,  91, 100,  97, 110,  83,  97,  97, 102,  96,\n",
       "        93, 110,  87, 102,  99, 122,  96,  93, 104, 104,  96,  96,  96,\n",
       "        93, 124,  90,  97, 100,  90,  90, 103,  87,  92,  98, 103, 100,\n",
       "        98, 104,  92,  98,  96,  92,  93,  81, 127, 112,  91,  99,  98,\n",
       "       109, 118,  93,  97,  79, 109, 104,  93, 104,  82,  87, 112,  98,\n",
       "        88, 104, 110, 122,  91,  95,  94, 109,  92, 109,  94,  98,  90,\n",
       "       114,  97, 100, 102,  88,  86,  98, 113,  89, 110,  97,  93,  95,\n",
       "        87, 109,  91,  81, 101,  98, 108, 101, 110, 104, 102,  98, 109,\n",
       "       109,  93, 112,  87, 111, 110, 110, 112, 104,  95, 101,  94, 103,\n",
       "        92, 104,  95,  89,  96, 109,  98,  84, 117, 111, 108, 115, 103,\n",
       "        80, 103, 109, 104,  94, 100, 104, 105,  96,  94,  93,  96, 103,\n",
       "       102,  93,  97, 107,  96,  97,  88, 119,  98, 112,  87, 102, 111,\n",
       "        98,  81,  94,  97,  97,  90, 108, 121,  99,  98, 112,  83, 104,\n",
       "       104,  96, 104, 101, 111,  91,  99,  96, 108,  95, 117,  90, 107,\n",
       "        90, 100,  98, 106, 117,  89, 113,  84, 110, 104,  91,  95,  91,\n",
       "       110,  96, 104,  95,  97, 102, 107,  99,  87,  97,  97, 104,  99,\n",
       "       107,  94, 102,  87, 106, 125, 103,  88, 101,  92,  93,  98,  97,\n",
       "       100,  87, 104,  92, 102,  93, 100,  99, 117, 112,  98,  97, 100,\n",
       "       124,  95, 105, 107,  95,  96,  94,  89,  90,  84,  90, 109,  91,\n",
       "       113,  81,  91,  74,  88,  98,  82,  92, 104,  97,  89,  95,  95,\n",
       "       109,  97,  87, 105, 113,  94,  91,  90,  97, 109, 105, 109,  96,\n",
       "       107,  92,  89, 115,  89,  98,  95, 104, 107, 108, 102, 117, 106,\n",
       "       109,  99, 112, 114, 120, 103,  91,  95,  97, 103, 107,  85,  97,\n",
       "        99, 114,  99, 110,  90,  99,  92, 108,  94, 105,  97,  93, 103,\n",
       "        79,  76, 116, 103,  93, 108,  95,  96, 103, 101,  96, 120,  99,\n",
       "       103,  92, 110, 102,  99, 116, 108,  99,  87,  94, 111,  95,  90,\n",
       "       112,  89,  82,  86, 102,  98, 105, 101,  86, 110, 103,  89,  99,\n",
       "       112,  97,  98, 107, 114, 110, 100, 101, 106, 105, 106, 100, 115,\n",
       "        91,  86, 102, 100,  98, 104, 100, 108,  97,  94, 105,  95])"
      ]
     },
     "execution_count": 137,
     "metadata": {},
     "output_type": "execute_result"
    }
   ],
   "source": [
    "N_events_H0"
   ]
  },
  {
   "cell_type": "code",
   "execution_count": 133,
   "metadata": {},
   "outputs": [
    {
     "data": {
      "text/plain": [
       "(1000,)"
      ]
     },
     "execution_count": 133,
     "metadata": {},
     "output_type": "execute_result"
    }
   ],
   "source": [
    "N_events_H0.shape"
   ]
  },
  {
   "cell_type": "code",
   "execution_count": 127,
   "metadata": {},
   "outputs": [],
   "source": [
    "d = fit_results_H0[:,0] - N_events_H0"
   ]
  },
  {
   "cell_type": "code",
   "execution_count": 128,
   "metadata": {},
   "outputs": [
    {
     "data": {
      "text/plain": [
       "array([-100., -100., -100., -100., -100., -100., -100., -100., -100.,\n",
       "       -100., -100., -100., -100., -100., -100., -100., -100., -100.,\n",
       "       -100., -100., -100., -100., -100., -100., -100., -100., -100.,\n",
       "       -100., -100., -100., -100., -100., -100., -100., -100., -100.,\n",
       "       -100., -100., -100., -100., -100., -100., -100., -100., -100.,\n",
       "       -100., -100., -100., -100., -100., -100., -100., -100., -100.,\n",
       "       -100., -100., -100., -100., -100., -100., -100., -100., -100.,\n",
       "       -100., -100., -100., -100., -100., -100., -100., -100., -100.,\n",
       "       -100., -100., -100., -100., -100., -100., -100., -100., -100.,\n",
       "       -100., -100., -100., -100., -100., -100., -100., -100., -100.,\n",
       "       -100., -100., -100., -100., -100., -100., -100., -100., -100.,\n",
       "       -100., -100., -100., -100., -100., -100., -100., -100., -100.,\n",
       "       -100., -100., -100., -100., -100., -100., -100., -100., -100.,\n",
       "       -100., -100., -100., -100., -100., -100., -100., -100., -100.,\n",
       "       -100., -100., -100., -100., -100., -100., -100., -100., -100.,\n",
       "       -100., -100., -100., -100., -100., -100., -100., -100., -100.,\n",
       "       -100., -100., -100., -100., -100., -100., -100., -100., -100.,\n",
       "       -100., -100., -100., -100., -100., -100., -100., -100., -100.,\n",
       "       -100., -100., -100., -100., -100., -100., -100., -100., -100.,\n",
       "       -100., -100., -100., -100., -100., -100., -100., -100., -100.,\n",
       "       -100., -100., -100., -100., -100., -100., -100., -100., -100.,\n",
       "       -100., -100., -100., -100., -100., -100., -100., -100., -100.,\n",
       "       -100., -100., -100., -100., -100., -100., -100., -100., -100.,\n",
       "       -100., -100., -100., -100., -100., -100., -100., -100., -100.,\n",
       "       -100., -100., -100., -100., -100., -100., -100., -100., -100.,\n",
       "       -100., -100., -100., -100., -100., -100., -100., -100., -100.,\n",
       "       -100., -100., -100., -100., -100., -100., -100., -100., -100.,\n",
       "       -100., -100., -100., -100., -100., -100., -100., -100., -100.,\n",
       "       -100., -100., -100., -100., -100., -100., -100., -100., -100.,\n",
       "       -100., -100., -100., -100., -100., -100., -100., -100., -100.,\n",
       "       -100., -100., -100., -100., -100., -100., -100., -100., -100.,\n",
       "       -100., -100., -100., -100., -100., -100., -100., -100., -100.,\n",
       "       -100., -100., -100., -100., -100., -100., -100., -100., -100.,\n",
       "       -100., -100., -100., -100., -100., -100., -100., -100., -100.,\n",
       "       -100., -100., -100., -100., -100., -100., -100., -100., -100.,\n",
       "       -100., -100., -100., -100., -100., -100., -100., -100., -100.,\n",
       "       -100., -100., -100., -100., -100., -100., -100., -100., -100.,\n",
       "       -100., -100., -100., -100., -100., -100., -100., -100., -100.,\n",
       "       -100., -100., -100., -100., -100., -100., -100., -100., -100.,\n",
       "       -100., -100., -100., -100., -100., -100., -100., -100., -100.,\n",
       "       -100., -100., -100., -100., -100., -100., -100., -100., -100.,\n",
       "       -100., -100., -100., -100., -100., -100., -100., -100., -100.,\n",
       "       -100., -100., -100., -100., -100., -100., -100., -100., -100.,\n",
       "       -100., -100., -100., -100., -100., -100., -100., -100., -100.,\n",
       "       -100., -100., -100., -100., -100., -100., -100., -100., -100.,\n",
       "       -100., -100., -100., -100., -100., -100., -100., -100., -100.,\n",
       "       -100., -100., -100., -100., -100., -100., -100., -100., -100.,\n",
       "       -100., -100., -100., -100., -100., -100., -100., -100., -100.,\n",
       "       -100., -100., -100., -100., -100., -100., -100., -100., -100.,\n",
       "       -100., -100., -100., -100., -100., -100., -100., -100., -100.,\n",
       "       -100., -100., -100., -100., -100., -100., -100., -100., -100.,\n",
       "       -100., -100., -100., -100., -100., -100., -100., -100., -100.,\n",
       "       -100., -100., -100., -100., -100., -100., -100., -100., -100.,\n",
       "       -100., -100., -100., -100., -100., -100., -100., -100., -100.,\n",
       "       -100., -100., -100., -100., -100., -100., -100., -100., -100.,\n",
       "       -100., -100., -100., -100., -100., -100., -100., -100., -100.,\n",
       "       -100., -100., -100., -100., -100., -100., -100., -100., -100.,\n",
       "       -100., -100., -100., -100., -100., -100., -100., -100., -100.,\n",
       "       -100., -100., -100., -100., -100., -100., -100., -100., -100.,\n",
       "       -100., -100., -100., -100., -100., -100., -100., -100., -100.,\n",
       "       -100., -100., -100., -100., -100., -100., -100., -100., -100.,\n",
       "       -100., -100., -100., -100., -100., -100., -100., -100., -100.,\n",
       "       -100., -100., -100., -100., -100., -100., -100., -100., -100.,\n",
       "       -100., -100., -100., -100., -100., -100., -100., -100., -100.,\n",
       "       -100., -100., -100., -100., -100., -100., -100., -100., -100.,\n",
       "       -100., -100., -100., -100., -100., -100., -100., -100., -100.,\n",
       "       -100., -100., -100., -100., -100., -100., -100., -100., -100.,\n",
       "       -100., -100., -100., -100., -100., -100., -100., -100., -100.,\n",
       "       -100., -100., -100., -100., -100., -100., -100., -100., -100.,\n",
       "       -100., -100., -100., -100., -100., -100., -100., -100., -100.,\n",
       "       -100., -100., -100., -100., -100., -100., -100., -100., -100.,\n",
       "       -100., -100., -100., -100., -100., -100., -100., -100., -100.,\n",
       "       -100., -100., -100., -100., -100., -100., -100., -100., -100.,\n",
       "       -100., -100., -100., -100., -100., -100., -100., -100., -100.,\n",
       "       -100., -100., -100., -100., -100., -100., -100., -100., -100.,\n",
       "       -100., -100., -100., -100., -100., -100., -100., -100., -100.,\n",
       "       -100., -100., -100., -100., -100., -100., -100., -100., -100.,\n",
       "       -100., -100., -100., -100., -100., -100., -100., -100., -100.,\n",
       "       -100., -100., -100., -100., -100., -100., -100., -100., -100.,\n",
       "       -100., -100., -100., -100., -100., -100., -100., -100., -100.,\n",
       "       -100., -100., -100., -100., -100., -100., -100., -100., -100.,\n",
       "       -100., -100., -100., -100., -100., -100., -100., -100., -100.,\n",
       "       -100., -100., -100., -100., -100., -100., -100., -100., -100.,\n",
       "       -100., -100., -100., -100., -100., -100., -100., -100., -100.,\n",
       "       -100., -100., -100., -100., -100., -100., -100., -100., -100.,\n",
       "       -100., -100., -100., -100., -100., -100., -100., -100., -100.,\n",
       "       -100., -100., -100., -100., -100., -100., -100., -100., -100.,\n",
       "       -100., -100., -100., -100., -100., -100., -100., -100., -100.,\n",
       "       -100., -100., -100., -100., -100., -100., -100., -100., -100.,\n",
       "       -100., -100., -100., -100., -100., -100., -100., -100., -100.,\n",
       "       -100., -100., -100., -100., -100., -100., -100., -100., -100.,\n",
       "       -100., -100., -100., -100., -100., -100., -100., -100., -100.,\n",
       "       -100., -100., -100., -100., -100., -100., -100., -100., -100.,\n",
       "       -100., -100., -100., -100., -100., -100., -100., -100., -100.,\n",
       "       -100., -100., -100., -100., -100., -100., -100., -100., -100.,\n",
       "       -100., -100., -100., -100., -100., -100., -100., -100., -100.,\n",
       "       -100., -100., -100., -100., -100., -100., -100., -100., -100.,\n",
       "       -100., -100., -100., -100., -100., -100., -100., -100., -100.,\n",
       "       -100., -100., -100., -100., -100., -100., -100., -100., -100.,\n",
       "       -100., -100., -100., -100., -100., -100., -100., -100., -100.,\n",
       "       -100., -100., -100., -100., -100., -100., -100., -100., -100.,\n",
       "       -100., -100., -100., -100., -100., -100., -100., -100., -100.,\n",
       "       -100., -100., -100., -100., -100., -100., -100., -100., -100.,\n",
       "       -100., -100., -100., -100., -100., -100., -100., -100., -100.,\n",
       "       -100., -100., -100., -100., -100., -100., -100., -100., -100.,\n",
       "       -100., -100., -100., -100., -100., -100., -100., -100., -100.,\n",
       "       -100., -100., -100., -100., -100., -100., -100., -100., -100.,\n",
       "       -100., -100., -100., -100., -100., -100., -100., -100., -100.,\n",
       "       -100., -100., -100., -100., -100., -100., -100., -100., -100.,\n",
       "       -100., -100., -100., -100., -100., -100., -100., -100., -100.,\n",
       "       -100., -100., -100., -100., -100., -100., -100., -100., -100.,\n",
       "       -100.])"
      ]
     },
     "execution_count": 128,
     "metadata": {},
     "output_type": "execute_result"
    }
   ],
   "source": [
    "d"
   ]
  },
  {
   "cell_type": "code",
   "execution_count": 101,
   "metadata": {},
   "outputs": [
    {
     "data": {
      "text/plain": [
       "<matplotlib.legend.Legend at 0x1a19984e10>"
      ]
     },
     "execution_count": 101,
     "metadata": {},
     "output_type": "execute_result"
    },
    {
     "data": {
      "image/png": "[encoded data removed]",
      "text/plain": [
       "<Figure size 576x432 with 1 Axes>"
      ]
     },
     "metadata": {},
     "output_type": "display_data"
    }
   ],
   "source": [
    "fig, ax = plt.subplots(figsize=(8,6))\n",
    "ax.hist(fit_results_H0[:,0], label=r'$H_{0}$', bins=30, alpha=0.5, color='b')\n",
    "ax.hist(fit_results_H1[:,0], label=r'$H_{1}$', bins=30, alpha=0.5, color='r')\n",
    "ax.set_xlabel(r\"$\\hat{\\mu}$\")\n",
    "ax.set_ylabel(r\"Frequency\")\n",
    "muhat_median_H0 = np.median(fit_results_H0[:,0])\n",
    "muhat_median_H1 = np.median(fit_results_H1[:,0])\n",
    "ax.axvline(x=muhat_median_H0, linestyle='--', c='b', label='$Med[\\hat{{\\mu}}]|_{{H_{{0}}}} = {:.2f}$'.format(muhat_median_H0))\n",
    "ax.axvline(x=muhat_median_H1, linestyle='--', c='r', label='$Med[\\hat{{\\mu}}]|_{{H_{{1}}}} = {:.2f}$'.format(muhat_median_H1))\n",
    "ax.legend()"
   ]
  },
  {
   "cell_type": "code",
   "execution_count": 108,
   "metadata": {},
   "outputs": [
    {
     "data": {
      "text/plain": [
       "<matplotlib.legend.Legend at 0x1a1b43e438>"
      ]
     },
     "execution_count": 108,
     "metadata": {},
     "output_type": "execute_result"
    },
    {
     "data": {
      "image/png": "[encoded data removed]",
      "text/plain": [
       "<Figure size 576x576 with 2 Axes>"
      ]
     },
     "metadata": {},
     "output_type": "display_data"
    }
   ],
   "source": [
    "fig, axes = plt.subplots(figsize=(8,8), nrows=2)\n",
    "ax = axes.flatten()\n",
    "ax[0].hist(fit_results_H0[:,1], alpha=0.5, bins=50, range=(-8,-2), label='$\\ln \\mathcal{L}(\\hat{\\mu})$')\n",
    "ax[0].hist(fit_results_H0[:,2], alpha=0.5, bins=50, range=(-8,-2), label='$\\ln \\mathcal{L}(\\mu=0)$')\n",
    "ax[0].legend()"
   ]
  },
  {
   "cell_type": "code",
   "execution_count": 115,
   "metadata": {},
   "outputs": [],
   "source": [
    "to_examine = []\n",
    "for experiment in fit_results_H0:\n",
    "    ll_free = experiment[1]\n",
    "    ll_cond = experiment[2]\n",
    "    if ll_cond > ll_free:\n",
    "        to_examine.append( (ll_free, ll_cond))"
   ]
  },
  {
   "cell_type": "code",
   "execution_count": 116,
   "metadata": {},
   "outputs": [
    {
     "data": {
      "text/plain": [
       "[]"
      ]
     },
     "execution_count": 116,
     "metadata": {},
     "output_type": "execute_result"
    }
   ],
   "source": [
    "to_examine"
   ]
  },
  {
   "cell_type": "code",
   "execution_count": 117,
   "metadata": {},
   "outputs": [
    {
     "data": {
      "text/plain": [
       "(-3.40788011614751, -2.999682147622181)"
      ]
     },
     "execution_count": 117,
     "metadata": {},
     "output_type": "execute_result"
    }
   ],
   "source": [
    "np.min(fit_results_H0[:,1]), np.max(fit_results_H0[:,1])"
   ]
  },
  {
   "cell_type": "code",
   "execution_count": 118,
   "metadata": {},
   "outputs": [
    {
     "data": {
      "text/plain": [
       "(-12.284595798857481, -3.222356956754311)"
      ]
     },
     "execution_count": 118,
     "metadata": {},
     "output_type": "execute_result"
    }
   ],
   "source": [
    "np.min(fit_results_H0[:,2]), np.max(fit_results_H0[:,2])"
   ]
  },
  {
   "cell_type": "code",
   "execution_count": null,
   "metadata": {},
   "outputs": [],
   "source": []
  }
 ],
 "metadata": {
  "kernelspec": {
   "display_name": "Python 3",
   "language": "python",
   "name": "python3"
  },
  "language_info": {
   "codemirror_mode": {
    "name": "ipython",
    "version": 3
   },
   "file_extension": ".py",
   "mimetype": "text/x-python",
   "name": "python",
   "nbconvert_exporter": "python",
   "pygments_lexer": "ipython3",
   "version": "3.6.6"
  }
 },
 "nbformat": 4,
 "nbformat_minor": 2
}
