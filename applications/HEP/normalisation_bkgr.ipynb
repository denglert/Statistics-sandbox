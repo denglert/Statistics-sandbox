{
 "cells": [
  {
   "cell_type": "markdown",
   "metadata": {},
   "source": [
    "\\begin{equation}\n",
    "\\begin{aligned}\n",
    "    N_{SR}     &= s_{S} N_{SR,s}     + s_{B1} N_{SR,B1}  + s_{B2} N_{SR,B2} \\\\\n",
    "    N_{CR_{1}} &= s_{S} N_{CR_{1},s} + s_{B1} N_{CR_{1},B1} + s_{B2} N_{CR_{1},B2} \\\\\n",
    "    N_{CR_{2}} &= s_{S} N_{CR_{2},s} + s_{B1} N_{CR_{2},B1} + s_{B2} N_{CR_{2},B2}\n",
    "\\end{aligned}\n",
    "\\end{equation}\n",
    "\n",
    "\\begin{equation}\n",
    "    \\pmatrix{N_{SR} \\\\  N_{CR_{1}} \\\\ N_{CR_{2}}}\n",
    "    =\n",
    "    \\pmatrix{\n",
    "        N_{SR,s}     & N_{SR,B1}     & N_{SR,B2} \\\\ \n",
    "        N_{CR_{1},s} & N_{CR_{1},B1} & N_{CR_{1},B2} \\\\\n",
    "        N_{CR_{2},s} & N_{CR_{2},B1} & N_{CR_{2},B2}\n",
    "    }\n",
    "    \\pmatrix{\n",
    "    s_{S} \\\\\n",
    "    s_{B1} \\\\\n",
    "    s_{B2}\n",
    "    }\n",
    "\\end{equation}\n",
    "\n",
    "\\begin{equation}\n",
    "    \\pmatrix{\\lambda_{SR} \\\\  \\lambda_{CR_{1}} \\\\ \\lambda_{CR_{2}}}\n",
    "    =\n",
    "    \\pmatrix{\n",
    "        N_{SR,s}     & N_{SR,B1}     & N_{SR,B2} \\\\ \n",
    "        N_{CR_{1},s} & N_{CR_{1},B1} & N_{CR_{1},B2} \\\\\n",
    "        N_{CR_{2},s} & N_{CR_{2},B1} & N_{CR_{2},B2}\n",
    "    }\n",
    "    \\pmatrix{\n",
    "    s_{S} \\\\\n",
    "    s_{B1} \\\\\n",
    "    s_{B2}\n",
    "    }\n",
    "\\end{equation}"
   ]
  },
  {
   "cell_type": "markdown",
   "metadata": {},
   "source": [
    "\\begin{equation}\n",
    "    \\mathcal{L}\n",
    "    =\n",
    "    \\mathcal{L}_{SR}\n",
    "    \\mathcal{L}_{CR1}\n",
    "    \\mathcal{L}_{CR2}\n",
    "\\end{equation}\n",
    "\n",
    "\\begin{equation}\n",
    "    \\ln \\mathcal{L}\n",
    "    =\n",
    "    \\ln \\mathcal{L}_{SR}\n",
    "    +\n",
    "    \\ln \\mathcal{L}_{CR1}\n",
    "    +\n",
    "    \\ln \\mathcal{L}_{CR2}\n",
    "\\end{equation}"
   ]
  },
  {
   "cell_type": "code",
   "execution_count": 14,
   "metadata": {},
   "outputs": [],
   "source": [
    "import numpy as np\n",
    "import scipy.stats\n",
    "import matplotlib.pyplot as plt\n",
    "%matplotlib inline"
   ]
  },
  {
   "cell_type": "code",
   "execution_count": 180,
   "metadata": {},
   "outputs": [],
   "source": [
    "observed_yields = np.array([13.0, 11.0, 10.0])\n",
    "\n",
    "expected_yield_matrix = np.array([\n",
    "                    [1, 10, 2],\n",
    "                    [10, 1, 0.1],\n",
    "                    [0.0, 5, 5]\n",
    "])\n",
    "\n",
    "svec = np.array([1.0, 1.0, 1.0])\n",
    "exp = expected_yield_matrix.dot(svec)"
   ]
  },
  {
   "cell_type": "code",
   "execution_count": 181,
   "metadata": {},
   "outputs": [
    {
     "data": {
      "text/plain": [
       "array([13. , 11.1, 10. ])"
      ]
     },
     "execution_count": 181,
     "metadata": {},
     "output_type": "execute_result"
    }
   ],
   "source": [
    "exp"
   ]
  },
  {
   "cell_type": "code",
   "execution_count": 205,
   "metadata": {},
   "outputs": [],
   "source": [
    "class Model:\n",
    "    \n",
    "    def __init__(self, expected_yield_matrix, svec, observed_yields):\n",
    "        self.expected_yield_matrix = expected_yield_matrix\n",
    "        self.svec = svec\n",
    "        self.observed_yields = observed_yields\n",
    "        self.expected_yields = self.expected_yield_matrix.dot(svec)\n",
    "        \n",
    "    def calc_log_likelihood(self, svec):\n",
    "        \n",
    "        expected_yields = self.expected_yield_matrix.dot(svec)\n",
    "        ll = np.sum(scipy.stats.poisson.logpmf(k=observed_yields, mu=expected_yields))\n",
    "        \n",
    "        return ll        \n",
    "    \n",
    "    def calc_log_likelihood_array(self, svec):\n",
    "        \n",
    "        svec = np.array(svec)\n",
    "        expected_yields = expected_yield_matrix.dot(pts.T).T\n",
    "        ll = np.sum(scipy.stats.poisson.logpmf(k=observed_yields, mu=expected_yields), axis=1)\n",
    "        \n",
    "        return ll        "
   ]
  },
  {
   "cell_type": "code",
   "execution_count": 206,
   "metadata": {},
   "outputs": [],
   "source": [
    "model = Model(expected_yield_matrix=expected_yield_matrix, svec=svec, observed_yields=observed_yields)"
   ]
  },
  {
   "cell_type": "code",
   "execution_count": 207,
   "metadata": {},
   "outputs": [],
   "source": [
    "npts = 100\n",
    "grid = np.linspace(0.5, 1.5, npts)"
   ]
  },
  {
   "cell_type": "code",
   "execution_count": 220,
   "metadata": {},
   "outputs": [],
   "source": [
    "X, Y = np.meshgrid(grid, grid, indexing='xy')"
   ]
  },
  {
   "cell_type": "code",
   "execution_count": null,
   "metadata": {},
   "outputs": [],
   "source": []
  },
  {
   "cell_type": "code",
   "execution_count": 209,
   "metadata": {},
   "outputs": [],
   "source": [
    "pts = np.c_[np.ones_like(X.flatten()), X.flatten(),Y.flatten()]\n",
    "Z = model.calc_log_likelihood_array(pts)"
   ]
  },
  {
   "cell_type": "code",
   "execution_count": 217,
   "metadata": {},
   "outputs": [],
   "source": [
    "Z = model.calc_log_likelihood_array(pts)"
   ]
  },
  {
   "cell_type": "code",
   "execution_count": 211,
   "metadata": {},
   "outputs": [
    {
     "data": {
      "text/plain": [
       "array([-4.25533192, -2.13492339, -4.01003345])"
      ]
     },
     "execution_count": 211,
     "metadata": {},
     "output_type": "execute_result"
    }
   ],
   "source": [
    "scipy.stats.poisson.logpmf(k=observed_yields, mu=expected_yield_matrix.dot(pts[0]))"
   ]
  },
  {
   "cell_type": "code",
   "execution_count": 212,
   "metadata": {},
   "outputs": [
    {
     "data": {
      "text/plain": [
       "array([ 7.  , 10.55,  5.  ])"
      ]
     },
     "execution_count": 212,
     "metadata": {},
     "output_type": "execute_result"
    }
   ],
   "source": [
    "expected_yield_matrix.dot(pts[0])"
   ]
  },
  {
   "cell_type": "code",
   "execution_count": 213,
   "metadata": {},
   "outputs": [
    {
     "data": {
      "text/plain": [
       "array([13., 11., 10.])"
      ]
     },
     "execution_count": 213,
     "metadata": {},
     "output_type": "execute_result"
    }
   ],
   "source": [
    "observed_yields"
   ]
  },
  {
   "cell_type": "code",
   "execution_count": 214,
   "metadata": {},
   "outputs": [
    {
     "data": {
      "text/plain": [
       "-inf"
      ]
     },
     "execution_count": 214,
     "metadata": {},
     "output_type": "execute_result"
    }
   ],
   "source": [
    "scipy.stats.poisson.logpmf(k=11.1, mu=10.55)"
   ]
  },
  {
   "cell_type": "code",
   "execution_count": 215,
   "metadata": {},
   "outputs": [
    {
     "data": {
      "text/plain": [
       "array([-10.40028875, -10.26462513, -10.13260235, ...,  -8.34469892,\n",
       "        -8.39325635,  -8.44230755])"
      ]
     },
     "execution_count": 215,
     "metadata": {},
     "output_type": "execute_result"
    }
   ],
   "source": [
    "Z"
   ]
  },
  {
   "cell_type": "code",
   "execution_count": 216,
   "metadata": {},
   "outputs": [
    {
     "data": {
      "image/png": "[encoded data removed]",
      "text/plain": [
       "<Figure size 432x288 with 2 Axes>"
      ]
     },
     "metadata": {},
     "output_type": "display_data"
    }
   ],
   "source": [
    "fig, ax = plt.subplots()\n",
    "cs    = ax.contourf(X,Y,Z.reshape(npts, npts))\n",
    "cb   = fig.colorbar(cs)"
   ]
  },
  {
   "cell_type": "markdown",
   "metadata": {},
   "source": [
    "## Testing area"
   ]
  },
  {
   "cell_type": "code",
   "execution_count": 194,
   "metadata": {},
   "outputs": [
    {
     "data": {
      "text/plain": [
       "array([[ 1. , 10. ,  2. ],\n",
       "       [10. ,  1. ,  0.1],\n",
       "       [ 0. ,  5. ,  5. ]])"
      ]
     },
     "execution_count": 194,
     "metadata": {},
     "output_type": "execute_result"
    }
   ],
   "source": [
    "expected_yield_matrix"
   ]
  },
  {
   "cell_type": "code",
   "execution_count": 152,
   "metadata": {},
   "outputs": [
    {
     "data": {
      "text/plain": [
       "array([1. , 0.5, 0.5])"
      ]
     },
     "execution_count": 152,
     "metadata": {},
     "output_type": "execute_result"
    }
   ],
   "source": [
    "pts[0]"
   ]
  },
  {
   "cell_type": "code",
   "execution_count": null,
   "metadata": {},
   "outputs": [],
   "source": [
    "expected_yield_matrix.dot(pts[0])"
   ]
  },
  {
   "cell_type": "code",
   "execution_count": 102,
   "metadata": {},
   "outputs": [
    {
     "data": {
      "text/plain": [
       "array([ 7.  , 10.55,  5.  ])"
      ]
     },
     "execution_count": 102,
     "metadata": {},
     "output_type": "execute_result"
    }
   ],
   "source": [
    "expected_yield_matrix.dot(pts[0])"
   ]
  },
  {
   "cell_type": "code",
   "execution_count": 103,
   "metadata": {},
   "outputs": [
    {
     "data": {
      "text/plain": [
       "array([[ 7.  , 10.55,  5.  ],\n",
       "       [12.  , 11.05,  7.5 ],\n",
       "       [17.  , 11.55, 10.  ],\n",
       "       [ 8.  , 10.6 ,  7.5 ],\n",
       "       [13.  , 11.1 , 10.  ],\n",
       "       [18.  , 11.6 , 12.5 ],\n",
       "       [ 9.  , 10.65, 10.  ],\n",
       "       [14.  , 11.15, 12.5 ],\n",
       "       [19.  , 11.65, 15.  ]])"
      ]
     },
     "execution_count": 103,
     "metadata": {},
     "output_type": "execute_result"
    }
   ],
   "source": [
    "expected_yield_matrix.dot(pts.T).T"
   ]
  },
  {
   "cell_type": "code",
   "execution_count": null,
   "metadata": {},
   "outputs": [],
   "source": [
    "expected_yield_matrix.dot(pts)"
   ]
  },
  {
   "cell_type": "code",
   "execution_count": 94,
   "metadata": {},
   "outputs": [
    {
     "data": {
      "text/plain": [
       "(array([[ 1. , 10. ,  2. ],\n",
       "        [10. ,  1. ,  0.1],\n",
       "        [ 0. ,  5. ,  5. ]]), array([1., 1., 1.]))"
      ]
     },
     "execution_count": 94,
     "metadata": {},
     "output_type": "execute_result"
    }
   ],
   "source": [
    "expected_yield_matrix, svec"
   ]
  },
  {
   "cell_type": "code",
   "execution_count": 95,
   "metadata": {},
   "outputs": [
    {
     "data": {
      "text/plain": [
       "array([13. , 11.1, 10. ])"
      ]
     },
     "execution_count": 95,
     "metadata": {},
     "output_type": "execute_result"
    }
   ],
   "source": [
    "expected_yield_matrix.dot(svec)"
   ]
  },
  {
   "cell_type": "code",
   "execution_count": 96,
   "metadata": {},
   "outputs": [
    {
     "data": {
      "text/plain": [
       "-7.028566702159189"
      ]
     },
     "execution_count": 96,
     "metadata": {},
     "output_type": "execute_result"
    }
   ],
   "source": [
    "np.sum(scipy.stats.poisson.logpmf(k=observed_yields, mu=expected_yield_matrix.dot([1.0, 1.1, 0.9])))"
   ]
  },
  {
   "cell_type": "code",
   "execution_count": 97,
   "metadata": {},
   "outputs": [
    {
     "data": {
      "text/plain": [
       "-7.028566702159189"
      ]
     },
     "execution_count": 97,
     "metadata": {},
     "output_type": "execute_result"
    }
   ],
   "source": [
    "model.calc_log_likelihood([1.0, 1.1, 0.9])"
   ]
  }
 ],
 "metadata": {
  "kernelspec": {
   "display_name": "Python 3",
   "language": "python",
   "name": "python3"
  },
  "language_info": {
   "codemirror_mode": {
    "name": "ipython",
    "version": 3
   },
   "file_extension": ".py",
   "mimetype": "text/x-python",
   "name": "python",
   "nbconvert_exporter": "python",
   "pygments_lexer": "ipython3",
   "version": "3.6.6"
  }
 },
 "nbformat": 4,
 "nbformat_minor": 2
}
