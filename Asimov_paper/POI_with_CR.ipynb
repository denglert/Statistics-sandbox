{
 "cells": [
  {
   "cell_type": "code",
   "execution_count": 2,
   "metadata": {},
   "outputs": [],
   "source": [
    "import os\n",
    "setup_script = os.path.join(os.environ['ENV_JUPYTER_SETUPS_DIR'], 'setup_sci_env_basic.py')\n",
    "%run $setup_script"
   ]
  },
  {
   "cell_type": "code",
   "execution_count": 3,
   "metadata": {},
   "outputs": [],
   "source": [
    "from scipy.stats import norm\n",
    "from scipy.stats import poisson\n",
    "from scipy.optimize import minimize"
   ]
  },
  {
   "cell_type": "code",
   "execution_count": 55,
   "metadata": {},
   "outputs": [],
   "source": [
    "def likelihood_poi(mu, n, bkg, s0=1.0, neg=False, log=False):\n",
    "    \"\"\"Return the value of the Poisson likelihood function, given the:\n",
    "       - mu: signal strength parameter,\n",
    "       - n: number of events observed,\n",
    "       - bkg: expected number of background events,\n",
    "       - s0: nominal number of signal events\n",
    "       The total expected number of events is lambda = bkg + mu*s0.\n",
    "       \n",
    "       The `neg` argument just multiplies the likelihood by (-1).\n",
    "       This is used to for the minimize() function.\"\"\"\n",
    "    sig = mu * s0\n",
    "    exp = bkg + sig\n",
    "    if log:\n",
    "        likelihood = poisson.pmf(n, mu=exp)\n",
    "    else:\n",
    "        likelihood = poisson.logpmf(n, mu=exp)\n",
    "    \n",
    "    if neg:\n",
    "        return -likelihood\n",
    "    return likelihood"
   ]
  },
  {
   "cell_type": "code",
   "execution_count": 64,
   "metadata": {},
   "outputs": [],
   "source": [
    "def model_likelihood(parameters, SR_measured, CR_measured, s0=1.0, log=False, neg=False):\n",
    "    mu = parameters[0]\n",
    "    NP_bkgr = parameters[1]\n",
    "    if log:\n",
    "        likelihood_SR = likelihood_poi(mu, SR_measured, NP_bkgr, log=True)\n",
    "        likelihood_CR = poisson.logpmf(CR_measured, mu=NP_bkgr*CR_b_factor)\n",
    "        model_likelihood = likelihood_SR+likelihood_CR\n",
    "    else:\n",
    "        likelihood_SR = likelihood_poi(mu, SR_measured, NP_bkgr, log=False)\n",
    "        likelihood_CR = poisson.pmf(CR_measured, mu=NP_bkgr*CR_b_factor)\n",
    "        model_likelihood = likelihood_SR*likelihood_CR\n",
    "    if neg:\n",
    "        return -model_likelihood\n",
    "    else:\n",
    "        return model_likelihood"
   ]
  },
  {
   "cell_type": "code",
   "execution_count": 5,
   "metadata": {},
   "outputs": [],
   "source": [
    "b_H0 = 1000.0"
   ]
  },
  {
   "cell_type": "code",
   "execution_count": 19,
   "metadata": {},
   "outputs": [],
   "source": [
    "nExperiments = 1000"
   ]
  },
  {
   "cell_type": "code",
   "execution_count": 20,
   "metadata": {},
   "outputs": [],
   "source": [
    "Z = 1.64\n",
    "s0 = 1.0"
   ]
  },
  {
   "cell_type": "code",
   "execution_count": 35,
   "metadata": {},
   "outputs": [],
   "source": [
    "NP_bkgr_H0 = 1000.0"
   ]
  },
  {
   "cell_type": "markdown",
   "metadata": {},
   "source": [
    "## Hypotheses"
   ]
  },
  {
   "cell_type": "markdown",
   "metadata": {},
   "source": [
    "### Null hypothesis $H_{0}$"
   ]
  },
  {
   "cell_type": "markdown",
   "metadata": {},
   "source": [
    "$H_{0}$ hypothesis parameters"
   ]
  },
  {
   "cell_type": "markdown",
   "metadata": {},
   "source": [
    "SR"
   ]
  },
  {
   "cell_type": "code",
   "execution_count": 42,
   "metadata": {},
   "outputs": [],
   "source": [
    "NP_bkgr_H0 = 1000.0\n",
    "SR_b_H0 = NP_bkgr_H0*1.0             # - Number of background events\n",
    "SR_s_H0 = 0.0\n",
    "SR_pred_H0 = SR_b_H0 + SR_s_H0  # - s + b\n",
    "mup_H0 = SR_s_H0/s0               # - mu^' (mu prime)"
   ]
  },
  {
   "cell_type": "code",
   "execution_count": 43,
   "metadata": {},
   "outputs": [],
   "source": [
    "SR_events_H0 = poisson.rvs(mu=SR_pred_H0, loc=0.0, size=nExperiments)"
   ]
  },
  {
   "cell_type": "markdown",
   "metadata": {},
   "source": [
    "CR"
   ]
  },
  {
   "cell_type": "code",
   "execution_count": 45,
   "metadata": {},
   "outputs": [],
   "source": [
    "CR_b_factor = 5.0\n",
    "CR_b_H0     = NP_bkgr_H0*CR_b_factor\n",
    "CR_pred_H0  = CR_b_H0"
   ]
  },
  {
   "cell_type": "code",
   "execution_count": 46,
   "metadata": {},
   "outputs": [],
   "source": [
    "CR_events_H0 = poisson.rvs(mu=CR_pred_H0, loc=0.0, size=nExperiments)"
   ]
  },
  {
   "cell_type": "markdown",
   "metadata": {},
   "source": [
    "### Alternative hypothesis $H_{1}$"
   ]
  },
  {
   "cell_type": "markdown",
   "metadata": {},
   "source": [
    "$H_{1}$ hypothesis parameters"
   ]
  },
  {
   "cell_type": "markdown",
   "metadata": {},
   "source": [
    "SR"
   ]
  },
  {
   "cell_type": "code",
   "execution_count": 120,
   "metadata": {},
   "outputs": [],
   "source": [
    "NP_bkgr_H1 = 1000.0\n",
    "SR_b_H1 = NP_bkgr_H1*1.0             # - Number of background events\n",
    "SR_s_H1 = 20.0\n",
    "SR_pred_H1 = SR_b_H1 + SR_s_H1  # - s + b\n",
    "mup_H1 = SR_s_H1/s0               # - mu^' (mu prime)"
   ]
  },
  {
   "cell_type": "code",
   "execution_count": 121,
   "metadata": {},
   "outputs": [],
   "source": [
    "SR_events_H1 = poisson.rvs(mu=SR_pred_H1, loc=0.0, size=nExperiments)"
   ]
  },
  {
   "cell_type": "code",
   "execution_count": 122,
   "metadata": {},
   "outputs": [],
   "source": [
    "CR_b_factor = 5.0\n",
    "CR_b_H1     = NP_bkgr_H1*CR_b_factor\n",
    "CR_pred_H1  = CR_b_H1"
   ]
  },
  {
   "cell_type": "code",
   "execution_count": 123,
   "metadata": {},
   "outputs": [],
   "source": [
    "CR_events_H1 = poisson.rvs(mu=CR_pred_H1, loc=0.0, size=nExperiments)"
   ]
  },
  {
   "cell_type": "markdown",
   "metadata": {},
   "source": [
    "----"
   ]
  },
  {
   "cell_type": "code",
   "execution_count": 129,
   "metadata": {},
   "outputs": [
    {
     "data": {
      "image/png": "[encoded data removed]",
      "text/plain": [
       "<Figure size 432x288 with 2 Axes>"
      ]
     },
     "metadata": {},
     "output_type": "display_data"
    }
   ],
   "source": [
    "f,axes = plt.subplots(nrows=2)\n",
    "a = axes.flatten()\n",
    "a[0].hist(SR_events_H0, bins=50, color='b', alpha=0.5)\n",
    "a[1].hist(CR_events_H0, bins=50, color='b', alpha=0.5);\n",
    "a[0].hist(SR_events_H1, bins=50, color='r', alpha=0.5)\n",
    "a[1].hist(CR_events_H1, bins=50, color='r', alpha=0.5);"
   ]
  },
  {
   "cell_type": "code",
   "execution_count": 65,
   "metadata": {},
   "outputs": [
    {
     "data": {
      "text/plain": [
       "array([-0.02362694, -0.00356784, -0.00603581, -0.02474822, -0.02503631,\n",
       "       -0.01569926, -0.02277117, -0.02318331, -0.00753229, -0.0108622 ,\n",
       "       -0.02285177, -0.01344375, -0.00054711, -0.01644125, -0.01588922,\n",
       "       -0.01153687, -0.02513859, -0.01780751, -0.02550812, -0.01175296,\n",
       "       -0.00801418, -0.02750288, -0.00418142, -0.01845212, -0.02356144,\n",
       "       -0.02348075, -0.01192937, -0.00576062, -0.00734973, -0.01490309,\n",
       "       -0.0238248 , -0.02554053, -0.02581127, -0.00784628, -0.02486977,\n",
       "       -0.02918831, -0.02109917, -0.01605254, -0.02501108, -0.01616778,\n",
       "       -0.02459217, -0.03245617, -0.02160328, -0.01617814, -0.02830594,\n",
       "       -0.03042565, -0.01569637, -0.02581046, -0.02500644, -0.03180738,\n",
       "       -0.0087565 , -0.02168247, -0.01808457, -0.0155274 , -0.03558168,\n",
       "       -0.02643019, -0.01769676, -0.02293496, -0.01838468, -0.00834768,\n",
       "       -0.02479235, -0.02814182, -0.00861997, -0.01264962, -0.02403461,\n",
       "       -0.0319776 , -0.01489883, -0.01379087, -0.01429685, -0.02546813,\n",
       "       -0.02887457, -0.02097241, -0.01256927, -0.01110213, -0.02409006,\n",
       "       -0.02630891, -0.01673268, -0.0246418 , -0.01006804, -0.02420685,\n",
       "       -0.02552442, -0.01881   , -0.01332948, -0.02371968, -0.02324319,\n",
       "       -0.00768448, -0.00613471, -0.01076145, -0.02469416, -0.01330559,\n",
       "       -0.01594093, -0.01858887, -0.0176905 , -0.02961525, -0.02669431,\n",
       "       -0.02242086, -0.01946987, -0.02244259, -0.03941952, -0.0184103 ,\n",
       "       -0.03165016, -0.02649874, -0.02406253, -0.02767509, -0.01060715,\n",
       "       -0.00975372, -0.03697981, -0.01453001, -0.03149602, -0.02679168,\n",
       "       -0.02535734, -0.01473269, -0.01422986, -0.00587885, -0.02324845,\n",
       "       -0.02642009, -0.00629561, -0.02963831, -0.0005984 , -0.02293489,\n",
       "       -0.02087777, -0.0262932 , -0.02392638, -0.02518751, -0.01919773,\n",
       "       -0.00604645, -0.02603542, -0.02457775, -0.01555078, -0.00593476,\n",
       "       -0.00843868, -0.01618591, -0.02779775, -0.00140001, -0.02273827,\n",
       "       -0.01068456, -0.03281945, -0.00495163, -0.01925401, -0.00880946,\n",
       "       -0.02879038, -0.01973892, -0.01879293, -0.02264233, -0.01900013,\n",
       "       -0.01842668, -0.00982464, -0.02832208, -0.01380744, -0.01799579,\n",
       "       -0.01326851, -0.02052192, -0.02490076, -0.02610929, -0.01924088,\n",
       "       -0.01084032, -0.01191497, -0.00996483, -0.00296263, -0.02836205,\n",
       "       -0.02893017, -0.01352307, -0.02587709, -0.01894041, -0.01062978,\n",
       "       -0.01368046, -0.02185559, -0.02601342, -0.02758073, -0.02379855,\n",
       "       -0.01740644, -0.02514231, -0.02114019, -0.00738606, -0.01862052,\n",
       "       -0.00560499, -0.00105718, -0.01692443, -0.03980039, -0.01853696,\n",
       "       -0.00177669, -0.01958915, -0.00477808, -0.01583417, -0.02468668,\n",
       "       -0.00230851, -0.0147135 , -0.03012313, -0.0280629 , -0.02416281,\n",
       "       -0.0206062 , -0.02147806, -0.02357164, -0.0182532 , -0.01798907,\n",
       "       -0.02293541, -0.00917584, -0.01520675, -0.00874097, -0.02273178,\n",
       "       -0.04575515, -0.00908904, -0.01601723, -0.01310178, -0.01892072,\n",
       "       -0.01172571, -0.01668909, -0.01897553, -0.01234982, -0.0138404 ,\n",
       "       -0.02668011, -0.00087683, -0.02476817, -0.02622375, -0.00915157,\n",
       "       -0.02905453, -0.02373822, -0.01222622, -0.00070931, -0.01237585,\n",
       "       -0.02623545, -0.01404047, -0.01902689, -0.02042045, -0.03116688,\n",
       "       -0.01010282, -0.01588922, -0.01633693, -0.00653139, -0.0121176 ,\n",
       "       -0.01703517, -0.01262311, -0.03314144, -0.01339487, -0.00445257,\n",
       "       -0.02963415, -0.00311255, -0.01556608, -0.00050713, -0.02470597,\n",
       "       -0.01618386, -0.00702125, -0.02468325, -0.01485986, -0.01909332,\n",
       "       -0.02567973, -0.01534815, -0.02203638, -0.0188385 , -0.02353173,\n",
       "       -0.0113965 , -0.01235116, -0.02599252, -0.02696193, -0.01727809,\n",
       "       -0.02548214, -0.03239832, -0.00076706, -0.0173503 , -0.01276649,\n",
       "       -0.02723809, -0.02610728, -0.01305936, -0.02314981, -0.02264851,\n",
       "       -0.03547502, -0.02611711, -0.0231853 , -0.02425289, -0.00687946,\n",
       "       -0.01669443, -0.02047994, -0.01004763, -0.02529683, -0.02434171,\n",
       "       -0.01273869, -0.01313848, -0.02371833, -0.01478325, -0.01873555,\n",
       "       -0.01738103, -0.02155358, -0.04334455, -0.02459217, -0.02468986,\n",
       "       -0.02463872, -0.02778452, -0.02419179, -0.00704296, -0.02541382,\n",
       "       -0.02601992, -0.00800161, -0.02430855, -0.01760811, -0.01427278,\n",
       "       -0.02468086, -0.03410056, -0.0243828 , -0.02439592, -0.0244578 ,\n",
       "       -0.01679396, -0.01505327, -0.02495741, -0.03548975, -0.00041946,\n",
       "       -0.02223185, -0.02711844, -0.02520713, -0.0244307 , -0.01351956,\n",
       "       -0.01189707, -0.02750164, -0.01817606, -0.02323799, -0.02435306,\n",
       "       -0.00557973, -0.02469416, -0.01315221, -0.01216396, -0.02580267,\n",
       "       -0.02545468, -0.03490344, -0.02713671, -0.00318125, -0.02703924,\n",
       "       -0.01718836, -0.00865169, -0.01776365, -0.00518105, -0.03296257,\n",
       "       -0.02594823, -0.0270789 , -0.02569597, -0.00354498, -0.02277117,\n",
       "       -0.00842742, -0.02313481, -0.0240212 , -0.01803514, -0.01815559,\n",
       "       -0.01554162, -0.02612701, -0.02568125, -0.0135888 , -0.02428949,\n",
       "       -0.0145793 , -0.02902522, -0.01442934, -0.02478109, -0.02235895,\n",
       "       -0.02684911, -0.01865843, -0.02981587, -0.01006477, -0.0263855 ,\n",
       "       -0.00949348, -0.02105802, -0.02489993, -0.00243856, -0.02423331,\n",
       "       -0.01258577, -0.02293205, -0.02653196, -0.02424443, -0.00866946,\n",
       "       -0.02223396, -0.02509948, -0.04040176, -0.02012475, -0.0287694 ,\n",
       "       -0.02904292, -0.02537116, -0.02993353, -0.02198331, -0.0191681 ,\n",
       "       -0.00081732, -0.02411397, -0.00935278, -0.0288919 , -0.02449048,\n",
       "       -0.02740224, -0.03080767, -0.0048044 , -0.01386374, -0.01740386,\n",
       "       -0.02619558, -0.03622219, -0.02368993, -0.01934162, -0.02694069,\n",
       "       -0.02044541, -0.01974681, -0.03022147, -0.0128374 , -0.02109449,\n",
       "       -0.00914484, -0.02842435, -0.02492133, -0.00292391, -0.02470468,\n",
       "       -0.0213178 , -0.02396731, -0.0100659 , -0.02390009, -0.01776849,\n",
       "       -0.01125104, -0.02433358, -0.02427318, -0.0256911 , -0.00377665,\n",
       "       -0.0246991 , -0.01591626, -0.02224888, -0.01017236, -0.02902407,\n",
       "       -0.03314807, -0.02448613, -0.00605016, -0.02478064, -0.02348069,\n",
       "       -0.01444794, -0.00228486, -0.02527578, -0.00524432, -0.02575593,\n",
       "       -0.02042597, -0.00942678, -0.03373155, -0.01777184, -0.01533002,\n",
       "       -0.03173486, -0.0201207 , -0.02523236, -0.02761628, -0.02111228,\n",
       "       -0.02951678, -0.01995047, -0.00366543, -0.0255182 , -0.02471402,\n",
       "       -0.00908885, -0.02534795, -0.02271439, -0.03362899, -0.0065199 ,\n",
       "       -0.02376507, -0.01781344, -0.01440682, -0.01422181, -0.02527547,\n",
       "       -0.01808666, -0.01963258, -0.02220782, -0.02304211, -0.02097241,\n",
       "       -0.01379335, -0.01801914, -0.02867554, -0.00615289, -0.00551954,\n",
       "       -0.02544182, -0.02289459, -0.00749317, -0.02878066, -0.0168561 ,\n",
       "       -0.01072416, -0.01435372, -0.03351991, -0.0282313 , -0.01480342,\n",
       "       -0.01632249, -0.00312823, -0.02447619, -0.02580261, -0.0226528 ,\n",
       "       -0.00872736, -0.01283883, -0.02506918, -0.0171929 , -0.03351325,\n",
       "       -0.01323073, -0.02721456, -0.01861997, -0.0313287 , -0.01336782,\n",
       "       -0.03136964, -0.02489963, -0.0007319 , -0.0261743 , -0.00931248,\n",
       "       -0.01900077, -0.02900474, -0.01614036, -0.02747865, -0.02568309,\n",
       "       -0.02355842, -0.03744827, -0.00920792, -0.0228291 , -0.01944672,\n",
       "       -0.0153442 , -0.01937067, -0.01820316, -0.02526916, -0.0232564 ,\n",
       "       -0.01017126, -0.01240359, -0.03135826, -0.03004291, -0.03503386,\n",
       "       -0.0246769 , -0.00729703, -0.023391  , -0.02356901, -0.01770259,\n",
       "       -0.02938845, -0.02457754, -0.00911356, -0.02512799, -0.02439152,\n",
       "       -0.01281568, -0.02153676, -0.02679784, -0.02515997, -0.02459253,\n",
       "       -0.01706877, -0.02163981, -0.02938519, -0.03703819, -0.02456666,\n",
       "       -0.0093626 , -0.02415001, -0.01602422, -0.02317015, -0.02504063,\n",
       "       -0.03068013, -0.01092295, -0.00817431, -0.02337086, -0.02413032,\n",
       "       -0.02764744, -0.02781434, -0.03042477, -0.01796409, -0.02436847,\n",
       "       -0.02367767, -0.01311364, -0.01647881, -0.0004048 , -0.02385538,\n",
       "       -0.01828009, -0.01119752, -0.01763659, -0.03394919, -0.0313647 ,\n",
       "       -0.00491909, -0.01162476, -0.01911504, -0.02840947, -0.02625435,\n",
       "       -0.00943424, -0.0193442 , -0.02483837, -0.03219659, -0.00990372,\n",
       "       -0.02455524, -0.01050172, -0.01868408, -0.00601362, -0.02505134,\n",
       "       -0.01802201, -0.02833151, -0.02264496, -0.00530676, -0.02422825,\n",
       "       -0.00977289, -0.01585177, -0.01046112, -0.01969666, -0.01056714,\n",
       "       -0.02668997, -0.01668909, -0.01983328, -0.01467205, -0.02578163,\n",
       "       -0.02397253, -0.01710935, -0.01613255, -0.02582266, -0.00782979,\n",
       "       -0.02184954, -0.02443324, -0.02311299, -0.02508881, -0.01049236,\n",
       "       -0.02311044, -0.02430975, -0.01810796, -0.02541207, -0.01897142,\n",
       "       -0.00865737, -0.00969664, -0.02608864, -0.01427912, -0.022641  ,\n",
       "       -0.0269073 , -0.02142403, -0.02131383, -0.0259015 , -0.02471333,\n",
       "       -0.02422421, -0.02572468, -0.01764719, -0.01582094, -0.00446775,\n",
       "       -0.01792463, -0.01282624, -0.01981515, -0.02629817, -0.02565219,\n",
       "       -0.0218047 , -0.02179808, -0.00157547, -0.01579244, -0.02653824,\n",
       "       -0.02718914, -0.02470052, -0.01682078, -0.02535893, -0.03359398,\n",
       "       -0.01711126, -0.03340346, -0.02679168, -0.02187974, -0.00014172,\n",
       "       -0.0215392 , -0.0274159 , -0.02423995, -0.01028253, -0.01411606,\n",
       "       -0.02393574, -0.01037486, -0.03428332, -0.02324703, -0.01091346,\n",
       "       -0.02856886, -0.02067514, -0.00070483, -0.02123468, -0.02506136,\n",
       "       -0.02752613, -0.0270924 , -0.02149616, -0.01379807, -0.00316108,\n",
       "       -0.01792789, -0.02126543, -0.04057158, -0.03486659, -0.02098187,\n",
       "       -0.02415274, -0.0245965 , -0.02347306, -0.01728617, -0.0205612 ,\n",
       "       -0.01992413, -0.01498977, -0.01426956, -0.02437995, -0.00684704,\n",
       "       -0.00256672, -0.01003444, -0.03042477, -0.02086468, -0.02177857,\n",
       "       -0.02935581, -0.00137921, -0.01839578, -0.00351586, -0.03150056,\n",
       "       -0.00126403, -0.01434204, -0.01246497, -0.02489963, -0.01844899,\n",
       "       -0.01077945, -0.01505236, -0.0437113 , -0.02420175, -0.02604386,\n",
       "       -0.01628629, -0.00790497, -0.0203429 , -0.02072904, -0.02311871,\n",
       "       -0.02334529, -0.02421092, -0.02013892, -0.01939355, -0.00642534,\n",
       "       -0.00974737, -0.00363598, -0.01700468, -0.02474002, -0.02489854,\n",
       "       -0.01902378, -0.01153905, -0.02696509, -0.02460788, -0.00926326,\n",
       "       -0.02082158, -0.02290591, -0.02350408, -0.02804441, -0.01524865,\n",
       "       -0.03026818, -0.02484098, -0.02419688, -0.03538305, -0.02500142,\n",
       "       -0.01796837, -0.02420474, -0.0247319 , -0.02534606, -0.00034278,\n",
       "       -0.02444782, -0.01195151, -0.00749165, -0.02322146, -0.00402523,\n",
       "       -0.02426753, -0.02123468, -0.0249333 , -0.02455509, -0.02473759,\n",
       "       -0.02986575, -0.02315993, -0.0258767 , -0.02771709, -0.01156353,\n",
       "       -0.0227763 , -0.02198943, -0.01255483, -0.00139241, -0.02485102,\n",
       "       -0.01931217, -0.02433811, -0.02578066, -0.02121203, -0.00579292,\n",
       "       -0.02431086, -0.02283854, -0.02493033, -0.02426414, -0.00202273,\n",
       "       -0.00845193, -0.01178461, -0.02714756, -0.01165306, -0.00557973,\n",
       "       -0.00034195, -0.02303261, -0.01924727, -0.02421915, -0.02431086,\n",
       "       -0.02302182, -0.00663243, -0.02968321, -0.02647298, -0.02524493,\n",
       "       -0.02484516, -0.00656676, -0.01751454, -0.02702487, -0.02421917,\n",
       "       -0.02003065, -0.00455603, -0.02842753, -0.02216302, -0.02453843,\n",
       "       -0.02370927, -0.01840442, -0.03026302, -0.02587709, -0.00716893,\n",
       "       -0.01867261, -0.02230448, -0.01758848, -0.0267794 , -0.01405523,\n",
       "       -0.02075911, -0.02133396, -0.02349814, -0.02254041, -0.01017236,\n",
       "       -0.01010306, -0.00747992, -0.01079452, -0.0242515 , -0.02708179,\n",
       "       -0.0233373 , -0.02169904, -0.02400167, -0.0298112 , -0.01316665,\n",
       "       -0.02458653, -0.02642512, -0.01643313, -0.02641709, -0.02840889,\n",
       "       -0.02357287, -0.02264528, -0.01404248, -0.0251842 , -0.02557404,\n",
       "       -0.00344854, -0.0271895 , -0.02503746, -0.02513158, -0.01946197,\n",
       "       -0.01401729, -0.01502547, -0.02638332, -0.02709817, -0.01960878,\n",
       "       -0.00942251, -0.0177242 , -0.0058375 , -0.02282773, -0.01857676,\n",
       "       -0.02596481, -0.01171116, -0.01748621, -0.00954697, -0.01630476,\n",
       "       -0.01104323, -0.00829271, -0.02341069, -0.02436947, -0.01991215,\n",
       "       -0.00991087, -0.02434942, -0.02524572, -0.02666284, -0.00618125,\n",
       "       -0.02185449, -0.01445145, -0.01107109, -0.02469835, -0.01361652,\n",
       "       -0.0150928 , -0.00454116, -0.02322081, -0.04648756, -0.02373927,\n",
       "       -0.02691109, -0.0046943 , -0.00898784, -0.02032823, -0.00062761,\n",
       "       -0.02014984, -0.00241924, -0.02918491, -0.02955437, -0.01291841,\n",
       "       -0.02360583, -0.03270424, -0.01355315, -0.02104817, -0.01042439,\n",
       "       -0.00291291, -0.01464885, -0.02704574, -0.03116547, -0.02025044,\n",
       "       -0.01935166, -0.00869602, -0.02482173, -0.02030581, -0.01420437,\n",
       "       -0.02252516, -0.02033278, -0.01653087, -0.02558236, -0.02619049,\n",
       "       -0.02061212, -0.02477801, -0.00998613, -0.02097249, -0.01382923,\n",
       "       -0.02552928, -0.02386013, -0.02222893, -0.01482193, -0.00240048,\n",
       "       -0.0224418 , -0.02470298, -0.02274893, -0.02400816, -0.02616275,\n",
       "       -0.01482092, -0.01916641, -0.0168616 , -0.0021879 , -0.03465539,\n",
       "       -0.04008636, -0.02723834, -0.02728836, -0.0155451 , -0.0233311 ,\n",
       "       -0.0157562 , -0.0245965 , -0.01888431, -0.01007468, -0.02193403,\n",
       "       -0.04353321, -0.0277432 , -0.01379807, -0.0160564 , -0.0070599 ,\n",
       "       -0.02296243, -0.02795114, -0.02317985, -0.02478273, -0.01789096,\n",
       "       -0.01375876, -0.02203807, -0.01443095, -0.02847122, -0.02670621,\n",
       "       -0.00531657, -0.00923073, -0.02642831, -0.01773658, -0.00281623,\n",
       "       -0.02740224, -0.02654188, -0.00657713, -0.02130331, -0.00922101,\n",
       "       -0.00255776, -0.0267259 , -0.02594226, -0.01101441, -0.0119019 ,\n",
       "       -0.03891826, -0.04646673, -0.00572805, -0.01263045, -0.02406913,\n",
       "       -0.01464622, -0.02674133, -0.00981344, -0.02368186, -0.01050868,\n",
       "       -0.02483857, -0.02918491, -0.04240601, -0.0253126 , -0.02496127,\n",
       "       -0.02762531, -0.00105872, -0.0243495 , -0.02191617, -0.00211786,\n",
       "       -0.01849423, -0.00507813, -0.02315609, -0.0154265 , -0.01148214,\n",
       "       -0.02059031, -0.01629329, -0.03428883, -0.01738103, -0.02638192,\n",
       "       -0.00522707, -0.02794357, -0.03050828, -0.01123052, -0.02437821,\n",
       "       -0.01633358, -0.017439  , -0.02852591, -0.02332774, -0.00225617,\n",
       "       -0.0161951 , -0.02355137, -0.01977231, -0.02530183, -0.01893911,\n",
       "       -0.02490811, -0.02760494, -0.01891665, -0.02874508, -0.03040599,\n",
       "       -0.01453006, -0.02275934, -0.0171773 , -0.02570841, -0.01874892])"
      ]
     },
     "execution_count": 65,
     "metadata": {},
     "output_type": "execute_result"
    }
   ],
   "source": [
    "model_likelihood([10.0, 1000.0], SR_events_H0, CR_events_H0)"
   ]
  },
  {
   "cell_type": "code",
   "execution_count": 93,
   "metadata": {},
   "outputs": [],
   "source": [
    "def calc_parameter_MLE(NLL, SR, CR):\n",
    "    res = minimize(NLL, x0=[1.0, 1000.0], args=(SR, CR, 1.0, True, True), method='Nelder-Mead')\n",
    "    LL  = -res['fun']\n",
    "    parameter_MLE = res['x']\n",
    "    return parameter_MLE"
   ]
  },
  {
   "cell_type": "code",
   "execution_count": 125,
   "metadata": {},
   "outputs": [],
   "source": [
    "parameters_H0 = [calc_parameter_MLE(model_likelihood, SR, CR) for SR, CR in zip(SR_events_H0, CR_events_H0)]\n",
    "parameters_H1 = [calc_parameter_MLE(model_likelihood, SR, CR) for SR, CR in zip(SR_events_H1, CR_events_H1)]"
   ]
  },
  {
   "cell_type": "code",
   "execution_count": 127,
   "metadata": {},
   "outputs": [],
   "source": [
    "parameters_H0 = np.array(parameters_H0)\n",
    "parameters_H1 = np.array(parameters_H1)"
   ]
  },
  {
   "cell_type": "code",
   "execution_count": 128,
   "metadata": {},
   "outputs": [
    {
     "data": {
      "text/plain": [
       "Text(0,0.5,'$\\\\hat{NP}_{bkgr}$')"
      ]
     },
     "execution_count": 128,
     "metadata": {},
     "output_type": "execute_result"
    },
    {
     "data": {
      "image/png": "[encoded data removed]",
      "text/plain": [
       "<Figure size 432x288 with 1 Axes>"
      ]
     },
     "metadata": {},
     "output_type": "display_data"
    }
   ],
   "source": [
    "f,a = plt.subplots()\n",
    "a.scatter(parameters_H0[:,0], parameters_H0[:,1], c='b')\n",
    "a.scatter(parameters_H1[:,0], parameters_H1[:,1], c='r')\n",
    "a.set_xlabel(r'$\\hat{\\mu}$')\n",
    "a.set_ylabel(r'$\\hat{NP}_{bkgr}$')"
   ]
  },
  {
   "cell_type": "code",
   "execution_count": null,
   "metadata": {},
   "outputs": [],
   "source": []
  }
 ],
 "metadata": {
  "kernelspec": {
   "display_name": "Python 3",
   "language": "python",
   "name": "python3"
  },
  "language_info": {
   "codemirror_mode": {
    "name": "ipython",
    "version": 3
   },
   "file_extension": ".py",
   "mimetype": "text/x-python",
   "name": "python",
   "nbconvert_exporter": "python",
   "pygments_lexer": "ipython3",
   "version": "3.6.5"
  }
 },
 "nbformat": 4,
 "nbformat_minor": 2
}
