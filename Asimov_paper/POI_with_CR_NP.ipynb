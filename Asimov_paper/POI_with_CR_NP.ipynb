{
 "cells": [
  {
   "cell_type": "markdown",
   "metadata": {},
   "source": [
    "# Determining signal strength parameter $\\mu$ with a CR measuring background normalization"
   ]
  },
  {
   "cell_type": "markdown",
   "metadata": {},
   "source": [
    "## Measurement setup\n",
    "\n",
    "Measurement with 2 regions:\n",
    "- Signal region (SR)\n",
    "- Control region for background normalization measurement (CR)\n",
    "\n",
    "### Signal region (SR) containing signal and background\n",
    "\n",
    "Number of events observed is distributed by a Poisson with parameter $b_{SR} + \\mu \\cdot s_{0}$ \n",
    "\n",
    "\\begin{equation}\n",
    "    N_{SR} \\sim Poi\\left( b_{SR} + \\mu \\cdot s_{0} \\right)\n",
    "\\end{equation}\n",
    "\n",
    "### Control region (CR)\n",
    "\n",
    "Number of events observed is distributed by a Poisson with parameter $b_{CR}$ \n",
    "\n",
    "\\begin{equation}\n",
    "    N_{CR} \\sim Poi\\left( b_{CR} \\right)\n",
    "\\end{equation}\n",
    "\n",
    "Relation between the background component in the signal and control regions:\n",
    "\n",
    "\\begin{equation}\n",
    "    b_{SR} = r \\cdot b_{CR}\n",
    "\\end{equation}\n",
    "\n",
    "where $r$ is assumed to be known to infinite precision."
   ]
  },
  {
   "cell_type": "markdown",
   "metadata": {},
   "source": [
    "## Model parameters"
   ]
  },
  {
   "cell_type": "markdown",
   "metadata": {},
   "source": [
    "$\\theta = (\\mu, b_{CR})$\n",
    "\n",
    "- POI: $\\mu$\n",
    "- NP: $b_{CR}$"
   ]
  },
  {
   "cell_type": "markdown",
   "metadata": {},
   "source": [
    "## Test statistic"
   ]
  },
  {
   "cell_type": "markdown",
   "metadata": {},
   "source": [
    "\\begin{equation}\n",
    "    t\n",
    "    =\n",
    "    -2 \\log \\frac{\\mathcal{L} (\\mu, \\hat{\\hat{\\nu}} )}{ \\mathcal{L}(\\hat{\\mu}, \\hat{\\nu}) }\n",
    "\\end{equation}"
   ]
  },
  {
   "cell_type": "code",
   "execution_count": 87,
   "metadata": {},
   "outputs": [],
   "source": [
    "import numpy as np\n",
    "from scipy.stats import norm\n",
    "from scipy.stats import poisson\n",
    "from scipy.optimize import minimize\n",
    "import matplotlib.pyplot as plt\n",
    "%matplotlib inline"
   ]
  },
  {
   "cell_type": "markdown",
   "metadata": {},
   "source": [
    "Utility functions"
   ]
  },
  {
   "cell_type": "code",
   "execution_count": 25,
   "metadata": {},
   "outputs": [],
   "source": [
    "def likelihood_poi(mu, n, bkg, s0=1.0, neg=False, log=False):\n",
    "    \"\"\"Return the value of the Poisson likelihood function, given the:\n",
    "       - mu: signal strength parameter,\n",
    "       - n: number of events observed,\n",
    "       - bkg: expected number of background events,\n",
    "       - s0: nominal number of signal events\n",
    "       The total expected number of events is lambda = bkg + mu*s0.\n",
    "       \n",
    "       The `neg` argument just multiplies the likelihood by (-1).\n",
    "       This is used for the minimize() function.\"\"\"\n",
    "    sig = mu * s0\n",
    "    N_exp = bkg + sig\n",
    "    if log:\n",
    "        likelihood = poisson.pmf(n, mu=N_exp)\n",
    "    else:\n",
    "        likelihood = poisson.logpmf(n, mu=N_exp)\n",
    "    \n",
    "    if neg:\n",
    "        return -likelihood\n",
    "    return likelihood"
   ]
  },
  {
   "cell_type": "code",
   "execution_count": 92,
   "metadata": {},
   "outputs": [],
   "source": [
    "def model_likelihood(parameters, SR_measured, CR_measured, s0=1.0, r=0.2, log=False, neg=False):\n",
    "    \n",
    "    mu   = parameters[0]\n",
    "    b_CR = parameters[1]\n",
    "    \n",
    "    b_SR = b_CR*r\n",
    "    \n",
    "    if log:\n",
    "        likelihood_SR = likelihood_poi(mu=mu, n=SR_measured, bkg=b_SR, log=True)\n",
    "        likelihood_CR = poisson.logpmf(CR_measured, mu=b_CR)\n",
    "        model_likelihood = likelihood_SR+likelihood_CR\n",
    "    else:\n",
    "        likelihood_SR = likelihood_poi(mu=mu, n=SR_measured, bkg=b_SR, log=False)\n",
    "        likelihood_CR = poisson.pmf(CR_measured, mu=b_CR)\n",
    "        model_likelihood = likelihood_SR*likelihood_CR\n",
    "    if neg:\n",
    "        return -model_likelihood\n",
    "    else:\n",
    "        return model_likelihood"
   ]
  },
  {
   "cell_type": "markdown",
   "metadata": {},
   "source": [
    "## Truth model"
   ]
  },
  {
   "cell_type": "code",
   "execution_count": 93,
   "metadata": {},
   "outputs": [],
   "source": [
    "nExperiments = 1000"
   ]
  },
  {
   "cell_type": "code",
   "execution_count": 94,
   "metadata": {},
   "outputs": [],
   "source": [
    "Z = 1.64\n",
    "s0 = 1.0"
   ]
  },
  {
   "cell_type": "code",
   "execution_count": 95,
   "metadata": {},
   "outputs": [],
   "source": [
    "b_SR_truth = 1000.0"
   ]
  },
  {
   "cell_type": "code",
   "execution_count": 96,
   "metadata": {},
   "outputs": [],
   "source": [
    "b_CR_truth = 5000.0"
   ]
  },
  {
   "cell_type": "code",
   "execution_count": 97,
   "metadata": {},
   "outputs": [],
   "source": [
    "r = b_SR_truth/b_CR_truth"
   ]
  },
  {
   "cell_type": "markdown",
   "metadata": {},
   "source": [
    "## Hypotheses"
   ]
  },
  {
   "cell_type": "markdown",
   "metadata": {},
   "source": [
    "### Null hypothesis $H_{0}$: There is only background in the SR"
   ]
  },
  {
   "cell_type": "markdown",
   "metadata": {},
   "source": [
    "$H_{0}$ hypothesis parameters"
   ]
  },
  {
   "cell_type": "markdown",
   "metadata": {},
   "source": [
    "SR"
   ]
  },
  {
   "cell_type": "code",
   "execution_count": 37,
   "metadata": {},
   "outputs": [],
   "source": [
    "b_SR_H0   = 1000.0\n",
    "s_SR_H0   = 0.0\n",
    "SR_exp_H0 = b_SR_H0 + s_SR_H0\n",
    "mup_H0    = s_SR_H0/s0"
   ]
  },
  {
   "cell_type": "code",
   "execution_count": 38,
   "metadata": {},
   "outputs": [],
   "source": [
    "SR_events_H0 = poisson.rvs(mu=SR_exp_H0, loc=0.0, size=nExperiments)"
   ]
  },
  {
   "cell_type": "markdown",
   "metadata": {},
   "source": [
    "CR"
   ]
  },
  {
   "cell_type": "code",
   "execution_count": 41,
   "metadata": {},
   "outputs": [],
   "source": [
    "b_CR_exp_H0 = 5000.0"
   ]
  },
  {
   "cell_type": "code",
   "execution_count": 42,
   "metadata": {},
   "outputs": [],
   "source": [
    "CR_events_H0 = poisson.rvs(mu=b_CR_exp_H0, loc=0.0, size=nExperiments)"
   ]
  },
  {
   "cell_type": "markdown",
   "metadata": {},
   "source": [
    "### Alternative hypothesis $H_{1}$"
   ]
  },
  {
   "cell_type": "markdown",
   "metadata": {},
   "source": [
    "$H_{1}$ hypothesis parameters"
   ]
  },
  {
   "cell_type": "markdown",
   "metadata": {},
   "source": [
    "SR"
   ]
  },
  {
   "cell_type": "code",
   "execution_count": 60,
   "metadata": {},
   "outputs": [],
   "source": [
    "b_SR_H1   = 1000.0\n",
    "s_SR_H1   = 50\n",
    "SR_exp_H1 = b_SR_H1 + s_SR_H1\n",
    "mup_H1    = s_SR_H1/s0"
   ]
  },
  {
   "cell_type": "code",
   "execution_count": 61,
   "metadata": {},
   "outputs": [],
   "source": [
    "SR_events_H1 = poisson.rvs(mu=SR_exp_H1, loc=0.0, size=nExperiments)"
   ]
  },
  {
   "cell_type": "markdown",
   "metadata": {},
   "source": [
    "CR"
   ]
  },
  {
   "cell_type": "code",
   "execution_count": 62,
   "metadata": {},
   "outputs": [],
   "source": [
    "b_CR_exp_H1 = 5000.0"
   ]
  },
  {
   "cell_type": "code",
   "execution_count": 63,
   "metadata": {},
   "outputs": [],
   "source": [
    "CR_events_H1 = poisson.rvs(mu=b_CR_exp_H0, loc=0.0, size=nExperiments)"
   ]
  },
  {
   "cell_type": "markdown",
   "metadata": {},
   "source": [
    "----"
   ]
  },
  {
   "cell_type": "code",
   "execution_count": 77,
   "metadata": {},
   "outputs": [
    {
     "data": {
      "text/plain": [
       "Text(0,0.5,'Frequency')"
      ]
     },
     "execution_count": 77,
     "metadata": {},
     "output_type": "execute_result"
    },
    {
     "data": {
      "image/png": "[encoded data removed]",
      "text/plain": [
       "<Figure size 576x720 with 2 Axes>"
      ]
     },
     "metadata": {},
     "output_type": "display_data"
    }
   ],
   "source": [
    "fig,axes = plt.subplots(nrows=2, figsize=(8,10))\n",
    "fig.subplots_adjust(hspace=0.3)\n",
    "ax = axes.flatten()\n",
    "ax[0].hist(SR_events_H0, bins=50, color='b', alpha=0.5, label=r'$H_{0}$')\n",
    "ax[0].hist(SR_events_H1, bins=50, color='r', alpha=0.5, label=r'$H_{1}$')\n",
    "ax[0].set_title(\"Signal region\")\n",
    "ax[0].set_xlabel(\"Number of events observed\")\n",
    "ax[0].set_ylabel(\"Frequency\")\n",
    "ax[0].legend()\n",
    "ax[1].hist(CR_events_H0, bins=50, color='r', alpha=0.5, label=r'$H_{0}$');\n",
    "ax[1].hist(CR_events_H1, bins=50, color='b', alpha=0.5, label=r'$H_{0}$');\n",
    "ax[1].set_title(\"Control region\")\n",
    "ax[1].legend()\n",
    "ax[1].set_xlabel(\"Number of events observed\")\n",
    "ax[1].set_ylabel(\"Frequency\")"
   ]
  },
  {
   "cell_type": "code",
   "execution_count": 98,
   "metadata": {},
   "outputs": [
    {
     "data": {
      "text/plain": [
       "array([-0.03046161, -0.02358773, -0.01488374, -0.03577926, -0.02293778,\n",
       "       -0.00253098, -0.01991023, -0.00340571, -0.03265162, -0.00323156,\n",
       "       -0.03109497, -0.0388508 , -0.02209228, -0.02181345, -0.0260511 ,\n",
       "       -0.02598358, -0.02451212, -0.02622144, -0.01844899, -0.02529295,\n",
       "       -0.03506165, -0.02537287, -0.01051438, -0.02297144, -0.00297553,\n",
       "       -0.01077057, -0.00866349, -0.02387757, -0.01729794, -0.02195174,\n",
       "       -0.04252777, -0.01858933, -0.02411278, -0.01206195, -0.02443001,\n",
       "       -0.00994402, -0.00258873, -0.02148585, -0.03376504, -0.02881424,\n",
       "       -0.01216871, -0.01988231, -0.01621746, -0.02481185, -0.01306654,\n",
       "       -0.02254959, -0.008729  , -0.00321865, -0.00946012, -0.03763478,\n",
       "       -0.03318175, -0.0042559 , -0.02261149, -0.01334946, -0.01192602,\n",
       "       -0.00384224, -0.02714371, -0.01986284, -0.01048345, -0.02316299,\n",
       "       -0.00522662, -0.01911663, -0.01545385, -0.02452754, -0.02620943,\n",
       "       -0.04508603, -0.02504183, -0.02249351, -0.01910161, -0.02423186,\n",
       "       -0.02121539, -0.02642003, -0.01782888, -0.0194076 , -0.02046653,\n",
       "       -0.0274774 , -0.00703735, -0.01025462, -0.0018159 , -0.0259648 ,\n",
       "       -0.0302214 , -0.00109945, -0.02428422, -0.02493629, -0.02053271,\n",
       "       -0.02563996, -0.02352595, -0.00916014, -0.0239476 , -0.0262932 ,\n",
       "       -0.03029405, -0.01878517, -0.02460805, -0.02540587, -0.02629236,\n",
       "       -0.00557973, -0.02520707, -0.01338916, -0.01400279, -0.00763638,\n",
       "       -0.00818039, -0.02693323, -0.02462063, -0.02379543, -0.02239916,\n",
       "       -0.01297333, -0.04148035, -0.00314829, -0.02890508, -0.0260511 ,\n",
       "       -0.00655801, -0.02592326, -0.02225347, -0.03607338, -0.01335732,\n",
       "       -0.00551279, -0.0334558 , -0.02108686, -0.01772427, -0.01600406,\n",
       "       -0.02594677, -0.02080286, -0.01714749, -0.02021363, -0.02746319,\n",
       "       -0.0239508 , -0.02029631, -0.03053978, -0.02226268, -0.0030448 ,\n",
       "       -0.02241253, -0.02612515, -0.02305152, -0.02187552, -0.01894703,\n",
       "       -0.02275474, -0.02349811, -0.02366256, -0.02445542, -0.04366807,\n",
       "       -0.00724431, -0.027588  , -0.02630958, -0.02512697, -0.02015561,\n",
       "       -0.02238715, -0.02115454, -0.0245302 , -0.01264269, -0.00068761,\n",
       "       -0.01486323, -0.02092873, -0.00870134, -0.02656538, -0.02571448,\n",
       "       -0.0139212 , -0.012663  , -0.02081784, -0.02731764, -0.01998691,\n",
       "       -0.0229194 , -0.01976046, -0.02888824, -0.03202871, -0.02139959,\n",
       "       -0.02469416, -0.02821281, -0.02530031, -0.0204805 , -0.01902962,\n",
       "       -0.02664199, -0.02124038, -0.00867127, -0.01046381, -0.02196376,\n",
       "       -0.03036291, -0.00858718, -0.01637153, -0.01123001, -0.01913196,\n",
       "       -0.02447055, -0.01270913, -0.00228719, -0.00067977, -0.01443418,\n",
       "       -0.0264499 , -0.02457718, -0.00921233, -0.02471219, -0.02212219,\n",
       "       -0.00807993, -0.0103518 , -0.03187141, -0.03108255, -0.01936365,\n",
       "       -0.02742244, -0.01652192, -0.02515931, -0.02364983, -0.00565888,\n",
       "       -0.01371868, -0.02865833, -0.00916014, -0.02375901, -0.02481185,\n",
       "       -0.02474408, -0.02810247, -0.01464885, -0.02694279, -0.0165069 ,\n",
       "       -0.02013168, -0.02446368, -0.01720133, -0.00259657, -0.01426624,\n",
       "       -0.00427535, -0.0138551 , -0.02271156, -0.02621421, -0.00301827,\n",
       "       -0.00316958, -0.02414546, -0.01719162, -0.0144316 , -0.0247211 ,\n",
       "       -0.01735   , -0.01811696, -0.01699706, -0.02445752, -0.02614689,\n",
       "       -0.01413974, -0.01404047, -0.01842222, -0.03219726, -0.01697347,\n",
       "       -0.02480555, -0.0310226 , -0.01499046, -0.00916033, -0.02997092,\n",
       "       -0.02237706, -0.02118809, -0.02963832, -0.02469582, -0.02981134,\n",
       "       -0.02798508, -0.01307616, -0.02379457, -0.01499046, -0.00885409,\n",
       "       -0.03400837, -0.0234393 , -0.0254597 , -0.01079929, -0.00508447,\n",
       "       -0.01731121, -0.01669475, -0.02250139, -0.01945548, -0.02457734,\n",
       "       -0.02642517, -0.02456472, -0.0097432 , -0.02292159, -0.02690374,\n",
       "       -0.0270536 , -0.00948018, -0.00173361, -0.01017662, -0.01005721,\n",
       "       -0.02258625, -0.0040837 , -0.01960002, -0.02029096, -0.02581114,\n",
       "       -0.02991504, -0.0132446 , -0.01759263, -0.01148489, -0.02246621,\n",
       "       -0.02902083, -0.02197552, -0.02615046, -0.0037796 , -0.03165016,\n",
       "       -0.02720603, -0.02731792, -0.02125773, -0.01345884, -0.00314265,\n",
       "       -0.01068538, -0.01960042, -0.02507515, -0.02364666, -0.03308618,\n",
       "       -0.00466802, -0.02599477, -0.02719836, -0.02451143, -0.01839718,\n",
       "       -0.03055104, -0.01877362, -0.00486437, -0.00354447, -0.01917143,\n",
       "       -0.02168312, -0.00139386, -0.00962028, -0.01916043, -0.02663666,\n",
       "       -0.0282167 , -0.02751133, -0.01776092, -0.01613491, -0.02341262,\n",
       "       -0.01753602, -0.01590544, -0.02824326, -0.01189731, -0.00526828,\n",
       "       -0.02183125, -0.03074147, -0.01595259, -0.02460118, -0.00575847,\n",
       "       -0.01146371, -0.0246778 , -0.01219505, -0.02419692, -0.03277195,\n",
       "       -0.01779279, -0.0233352 , -0.01729794, -0.02265044, -0.01356056,\n",
       "       -0.01542742, -0.00247059, -0.01953401, -0.02748515, -0.01185213,\n",
       "       -0.02168084, -0.02469416, -0.03371779, -0.02574527, -0.03467148,\n",
       "       -0.0188691 , -0.02677884, -0.0199503 , -0.02468987, -0.01270913,\n",
       "       -0.01772662, -0.01582353, -0.02657053, -0.0048139 , -0.01357648,\n",
       "       -0.02676351, -0.01751792, -0.01564704, -0.02412783, -0.00616281,\n",
       "       -0.00704421, -0.01995519, -0.00023595, -0.02454597, -0.01645096,\n",
       "       -0.02691454, -0.02447255, -0.01900562, -0.01687563, -0.02737149,\n",
       "       -0.00663437, -0.02380104, -0.02417293, -0.03056937, -0.01967865,\n",
       "       -0.02325697, -0.0245965 , -0.01874402, -0.01292951, -0.00225426,\n",
       "       -0.0195638 , -0.03042774, -0.01860274, -0.02464441, -0.03533463,\n",
       "       -0.02490139, -0.02212196, -0.01956374, -0.02992088, -0.02298426,\n",
       "       -0.0051869 , -0.01868891, -0.00600307, -0.01431272, -0.02526648,\n",
       "       -0.02271006, -0.02102049, -0.02599351, -0.02472648, -0.02513301,\n",
       "       -0.01382793, -0.02304701, -0.00636126, -0.00403603, -0.02072674,\n",
       "       -0.0183847 , -0.02380173, -0.03581264, -0.01833261, -0.01908305,\n",
       "       -0.02012017, -0.01167224, -0.02420458, -0.0245399 , -0.02329071,\n",
       "       -0.02588531, -0.01638587, -0.01709905, -0.00073534, -0.00640587,\n",
       "       -0.02795114, -0.02187552, -0.02461673, -0.02472628, -0.01714749,\n",
       "       -0.02105802, -0.01196314, -0.02284166, -0.02461022, -0.0280444 ,\n",
       "       -0.01127831, -0.01817606, -0.02778452, -0.02457398, -0.02234856,\n",
       "       -0.02730642, -0.02063338, -0.01912323, -0.02241238, -0.01056133,\n",
       "       -0.00887941, -0.02707094, -0.02316929, -0.01887121, -0.01696453,\n",
       "       -0.02476706, -0.04109498, -0.02540232, -0.01835016, -0.02409134,\n",
       "       -0.01482193, -0.02448513, -0.01632601, -0.02022033, -0.02425108,\n",
       "       -0.01387969, -0.0246778 , -0.02652337, -0.02389249, -0.02359375,\n",
       "       -0.05164198, -0.02569698, -0.03032829, -0.02194235, -0.04414984,\n",
       "       -0.03468213, -0.01108588, -0.01943166, -0.01548424, -0.02041734,\n",
       "       -0.02551224, -0.00218892, -0.02477178, -0.00470477, -0.01900986,\n",
       "       -0.02225347, -0.02510674, -0.02396333, -0.01829851, -0.02637911,\n",
       "       -0.02278871, -0.0271559 , -0.01780874, -0.00723575, -0.02187221,\n",
       "       -0.02046766, -0.0159702 , -0.0231152 , -0.02373524, -0.03152839,\n",
       "       -0.02178897, -0.02414829, -0.02403562, -0.02666644, -0.01331386,\n",
       "       -0.01819382, -0.00961807, -0.02822139, -0.03265411, -0.01728752,\n",
       "       -0.02228742, -0.03005493, -0.01663417, -0.02515306, -0.00896766,\n",
       "       -0.02508393, -0.01315895, -0.01178175, -0.01489617, -0.01881045,\n",
       "       -0.02022849, -0.01770588, -0.02780602, -0.02620048, -0.02287718,\n",
       "       -0.01325427, -0.02748193, -0.00777971, -0.0197565 , -0.02997092,\n",
       "       -0.01794876, -0.02390386, -0.02528829, -0.0194187 , -0.0137412 ,\n",
       "       -0.02478936, -0.01833013, -0.02552465, -0.0225492 , -0.0245218 ,\n",
       "       -0.01190609, -0.02517938, -0.02403705, -0.02201558, -0.03317652,\n",
       "       -0.02266789, -0.02105802, -0.02330155, -0.02050388, -0.01975155,\n",
       "       -0.02237522, -0.02422258, -0.01312631, -0.00417649, -0.02626791,\n",
       "       -0.01901198, -0.02895699, -0.02597979, -0.01070403, -0.00058494,\n",
       "       -0.02717724, -0.00771424, -0.01268345, -0.00857553, -0.02395931,\n",
       "       -0.00822418, -0.01310778, -0.01274859, -0.02087796, -0.01332619,\n",
       "       -0.029805  , -0.02575538, -0.02550521, -0.04522154, -0.02506885,\n",
       "       -0.01593351, -0.02608631, -0.03059623, -0.02872179, -0.02577174,\n",
       "       -0.01900431, -0.02474069, -0.03066995, -0.03479338, -0.01819651,\n",
       "       -0.0393039 , -0.02498542, -0.02291399, -0.01130486, -0.02500026,\n",
       "       -0.01080548, -0.02027282, -0.02366254, -0.01235116, -0.02495126,\n",
       "       -0.02918054, -0.02484165, -0.02159068, -0.01875203, -0.04073671,\n",
       "       -0.02905645, -0.01109787, -0.01437165, -0.02623717, -0.00504439,\n",
       "       -0.0232005 , -0.02268559, -0.01769539, -0.01856239, -0.02484465,\n",
       "       -0.02289038, -0.01757658, -0.02500413, -0.00667239, -0.02623009,\n",
       "       -0.02316716, -0.01140059, -0.02588016, -0.023562  , -0.03616066,\n",
       "       -0.01992877, -0.00499771, -0.02633705, -0.02018848, -0.01952802,\n",
       "       -0.01049492, -0.00642365, -0.02623895, -0.01344529, -0.02468623,\n",
       "       -0.01863376, -0.01214922, -0.0070787 , -0.02400915, -0.00564553,\n",
       "       -0.01780787, -0.02258066, -0.02347107, -0.02031335, -0.01762444,\n",
       "       -0.02469935, -0.03800699, -0.02545165, -0.00095902, -0.02479197,\n",
       "       -0.01515838, -0.00565084, -0.01603905, -0.00641849, -0.02823832,\n",
       "       -0.00464787, -0.01668531, -0.03296238, -0.02559594, -0.02649099,\n",
       "       -0.01465884, -0.00482073, -0.01945919, -0.02314216, -0.00615282,\n",
       "       -0.02591481, -0.01116119, -0.03134597, -0.02500712, -0.02034248,\n",
       "       -0.01136346, -0.02513661, -0.02636062, -0.02425873, -0.02369432,\n",
       "       -0.01094137, -0.02394213, -0.02649819, -0.02744406, -0.01518294,\n",
       "       -0.00921677, -0.00132509, -0.02231368, -0.02538665, -0.0201637 ,\n",
       "       -0.02318323, -0.00968581, -0.02666931, -0.04328985, -0.03042836,\n",
       "       -0.01290747, -0.00616325, -0.02502805, -0.02439152, -0.00175937,\n",
       "       -0.02731764, -0.03546569, -0.02369791, -0.0238042 , -0.00442349,\n",
       "       -0.0245235 , -0.00028154, -0.02601755, -0.01028536, -0.01904232,\n",
       "       -0.02467655, -0.02629817, -0.00739594, -0.02291977, -0.02031902,\n",
       "       -0.02278092, -0.02565505, -0.02403705, -0.01783547, -0.02392461,\n",
       "       -0.01077856, -0.02298989, -0.00404258, -0.02559952, -0.02483758,\n",
       "       -0.02713319, -0.02663445, -0.00479314, -0.00346866, -0.02554105,\n",
       "       -0.02892441, -0.00657692, -0.02282416, -0.02034047, -0.0245399 ,\n",
       "       -0.01510695, -0.01077314, -0.01738348, -0.02712839, -0.0272708 ,\n",
       "       -0.01700468, -0.02403461, -0.0031623 , -0.01914915, -0.0233139 ,\n",
       "       -0.02439881, -0.02457754, -0.01617814, -0.01137376, -0.02189569,\n",
       "       -0.01049445, -0.03077912, -0.02483356, -0.00082605, -0.02063338,\n",
       "       -0.0160211 , -0.01226816, -0.02722049, -0.00871927, -0.02095524,\n",
       "       -0.02145191, -0.01506407, -0.01601723, -0.00923957, -0.02545468,\n",
       "       -0.02077905, -0.02808959, -0.01902712, -0.01130701, -0.01288104,\n",
       "       -0.00773784, -0.02597715, -0.02348751, -0.024703  , -0.02484193,\n",
       "       -0.01824549, -0.01175535, -0.00156054, -0.02847197, -0.02163564,\n",
       "       -0.01799547, -0.02135334, -0.02026041, -0.02535893, -0.02446182,\n",
       "       -0.02382106, -0.02825456, -0.02976338, -0.02576217, -0.02475487,\n",
       "       -0.02377696, -0.02736808, -0.0242411 , -0.01801285, -0.02506885,\n",
       "       -0.02529683, -0.02368186, -0.02756466, -0.02247768, -0.02503144,\n",
       "       -0.02159485, -0.02935435, -0.0206711 , -0.02143819, -0.02520466,\n",
       "       -0.02443234, -0.02576217, -0.02225906, -0.00519161, -0.02502003,\n",
       "       -0.02268267, -0.00062425, -0.01966752, -0.02482901, -0.01527497,\n",
       "       -0.02033278, -0.01646721, -0.02163882, -0.02035753, -0.02635835,\n",
       "       -0.0259654 , -0.00574143, -0.03135291, -0.02457738, -0.01129069,\n",
       "       -0.02225195, -0.01095743, -0.00456488, -0.012375  , -0.00581462,\n",
       "       -0.02949308, -0.02524664, -0.01797664, -0.02540625, -0.01597911,\n",
       "       -0.02662382, -0.01693308, -0.02431454, -0.01994689, -0.02321127,\n",
       "       -0.01891589, -0.02454536, -0.01890508, -0.01393806, -0.00278803,\n",
       "       -0.02153098, -0.02052217, -0.0026724 , -0.02497528, -0.0251842 ,\n",
       "       -0.02116777, -0.03839428, -0.02436947, -0.00931514, -0.02493629,\n",
       "       -0.02632988, -0.02734858, -0.01499734, -0.02126543, -0.00448689,\n",
       "       -0.00643901, -0.02257499, -0.02282789, -0.02270386, -0.01853696,\n",
       "       -0.02296656, -0.02721434, -0.00188959, -0.02687387, -0.00683853,\n",
       "       -0.02555361, -0.00628427, -0.00894065, -0.02275874, -0.02174552,\n",
       "       -0.01225986, -0.02204658, -0.02162799, -0.01026172, -0.02139403,\n",
       "       -0.02130333, -0.02509286, -0.00573007, -0.02397238, -0.0263886 ,\n",
       "       -0.02426429, -0.01821659, -0.01995588, -0.01146292, -0.02431646,\n",
       "       -0.02717027, -0.01734782, -0.02493372, -0.02642517, -0.02520482,\n",
       "       -0.00508631, -0.01762969, -0.02710595, -0.02518459, -0.01916259,\n",
       "       -0.01526126, -0.03088642, -0.01754018, -0.03270001, -0.0150391 ,\n",
       "       -0.01118723, -0.02694421, -0.03876049, -0.00972058, -0.01741731,\n",
       "       -0.01204897, -0.00399952, -0.0317481 , -0.02475302, -0.02410135,\n",
       "       -0.00860853, -0.02161409, -0.02491566, -0.02927823, -0.01695223,\n",
       "       -0.02356851, -0.0236015 , -0.02541097, -0.01500062, -0.0227763 ,\n",
       "       -0.00605833, -0.02507019, -0.02322007, -0.01120656, -0.002498  ,\n",
       "       -0.02789639, -0.03644561, -0.00860977, -0.00114326, -0.01295598,\n",
       "       -0.02978939, -0.02587644, -0.02523794, -0.01395572, -0.01815559,\n",
       "       -0.02661159, -0.02252621, -0.02121358, -0.00235698, -0.004853  ,\n",
       "       -0.00852976, -0.00920108, -0.0108577 , -0.02406144, -0.03150965,\n",
       "       -0.02484465, -0.01797105, -0.03016878, -0.00595736, -0.02567445,\n",
       "       -0.01352121, -0.02106924, -0.02494518, -0.02682465, -0.02451173,\n",
       "       -0.02658389, -0.0169958 , -0.02070444, -0.02447007, -0.00356533,\n",
       "       -0.00205346, -0.0186897 , -0.00240997, -0.01409628, -0.00946585,\n",
       "       -0.02658962, -0.01794863, -0.02535619, -0.02023063, -0.02050167,\n",
       "       -0.01160769, -0.0198183 , -0.02033278, -0.0240812 , -0.02775404,\n",
       "       -0.05214586, -0.02208318, -0.02574324, -0.01893586, -0.02460269,\n",
       "       -0.02448347, -0.02467971, -0.02349163, -0.00583236, -0.00844624,\n",
       "       -0.02099396, -0.02136541, -0.02184526, -0.02657122, -0.01639773,\n",
       "       -0.0245965 , -0.00020291, -0.02734858, -0.01788129, -0.02080654,\n",
       "       -0.02507105, -0.01512466, -0.02945195, -0.0147094 , -0.02037836,\n",
       "       -0.00331165, -0.01375673, -0.02269802, -0.03028115, -0.01367213,\n",
       "       -0.01990971, -0.01414294, -0.00819409, -0.00738273, -0.02771803,\n",
       "       -0.00978943, -0.01885644, -0.01294756, -0.03084828, -0.01852714])"
      ]
     },
     "execution_count": 98,
     "metadata": {},
     "output_type": "execute_result"
    }
   ],
   "source": [
    "model_likelihood([10.0, 5000.0], SR_events_H0, CR_events_H0)"
   ]
  },
  {
   "cell_type": "code",
   "execution_count": 99,
   "metadata": {},
   "outputs": [],
   "source": [
    "def calc_parameter_MLE(NLL, SR, CR):\n",
    "    res = minimize(NLL, x0=[1.0, 5000.0], args=(SR, CR, 1.0, r, True, True), method='Nelder-Mead')\n",
    "    LL  = -res['fun']\n",
    "    parameter_MLE = res['x']\n",
    "    return parameter_MLE"
   ]
  },
  {
   "cell_type": "code",
   "execution_count": 100,
   "metadata": {},
   "outputs": [],
   "source": [
    "parameters_H0 = [calc_parameter_MLE(model_likelihood, SR, CR) for SR, CR in zip(SR_events_H0, CR_events_H0)]\n",
    "parameters_H1 = [calc_parameter_MLE(model_likelihood, SR, CR) for SR, CR in zip(SR_events_H1, CR_events_H1)]"
   ]
  },
  {
   "cell_type": "code",
   "execution_count": 101,
   "metadata": {},
   "outputs": [],
   "source": [
    "parameters_H0 = np.array(parameters_H0)\n",
    "parameters_H1 = np.array(parameters_H1)"
   ]
  },
  {
   "cell_type": "markdown",
   "metadata": {},
   "source": [
    "## Distribution of $\\hat{\\mu},\\hat{b}_{CR}$"
   ]
  },
  {
   "cell_type": "code",
   "execution_count": 107,
   "metadata": {},
   "outputs": [
    {
     "data": {
      "text/plain": [
       "Text(0.5,1,'Best fit $(\\\\hat{\\\\mu},\\\\hat{b}_{CR})$')"
      ]
     },
     "execution_count": 107,
     "metadata": {},
     "output_type": "execute_result"
    },
    {
     "data": {
      "image/png": "[encoded data removed]",
      "text/plain": [
       "<Figure size 432x288 with 1 Axes>"
      ]
     },
     "metadata": {},
     "output_type": "display_data"
    }
   ],
   "source": [
    "f,ax = plt.subplots()\n",
    "ax.scatter(parameters_H0[:,0], parameters_H0[:,1], c='b', label=r\"$H_{0}$\")\n",
    "ax.scatter(parameters_H1[:,0], parameters_H1[:,1], c='r', label=r\"$H_{1}$\")\n",
    "ax.set_xlabel(r'$\\hat{\\mu}$')\n",
    "ax.set_ylabel(r'$\\hat{b}_{CR}$')\n",
    "ax.legend()\n",
    "ax.set_title(r\"Best fit $(\\hat{\\mu},\\hat{b}_{CR})$\")"
   ]
  },
  {
   "cell_type": "code",
   "execution_count": 105,
   "metadata": {},
   "outputs": [
    {
     "data": {
      "text/plain": [
       "array([[ 1.        , -0.44417945],\n",
       "       [-0.44417945,  1.        ]])"
      ]
     },
     "execution_count": 105,
     "metadata": {},
     "output_type": "execute_result"
    }
   ],
   "source": [
    "np.corrcoef(parameters_H0[:,0], parameters_H0[:,1])"
   ]
  },
  {
   "cell_type": "markdown",
   "metadata": {},
   "source": [
    "## Distribution of $t$"
   ]
  },
  {
   "cell_type": "code",
   "execution_count": null,
   "metadata": {},
   "outputs": [],
   "source": []
  }
 ],
 "metadata": {
  "kernelspec": {
   "display_name": "Python 3",
   "language": "python",
   "name": "python3"
  },
  "language_info": {
   "codemirror_mode": {
    "name": "ipython",
    "version": 3
   },
   "file_extension": ".py",
   "mimetype": "text/x-python",
   "name": "python",
   "nbconvert_exporter": "python",
   "pygments_lexer": "ipython3",
   "version": "3.6.6"
  }
 },
 "nbformat": 4,
 "nbformat_minor": 2
}
