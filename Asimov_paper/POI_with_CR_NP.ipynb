{
 "cells": [
  {
   "cell_type": "markdown",
   "metadata": {},
   "source": [
    "# Determining signal strength parameter $\\mu$ with a CR measuring background normalization"
   ]
  },
  {
   "cell_type": "markdown",
   "metadata": {},
   "source": [
    "## Measurement setup\n",
    "\n",
    "Measurement with 2 regions:\n",
    "- Signal region (SR)\n",
    "- Control region for background normalization measurement (CR)\n",
    "\n",
    "### Signal region (SR) containing signal and background\n",
    "\n",
    "Number of events observed is distributed by a Poisson with parameter $b_{SR} + \\mu \\cdot s_{0}$ \n",
    "\n",
    "\\begin{equation}\n",
    "    N_{SR} \\sim Poi\\left( b_{SR} + \\mu \\cdot s_{0} \\right)\n",
    "\\end{equation}\n",
    "\n",
    "### Control region (CR)\n",
    "\n",
    "Number of events observed is distributed by a Poisson with parameter $b_{CR}$ \n",
    "\n",
    "\\begin{equation}\n",
    "    N_{CR} \\sim Poi\\left( b_{CR} \\right)\n",
    "\\end{equation}\n",
    "\n",
    "Relation between the background component in the signal and control regions:\n",
    "\n",
    "\\begin{equation}\n",
    "    b_{SR} = r \\cdot b_{CR}\n",
    "\\end{equation}\n",
    "\n",
    "where $r$ is assumed to be known to infinite precision."
   ]
  },
  {
   "cell_type": "markdown",
   "metadata": {},
   "source": [
    "## Model parameters"
   ]
  },
  {
   "cell_type": "markdown",
   "metadata": {},
   "source": [
    "$\\theta = (\\mu, b_{CR})$\n",
    "\n",
    "- POI: $\\mu$\n",
    "- NP: $b_{CR}$"
   ]
  },
  {
   "cell_type": "markdown",
   "metadata": {},
   "source": [
    "## Test statistic"
   ]
  },
  {
   "cell_type": "markdown",
   "metadata": {},
   "source": [
    "\\begin{equation}\n",
    "    t\n",
    "    =\n",
    "    -2 \\log \\frac{\\mathcal{L} (\\mu, \\hat{\\hat{\\nu}} )}{ \\mathcal{L}(\\hat{\\mu}, \\hat{\\nu}) }\n",
    "\\end{equation}"
   ]
  },
  {
   "cell_type": "code",
   "execution_count": 1,
   "metadata": {},
   "outputs": [
    {
     "name": "stderr",
     "output_type": "stream",
     "text": [
      "/Users/edy/lib/build/anaconda/lib/python3.6/importlib/_bootstrap.py:219: RuntimeWarning: numpy.dtype size changed, may indicate binary incompatibility. Expected 96, got 88\n",
      "  return f(*args, **kwds)\n"
     ]
    }
   ],
   "source": [
    "import numpy as np\n",
    "from scipy.stats import norm\n",
    "from scipy.stats import poisson\n",
    "from scipy.optimize import minimize\n",
    "import matplotlib.pyplot as plt\n",
    "%matplotlib inline"
   ]
  },
  {
   "cell_type": "markdown",
   "metadata": {},
   "source": [
    "Utility functions"
   ]
  },
  {
   "cell_type": "code",
   "execution_count": 2,
   "metadata": {},
   "outputs": [],
   "source": [
    "def likelihood_poi(mu, n, bkg, s0=1.0, neg=False, log=False):\n",
    "    \"\"\"Return the value of the Poisson likelihood function, given the:\n",
    "       - mu: signal strength parameter,\n",
    "       - n: number of events observed,\n",
    "       - bkg: expected number of background events,\n",
    "       - s0: nominal number of signal events\n",
    "       The total expected number of events is lambda = bkg + mu*s0.\n",
    "       \n",
    "       The `neg` argument just multiplies the likelihood by (-1).\n",
    "       This is used for the minimize() function.\"\"\"\n",
    "    sig = mu * s0\n",
    "    N_exp = bkg + sig\n",
    "    if log:\n",
    "        likelihood = poisson.logpmf(n, mu=N_exp)\n",
    "    else:\n",
    "        likelihood = poisson.pmf(n, mu=N_exp)\n",
    "    \n",
    "    if neg:\n",
    "        return -likelihood\n",
    "    else:\n",
    "        return likelihood"
   ]
  },
  {
   "cell_type": "code",
   "execution_count": 3,
   "metadata": {},
   "outputs": [],
   "source": [
    "def model_likelihood(mu, b_CR, SR_measured, CR_measured, s0=1.0, r=0.2, log=False, neg=False):\n",
    "    \n",
    "    b_SR = b_CR*r\n",
    "    \n",
    "    likelihood_SR = likelihood_poi(mu=mu, n=SR_measured, bkg=b_SR, s0=s0, log=log, neg=False)\n",
    "    likelihood_CR = poisson.logpmf(CR_measured, mu=b_CR)\n",
    "    if log:\n",
    "        model_likelihood = likelihood_SR+likelihood_CR\n",
    "    else:\n",
    "        model_likelihood = likelihood_SR*likelihood_CR\n",
    "    if neg:\n",
    "        return -model_likelihood\n",
    "    else:\n",
    "        return model_likelihood"
   ]
  },
  {
   "cell_type": "code",
   "execution_count": 4,
   "metadata": {},
   "outputs": [],
   "source": [
    "def ll_free(x, SR_measured, CR_measured, s0=1.0, r=0.2, log=True, neg=True):\n",
    "    mu   = x[0]\n",
    "    b_CR = x[1]\n",
    "    ll = model_likelihood(mu, b_CR, SR_measured, CR_measured=CR_measured, s0=s0, r=r, log=log, neg=neg)\n",
    "    return ll"
   ]
  },
  {
   "cell_type": "code",
   "execution_count": 5,
   "metadata": {},
   "outputs": [],
   "source": [
    "def ll_cond(x, mu, SR_measured, CR_measured, s0=1.0, r=0.2, log=True, neg=True):\n",
    "    b_CR = x\n",
    "    ll = model_likelihood(mu, b_CR, SR_measured, CR_measured=CR_measured, s0=s0, r=r, log=log, neg=neg)\n",
    "    return ll"
   ]
  },
  {
   "cell_type": "code",
   "execution_count": 6,
   "metadata": {},
   "outputs": [],
   "source": [
    "def perform_fit(SR, CR, mu, r=0.2):\n",
    "    \n",
    "    fit_result_free = minimize(ll_free, x0=[1.0, 5000.0], args=(SR, CR,     1.0, r, True, True), method='Nelder-Mead')\n",
    "    fit_result_cond = minimize(ll_cond, x0=[5000.0],      args=(mu, SR, CR, 1.0, r, True, True), method='Nelder-Mead')\n",
    "    LL_free = -fit_result_free['fun'] # (-1)*(-log likelihood)\n",
    "    LL_cond = -fit_result_cond['fun'] # (-1)*(-log likelihood)\n",
    "    parameter_MLE_free = fit_result_free['x']\n",
    "    parameter_MLE_cond = fit_result_cond['x']\n",
    "    t =  -2.0*(LL_cond-LL_free)\n",
    "    \n",
    "    mu_fit_free = parameter_MLE_free[0]\n",
    "    b_CR_free   = parameter_MLE_free[1]\n",
    "    b_CR_cond   = parameter_MLE_cond\n",
    "    \n",
    "    return (LL_free, mu_fit_free, b_CR_free, LL_cond, b_CR_cond, t)"
   ]
  },
  {
   "cell_type": "markdown",
   "metadata": {},
   "source": [
    "## Truth model"
   ]
  },
  {
   "cell_type": "code",
   "execution_count": 7,
   "metadata": {},
   "outputs": [],
   "source": [
    "nExperiments = 2000"
   ]
  },
  {
   "cell_type": "code",
   "execution_count": 8,
   "metadata": {},
   "outputs": [],
   "source": [
    "Z = 1.64\n",
    "s0 = 1.0"
   ]
  },
  {
   "cell_type": "code",
   "execution_count": 9,
   "metadata": {},
   "outputs": [],
   "source": [
    "b_SR_truth = 1000.0"
   ]
  },
  {
   "cell_type": "code",
   "execution_count": 10,
   "metadata": {},
   "outputs": [],
   "source": [
    "b_CR_truth = 5000.0"
   ]
  },
  {
   "cell_type": "code",
   "execution_count": 11,
   "metadata": {},
   "outputs": [],
   "source": [
    "r = b_SR_truth/b_CR_truth"
   ]
  },
  {
   "cell_type": "markdown",
   "metadata": {},
   "source": [
    "## Hypotheses"
   ]
  },
  {
   "cell_type": "markdown",
   "metadata": {},
   "source": [
    "### Null hypothesis $H_{0}$: There is only background in the SR"
   ]
  },
  {
   "cell_type": "markdown",
   "metadata": {},
   "source": [
    "$H_{0}$ hypothesis parameters"
   ]
  },
  {
   "cell_type": "markdown",
   "metadata": {},
   "source": [
    "SR"
   ]
  },
  {
   "cell_type": "code",
   "execution_count": 12,
   "metadata": {},
   "outputs": [],
   "source": [
    "b_SR_H0   = 1000.0\n",
    "s_SR_H0   = 0.0\n",
    "SR_exp_H0 = b_SR_H0 + s_SR_H0\n",
    "mup_H0    = s_SR_H0/s0"
   ]
  },
  {
   "cell_type": "code",
   "execution_count": 13,
   "metadata": {},
   "outputs": [],
   "source": [
    "SR_events_H0 = poisson.rvs(mu=SR_exp_H0, loc=0.0, size=nExperiments)"
   ]
  },
  {
   "cell_type": "markdown",
   "metadata": {},
   "source": [
    "CR"
   ]
  },
  {
   "cell_type": "code",
   "execution_count": 14,
   "metadata": {},
   "outputs": [],
   "source": [
    "b_CR_exp_H0 = 5000.0"
   ]
  },
  {
   "cell_type": "code",
   "execution_count": 15,
   "metadata": {},
   "outputs": [],
   "source": [
    "CR_events_H0 = poisson.rvs(mu=b_CR_exp_H0, loc=0.0, size=nExperiments)"
   ]
  },
  {
   "cell_type": "markdown",
   "metadata": {},
   "source": [
    "### Alternative hypothesis $H_{1}$"
   ]
  },
  {
   "cell_type": "markdown",
   "metadata": {},
   "source": [
    "$H_{1}$ hypothesis parameters"
   ]
  },
  {
   "cell_type": "markdown",
   "metadata": {},
   "source": [
    "SR"
   ]
  },
  {
   "cell_type": "code",
   "execution_count": 16,
   "metadata": {},
   "outputs": [],
   "source": [
    "b_SR_H1   = 1000.0\n",
    "s_SR_H1   = 50\n",
    "SR_exp_H1 = b_SR_H1 + s_SR_H1\n",
    "mup_H1    = s_SR_H1/s0"
   ]
  },
  {
   "cell_type": "code",
   "execution_count": 17,
   "metadata": {},
   "outputs": [],
   "source": [
    "SR_events_H1 = poisson.rvs(mu=SR_exp_H1, loc=0.0, size=nExperiments)"
   ]
  },
  {
   "cell_type": "markdown",
   "metadata": {},
   "source": [
    "CR"
   ]
  },
  {
   "cell_type": "code",
   "execution_count": 18,
   "metadata": {},
   "outputs": [],
   "source": [
    "b_CR_exp_H1 = 5000.0"
   ]
  },
  {
   "cell_type": "code",
   "execution_count": 19,
   "metadata": {},
   "outputs": [],
   "source": [
    "CR_events_H1 = poisson.rvs(mu=b_CR_exp_H1, loc=0.0, size=nExperiments)"
   ]
  },
  {
   "cell_type": "markdown",
   "metadata": {},
   "source": [
    "----"
   ]
  },
  {
   "cell_type": "code",
   "execution_count": 20,
   "metadata": {},
   "outputs": [
    {
     "data": {
      "text/plain": [
       "Text(0,0.5,'Frequency')"
      ]
     },
     "execution_count": 20,
     "metadata": {},
     "output_type": "execute_result"
    },
    {
     "data": {
      "image/png": "[encoded data removed]",
      "text/plain": [
       "<Figure size 576x720 with 2 Axes>"
      ]
     },
     "metadata": {},
     "output_type": "display_data"
    }
   ],
   "source": [
    "fig,axes = plt.subplots(nrows=2, figsize=(8,10))\n",
    "fig.subplots_adjust(hspace=0.3)\n",
    "ax = axes.flatten()\n",
    "ax[0].hist(SR_events_H0, bins=50, color='b', alpha=0.5, label=r'$H_{0}$')\n",
    "ax[0].hist(SR_events_H1, bins=50, color='r', alpha=0.5, label=r'$H_{1}$')\n",
    "ax[0].set_title(\"Signal region\")\n",
    "ax[0].set_xlabel(\"Number of events observed\")\n",
    "ax[0].set_ylabel(\"Frequency\")\n",
    "ax[0].legend()\n",
    "ax[1].hist(CR_events_H0, bins=50, color='r', alpha=0.5, label=r'$H_{0}$');\n",
    "ax[1].hist(CR_events_H1, bins=50, color='b', alpha=0.5, label=r'$H_{1}$');\n",
    "ax[1].set_title(\"Control region\")\n",
    "ax[1].legend()\n",
    "ax[1].set_xlabel(\"Number of events observed\")\n",
    "ax[1].set_ylabel(\"Frequency\")"
   ]
  },
  {
   "cell_type": "code",
   "execution_count": 21,
   "metadata": {},
   "outputs": [
    {
     "data": {
      "text/plain": [
       "array([ -9.66610561,  -9.83484391,  -9.90802974, ..., -10.67188089,\n",
       "        -9.87829224, -10.62655831])"
      ]
     },
     "execution_count": 21,
     "metadata": {},
     "output_type": "execute_result"
    }
   ],
   "source": [
    "model_likelihood(b_CR=5000.0, mu=10.0, SR_measured=SR_events_H0, CR_measured=CR_events_H0, log=True)"
   ]
  },
  {
   "cell_type": "code",
   "execution_count": 22,
   "metadata": {},
   "outputs": [],
   "source": [
    "fit_results_H0 = [perform_fit(SR, CR, mu=mup_H0, r=0.2) for SR, CR in zip(SR_events_H0, CR_events_H0)]\n",
    "fit_results_H1 = [perform_fit(SR, CR, mu=mup_H0, r=0.2) for SR, CR in zip(SR_events_H1, CR_events_H1)]\n",
    "fit_results_H0 = np.array(fit_results_H0)\n",
    "fit_results_H1 = np.array(fit_results_H1)"
   ]
  },
  {
   "cell_type": "markdown",
   "metadata": {},
   "source": [
    "## Distribution of $\\hat{\\mu},\\hat{b}_{CR}$"
   ]
  },
  {
   "cell_type": "code",
   "execution_count": 23,
   "metadata": {},
   "outputs": [
    {
     "data": {
      "text/plain": [
       "Text(0.5,1,'Best fit $(\\\\hat{\\\\mu},\\\\hat{b}_{CR})$')"
      ]
     },
     "execution_count": 23,
     "metadata": {},
     "output_type": "execute_result"
    },
    {
     "data": {
      "image/png": "[encoded data removed]",
      "text/plain": [
       "<Figure size 432x288 with 1 Axes>"
      ]
     },
     "metadata": {},
     "output_type": "display_data"
    }
   ],
   "source": [
    "f,ax = plt.subplots()\n",
    "ax.scatter(fit_results_H0[:,1], fit_results_H0[:,2], c='b', label=r\"$H_{0}$\")\n",
    "ax.scatter(fit_results_H1[:,1], fit_results_H1[:,2], c='r', label=r\"$H_{1}$\")\n",
    "ax.set_xlabel(r'$\\hat{\\mu}$')\n",
    "ax.set_ylabel(r'$\\hat{b}_{CR}$')\n",
    "ax.legend()\n",
    "ax.set_title(r\"Best fit $(\\hat{\\mu},\\hat{b}_{CR})$\")"
   ]
  },
  {
   "cell_type": "code",
   "execution_count": 24,
   "metadata": {},
   "outputs": [
    {
     "data": {
      "text/plain": [
       "array([[ 1.        , -0.02992503],\n",
       "       [-0.02992503,  1.        ]])"
      ]
     },
     "execution_count": 24,
     "metadata": {},
     "output_type": "execute_result"
    }
   ],
   "source": [
    "np.corrcoef(fit_results_H0[:,0], fit_results_H1[:,1])"
   ]
  },
  {
   "cell_type": "markdown",
   "metadata": {},
   "source": [
    "## Distribution of $\\log \\mathcal{L}$"
   ]
  },
  {
   "cell_type": "code",
   "execution_count": 25,
   "metadata": {},
   "outputs": [
    {
     "name": "stderr",
     "output_type": "stream",
     "text": [
      "/Users/edy/lib/build/anaconda/lib/python3.6/site-packages/matplotlib/axes/_axes.py:6462: UserWarning: The 'normed' kwarg is deprecated, and has been replaced by the 'density' kwarg.\n",
      "  warnings.warn(\"The 'normed' kwarg is deprecated, and has been \"\n"
     ]
    },
    {
     "data": {
      "text/plain": [
       "<matplotlib.legend.Legend at 0x1a1435b080>"
      ]
     },
     "execution_count": 25,
     "metadata": {},
     "output_type": "execute_result"
    },
    {
     "data": {
      "image/png": "[encoded data removed]",
      "text/plain": [
       "<Figure size 576x576 with 2 Axes>"
      ]
     },
     "metadata": {},
     "output_type": "display_data"
    }
   ],
   "source": [
    "f,a = plt.subplots(nrows=2, figsize=(8,8))\n",
    "a = a.flatten()\n",
    "a[0].hist(fit_results_H0[:,0], bins=20, alpha=0.4, label='$H_{0} (unconditional)$', normed=True);\n",
    "a[0].hist(fit_results_H0[:,3], bins=20, alpha=0.4, label='$H_{0} (conditional)$',   normed=True);\n",
    "a[1].hist(fit_results_H1[:,0], bins=20, alpha=0.4, label='$H_{1} (unconditional)$', normed=True);\n",
    "a[1].hist(fit_results_H1[:,3], bins=20, alpha=0.4, label='$H_{1} (conditional)$',   normed=True);\n",
    "a[0].set_xlim(-15, -9)\n",
    "a[1].set_xlim(-15, -9)\n",
    "a[0].set_xlabel('$\\log \\mathcal{L}$')\n",
    "a[0].set_xlabel('$\\log \\mathcal{L}$')\n",
    "a[0].legend()\n",
    "a[1].legend()"
   ]
  },
  {
   "cell_type": "markdown",
   "metadata": {},
   "source": [
    "## Distribution of $t$"
   ]
  },
  {
   "cell_type": "code",
   "execution_count": 26,
   "metadata": {},
   "outputs": [
    {
     "data": {
      "text/plain": [
       "<matplotlib.legend.Legend at 0x1a14952cc0>"
      ]
     },
     "execution_count": 26,
     "metadata": {},
     "output_type": "execute_result"
    },
    {
     "data": {
      "image/png": "[encoded data removed]",
      "text/plain": [
       "<Figure size 432x288 with 1 Axes>"
      ]
     },
     "metadata": {},
     "output_type": "display_data"
    }
   ],
   "source": [
    "f,a = plt.subplots()\n",
    "a.hist(fit_results_H0[:,5], bins=20, alpha=0.4, label='$H_{0}$')\n",
    "a.hist(fit_results_H1[:,5], bins=20, alpha=0.4, label='$H_{1}$')\n",
    "a.set_xlabel(\"$t$\")\n",
    "a.legend()"
   ]
  }
 ],
 "metadata": {
  "kernelspec": {
   "display_name": "Python 3",
   "language": "python",
   "name": "python3"
  },
  "language_info": {
   "codemirror_mode": {
    "name": "ipython",
    "version": 3
   },
   "file_extension": ".py",
   "mimetype": "text/x-python",
   "name": "python",
   "nbconvert_exporter": "python",
   "pygments_lexer": "ipython3",
   "version": "3.6.6"
  }
 },
 "nbformat": 4,
 "nbformat_minor": 2
}
