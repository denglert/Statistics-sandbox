{
 "cells": [
  {
   "cell_type": "markdown",
   "metadata": {},
   "source": [
    "# Deriving the expected upper limit"
   ]
  },
  {
   "cell_type": "markdown",
   "metadata": {},
   "source": [
    "## Reminder\n",
    "\n",
    "### Test statistics\n",
    "\n",
    "The general log likelihood ratio test static, $t$ is defined as:\n",
    "\n",
    "$t = - 2 \\ln \\left( \\frac{\\mathcal{L}(\\mu,\\hat{\\hat{\\theta}},\\text{data})}{\\mathcal{L}(\\hat{\\mu},\\hat{\\theta}, \\text{data})} \\right)$,\n",
    "\n",
    "where $\\mathcal{L}(\\mu,\\theta,\\text{data})$ is the value of likelihood function for a given signal strength parameter $\\mu$, set of nuisance parameters $\\theta$, and observed data.\n",
    "\n",
    "Depending on the statistical test you are doing, you might find it is easier to work with a different test statistics (e.g. $q_{0}$ for signal discovery, $q_{\\mu}$ for setting upper limits). You can find some other definitions in the [Asimov paper](https://arxiv.org/abs/1007.1727).\n",
    "\n",
    "When setting upper limits, a suitable choice for a test statistic is $q_{\\mu}$:\n",
    "\n",
    "$$q_{\\mu} = \\begin{cases} -2 \\ln \\left[ \\frac{\\mathcal{L}(\\mu)}{ \\mathcal{L}(\\hat{\\mu})} \\right] & \\hat{\\mu} \\leq \\mu, \\\\  0 & \\hat{\\mu} > \\mu \\end{cases},$$\n",
    "\n",
    "where the motivation behind partitioning the domain of $\\hat{\\mu}$ is the fact that you'd want to be only sensitive when you observe $\\hat{\\mu} < \\mu$ (i.e. the hypothesis you are testing predicts a higher number of signal events compared to what you are observing), and you regard $\\hat{\\mu} > \\mu$ not to be less compatible with your hypothesis. If you actually observe $\\hat{\\mu} > \\mu$, you should use a different test statics rather than $q_{\\mu}$.\n",
    "\n",
    "### Maximum likelihood estimator (MLE) of parameter $a$: $\\hat{a}$ \n",
    "\n",
    "The maximum likelihood estimator $\\hat{a}$ is the defined to be the value of the model parameter $a$ for which the likelihood, $\\mathcal{L}(a,\\text{data})$ takes its maximum value.\n",
    "\n",
    "### MLE for the signal strength parameter $\\mu$, and number of signal events $s$, in case of a single bin\n",
    "\n",
    "$\\mu$ is the signal strength parameter which scales the nominal signal model.\n",
    "\n",
    "In order to (re)familiarise ourselves with the different parameters, we consider a simple counting experiment where we measure the number of events in a single bin and we neglect any possible nuisance parameter. The values that these different variables take below are specific to this simple example.\n",
    "\n",
    "Here, the nominal signal model is basically just predicting a certain number of signal events, $s_{0}$. In a general signal model you can rescale the expected number of signal events with $\\mu$:\n",
    "\n",
    "$$ s = \\mu s_{0},$$\n",
    "\n",
    "so whenever you see $\\hat{\\mu}$, you can swap that for $\\hat{s}$ by just a simple rescaling.\n",
    "\n",
    "$\\hat{\\mu}$/$\\hat{s}$ is a random variable with different expectation value and variance for different hypothesis.\n",
    "\n",
    "Examples:\n",
    "  \n",
    "- $H$: signal + background:\n",
    "\n",
    "  - In terms of $\\hat{\\mu}$:\n",
    "      * Exp[$\\hat{\\mu}$] = $\\frac{s}{s_{0}}$\n",
    "      * Var[$\\hat{\\mu}$] = $\\frac{s+b}{s^{2}_{0}}$\n",
    "      \n",
    "  - In terms of $\\hat{s}$:\n",
    "      * Exp[$\\hat{s}$] = s\n",
    "      * Var[$\\hat{s}$] = $s+b$\n",
    "\n",
    "- $H$: background only:\n",
    "\n",
    "  - In terms of $\\hat{\\mu}$:\n",
    "      * Exp[$\\hat{\\mu}$] = 0\n",
    "      * Var[$\\hat{\\mu}$] = $\\frac{b}{s^{2}_{0}}$\n",
    "\n",
    "  - In terms of $\\hat{s}$\n",
    "      * Exp[$\\hat{s}$] = $0$\n",
    "      * Var[$\\hat{s}$] = $b$\n",
    "\n",
    "### p-value\n",
    "p-value = $\\int\\limits_{t_{obs}}^{\\infty} f(t|H) dt_{\\mu}$\n",
    "\n",
    "where $t$ is the test statitic, and $t_{obs}$ is the observed value of the test statistic, and $H$ is the hypothesis that you are considering.\n",
    "\n",
    "### Z, significance\n",
    "\n",
    "$Z =  \\Phi^{-1}(1-p)$\n",
    "\n",
    "where $\\Phi(x)$ is the c.d.f. of a standard normal distribution."
   ]
  },
  {
   "cell_type": "markdown",
   "metadata": {},
   "source": [
    "## Example: setting an upper limit of the signal parameter(s) in a single bin experiment without nuisance parameters\n",
    "\n",
    "### Competing hypotheses when setting upper limit on the signal parameter:\n",
    "\n",
    "- $H_{0}$: signal + backgr\n",
    "- $H_{1}$: backgr only\n",
    "\n",
    "-------\n",
    "\n",
    "- **Null hypothesis:** $H_{0}$ (signal + background):\n",
    "\n",
    "    * Expected number of events: $\\mu s_{0}+b$\n",
    "    * Uncertainty: $\\sqrt{\\mu s_{0}+b}$\n",
    "    * $\\mu \\neq 0$\n",
    "\n",
    "    $s_{0}$ is a ''nominal'' value for number of signal events\n",
    "\n",
    "- **Alternative hypothesis:** $H_{1}$ (background only):\n",
    "\n",
    "    * Expected number of events: $b$\n",
    "    * Uncertainty: $\\sqrt{b}$\n",
    "    * $\\mu = 0$\n",
    "    \n",
    "Note: Later on we will sometimes denote $\\mu s_{0}$ as $s$.   \n",
    "    \n",
    "### Objective\n",
    "\n",
    "We wish to find the value of $\\mu$ for which $H_{0}$ is excluded with a p-value of 0.05 (95% CL).\n",
    "\n",
    "Significance corresponding to $p=0.05$ is: $Z=1.64$.\n",
    "\n",
    "### Derivation\n",
    "\n",
    "When doing a counting experiment, inherently in Nature the number of events in a bin is distributed by $Poisson(\\lambda)$, where $\\lambda$ is the expected number of events.\n",
    "\n",
    "In case of large stats (large $\\lambda$):\n",
    "\n",
    "Poisson distribution $\\rightarrow$ Gaussian distribution.\n",
    "\n",
    "In this large statistics (i.e. large number of events) we can write the test statistic, $t$ as (Wald approximation):\n",
    "\n",
    "$t =\n",
    "\\frac{(\\mu - \\hat{\\mu})^{2}}{ \\sigma^{2}_{\\hat{\\mu}}}$\n",
    "\n",
    "We exploit this limit here, and assume that we are in the large statistics limit.\n",
    "\n",
    "However instead of the test statistics $t$ or $q_{\\mu}$, we use the test statistic $g$:\n",
    "\n",
    "$$g = \\frac{\\mu - \\hat{\\mu}}{\\sigma_{\\hat{\\mu}}} = \\frac{s - \\hat{s}}{\\sigma_{\\hat{s}}}$$\n",
    "   \n",
    "To see how the distributions of the different test statitistc compare please have a look in this notebook:\n",
    "- [Distribtuion of different test statistics when deriving upper limit on signal parameter](./Deriving_upper_limit_different_test_statistics.ipynb)\n",
    "\n",
    "In order to exclude $H_{0}$ with 95% CL you'd need to observe a significance of $Z=1.64$. Since in $H_{0}$, the test statistic $g$ is distributed as a standard normal distribution, it is enough to require $g$ to equal to $Z$:\n",
    "\n",
    "$$Z = g = \\frac{s}{\\sqrt{s+b}}$$\n",
    "\n",
    "Solving for $s$:\n",
    "\n",
    "$$\\frac{s}{\\sqrt{s+b}} = Z$$\n",
    "\n",
    "$$s^{2} - Z^{2}s - Z^{2}b = 0$$\n",
    "\n",
    "$$s_{1,2} = \\frac{Z}{2} \\left( Z  \\pm \\sqrt{1 + 4b} \\right) $$\n",
    "\n",
    "Realistic solution:\n",
    "\n",
    "$$s  = \\frac{Z}{2}\\left( Z  + \\sqrt{1 + 4b} \\right) $$\n",
    "\n",
    "\n",
    "#### General solution\n",
    "\n",
    "That was the limit on the number of signal events. To get the limit on the signal cross section we expand $s$:\n",
    "\n",
    "$$ L ~ \\sigma_{s} ~ Br(\\text{signal process}) (\\epsilon \\mathcal{A})_{s} = \\frac{Z}{2} \\left( Z + \\sqrt{1 + L ~ \\sigma_{b} ~ (\\epsilon \\mathcal{A})_{b}} \\right)$$\n",
    "\n",
    "$$ \\sigma_{s} = \\frac{Z}{L} \\frac{1}{2} \\left( Z + \\sqrt{1 + L ~ \\sigma_{b} ~ (\\epsilon \\mathcal{A})_{b}} \\right) \\frac{1}{Br(\\text{signal process}) (\\epsilon \\mathcal{A})_{s}}$$\n",
    "\n",
    "#### In the limit of $b \\gg Z$:\n",
    "\n",
    "$$s = \\frac{Z}{2}\\left( 2 \\sqrt{b} \\right) = Z \\sqrt{b}$$\n",
    "\n",
    "Therefore in this high bkgr region ($b \\gg Z$), the upper limit that we get for $s$ is:\n",
    "\n",
    "$$s = Z \\sqrt{b}$$\n",
    "\n",
    "Also note that in this limit:\n",
    "\n",
    "$$\\frac{s}{b} = \\frac{Z}{\\sqrt{b}} \\rightarrow 0$$\n",
    "\n",
    "That was the limit on the number of signal events. Again, to get the limit on the signal cross section we expand $s$:\n",
    "\n",
    "$$ L  \\sigma_{s}  Br(\\text{signal process}) (\\epsilon \\mathcal{A})_{s} = Z \\sqrt{L \\sigma_{b} (\\epsilon \\mathcal{A})_{b}}$$\n",
    "\n",
    "Rearranging, we get:\n",
    "\n",
    "$$ \\sigma_{s} = \\frac{Z}{\\sqrt{L}}  \\frac{ \\sqrt{\\sigma_{b} (\\epsilon \\mathcal{A})_{b}} }{Br(\\text{signal process}) (\\epsilon \\mathcal{A})_{s} }$$"
   ]
  },
  {
   "cell_type": "code",
   "execution_count": 1,
   "metadata": {
    "collapsed": false
   },
   "outputs": [],
   "source": [
    "import matplotlib.pyplot as plt\n",
    "import numpy as np\n",
    "from scipy.stats import norm\n",
    "%matplotlib inline"
   ]
  },
  {
   "cell_type": "markdown",
   "metadata": {},
   "source": [
    "### Utility functions"
   ]
  },
  {
   "cell_type": "code",
   "execution_count": 2,
   "metadata": {
    "collapsed": true
   },
   "outputs": [],
   "source": [
    "def get_significance_from_CL(CL):\n",
    "    \"\"\"Calculate the significance corresponding to a confidence level\"\"\"\n",
    "    p = 1.0 - CL\n",
    "    Z = norm.isf(p)\n",
    "    return Z"
   ]
  },
  {
   "cell_type": "code",
   "execution_count": 3,
   "metadata": {
    "collapsed": true
   },
   "outputs": [],
   "source": [
    "def calc_s(b, CL=0.95):\n",
    "    \"\"\"Calculates the x% CL upper limit on the number of signal events\n",
    "    given the expected number of background events.\"\"\"\n",
    "    Z = get_significance_from_CL(CL)\n",
    "    s = 0.5*Z*(Z + np.sqrt(1.0+4.0*b))\n",
    "    return s"
   ]
  },
  {
   "cell_type": "code",
   "execution_count": 4,
   "metadata": {
    "collapsed": false
   },
   "outputs": [],
   "source": [
    "def calc_s_over_b(b, CL=0.95):\n",
    "    \"\"\"Calculates ratio of the x% CL upper limit on the number of signal events and\n",
    "       the expected number of background events.\"\"\"\n",
    "    s = calc_s(b, CL=CL)\n",
    "    s_over_b = s/b\n",
    "    return s_over_b"
   ]
  },
  {
   "cell_type": "code",
   "execution_count": 17,
   "metadata": {
    "collapsed": false
   },
   "outputs": [],
   "source": [
    "def solve_for_sigma_s(lumi, sigma_b, br_s=1.0, eps_s=1.0, acc_s=1.0, eps_b=1.0, acc_b=1.0, CL = 0.95):\n",
    "    \"\"\"Function to calculate the upper limit on the signal cross section\n",
    "       given the cross section of the background, luminosity, branching fraction\n",
    "       acceptance and efficiency and the confidence level.\"\"\"\n",
    "    Z = get_significance_from_CL(CL)\n",
    "    b = lumi * sigma_b * eps_b * acc_b\n",
    "    s = calc_s(b, CL)\n",
    "    sigma_s = s / (lumi*br_s*eps_s*acc_s)\n",
    "    return sigma_s"
   ]
  },
  {
   "cell_type": "markdown",
   "metadata": {},
   "source": [
    "## 95% CL upper limit on the signal cross section v.s. luminosity"
   ]
  },
  {
   "cell_type": "markdown",
   "metadata": {},
   "source": [
    "Specifying the cross section of the background $\\sigma_{b}$ in some arbitrary units (e.g. [fb])"
   ]
  },
  {
   "cell_type": "code",
   "execution_count": 6,
   "metadata": {
    "collapsed": true
   },
   "outputs": [],
   "source": [
    "sigma_b = 100.0"
   ]
  },
  {
   "cell_type": "code",
   "execution_count": 7,
   "metadata": {
    "collapsed": false
   },
   "outputs": [],
   "source": [
    "lumis            = np.linspace(1.0, 10.0, 100)\n",
    "sigma_s_exact    = solve_for_sigma_s(lumis, sigma_b)\n",
    "sigma_s_sqrtlumi = solve_for_sigma_s(1.0, sigma_b)/np.sqrt(lumis)"
   ]
  },
  {
   "cell_type": "code",
   "execution_count": 8,
   "metadata": {
    "collapsed": false
   },
   "outputs": [
    {
     "data": {
      "text/plain": [
       "<matplotlib.legend.Legend at 0x7ffa843fda20>"
      ]
     },
     "execution_count": 8,
     "metadata": {},
     "output_type": "execute_result"
    },
    {
     "data": {
      "image/png": "[encoded data removed]",
      "text/plain": [
       "<matplotlib.figure.Figure at 0x7ffa5490b7f0>"
      ]
     },
     "metadata": {},
     "output_type": "display_data"
    }
   ],
   "source": [
    "f, a = plt.subplots()\n",
    "a.plot(lumis, sigma_s_exact, label=r\"$\\sigma_{s}$\");\n",
    "a.plot(lumis, sigma_s_sqrtlumi, c='r', label=r\"$\\frac{1}{\\sqrt{\\mathcal{L}}}$\")\n",
    "a.set_xlabel('Luminosity [fb$^{-1}$]')\n",
    "a.set_ylabel('Upper limit on $\\sigma_{s}$ [fb]')\n",
    "plt.legend()"
   ]
  },
  {
   "cell_type": "code",
   "execution_count": 9,
   "metadata": {
    "collapsed": false
   },
   "outputs": [],
   "source": [
    "sigma_s_at_1lumi = solve_for_sigma_s(lumi=500.0, sigma_b=10.0);"
   ]
  },
  {
   "cell_type": "code",
   "execution_count": 10,
   "metadata": {
    "collapsed": false
   },
   "outputs": [],
   "source": [
    "sigma_s_at_2lumi = solve_for_sigma_s(lumi=1000.0, sigma_b=10.0);"
   ]
  },
  {
   "cell_type": "code",
   "execution_count": 11,
   "metadata": {
    "collapsed": false
   },
   "outputs": [
    {
     "name": "stdout",
     "output_type": "stream",
     "text": [
      "sigma_s @ lumi = 1 fb-1:  0.235328789553\n",
      "sigma_s @ lumi = 2 fb-1:  0.165840190476\n",
      "their ratio: 1.41900940222\n",
      "sqrt(2) 1.41421356237\n"
     ]
    }
   ],
   "source": [
    "print('sigma_s @ lumi = 1 fb-1: ', sigma_s_at_1lumi);\n",
    "print('sigma_s @ lumi = 2 fb-1: ', sigma_s_at_2lumi);\n",
    "print('their ratio:', sigma_s_at_1lumi/sigma_s_at_2lumi);\n",
    "print('sqrt(2)', np.sqrt(2));"
   ]
  },
  {
   "cell_type": "markdown",
   "metadata": {},
   "source": [
    "## 95% CL upper limit on the number of signal events v.s. the expected number of background events"
   ]
  },
  {
   "cell_type": "code",
   "execution_count": 12,
   "metadata": {
    "collapsed": true
   },
   "outputs": [],
   "source": [
    "nbkgr   = np.linspace(1.0, 1000.0, 1000);\n",
    "s_exact = calc_s(nbkgr);"
   ]
  },
  {
   "cell_type": "code",
   "execution_count": 13,
   "metadata": {
    "collapsed": false
   },
   "outputs": [
    {
     "data": {
      "image/png": "[encoded data removed]",
      "text/plain": [
       "<matplotlib.figure.Figure at 0x7ffa50c5a710>"
      ]
     },
     "metadata": {},
     "output_type": "display_data"
    }
   ],
   "source": [
    "f, a = plt.subplots();\n",
    "a.plot(nbkgr, s_exact, label=r\"Upper limit on $N_{sig}$\");\n",
    "a.set_xlabel('$N_{bkgr}$');\n",
    "a.set_ylabel('Upper limit on $N_{sig}$');\n",
    "plt.legend();"
   ]
  },
  {
   "cell_type": "code",
   "execution_count": 14,
   "metadata": {
    "collapsed": false
   },
   "outputs": [
    {
     "name": "stdout",
     "output_type": "stream",
     "text": [
      "Nbkgr: 1000.0 Upper limit on Nsig: 53.37411196313675\n",
      "Nbkgr: 2000.0 Upper limit on Nsig: 74.9174595470497\n",
      "s_1/s_2: 1.403629152627252\n"
     ]
    }
   ],
   "source": [
    "b_1 = 1000.0; s_1 = calc_s(b_1);\n",
    "b_2 = 2000.0; s_2 = calc_s(b_2);\n",
    "print('Nbkgr: {} Upper limit on Nsig: {}'.format(b_1, s_1));\n",
    "print('Nbkgr: {} Upper limit on Nsig: {}'.format(b_2, s_2));\n",
    "print('s_1/s_2: {}'.format(s_2/s_1));"
   ]
  },
  {
   "cell_type": "markdown",
   "metadata": {},
   "source": [
    "## $\\frac{s_{U.L.}}{b}$ as a function of $N_{bkgr}$"
   ]
  },
  {
   "cell_type": "code",
   "execution_count": 15,
   "metadata": {
    "collapsed": true
   },
   "outputs": [],
   "source": [
    "b = np.linspace(1.0, 1000.0, 100);\n",
    "s_over_b = calc_s_over_b(b);"
   ]
  },
  {
   "cell_type": "code",
   "execution_count": 16,
   "metadata": {
    "collapsed": false
   },
   "outputs": [
    {
     "data": {
      "image/png": "[encoded data removed]",
      "text/plain": [
       "<matplotlib.figure.Figure at 0x7ffa4eeb9b00>"
      ]
     },
     "metadata": {},
     "output_type": "display_data"
    }
   ],
   "source": [
    "f, a = plt.subplots();\n",
    "a.plot(b, s_over_b);\n",
    "a.set_xlabel(r\"Number of bkgr events\");\n",
    "a.set_ylabel(r\"s/b ratio\");"
   ]
  }
 ],
 "metadata": {
  "anaconda-cloud": {},
  "kernelspec": {
   "display_name": "Python [default]",
   "language": "python",
   "name": "python3"
  },
  "language_info": {
   "codemirror_mode": {
    "name": "ipython",
    "version": 3
   },
   "file_extension": ".py",
   "mimetype": "text/x-python",
   "name": "python",
   "nbconvert_exporter": "python",
   "pygments_lexer": "ipython3",
   "version": "3.4.5"
  }
 },
 "nbformat": 4,
 "nbformat_minor": 2
}
