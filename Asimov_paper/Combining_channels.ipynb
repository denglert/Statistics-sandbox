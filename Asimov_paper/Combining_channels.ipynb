{
 "cells": [
  {
   "cell_type": "markdown",
   "metadata": {},
   "source": [
    "# Combining bins or channels"
   ]
  },
  {
   "cell_type": "markdown",
   "metadata": {},
   "source": [
    "**Please note the following when reading this note:**\n",
    "- I use the terms ''bin'' and ''channel'' interchangeably.\n",
    "- During the derivation of the formulae I try to emphasize where I use certain approximations or make assumptions, however there might some places where I forgot to add this. If for some steps you spot this or is not obvious what I am doing, please consider that most of the time I am invoking the following assumptions:\n",
    "    * high statistics $N \\rightarrow \\infty$, so that I can neglect any $\\mathcal{O}\\left(\\frac{1}{\\sqrt{N}}\\right)$ terms\n",
    "    * neglecting any systematic uncertainties\n",
    "    * When talking about channels, I consider a single channel to be only composed of a single bin to simplify the derivation.\n",
    "- If you find any errors please let me know: david.englert@cern.ch\n",
    "    \n",
    "References:\n",
    "- [Asimov paper](https://arxiv.org/abs/1007.1727)\n",
    "\n",
    "------"
   ]
  },
  {
   "cell_type": "markdown",
   "metadata": {},
   "source": [
    "In the case where we have multiple measurements each with the power to constrain a set of parameters, we can collect all the available information into a single object, the combined likelihood function. In case of independent measurements, the combined likelihood is the product of the individual likelihoods:\n",
    "\n",
    "$$\n",
    "\\mathcal{L}\n",
    "=\n",
    "\\prod \\limits_{i=1}^{n}\n",
    "\\mathcal{L}_{i}\n",
    "$$\n",
    "\n",
    "The likelihood in a single bin in most of the cases is described by a Poisson distribution:\n",
    "\n",
    "$$\\mathcal{L}_{i} = \\frac{\\lambda_{i}}{n_{i}} e^{-\\lambda_{i}},$$\n",
    "\n",
    "where $\\lambda$ is the expected number of events in that single bin, and $n_{i}$ is the actual observed number of events.\n",
    "\n",
    "In the context of statistical tests in high energy physics, usually one of the hypothesis includes an additional, distinguished contribution which we regard as the ''signal contribution'' that is described by a signal model. The signal model specifies how many signal events we expect in each channel or bin, denoted by $s_{i}$. This is obviously dependent on luminosity, model parameters etc. We can scale the overall expected number of signal events relative to a nominal signal model using the parameter $\\mu$, which is the signal strength parameter. The motivation for introducing $\\mu$ can be the following:\n",
    "- the data inherently contains fluctuation, and we would like to to describe these fluctuations with a variable magnitude signal $\\rightarrow$ variable $\\mu$ as well\n",
    "- we can describe both the background only (with $\\mu=0$) and non-zero signal ($\\mu \\neq 0$) scenarios.\n",
    "- in case we want to set an upper limit on the signal cross section, the null-hypothesis, $H_{0}$ is the signal + background model, where we can scale the expected number of signal events by $\\mu$ (essentially scaling the cross-section by $\\mu$), to arrive at a sufficient $p$-value for which we can exclude $H_{0}$.\n",
    "\n",
    "Therefore the expected number of events in a particular hypothesis is described by:\n",
    "\n",
    "$\\lambda_{i} = b_{i} + \\mu s_{i}$\n",
    "\n",
    "where $b_{i}$ is the expected background, $s_{i}$ is the number of signal events in a nominal signal model, and $\\mu$ is just the above defined signal strength parameter."
   ]
  },
  {
   "cell_type": "markdown",
   "metadata": {},
   "source": [
    "### Maximum likelihood estimator for $\\mu$: $\\hat{\\mu}$\n",
    "\n",
    "The maximum likelihood estimator is defined to be the value of $\\mu$ for which $\\mathcal{L}$ takes its maximum value:\n",
    "\n",
    "$$\\mathcal{L}|_{\\mu = \\hat{\\mu}} = \\mathcal{L}_{max}$$\n",
    "\n",
    "Often it is easier to find the maximum of $\\ln \\mathcal{L}$ instead of $\\mathcal{L}$. Since $\\ln(x)$ is a strictly increasing monoton function of $x$, finding the maximum of $\\ln(\\mathcal{L})$ is the same as finding the maximum of $\\mathcal{L}$:\n",
    "\n",
    "$$\\ln \\mathcal{L}|_{\\mu = \\hat{\\mu}} = \\ln \\mathcal{L}_{max}$$\n",
    "\n",
    "We will use this property in the below derivations.\n",
    "\n",
    "#### Single bin\n",
    "\n",
    "$$\\ln \\mathcal{L}_{i} = n_{i} \\ln (\\lambda_{i}) - \\ln (n_{i}!) - \\lambda_{i} $$\n",
    "\n",
    "\n",
    "Finding $\\hat{\\mu}$ requires us to find the global maximum of $\\ln \\mathcal{L}$. We can examine the local extremums first:\n",
    "\n",
    "$$ \\frac{d \\ln \\mathcal{L}}{ d \\mu} = n_{i} \\frac{1}{\\lambda_{i}} s_{i} - s_{i} = 0$$\n",
    "\n",
    "and we find only one solution:\n",
    "\n",
    "$$ \\hat{\\mu} = \\frac{n_{i} - b_{i}}{s_{i}} $$\n",
    "\n",
    "#### Two bins\n",
    "\n",
    "When we have two independent measurements constraining the same parameter (in this case $\\mu$), we might know from our prior education that the combined best estimate for the parameter will be the uncertainty weighted average:\n",
    "\n",
    "\n",
    "$$\n",
    "\\hat{\\mu}_{comb}\n",
    "=\n",
    "  \\frac{\n",
    "  \\frac{ \\hat{\\mu}_{1} }{ \\sigma^{2}_{\\hat{\\mu}_{1}} }\n",
    "+ \\frac{ \\hat{\\mu}_{2} }{ \\sigma^{2}_{\\hat{\\mu}_{2}} } \n",
    "  }\n",
    "  {   \n",
    "  \\frac{1}{\\sigma^{2}_{\\hat{\\mu}_{1}}}\n",
    "+ \\frac{1}{\\sigma^{2}_{\\hat{\\mu}_{2}}}\n",
    "  }\n",
    "\\text{(Eq. 1)}\n",
    "$$ \n",
    "  \n",
    "and the variance of $\\hat{\\mu}$_{comb}:\n",
    "\n",
    "\n",
    "$$\n",
    "\\sigma^{2}_{\\hat{\\mu}_{comb}}\n",
    "=\n",
    "  \\frac{\n",
    "  1\n",
    "  }\n",
    "  {   \n",
    "  \\frac{1}{\\sigma^{2}_{\\hat{\\mu}_{1}}}\n",
    "+ \\frac{1}{\\sigma^{2}_{\\hat{\\mu}_{2}}}\n",
    "  }\n",
    "$$ \n",
    "  \n",
    "Knowing this a priori can guide us in the derivation.\n",
    "\n",
    "##### Proof:\n",
    "\n",
    "Here the expected number of events will be:\n",
    "\n",
    "$$\\lambda_{1} = b_{1} + s_{1} \\mu$$\n",
    "\n",
    "$$\\lambda_{2} = b_{2} + s_{2} \\mu$$\n",
    "\n",
    "The log-likelihood:\n",
    "\n",
    "$$\\ln \\mathcal{L} = n_{1} \\ln (\\lambda_{1}) - \\ln (n_{1}!) - \\lambda_{1} + n_{2} \\ln (\\lambda_{2}) - \\ln (n_{2}!) - \\lambda_{2} $$\n",
    "\n",
    "Again, investigating the local extremums:\n",
    "\n",
    "$$\n",
    "\\frac{d \\ln \\mathcal{L}}{ d \\mu}\n",
    "=\n",
    "\\frac{n_{1}}{\\lambda_{1}} s_{1} - s_{1} + \\frac{n_{2}}{\\lambda_{2}}  - s_{2} = 0\n",
    "$$\n",
    "\n",
    "\n",
    "adding and subtracting $b_{i}$ in the numerator, moving the $s_{i}$'s over the other side, and dividing both numerator and denominator by $s^{2}_{i}$:\n",
    "\n",
    "$$\n",
    "\\frac\n",
    "{ \\frac{n_{1}-b_{1}+b_{1}}{s_{1}} }\n",
    "{ \\frac{\\lambda_{1}}{s^{2}_{1}} }\n",
    "+\n",
    "\\frac\n",
    "{ \\frac{n_{2} - b_{2} + b_{2}}{s_{2}} }\n",
    "{ \\frac{\\lambda_{2}}{s^{2}_{2}} }\n",
    "=\n",
    "s_{1} + s_{2}\n",
    "$$\n",
    "\n",
    "moving over $b_{i}$ proportional terms, and the manipulating the RHS:\n",
    "\n",
    "$$\n",
    "\\frac\n",
    "{ \\hat{\\mu}_{1} }\n",
    "{ \\sigma^{2}_{\\hat{\\mu}_{1}} }\n",
    "+\n",
    "\\frac\n",
    "{ \\hat{\\mu}_{2} }\n",
    "{ \\sigma^{2}_{\\hat{\\mu}_{2}} }\n",
    "=\n",
    "s_{1}\n",
    "+\n",
    "s_{2}\n",
    "- \\frac{b_{1}}{\\lambda_{1}} s_{1}\n",
    "- \\frac{b_{2}}{\\lambda_{2}} s_{2}\n",
    "= \n",
    "s_{1}\n",
    "\\left(\n",
    "1\n",
    "- \\frac{b_{1}}{\\lambda_{1}}\n",
    "\\right)\n",
    "+\n",
    "s_{2}\n",
    "\\left(\n",
    "1 - \\frac{b_{2}}{\\lambda_{2}}\n",
    "\\right)\n",
    "$$\n",
    "\n",
    "Concentrating on the RHS:\n",
    "\n",
    "$$\n",
    "s_{1}\n",
    "\\left(\n",
    "\\frac{b_{1} - b_{1} + \\mu s_{1}}{\\lambda_{1}}\n",
    "\\right)\n",
    "+\n",
    "s_{2}\n",
    "\\left(\n",
    "\\frac{b_{2} - b_{2} + \\mu s_{2}}{\\lambda_{2}}\n",
    "\\right)\n",
    "=\n",
    "\\mu\n",
    "\\left(\n",
    "\\frac{s^{2}_{1}}{\\lambda_{1}}\n",
    "+\n",
    "\\frac{s^{2}_{2}}{\\lambda_{2}}\n",
    "\\right)\n",
    "=\n",
    "\\mu\n",
    "\\left(\n",
    "\\frac{1}{ \\frac{\\lambda_{1}}{s^{2}_{1}} }\n",
    "+\n",
    "\\frac{1}{ \\frac{\\lambda_{2}}{s^{2}_{2}} }\n",
    "\\right)\n",
    "=\n",
    "\\mu\n",
    "\\left(   \n",
    "  \\frac{1}{\\sigma^{2}_{\\hat{\\mu}_{1}}}\n",
    "+ \\frac{1}{\\sigma^{2}_{\\hat{\\mu}_{2}}}\n",
    "\\right)\n",
    "$$\n",
    "\n",
    "Therefore we have:\n",
    "\n",
    "$$\n",
    "\\hat{\\mu}_{comb}\n",
    "=\n",
    "  \\frac{\n",
    "  \\frac{ \\hat{\\mu}_{1} }{ \\sigma^{2}_{\\hat{\\mu}_{1}} }\n",
    "+ \\frac{ \\hat{\\mu}_{2} }{ \\sigma^{2}_{\\hat{\\mu}_{2}} } \n",
    "  }\n",
    "  {   \n",
    "  \\frac{1}{\\sigma^{2}_{\\hat{\\mu}_{1}}}\n",
    "+ \\frac{1}{\\sigma^{2}_{\\hat{\\mu}_{2}}}\n",
    "  }\n",
    "$$"
   ]
  },
  {
   "cell_type": "markdown",
   "metadata": {},
   "source": [
    "## Expected significance after combining channels"
   ]
  },
  {
   "cell_type": "markdown",
   "metadata": {},
   "source": [
    "Competing hypotheses:\n",
    "- $H_{0}$: background only ($\\mu = 0$)\n",
    "- $H_{1}$: signal + background ($\\mu \\neq 0$)\n",
    "\n",
    "#### Channel 1:\n",
    "\n",
    "Expected value of $\\hat{\\mu}_{1}$ under the assumption of $H_{1}$:\n",
    "\n",
    "$$\\hat{\\mu}_1 = 1$$\n",
    "\n",
    "Expected significance (invoking the Wald-approximation, and using the test statistic $g$, [see noteboook on the different test statistics][test-stats]):\n",
    "\n",
    "$$\n",
    "Z_{1}\n",
    "=\n",
    "\\frac{\\hat{\\mu}_{1}}{\\sigma_{\\hat{\\mu}_{1}}}\n",
    "=\n",
    "\\frac{1}{\\sigma_{\\hat{\\mu}_{1}}}\n",
    "$$\n",
    "\n",
    "Therefore the uncertainty  on $\\hat{\\mu}_{1}$ is: $\\sigma_{\\hat{\\mu}_{1}} = \\frac{1}{Z_{1}}$\n",
    "\n",
    "#### Channel 2:\n",
    "\n",
    "Expected value of $\\hat{\\mu}_{2}$ nder the assumption of $H_{1}$:\n",
    "\n",
    "$$\\hat{\\mu}_2 = 1$$\n",
    "\n",
    "Expected significance invoking the Wald-approximation, and using the test statistic $g$, [see noteboook on the different test statistics][test-stats]):\n",
    "\n",
    "$$\n",
    "Z_{2}\n",
    "=\n",
    "\\frac{\\hat{\\mu}_{2}}{\\sigma_{\\hat{\\mu}_{2}}}\n",
    "=\n",
    "\\frac{1}{\\sigma_{\\hat{\\mu}_{2}}}\n",
    "$$\n",
    "\n",
    "Uncertainty on $\\hat{\\mu}_{2}$ is: $\\sigma_{\\hat{\\mu}_{2}} = \\frac{1}{Z_{2}}$\n",
    "\n",
    "\n",
    "#### Combination\n",
    "\n",
    "Substituting the values into Eq. 1, we have:\n",
    "\n",
    "$$ \\hat{\\mu} = \\frac{ \\frac{1}{\\sigma^{2}_{\\hat{\\mu}_{1}}} + \\frac{1}{\\sigma^{2}_{\\hat{\\mu}_{1}}} }{ \\frac{1}{\\sigma^{2}_{\\hat{\\mu}_{1}}} + \\frac{1}{\\sigma^{2}_{\\hat{\\mu}_{1}}}  } = 1 $$\n",
    "\n",
    "and the uncertainty on the combined single strength parameter:\n",
    "\n",
    "$$\n",
    "\\widetilde{\\sigma}^{2}\n",
    "=\n",
    "\\frac{ 1 }\n",
    "{ \\frac{1}{\\sigma^{2}_{\\hat{\\mu}_{1}}} + \\frac{1}{\\sigma^{2}_{\\hat{\\mu}_{1}}}  }\n",
    "=\n",
    "\\frac{1}{Z^{2}_{1} + Z^{2}_{2}}\n",
    "$$\n",
    "\n",
    "Expected significance:\n",
    "\n",
    "$$\n",
    "Z_{comb}\n",
    "=\n",
    "\\frac{1}{ \\widetilde{\\sigma}} \n",
    "=\n",
    "\\sqrt{ Z^{2}_{1} + Z^{2}_{2} }\n",
    "$$\n",
    "\n",
    "\n",
    "[test-stats]: ./Simple_single_bin_scenario_expected_upper_limit_test_statistics.ipynb"
   ]
  },
  {
   "cell_type": "markdown",
   "metadata": {},
   "source": [
    "## Expected upper limit  after combining channels\n",
    "\n",
    "Competing hypotheses:\n",
    "- $H_{0}$: signal + background ($\\mu \\neq 0$)\n",
    "- $H_{1}$: background only ($\\mu = 0$)\n",
    "\n",
    "#### Channel 1:\n",
    "\n",
    "Expected value of $\\hat{\\mu}_{1}: 0$\n",
    "\n",
    "Required significance corresponding to 95% CL: $Z = 1.64$\n",
    "\n",
    "Using the test statistic $g$ ([see noteboook][test-stats]):\n",
    "\n",
    "$$\n",
    "Z\n",
    "=\n",
    "\\frac{\\mu^{UL}_{1}}{\\sigma_{\\hat{\\mu}_{1}}}\n",
    "$$\n",
    "\n",
    "Gives us the expected upper limit on $\\mu_{1}$:\n",
    "\n",
    "$$\n",
    "\\mu^{UL}_{1}\n",
    "=\n",
    "Z \\sigma_{\\hat{\\mu}_{1}}\n",
    "$$\n",
    "\n",
    "For the combination, the expression for uncertainty will come in handy:\n",
    "\n",
    "$$\n",
    "\\sigma_{\\hat{\\mu}_{1}}\n",
    "=\n",
    "\\frac{\\mu^{UL}_{1}}{Z}\n",
    "$$\n",
    "\n",
    "#### Channel 2:\n",
    "\n",
    "Expected value of $\\hat{\\mu}_{2}: 0$\n",
    "\n",
    "Required significance corresponding to 95% CL: $Z = 1.64$\n",
    "\n",
    "Using the test statistic $g$ ([see noteboook][test-stats]):\n",
    "\n",
    "$$\n",
    "Z\n",
    "=\n",
    "\\frac{\\mu^{UL}_{2}}{\\sigma_{\\hat{\\mu}_{2}}}\n",
    "$$\n",
    "\n",
    "Gives us the expected upper limit on $\\mu_{2}$:\n",
    "\n",
    "$$\n",
    "\\mu^{UL}_{2}\n",
    "=\n",
    "Z \\sigma_{\\hat{\\mu}_{2}}\n",
    "$$\n",
    "\n",
    "The uncertainty explicitly:\n",
    "\n",
    "$$\n",
    "\\sigma_{\\hat{\\mu}_{2}}\n",
    "=\n",
    "\\frac{\\mu^{UL}_{2}}{Z}\n",
    "$$\n",
    "\n",
    "#### Combination:\n",
    "\n",
    "Expected value of $\\hat{\\mu}$: $0$.\n",
    "\n",
    "Combined uncertainty:\n",
    "\n",
    "$$\n",
    "\\sigma^{2}_{\\hat{\\mu}_{comb}}\n",
    "=\n",
    "\\frac{ 1 }\n",
    "{ \\frac{1}{\\sigma^{2}_{\\hat{\\mu}_{1}}} + \\frac{1}{\\sigma^{2}_{\\hat{\\mu}_{1}}}  }\n",
    "$$\n",
    "\n",
    "The expected upper limit on $\\mu$:\n",
    "\n",
    "$$\n",
    "\\mu^{UL}_{comb}\n",
    "=\n",
    "Z\n",
    "\\sigma_{\\hat{\\mu}_{comb}}\n",
    "$$\n",
    "\n",
    "\n",
    "Substituting in with the expression for $\\sigma_{\\hat{\\mu}}$:\n",
    "\n",
    "$$\n",
    "\\mu^{UL}_{comb}\n",
    "=\n",
    "Z\n",
    "\\frac{ 1 }\n",
    "{\n",
    "\\sqrt{\n",
    "\\frac{1}{\\sigma^{2}_{\\hat{\\mu}_{1}}}\n",
    "+\n",
    "\\frac{1}{\\sigma^{2}_{\\hat{\\mu}_{2}}}\n",
    "}\n",
    "}\n",
    "$$\n",
    "\n",
    "\n",
    "To give more meaning to this result, we remind ourselves that:\n",
    "\n",
    "\n",
    "$$\n",
    "\\sigma^{2}_{\\hat{\\mu}_{i}} = \\frac{\\mu s_{i} + b}{s^{2}_{i}}\n",
    "$$\n",
    "\n",
    "therefore\n",
    "\n",
    "$$\n",
    "\\mu^{UL}\n",
    "=\n",
    "Z\n",
    "\\frac{1}\n",
    "{\n",
    "\\sqrt{\n",
    "\\frac{s^{2}_{1}}{b_{1}+\\mu s_{1}}\n",
    "+\n",
    "\\frac{s^{2}_{2}}{b_{2}+\\mu s_{2}}\n",
    "}\n",
    "}\n",
    "$$\n",
    "\n",
    "where $\\mu^{UL}$ = $\\mu$. We will solve this equation numerically with `scipy.optmize.fsolve` below.\n",
    "\n",
    "##### Approximation for combined limits:\n",
    "\n",
    "**Assumption:**\n",
    "\n",
    "The variation of $\\mu$ will result in small variations in the uncertainties $\\sigma_{\\hat{\\mu}_{i}}$ therefore we can neglect these. This could be case if both channels have large backgrounds.\n",
    "\n",
    "Here we can substitute in the formula we got above for the uncertainties, $\\sigma_{\\hat{\\mu}_{i}}$ from the invididual channels:\n",
    "\n",
    "\n",
    "$$\n",
    "\\sigma_{\\hat{\\mu}_{i}}\n",
    "=\n",
    "\\frac{\\mu^{UL}_{i}}{Z}\n",
    "$$\n",
    "\n",
    "and cancelling $Z$, in the end we have:\n",
    "\n",
    "$$\n",
    "\\mu^{UL}_{comb}\n",
    "=\n",
    "Z\n",
    "\\frac{ 1 }\n",
    "{\n",
    "\\sqrt{\n",
    "\\frac{Z^{2}}{(\\mu^{UL}_{1})^{2}}\n",
    "+\n",
    "\\frac{Z^{2}}{(\\mu^{UL}_{2})^{2}}\n",
    "}\n",
    "}\n",
    "=\n",
    "\\frac{ 1 }\n",
    "{\n",
    "\\sqrt{\n",
    "\\frac{1}{(\\mu^{UL}_{1})^{2}}\n",
    "+\n",
    "\\frac{1}{(\\mu^{UL}_{2})^{2}}\n",
    "}\n",
    "}\n",
    "$$\n",
    "\n",
    "[test-stats]: ./Simple_single_bin_scenario_expected_upper_limit_test_statistics.ipynb"
   ]
  },
  {
   "cell_type": "code",
   "execution_count": 1,
   "metadata": {
    "collapsed": true
   },
   "outputs": [],
   "source": [
    "import matplotlib.pyplot as plt\n",
    "import numpy as np\n",
    "from scipy.stats import norm\n",
    "from scipy.optimize import fsolve\n",
    "%matplotlib inline"
   ]
  },
  {
   "cell_type": "markdown",
   "metadata": {},
   "source": [
    "General utility function"
   ]
  },
  {
   "cell_type": "code",
   "execution_count": 2,
   "metadata": {
    "collapsed": true
   },
   "outputs": [],
   "source": [
    "def get_significance_from_CL(CL):\n",
    "    \"\"\"Calculate the significance corresponding to a confidence level\"\"\"\n",
    "    p = 1.0 - CL\n",
    "    Z = norm.isf(p)\n",
    "    return Z"
   ]
  },
  {
   "cell_type": "markdown",
   "metadata": {},
   "source": [
    "Functions for single channel/bin"
   ]
  },
  {
   "cell_type": "code",
   "execution_count": 3,
   "metadata": {
    "collapsed": true
   },
   "outputs": [],
   "source": [
    "def calc_s_ul(b, CL=0.95):\n",
    "    \"\"\"Calculates the x% CL upper limit on the number of signal events\n",
    "    given the expected number of background events.\"\"\"\n",
    "    Z = get_significance_from_CL(CL)\n",
    "    s = 0.5*Z*(Z + np.sqrt(Z**2+4.0*b))\n",
    "    return s"
   ]
  },
  {
   "cell_type": "code",
   "execution_count": 4,
   "metadata": {
    "collapsed": true
   },
   "outputs": [],
   "source": [
    "def calc_mu_ul(sigma_s_nom, sigma_b_nom, eps_s, eps_b, lumi, CL=0.95):\n",
    "    \"\"\"Calculates the x% CL upper limit on the number of signal events\n",
    "    given the expected number of background events.\"\"\"\n",
    "    Z = get_significance_from_CL(CL)\n",
    "    b = sigma_b_nom * eps_b * lumi\n",
    "    s_ul = calc_s_ul(b, CL)\n",
    "    mu_ul = s_ul/sigma_s_nom/eps_s/lumi\n",
    "    return mu_ul"
   ]
  },
  {
   "cell_type": "markdown",
   "metadata": {},
   "source": [
    "Functions for combined channels/bins"
   ]
  },
  {
   "cell_type": "code",
   "execution_count": 5,
   "metadata": {
    "collapsed": false
   },
   "outputs": [],
   "source": [
    "def calc_mu_ul_combined_approximate(mu_ul_1, mu_ul_2):\n",
    "    \"\"\"Approximate formula neglecting the possible variation of\n",
    "    the uncertainty due to the variation of mu.\"\"\"\n",
    "    mu_ul_comb = 1.0/np.sqrt( (1.0/mu_ul_1**2) + (1.0/mu_ul_2**2))\n",
    "    return mu_ul_comb"
   ]
  },
  {
   "cell_type": "code",
   "execution_count": 6,
   "metadata": {
    "collapsed": true
   },
   "outputs": [],
   "source": [
    "def mu_ul_eq(mu, s1, b1, s2, b2, CL=0.95):\n",
    "    \"\"\"Equation to be solved for mu (see above notes).\"\"\"\n",
    "    Z = get_significance_from_CL(CL)\n",
    "    eq = (mu**2) * ( (s1**2/(b1 + mu * s1)) + (s2**2/(b2 + mu * s2)) ) - Z**2\n",
    "    return eq"
   ]
  },
  {
   "cell_type": "code",
   "execution_count": 7,
   "metadata": {
    "collapsed": true
   },
   "outputs": [],
   "source": [
    "def calc_mu_ul_combined_evts(s1, b1, s2, b2, CL=0.95):\n",
    "    \"\"\"Calculate the upper limit on mu as a root of `mu_ul_eq` equation.\"\"\"\n",
    "    Z = get_significance_from_CL(CL)\n",
    "    mu_sol = fsolve(mu_ul_eq, x0=10.0, args=(s1, b1, s2, b2))\n",
    "    mu_ul = mu_sol[0]\n",
    "    return mu_ul"
   ]
  },
  {
   "cell_type": "code",
   "execution_count": 8,
   "metadata": {
    "collapsed": true
   },
   "outputs": [],
   "source": [
    "def calc_mu_ul_combined(s2b_1, s2b_2, eff1, eff2, lumi, CL=0.95 ):\n",
    "    \"\"\"Calculate the upper limit on mu from signal-to-background ratios,\n",
    "    efficiencies and luminosity.\"\"\"\n",
    "    Z = get_significance_from_CL(CL)\n",
    "    s1 = eff1 * lumi\n",
    "    s2 = eff2 * lumi\n",
    "    b1 = s1 / s2b_1\n",
    "    b2 = s2 / s2b_2\n",
    "    mu = calc_mu_ul_combined_evts(s1, b1, s2, b2, CL)\n",
    "    return mu"
   ]
  },
  {
   "cell_type": "markdown",
   "metadata": {},
   "source": [
    "Vectorized functions"
   ]
  },
  {
   "cell_type": "code",
   "execution_count": 9,
   "metadata": {
    "collapsed": false
   },
   "outputs": [],
   "source": [
    "calc_mu_ul_combined_vec       = np.vectorize(calc_mu_ul_combined)\n",
    "calc_mu_ul_combined_approximate_vec = np.vectorize(calc_mu_ul_combined_approximate)"
   ]
  },
  {
   "cell_type": "markdown",
   "metadata": {},
   "source": [
    "## Testing functions"
   ]
  },
  {
   "cell_type": "markdown",
   "metadata": {},
   "source": [
    "p = 0.05 should correspond to Z=1.64"
   ]
  },
  {
   "cell_type": "code",
   "execution_count": 10,
   "metadata": {
    "collapsed": false
   },
   "outputs": [
    {
     "data": {
      "text/plain": [
       "1.6448536269514722"
      ]
     },
     "execution_count": 10,
     "metadata": {},
     "output_type": "execute_result"
    }
   ],
   "source": [
    "get_significance_from_CL(0.95)"
   ]
  },
  {
   "cell_type": "markdown",
   "metadata": {},
   "source": [
    "Below three results should be identical"
   ]
  },
  {
   "cell_type": "code",
   "execution_count": 11,
   "metadata": {
    "collapsed": false
   },
   "outputs": [
    {
     "data": {
      "text/plain": [
       "6.7272880668176169"
      ]
     },
     "execution_count": 11,
     "metadata": {},
     "output_type": "execute_result"
    }
   ],
   "source": [
    "calc_mu_ul_combined_evts(s1=1.0, b1=10.0, s2=0.0, b2=10.0)"
   ]
  },
  {
   "cell_type": "code",
   "execution_count": 12,
   "metadata": {
    "collapsed": false
   },
   "outputs": [
    {
     "data": {
      "text/plain": [
       "6.7272880668176178"
      ]
     },
     "execution_count": 12,
     "metadata": {},
     "output_type": "execute_result"
    }
   ],
   "source": [
    "calc_mu_ul(sigma_s_nom=1.0, sigma_b_nom=10.0, eps_s=1.0, eps_b=1.0, lumi=1.0)"
   ]
  },
  {
   "cell_type": "code",
   "execution_count": 13,
   "metadata": {
    "collapsed": false
   },
   "outputs": [
    {
     "data": {
      "text/plain": [
       "6.7272880668176178"
      ]
     },
     "execution_count": 13,
     "metadata": {},
     "output_type": "execute_result"
    }
   ],
   "source": [
    "calc_s_ul(10.0)"
   ]
  },
  {
   "cell_type": "markdown",
   "metadata": {},
   "source": [
    "## Illustration of statistical combination for upper limits"
   ]
  },
  {
   "cell_type": "markdown",
   "metadata": {},
   "source": [
    "Setup:\n",
    "\n",
    "We have two channels:\n",
    "- Channel #1\n",
    "- Channel #2\n",
    "\n",
    "with corresponding $s/b$ and $\\epsilon$.\n",
    "\n",
    "Channel #2 has three different realizations a), b) and c)."
   ]
  },
  {
   "cell_type": "code",
   "execution_count": 14,
   "metadata": {
    "collapsed": true
   },
   "outputs": [],
   "source": [
    "# - 1: Channel 1\n",
    "# - 2: Channel 2\n",
    "# - a/b/c different variant of channel 2.\n",
    "# Signal-to-background ratios\n",
    "s2b_1 = 0.10\n",
    "s2b_2 = 0.10\n",
    "# Efficiencies\n",
    "eff1 = 1.0\n",
    "eff2_a = 0.5\n",
    "eff2_b = 0.1\n",
    "eff2_c = 0.01"
   ]
  },
  {
   "cell_type": "markdown",
   "metadata": {},
   "source": [
    "### Using the numerically solved formula for the combination"
   ]
  },
  {
   "cell_type": "code",
   "execution_count": 15,
   "metadata": {
    "collapsed": false
   },
   "outputs": [],
   "source": [
    "lumi  = np.linspace(10.0, 100.0, 100)\n",
    "bkg = lumi*eff1/s2b_1\n",
    "limit_single_ch1 = calc_mu_ul(sigma_s_nom=1.0, sigma_b_nom=1.0/s2b_1, eps_s=eff1, eps_b=eff1, lumi=lumi)\n",
    "limit_single_ch2_a = calc_mu_ul(sigma_s_nom=1.0, sigma_b_nom=1.0/s2b_2, eps_s=eff2_a, eps_b=eff2_a, lumi=lumi)\n",
    "limit_single_ch2_b = calc_mu_ul(sigma_s_nom=1.0, sigma_b_nom=1.0/s2b_2, eps_s=eff2_b, eps_b=eff2_b, lumi=lumi)\n",
    "limit_combined_a = calc_mu_ul_combined_vec(s2b_1, s2b_2, eff1, eff2_a, lumi)\n",
    "limit_combined_b = calc_mu_ul_combined_vec(s2b_1, s2b_2, eff1, eff2_b, lumi)\n",
    "limit_combined_c = calc_mu_ul_combined_vec(s2b_1, s2b_2, eff1, eff2_c, lumi)"
   ]
  },
  {
   "cell_type": "code",
   "execution_count": 16,
   "metadata": {
    "collapsed": false
   },
   "outputs": [
    {
     "data": {
      "image/png": "[encoded data removed]",
      "text/plain": [
       "<matplotlib.figure.Figure at 0x7fc68c556f98>"
      ]
     },
     "metadata": {},
     "output_type": "display_data"
    }
   ],
   "source": [
    "f,a = plt.subplots();\n",
    "label_single_ch1   = rf\"Single channel #1:    $\\epsilon_{{1}} = {eff1}$, $(s/b)_{{1}} = {s2b_1}$\"\n",
    "label_single_ch2_a = rf\"Single channel #2 a): $\\epsilon_{{2}} = {eff2_a}$, $(s/b)_{{2}} = {s2b_2}$\"\n",
    "label_single_ch2_b = rf\"Single channel #2 b): $\\epsilon_{{2}} = {eff2_b}$, $(s/b)_{{2}} = {s2b_2}$\"\n",
    "label_two_ch_a = rf\"Combination of two channels a): $\\epsilon_{{1}} = {eff1}$, $(s/b)_{{1}}={s2b_1}$; $\\epsilon_{{2}} = {eff2_a}$, $(s/b)_{{2}}={s2b_2}$\"\n",
    "label_two_ch_b = rf\"Combination of two channels b): $\\epsilon_{{1}} = {eff1}$, $(s/b)_{{1}}={s2b_2}$; $\\epsilon_{{2}} = {eff2_b}$, $(s/b)_{{2}}={s2b_2}$\"\n",
    "a.plot(lumi, limit_single_ch1,   label=label_single_ch1,   c='k');\n",
    "a.plot(lumi, limit_single_ch2_a, label=label_single_ch2_a, c='b');\n",
    "a.plot(lumi, limit_single_ch2_b, label=label_single_ch2_b, c='g');\n",
    "a.plot(lumi, limit_combined_a, label=label_two_ch_a, linestyle='--', c='b');\n",
    "a.plot(lumi, limit_combined_b, label=label_two_ch_b, linestyle='--', c='g');\n",
    "#a.plot(lumi, limit_c, label=r'$\\epsilon_{1} = 1.0$, $\\epsilon_{2} = 0.01$');\n",
    "a.set_xlabel(r\"Luminosity [fb$^{-1}$]\");\n",
    "a.set_ylabel(r\"Limit on $\\mu$\");\n",
    "a.set_ylim(1e-1, 1e1)\n",
    "a.set_yscale(\"log\");\n",
    "plt.legend(bbox_to_anchor=(1, 1), loc='upper left', ncol=1);\n",
    "f.savefig('limit_combination.pdf', bbox_inches='tight')"
   ]
  },
  {
   "cell_type": "markdown",
   "metadata": {},
   "source": [
    "### Using the approximate formula for the combination"
   ]
  },
  {
   "cell_type": "markdown",
   "metadata": {},
   "source": [
    "$$\n",
    "\\mu^{UL}_{comb}\n",
    "=\n",
    "\\frac{ 1 }\n",
    "{\n",
    "\\sqrt{\n",
    "\\frac{1}{(\\mu^{UL}_{1})^{2}}\n",
    "+\n",
    "\\frac{1}{(\\mu^{UL}_{2})^{2}}\n",
    "}\n",
    "}\n",
    "$$"
   ]
  },
  {
   "cell_type": "code",
   "execution_count": 17,
   "metadata": {
    "collapsed": false
   },
   "outputs": [],
   "source": [
    "limit_combined_a = calc_mu_ul_combined_approximate_vec(limit_single_ch1, limit_single_ch2_a)\n",
    "limit_combined_b = calc_mu_ul_combined_approximate_vec(limit_single_ch1, limit_single_ch2_b)"
   ]
  },
  {
   "cell_type": "code",
   "execution_count": 18,
   "metadata": {
    "collapsed": false
   },
   "outputs": [
    {
     "data": {
      "image/png": "[encoded data removed]",
      "text/plain": [
       "<matplotlib.figure.Figure at 0x7fc689c42c50>"
      ]
     },
     "metadata": {},
     "output_type": "display_data"
    }
   ],
   "source": [
    "f,a = plt.subplots();\n",
    "label_single_ch1   = rf\"Single channel #1:    $\\epsilon_{{1}} = {eff1}$, $(s/b)_{{1}} = {s2b_1}$\"\n",
    "label_single_ch2_a = rf\"Single channel #2 a): $\\epsilon_{{2}} = {eff2_a}$, $(s/b)_{{2}} = {s2b_2}$\"\n",
    "label_single_ch2_b = rf\"Single channel #2 b): $\\epsilon_{{2}} = {eff2_b}$, $(s/b)_{{2}} = {s2b_2}$\"\n",
    "label_two_ch_combined_a = rf\"Combination of two channels a): $\\epsilon_{{1}} = {eff1}$, $(s/b)_{{1}}={s2b_1}$; $\\epsilon_{{2}} = {eff2_a}$, $(s/b)_{{2}}={s2b_2}$\"\n",
    "label_two_ch_combined_b = rf\"Combination of two channels b): $\\epsilon_{{1}} = {eff1}$, $(s/b)_{{1}}={s2b_2}$; $\\epsilon_{{2}} = {eff2_b}$, $(s/b)_{{2}}={s2b_2}$\"\n",
    "a.plot(lumi, limit_single_ch1,   label=label_single_ch1,   c='k');\n",
    "a.plot(lumi, limit_single_ch2_a, label=label_single_ch2_a, c='b');\n",
    "a.plot(lumi, limit_single_ch2_b, label=label_single_ch2_b, c='g');\n",
    "a.plot(lumi, limit_combined_a, label=label_two_ch_combined_a, linestyle='--', c='b');\n",
    "a.plot(lumi, limit_combined_b, label=label_two_ch_combined_b, linestyle='--', c='g');\n",
    "#a.plot(lumi, limit_c, label=r'$\\epsilon_{1} = 1.0$, $\\epsilon_{2} = 0.01$');\n",
    "a.set_xlabel(r\"Luminosity [fb$^{-1}$]\");\n",
    "a.set_ylabel(r\"Limit on $\\mu$\");\n",
    "a.set_ylim(1e-1, 1e1)\n",
    "a.set_yscale(\"log\");\n",
    "plt.legend(bbox_to_anchor=(1, 1), loc='upper left', ncol=1);\n",
    "f.savefig('limit_combination.pdf', bbox_inches='tight')"
   ]
  }
 ],
 "metadata": {
  "anaconda-cloud": {},
  "kernelspec": {
   "display_name": "Python [conda root]",
   "language": "python",
   "name": "conda-root-py"
  },
  "language_info": {
   "codemirror_mode": {
    "name": "ipython",
    "version": 3
   },
   "file_extension": ".py",
   "mimetype": "text/x-python",
   "name": "python",
   "nbconvert_exporter": "python",
   "pygments_lexer": "ipython3",
   "version": "3.6.1"
  }
 },
 "nbformat": 4,
 "nbformat_minor": 2
}
