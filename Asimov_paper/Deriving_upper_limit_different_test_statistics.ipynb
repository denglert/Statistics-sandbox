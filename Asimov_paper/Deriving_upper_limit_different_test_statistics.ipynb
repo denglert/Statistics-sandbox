{
 "cells": [
  {
   "cell_type": "markdown",
   "metadata": {},
   "source": [
    "# Distribution of different test statistics under $H_{0}$ and $H_{1}$, when deriving an upper limit on the signal parameters"
   ]
  },
  {
   "cell_type": "markdown",
   "metadata": {},
   "source": [
    "Here we show the distributions of the different test statistics ($t$, $q_{u.l.}$, $\\sqrt{q_{u.l.}}$, $g$) in the context of deriving upper limits on the signal parameters. To illustrate we make a simple experiment of measuring the number of events in a single bin (counting experiment).\n",
    "\n",
    "## Competing hypotheses\n",
    "\n",
    "### $H_{0}$: s+b\n",
    "### $H_{1}$: b\n",
    "\n",
    "## Test statistics used:\n",
    "\n",
    "- $t = -2 \\ln \\left[ \\frac{\\mathcal{L}(\\mu)}{ \\mathcal{L} (\\hat{\\mu}) }\\right]$\n",
    "- $q_{u.l.} = \\begin{cases} -2 \\ln \\left[ \\frac{\\mathcal{L}(\\mu)}{ \\mathcal{L}(\\hat{\\mu})} \\right] & \\hat{\\mu} \\leq \\mu, \\\\  0 & \\hat{\\mu} > \\mu \\end{cases}$\n",
    "- $\\sqrt{q_{u.l.}}$, just simply taking the square root of $q_{u.l.}$\n",
    "- $g = \\frac{\\hat{\\mu} - \\mu}{\\sigma_{\\hat{\\mu}}}$\n",
    "\n",
    "\n",
    "In this example we take the likelihood, $\\mathcal{L}$ to be the Poission likelihood, which is a function of the data ($n$ = number of events observed) and the model parameters (here $\\lambda$):\n",
    "\n",
    "$$\\mathcal{L}(\\text{data}, \\lambda) = \\frac{\\lambda^{n}}{n!} e^{-\\lambda}$$\n",
    "\n",
    "\n",
    "The expected number of events, $\\lambda$ is the sum of background events and signal events:\n",
    "\n",
    "$$\\lambda = b + \\mu s_{0},$$\n",
    "\n",
    "where $\\mu$ is the signal parameter relative to a nominal value of expected number of signal events.\n",
    "\n",
    "$\\hat{\\mu}$ in this example is simply:\n",
    "\n",
    "$$\\hat{\\mu} = \\frac{n_{obs}-b}{s_{0}}$$\n",
    "\n",
    "Notation:\n",
    "$\\hat{a}$ denotes the maximum likelihood estimator (MLE) of a parameter, which is defined by:\n",
    "$$\\mathcal{L}|_{\\hat{a}} = \\mathcal{L}_{max}$$"
   ]
  },
  {
   "cell_type": "markdown",
   "metadata": {},
   "source": [
    "Importing required libraries"
   ]
  },
  {
   "cell_type": "code",
   "execution_count": 1,
   "metadata": {
    "collapsed": false
   },
   "outputs": [],
   "source": [
    "import matplotlib.pyplot as plt\n",
    "import numpy as np\n",
    "from scipy.stats import norm\n",
    "from scipy.stats import poisson\n",
    "from scipy.optimize import minimize\n",
    "\n",
    "%matplotlib inline"
   ]
  },
  {
   "cell_type": "markdown",
   "metadata": {},
   "source": [
    "Utility functions"
   ]
  },
  {
   "cell_type": "code",
   "execution_count": 2,
   "metadata": {
    "collapsed": true
   },
   "outputs": [],
   "source": [
    "def likelihood_poi(mu, n, bkg, s0=1.0, neg=False):\n",
    "    \"\"\"Return the value of the Poisson likelihood function, given the:\n",
    "       - mu: signal strength parameter,\n",
    "       - n: number of events observed,\n",
    "       - bkg: expected number of background events,\n",
    "       - s0: nominal number of signal events\n",
    "       The total expected number of events is lambda = bkg + mu*s0.\n",
    "       \n",
    "       The `neg` argument just multiplies the likelihood by (-1).\n",
    "       This is used to for the minimize() function.\"\"\"\n",
    "    sig = mu * s0\n",
    "    exp = bkg + sig\n",
    "    likelihood = poisson.pmf(n, mu=exp)\n",
    "    \n",
    "    if neg:\n",
    "        return -likelihood\n",
    "    return likelihood"
   ]
  },
  {
   "cell_type": "code",
   "execution_count": 3,
   "metadata": {
    "collapsed": true
   },
   "outputs": [],
   "source": [
    "def calc_muhat(likelihood, n, bkg, s0=1.0, simple=True):\n",
    "    \"\"\"Calculated the MLE estimator for mu given the:\n",
    "        - likelihood: likelihood function,\n",
    "        - n: number of events observed,\n",
    "        - bkg: expected number of background events,\n",
    "        - s0: nominal number of signal events.\n",
    "        The `simple` argument switches between actually\n",
    "        maximizing the Poisson distribution, or just the simple solution,\n",
    "        (n-bkg)/s0\"\"\"\n",
    "    if simple:\n",
    "        muhat = (n-bkg)/s0\n",
    "        return muhat\n",
    "    else:\n",
    "        res = minimize(likelihood, x0=[0.0], args=(n, bkg, s0, True), method='Nelder-Mead')\n",
    "        likelihood = -res['fun']\n",
    "        muhat      =  res['x'][0]\n",
    "        return muhat"
   ]
  },
  {
   "cell_type": "code",
   "execution_count": 4,
   "metadata": {
    "collapsed": true
   },
   "outputs": [],
   "source": [
    "def t(likelihood, mu, n, bkg, s0=1.0):\n",
    "    \"\"\"Calculates the value of the test statistic t\"\"\"\n",
    "    muhat = calc_muhat(likelihood, n, bkg, s0)\n",
    "    ll1   = np.log( likelihood(mu,    n, bkg, s0=s0) )\n",
    "    ll2   = np.log( likelihood(muhat, n, bkg, s0=s0) )\n",
    "    t = -2.0 * (ll1 - ll2)\n",
    "    return t"
   ]
  },
  {
   "cell_type": "code",
   "execution_count": 5,
   "metadata": {
    "collapsed": true
   },
   "outputs": [],
   "source": [
    "def q_ul(likelihood, mu, n, bkg, s0=1.0):\n",
    "    \"\"\"Calculates the value of the test static q_{u.l}\"\"\"\n",
    "    muhat = calc_muhat(likelihood, n, bkg, s0)\n",
    "    if muhat > mu:\n",
    "        return 0.0\n",
    "    ll1   = np.log( likelihood(mu,    n, bkg, s0=s0) )\n",
    "    ll2   = np.log( likelihood(muhat, n, bkg, s0=s0) )\n",
    "    t = -2.0 * (ll1 - ll2)\n",
    "    return t"
   ]
  },
  {
   "cell_type": "code",
   "execution_count": 6,
   "metadata": {
    "collapsed": true
   },
   "outputs": [],
   "source": [
    "def g(likelihood, mu, n, bkg, s0=1.0):\n",
    "    \"\"\"Calculates the value of the test statistic g\"\"\"\n",
    "    muhat = calc_muhat(likelihood, n, bkg, s0)\n",
    "    sigma_n  = np.sqrt(mu*s0 + bkg)\n",
    "    sigma_mu = sigma_n/s0\n",
    "    g = (muhat - mu)/sigma_mu\n",
    "    return g"
   ]
  },
  {
   "cell_type": "code",
   "execution_count": 7,
   "metadata": {
    "collapsed": true
   },
   "outputs": [],
   "source": [
    "def get_significance_from_CL(CL):\n",
    "    \"\"\"Calculate the significance corresponding to a confidence level\"\"\"\n",
    "    p = 1.0 - CL\n",
    "    Z = norm.isf(p)\n",
    "    return Z"
   ]
  },
  {
   "cell_type": "code",
   "execution_count": 8,
   "metadata": {
    "collapsed": true
   },
   "outputs": [],
   "source": [
    "def calc_s(b, CL=0.95, simple=False):\n",
    "    \"\"\"Calculates the x% CL upper limit on the number of signal events\n",
    "    given the expected number of background events.\"\"\"\n",
    "    Z = get_significance_from_CL(CL)\n",
    "    if simple:\n",
    "        s = Z * np.sqrt(b)\n",
    "    else:\n",
    "        s = 0.5*Z*(Z + np.sqrt(1.0+4.0*b))\n",
    "    return s"
   ]
  },
  {
   "cell_type": "code",
   "execution_count": 9,
   "metadata": {
    "collapsed": true
   },
   "outputs": [],
   "source": [
    "t_vec    = np.vectorize(t)\n",
    "q_ul_vec = np.vectorize(q_ul)\n",
    "g_vec    = np.vectorize(g)"
   ]
  },
  {
   "cell_type": "markdown",
   "metadata": {},
   "source": [
    "Demonstrating that `muhat()`, `t()` and `q_ul` it works correctly:"
   ]
  },
  {
   "cell_type": "code",
   "execution_count": 35,
   "metadata": {
    "collapsed": false
   },
   "outputs": [
    {
     "data": {
      "text/plain": [
       "5.0"
      ]
     },
     "execution_count": 35,
     "metadata": {},
     "output_type": "execute_result"
    }
   ],
   "source": [
    "calc_muhat(likelihood_poi, n=15.0, bkg=10.0)"
   ]
  },
  {
   "cell_type": "code",
   "execution_count": 36,
   "metadata": {
    "collapsed": false
   },
   "outputs": [
    {
     "data": {
      "text/plain": [
       "5.0"
      ]
     },
     "execution_count": 36,
     "metadata": {},
     "output_type": "execute_result"
    }
   ],
   "source": [
    "calc_muhat(likelihood_poi,  n=15.0, bkg=10.0)"
   ]
  },
  {
   "cell_type": "code",
   "execution_count": 37,
   "metadata": {
    "collapsed": false
   },
   "outputs": [
    {
     "data": {
      "text/plain": [
       "2.1639532432449187"
      ]
     },
     "execution_count": 37,
     "metadata": {},
     "output_type": "execute_result"
    }
   ],
   "source": [
    "t(likelihood_poi, mu=0.0, n=15.0, bkg=10.0)"
   ]
  },
  {
   "cell_type": "code",
   "execution_count": 38,
   "metadata": {
    "collapsed": false
   },
   "outputs": [
    {
     "data": {
      "text/plain": [
       "3.0685281944005425"
      ]
     },
     "execution_count": 38,
     "metadata": {},
     "output_type": "execute_result"
    }
   ],
   "source": [
    "q_ul(likelihood_poi, mu=0.0, n=5.0, bkg=10.0)"
   ]
  },
  {
   "cell_type": "code",
   "execution_count": 39,
   "metadata": {
    "collapsed": false
   },
   "outputs": [
    {
     "data": {
      "text/plain": [
       "0.0"
      ]
     },
     "execution_count": 39,
     "metadata": {},
     "output_type": "execute_result"
    }
   ],
   "source": [
    "q_ul(likelihood_poi, mu=0.0, n=1010.0, bkg=1000.0)"
   ]
  },
  {
   "cell_type": "markdown",
   "metadata": {},
   "source": [
    "Generate a datasample"
   ]
  },
  {
   "cell_type": "code",
   "execution_count": 15,
   "metadata": {
    "collapsed": true
   },
   "outputs": [],
   "source": [
    "nSamples = 100000"
   ]
  },
  {
   "cell_type": "code",
   "execution_count": 16,
   "metadata": {
    "collapsed": true
   },
   "outputs": [],
   "source": [
    "Z = 1.64\n",
    "s0 = 1.0"
   ]
  },
  {
   "cell_type": "markdown",
   "metadata": {},
   "source": [
    "## Hypotheses"
   ]
  },
  {
   "cell_type": "markdown",
   "metadata": {},
   "source": [
    "### Null hypothesis $H_{0}: s + b$"
   ]
  },
  {
   "cell_type": "markdown",
   "metadata": {},
   "source": [
    "$H_{0}$ hypothesis parameters"
   ]
  },
  {
   "cell_type": "code",
   "execution_count": 17,
   "metadata": {
    "collapsed": true
   },
   "outputs": [],
   "source": [
    "H0_b = 1000.0\n",
    "H0_s = calc_s(b=H0_b)\n",
    "H0_n_pred = H0_b + H0_s\n",
    "H0_mup = H0_s/s0"
   ]
  },
  {
   "cell_type": "markdown",
   "metadata": {},
   "source": [
    "Above we set the number of signal events $s|_{H_{0}}$ (=`H0_s`) to be exactly the number of events that we could exclude at 95% CL for the given background $b|_{H_{0}}$ (`H0_b`). The expected limit is:"
   ]
  },
  {
   "cell_type": "code",
   "execution_count": 18,
   "metadata": {
    "collapsed": false
   },
   "outputs": [
    {
     "data": {
      "text/plain": [
       "53.374111963136748"
      ]
     },
     "execution_count": 18,
     "metadata": {},
     "output_type": "execute_result"
    }
   ],
   "source": [
    "calc_s(b=H0_b)"
   ]
  },
  {
   "cell_type": "markdown",
   "metadata": {},
   "source": [
    "Generate events"
   ]
  },
  {
   "cell_type": "code",
   "execution_count": 19,
   "metadata": {
    "collapsed": true
   },
   "outputs": [],
   "source": [
    "H0_events = poisson.rvs(mu=H0_n_pred, loc=0.0, size=nSamples)"
   ]
  },
  {
   "cell_type": "markdown",
   "metadata": {},
   "source": [
    "### Alternative hypothesis $H_{1}: b$ only"
   ]
  },
  {
   "cell_type": "markdown",
   "metadata": {},
   "source": [
    "$H_{1}$ hypothesis parameters"
   ]
  },
  {
   "cell_type": "code",
   "execution_count": 20,
   "metadata": {
    "collapsed": true
   },
   "outputs": [],
   "source": [
    "H1_b = 1000.0\n",
    "H1_s = 0.0\n",
    "H1_n_pred = H1_b + H1_s\n",
    "H1_mup = H1_s/s0"
   ]
  },
  {
   "cell_type": "markdown",
   "metadata": {},
   "source": [
    "Generate events"
   ]
  },
  {
   "cell_type": "code",
   "execution_count": 21,
   "metadata": {
    "collapsed": false
   },
   "outputs": [],
   "source": [
    "H1_events = poisson.rvs(mu=H1_n_pred, loc=0.0, size=nSamples)"
   ]
  },
  {
   "cell_type": "markdown",
   "metadata": {},
   "source": [
    "## Distributions for the number of events observed assuming $H_{0}$ and $H_{1}$"
   ]
  },
  {
   "cell_type": "code",
   "execution_count": 22,
   "metadata": {
    "collapsed": false
   },
   "outputs": [
    {
     "data": {
      "image/png": "[encoded data removed]",
      "text/plain": [
       "<matplotlib.figure.Figure at 0x7ff4dc938470>"
      ]
     },
     "metadata": {},
     "output_type": "display_data"
    }
   ],
   "source": [
    "f, a = plt.subplots();\n",
    "h0 = a.hist(H0_events, bins=50, color=\"navy\",  label=r'$H_{0}$', alpha=0.5);\n",
    "h1 = a.hist(H1_events, bins=50, color=\"firebrick\", label=r'$H_{1}$', alpha=0.5);\n",
    "handles, labels = a.get_legend_handles_labels()\n",
    "a.legend(handles, labels)\n",
    "a.set_xlabel('Number of events');\n",
    "a.set_ylabel('Frequency');"
   ]
  },
  {
   "cell_type": "markdown",
   "metadata": {},
   "source": [
    "## Distribution of test statistic, $t$"
   ]
  },
  {
   "cell_type": "markdown",
   "metadata": {},
   "source": [
    "$$t = -2 \\ln \\left[ \\frac{\\mathcal{L}(\\mu)}{ \\mathcal{L} (\\hat{\\mu}) }\\right]$$"
   ]
  },
  {
   "cell_type": "code",
   "execution_count": 23,
   "metadata": {
    "collapsed": false
   },
   "outputs": [],
   "source": [
    "# - Note:\n",
    "# - Depending on the the number of samples requested this might take a while.\n",
    "H0_t = t_vec(likelihood_poi, mu=H0_mup,  n=H0_events, bkg=H0_b, s0=1.0)\n",
    "H1_t = t_vec(likelihood_poi, mu=H0_mup,  n=H1_events, bkg=H1_b, s0=1.0)"
   ]
  },
  {
   "cell_type": "code",
   "execution_count": 24,
   "metadata": {
    "collapsed": false
   },
   "outputs": [
    {
     "data": {
      "image/png": "[encoded data removed]",
      "text/plain": [
       "<matplotlib.figure.Figure at 0x7ff4d92e5048>"
      ]
     },
     "metadata": {},
     "output_type": "display_data"
    }
   ],
   "source": [
    "f, a = plt.subplots();\n",
    "a.hist(H0_t, bins=50, color='navy',      label=r'$H_{0}$', alpha=0.5);\n",
    "a.hist(H1_t, bins=50, color='firebrick', label=r'$H_{1}$', alpha=0.5);\n",
    "handles, labels = a.get_legend_handles_labels()\n",
    "a.legend(handles, labels)\n",
    "a.set_xlabel('$t$');\n",
    "a.set_ylabel('Frequency');"
   ]
  },
  {
   "cell_type": "markdown",
   "metadata": {},
   "source": [
    "We check below if our assumption is correct (`H0_s` is indeed the number that we could exclude at 95% CL). We can do this comparing the median of $t|_{H_{1}}$ and the 95% percentile of $t|_{H_{0}}$:"
   ]
  },
  {
   "cell_type": "code",
   "execution_count": 42,
   "metadata": {
    "collapsed": false
   },
   "outputs": [
    {
     "data": {
      "text/plain": [
       "2.7513197854696045"
      ]
     },
     "execution_count": 42,
     "metadata": {},
     "output_type": "execute_result"
    }
   ],
   "source": [
    "np.median(H1_t)"
   ]
  },
  {
   "cell_type": "code",
   "execution_count": 43,
   "metadata": {
    "collapsed": false
   },
   "outputs": [
    {
     "data": {
      "text/plain": [
       "3.7685360221785231"
      ]
     },
     "execution_count": 43,
     "metadata": {},
     "output_type": "execute_result"
    }
   ],
   "source": [
    "np.percentile(H0_t, 95)"
   ]
  },
  {
   "cell_type": "markdown",
   "metadata": {},
   "source": [
    "We see that $\\text{med}(t|_{H_{1}}) \\neq \\text{Percentile}(t|_{H_{0}}, 95)$.\n",
    "\n",
    "Reason: the general LLR test statistic, $t$ maps events where $\\hat{\\mu} > \\mu$ (i.e. $\\hat{s} > s$ or $n > b+s$) to non-zero values of $t$, however when setting upper limits one would not regard data with $\\hat{\\mu} > \\mu$ as representing less compatibility with $\\mu$ than the data obtained, and therefore this is not taken as part of the rejection region of the test."
   ]
  },
  {
   "cell_type": "markdown",
   "metadata": {},
   "source": [
    "## Distribution of test statistic, $q_{u.l.}$"
   ]
  },
  {
   "cell_type": "markdown",
   "metadata": {},
   "source": [
    "$$q_{u.l.} = \\begin{cases} -2 \\ln \\left[ \\frac{\\mathcal{L}(\\mu)}{ \\mathcal{L}(\\hat{\\mu})} \\right] & \\hat{\\mu} \\leq \\mu, \\\\  0 & \\hat{\\mu} > \\mu \\end{cases}$$"
   ]
  },
  {
   "cell_type": "code",
   "execution_count": 25,
   "metadata": {
    "collapsed": false
   },
   "outputs": [],
   "source": [
    "# - Note:\n",
    "# - Depending on the the number of samples requested this might take a while.\n",
    "H0_q_ul = q_ul_vec(likelihood_poi, mu=H0_mup,  n=H0_events, bkg=H0_b, s0=1.0)\n",
    "H1_q_ul = q_ul_vec(likelihood_poi, mu=H0_mup,  n=H1_events, bkg=H1_b, s0=1.0)"
   ]
  },
  {
   "cell_type": "code",
   "execution_count": 28,
   "metadata": {
    "collapsed": false
   },
   "outputs": [
    {
     "data": {
      "image/png": "[encoded data removed]",
      "text/plain": [
       "<matplotlib.figure.Figure at 0x7ff4d8497d30>"
      ]
     },
     "metadata": {},
     "output_type": "display_data"
    }
   ],
   "source": [
    "f, a = plt.subplots();\n",
    "a.hist(H0_q_ul, bins=50, color='navy',      label=r'$H_{0}$', alpha=0.5);\n",
    "a.hist(H1_q_ul, bins=50, color='firebrick', label=r'$H_{1}$', alpha=0.5);\n",
    "handles, labels = a.get_legend_handles_labels()\n",
    "a.legend(handles, labels)\n",
    "a.set_xlabel('$q_{u.l.}$');\n",
    "a.set_ylabel('Frequency');"
   ]
  },
  {
   "cell_type": "markdown",
   "metadata": {},
   "source": [
    "We check again below if our assumption is correct (`H0_s` is indeed the number that we could exclude at 95% CL) now using $q_{u.l.}$. We can do this comparing the median of $q_{u.l.}|_{H_{1}}$ and the 95% percentile of $q_{u.l.}|_{H_{0}}$:"
   ]
  },
  {
   "cell_type": "code",
   "execution_count": 27,
   "metadata": {
    "collapsed": false
   },
   "outputs": [
    {
     "data": {
      "text/plain": [
       "2.7513197854696045"
      ]
     },
     "execution_count": 27,
     "metadata": {},
     "output_type": "execute_result"
    }
   ],
   "source": [
    "np.percentile(H0_q_ul, 95)"
   ]
  },
  {
   "cell_type": "code",
   "execution_count": 26,
   "metadata": {
    "collapsed": false
   },
   "outputs": [
    {
     "data": {
      "text/plain": [
       "2.7513197854696045"
      ]
     },
     "execution_count": 26,
     "metadata": {},
     "output_type": "execute_result"
    }
   ],
   "source": [
    "np.median(H1_q_ul)"
   ]
  },
  {
   "cell_type": "markdown",
   "metadata": {},
   "source": [
    "We see that $\\text{med}(q_{u.l.}|_{H_{1}}) = \\text{Percentile}(q_{u.l.}|_{H_{0}}, 95)$ $\\implies$ our assumption was correct."
   ]
  },
  {
   "cell_type": "markdown",
   "metadata": {},
   "source": [
    "## Distribution of test statistic, $\\sqrt{q_{u.l}}$"
   ]
  },
  {
   "cell_type": "markdown",
   "metadata": {},
   "source": [
    "$$\\sqrt{q_{u.l.}}$$  (just simply taking the square root of $q_{u.l.}$)"
   ]
  },
  {
   "cell_type": "code",
   "execution_count": 29,
   "metadata": {
    "collapsed": true
   },
   "outputs": [],
   "source": [
    "H0_sqrt_q_ul = np.sqrt(H0_q_ul)\n",
    "H1_sqrt_q_ul = np.sqrt(H1_q_ul)"
   ]
  },
  {
   "cell_type": "code",
   "execution_count": 46,
   "metadata": {
    "collapsed": false
   },
   "outputs": [
    {
     "data": {
      "image/png": "[encoded data removed]",
      "text/plain": [
       "<matplotlib.figure.Figure at 0x7ff4d880e4e0>"
      ]
     },
     "metadata": {},
     "output_type": "display_data"
    }
   ],
   "source": [
    "f, a = plt.subplots();\n",
    "a.hist(H0_sqrt_q_ul, bins=50, color='navy',      label=r'$H_{0}$', alpha=0.5);\n",
    "a.hist(H1_sqrt_q_ul, bins=50, color='firebrick', label=r'$H_{1}$', alpha=0.5);\n",
    "handles, labels = a.get_legend_handles_labels()\n",
    "a.legend(handles, labels)\n",
    "a.set_xlabel('$\\sqrt{q_{u.l}}$');\n",
    "a.set_ylabel('Frequency');\n",
    "#a.set_ylim(0.0, 1000.0)"
   ]
  },
  {
   "cell_type": "markdown",
   "metadata": {},
   "source": [
    "We check again below if our assumption is correct (`H0_s` is indeed the number that we could exclude at 95% CL) now using $\\sqrt{q_{u.l.}}$. We can do this comparing the median of $\\sqrt{q_{u.l.}}|_{H_{1}}$ and the 95% percentile of $\\sqrt{q_{u.l.}}|_{H_{0}}$:"
   ]
  },
  {
   "cell_type": "code",
   "execution_count": 44,
   "metadata": {
    "collapsed": false
   },
   "outputs": [
    {
     "data": {
      "text/plain": [
       "1.6587102777367735"
      ]
     },
     "execution_count": 44,
     "metadata": {},
     "output_type": "execute_result"
    }
   ],
   "source": [
    "np.percentile(H0_sqrt_q_ul, 95)"
   ]
  },
  {
   "cell_type": "code",
   "execution_count": 45,
   "metadata": {
    "collapsed": false
   },
   "outputs": [
    {
     "data": {
      "text/plain": [
       "1.6587102777367735"
      ]
     },
     "execution_count": 45,
     "metadata": {},
     "output_type": "execute_result"
    }
   ],
   "source": [
    "np.median(H1_sqrt_q_ul)"
   ]
  },
  {
   "cell_type": "markdown",
   "metadata": {},
   "source": [
    "We see that $\\text{med}(\\sqrt{q_{u.l.}}|_{H_{1}}) = \\text{Percentile}(\\sqrt{q_{u.l.}}|_{H_{0}}, 95)$ $\\implies$ our assumption was correct."
   ]
  },
  {
   "cell_type": "markdown",
   "metadata": {},
   "source": [
    "## Distribution of test statistic, $g$"
   ]
  },
  {
   "cell_type": "markdown",
   "metadata": {},
   "source": [
    "$$g = \\frac{\\hat{\\mu} - \\mu}{\\sigma_{\\hat{\\mu}}}$$"
   ]
  },
  {
   "cell_type": "code",
   "execution_count": 31,
   "metadata": {
    "collapsed": false
   },
   "outputs": [],
   "source": [
    "# - Note:\n",
    "# - Depending on the the number of samples requested this might take a while.\n",
    "H0_g = g_vec(likelihood_poi, mu=H0_mup,  n=H0_events, bkg=H0_b, s0=1.0)\n",
    "H1_g = g_vec(likelihood_poi, mu=H0_mup,  n=H1_events, bkg=H1_b, s0=1.0)"
   ]
  },
  {
   "cell_type": "code",
   "execution_count": 32,
   "metadata": {
    "collapsed": false
   },
   "outputs": [
    {
     "data": {
      "image/png": "[encoded data removed]",
      "text/plain": [
       "<matplotlib.figure.Figure at 0x7ff4d8494048>"
      ]
     },
     "metadata": {},
     "output_type": "display_data"
    }
   ],
   "source": [
    "f, a = plt.subplots();\n",
    "a.hist(H0_g, bins=50, color='navy',      label=r'$H_{0}$', alpha=0.5);\n",
    "a.hist(H1_g, bins=50, color='firebrick', label=r'$H_{1}$', alpha=0.5);\n",
    "handles, labels = a.get_legend_handles_labels()\n",
    "a.legend(handles, labels)\n",
    "a.set_xlabel('$g$');\n",
    "a.set_ylabel('Frequency');\n",
    "#a.set_ylim(0.0, 1000.0)"
   ]
  },
  {
   "cell_type": "markdown",
   "metadata": {},
   "source": [
    "We check again below if our assumption is correct (`H0_s` is indeed the number that we could exclude at 95% CL) now using $g$. We can do this comparing the median of $g|_{H_{1}}$ and the 95% percentile (here 5% percentile, as the distribution is flipped) of $g|_{H_{0}}$:"
   ]
  },
  {
   "cell_type": "code",
   "execution_count": 34,
   "metadata": {
    "collapsed": false
   },
   "outputs": [
    {
     "data": {
      "text/plain": [
       "-1.6445206904795109"
      ]
     },
     "execution_count": 34,
     "metadata": {},
     "output_type": "execute_result"
    }
   ],
   "source": [
    "np.percentile(H0_g, 5)"
   ]
  },
  {
   "cell_type": "code",
   "execution_count": 33,
   "metadata": {
    "collapsed": false
   },
   "outputs": [
    {
     "data": {
      "text/plain": [
       "-1.6445206904795109"
      ]
     },
     "execution_count": 33,
     "metadata": {},
     "output_type": "execute_result"
    }
   ],
   "source": [
    "np.median(H1_g)"
   ]
  },
  {
   "cell_type": "markdown",
   "metadata": {},
   "source": [
    "We see that $\\text{med}(g|_{H_{1}}) = \\text{Percentile}(g|_{H_{0}}, 95)$ $\\implies$ our assumption was correct."
   ]
  }
 ],
 "metadata": {
  "kernelspec": {
   "display_name": "Python 3",
   "language": "python",
   "name": "python3"
  },
  "language_info": {
   "codemirror_mode": {
    "name": "ipython",
    "version": 3
   },
   "file_extension": ".py",
   "mimetype": "text/x-python",
   "name": "python",
   "nbconvert_exporter": "python",
   "pygments_lexer": "ipython3",
   "version": "3.6.0"
  }
 },
 "nbformat": 4,
 "nbformat_minor": 2
}
