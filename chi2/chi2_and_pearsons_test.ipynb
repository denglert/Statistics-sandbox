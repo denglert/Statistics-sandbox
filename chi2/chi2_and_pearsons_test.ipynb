{
 "cells": [
  {
   "cell_type": "markdown",
   "metadata": {},
   "source": [
    "## $\\chi^{2}$ distribution\n",
    "\n",
    "Let $Z_{1}, Z_{2}, ..., Z_{k}$ be independent, standard normal random variables.\n",
    "\n",
    "The sum of their squares:\n",
    "\n",
    "$Q = \\sum\\limits_{i=1}^{k} Z^{2}_{i}$\n",
    "\n",
    "is distributed according to the $\\chi^{2}$ distribution with number of degress of freedom $n_{d.o.f.} = k$:\n",
    "\n",
    "$Q \\sim \\chi^{2}(k)$\n",
    "\n",
    "## Pearson $\\chi^{2}$ test\n",
    "\n",
    "The sum of relative deviations given:\n",
    "- our observations of data $\\mathbf{n_{data}}$ (Gaussian distributed in each bin)\n",
    "- the predicted values $\\mathbf{n_{pred}}(\\theta)$ ($\\theta$ being the parameters of our model)\n",
    "- and their uncertainty $\\mathbf{\\sigma}$\n",
    "\n",
    "is:\n",
    "\n",
    "$S = \\sum\\limits_{i=1}^{n} \\frac{ ( n_{i,data} - n_{i,pred} (\\theta) )^{2} }{ \\sigma^{2}_{i}}$\n",
    "\n",
    "Let's denote $S_{min}$ as the minimum of $S$ achivable by varying $\\mathbf{\\theta}$.\n",
    "\n",
    "**Statement:**\n",
    "\n",
    "$S_{min}$ is distributed as $\\chi^{2}$ with $n_{d.o.f} = n_{data} - n_{\\theta}$.\n",
    "\n",
    "**Objective of this notebook:**\n",
    "\n",
    "is to show validity of the above statement through an example.\n",
    "\n",
    "## References:\n",
    "\n",
    "- https://en.wikipedia.org/wiki/Chi-squared_distribution\n",
    "- https://www.pp.rhul.ac.uk/~cowan/stat/stat_3.pdf\n",
    "- https://en.wikipedia.org/wiki/Pearson%27s_chi-squared_test"
   ]
  },
  {
   "cell_type": "code",
   "execution_count": 1,
   "metadata": {
    "collapsed": true
   },
   "outputs": [],
   "source": [
    "import matplotlib.pyplot as plt\n",
    "import numpy as np\n",
    "#import seaborn as sns\n",
    "from scipy.stats import norm\n",
    "from scipy.stats import chi2\n",
    "from scipy.stats import ncx2\n",
    "from scipy.optimize import minimize\n",
    "%matplotlib inline"
   ]
  },
  {
   "cell_type": "markdown",
   "metadata": {},
   "source": [
    "## Demonstrating minimization procedure <br/> (`scipy.optimize.minimize`)"
   ]
  },
  {
   "cell_type": "markdown",
   "metadata": {},
   "source": [
    "To demonstrate that the minimzation procedure indeed works we'll take a simple quadratic function and try to find its minimum."
   ]
  },
  {
   "cell_type": "markdown",
   "metadata": {},
   "source": [
    "Defining the parabola"
   ]
  },
  {
   "cell_type": "code",
   "execution_count": 2,
   "metadata": {
    "collapsed": true
   },
   "outputs": [],
   "source": [
    "def parabola(x):\n",
    "    y = (x-2.0)**2.0 + 1\n",
    "    return y"
   ]
  },
  {
   "cell_type": "code",
   "execution_count": 3,
   "metadata": {
    "collapsed": true
   },
   "outputs": [],
   "source": [
    "x = np.linspace(-5.0, 5.0, 100)\n",
    "y = parabola(x)"
   ]
  },
  {
   "cell_type": "code",
   "execution_count": 4,
   "metadata": {
    "collapsed": false
   },
   "outputs": [
    {
     "data": {
      "image/png": "[encoded data removed]",
      "text/plain": [
       "<matplotlib.figure.Figure at 0x7fde3ce9c898>"
      ]
     },
     "metadata": {},
     "output_type": "display_data"
    }
   ],
   "source": [
    "plt.plot(x,y);"
   ]
  },
  {
   "cell_type": "markdown",
   "metadata": {},
   "source": [
    "Perform minimzation with default settings"
   ]
  },
  {
   "cell_type": "code",
   "execution_count": 5,
   "metadata": {
    "collapsed": true
   },
   "outputs": [],
   "source": [
    "m = minimize(parabola, [3])"
   ]
  },
  {
   "cell_type": "markdown",
   "metadata": {},
   "source": [
    "Results of the minimization"
   ]
  },
  {
   "cell_type": "code",
   "execution_count": 6,
   "metadata": {
    "collapsed": false
   },
   "outputs": [],
   "source": [
    "def display_minimization_result(m):\n",
    "    print(\"m['success']: \", m['success'])\n",
    "    print(\"m['fun']:     \",     m['fun'])\n",
    "    print(\"m['x']:       \",       m['x'])"
   ]
  },
  {
   "cell_type": "code",
   "execution_count": 7,
   "metadata": {
    "collapsed": false
   },
   "outputs": [
    {
     "name": "stdout",
     "output_type": "stream",
     "text": [
      "m['success']:  True\n",
      "m['fun']:      1.0\n",
      "m['x']:        [ 1.99999999]\n"
     ]
    }
   ],
   "source": [
    "display_minimization_result(m)"
   ]
  },
  {
   "cell_type": "markdown",
   "metadata": {},
   "source": [
    "## Minimization of the sum of relative squared deviations"
   ]
  },
  {
   "cell_type": "code",
   "execution_count": 8,
   "metadata": {
    "collapsed": true
   },
   "outputs": [],
   "source": [
    "data = {}"
   ]
  },
  {
   "cell_type": "markdown",
   "metadata": {},
   "source": [
    "### Domain"
   ]
  },
  {
   "cell_type": "code",
   "execution_count": 9,
   "metadata": {
    "collapsed": false
   },
   "outputs": [],
   "source": [
    "nspacing = 20\n",
    "x = np.linspace(0.0, 5.0, nspacing)\n",
    "data['x'] = x"
   ]
  },
  {
   "cell_type": "markdown",
   "metadata": {},
   "source": [
    "### True signal (straigth line)"
   ]
  },
  {
   "cell_type": "markdown",
   "metadata": {},
   "source": [
    "Parameters"
   ]
  },
  {
   "cell_type": "code",
   "execution_count": 10,
   "metadata": {
    "collapsed": true
   },
   "outputs": [],
   "source": [
    "a = 2.4\n",
    "b = 1.1"
   ]
  },
  {
   "cell_type": "code",
   "execution_count": 11,
   "metadata": {
    "collapsed": true
   },
   "outputs": [],
   "source": [
    "signal = a*x + b"
   ]
  },
  {
   "cell_type": "markdown",
   "metadata": {},
   "source": [
    "### Noise (Gaussian)"
   ]
  },
  {
   "cell_type": "markdown",
   "metadata": {},
   "source": [
    "Parameters"
   ]
  },
  {
   "cell_type": "code",
   "execution_count": 12,
   "metadata": {
    "collapsed": true
   },
   "outputs": [],
   "source": [
    "mean = 0.0\n",
    "std  = 0.3"
   ]
  },
  {
   "cell_type": "code",
   "execution_count": 13,
   "metadata": {
    "collapsed": false
   },
   "outputs": [],
   "source": [
    "noise = np.random.normal(mean, std, nspacing)"
   ]
  },
  {
   "cell_type": "markdown",
   "metadata": {},
   "source": [
    "## Data = True signal + noise"
   ]
  },
  {
   "cell_type": "code",
   "execution_count": 14,
   "metadata": {
    "collapsed": true
   },
   "outputs": [],
   "source": [
    "data['y']   = signal + noise\n",
    "data['err'] = std"
   ]
  },
  {
   "cell_type": "code",
   "execution_count": 15,
   "metadata": {
    "collapsed": false
   },
   "outputs": [
    {
     "data": {
      "image/png": "[encoded data removed]",
      "text/plain": [
       "<matplotlib.figure.Figure at 0x7fde3cb63278>"
      ]
     },
     "metadata": {},
     "output_type": "display_data"
    }
   ],
   "source": [
    "plt.plot(x, data['y']);"
   ]
  },
  {
   "cell_type": "markdown",
   "metadata": {},
   "source": [
    "## Generate data"
   ]
  },
  {
   "cell_type": "code",
   "execution_count": 16,
   "metadata": {
    "collapsed": true
   },
   "outputs": [],
   "source": [
    "def generate_data(a, b, noise_mean, noise_std):\n",
    "    x  = np.linspace(0.0, 5.0, nspacing)\n",
    "    signal = a*x + b\n",
    "    noise = np.random.normal(noise_mean, noise_std, nspacing)\n",
    "    data['x'] = x\n",
    "    data['y'] = signal + noise\n",
    "    data['err'] = noise_std\n",
    "    return data"
   ]
  },
  {
   "cell_type": "markdown",
   "metadata": {},
   "source": [
    "## Our data model"
   ]
  },
  {
   "cell_type": "code",
   "execution_count": 17,
   "metadata": {
    "collapsed": true
   },
   "outputs": [],
   "source": [
    "def data_model(x, a, b):\n",
    "    y = a*x + b\n",
    "    return y"
   ]
  },
  {
   "cell_type": "markdown",
   "metadata": {},
   "source": [
    "### Test"
   ]
  },
  {
   "cell_type": "code",
   "execution_count": 18,
   "metadata": {
    "collapsed": false
   },
   "outputs": [
    {
     "data": {
      "image/png": "[encoded data removed]",
      "text/plain": [
       "<matplotlib.figure.Figure at 0x7fde3a4847b8>"
      ]
     },
     "metadata": {},
     "output_type": "display_data"
    }
   ],
   "source": [
    "y_model = data_model(x, a=1.0, b=3.0);\n",
    "plt.plot(x, y_model);"
   ]
  },
  {
   "cell_type": "markdown",
   "metadata": {},
   "source": [
    "## Constructing the sum of relative squared deviations"
   ]
  },
  {
   "cell_type": "code",
   "execution_count": 19,
   "metadata": {
    "collapsed": true
   },
   "outputs": [],
   "source": [
    "def sum_of_rel_deviation(y_obs, y_predicted, error):\n",
    "    \"\"\"Simple function to calculate the sum of the relative squared deviations.\"\"\"\n",
    "    rel_deviation = (y_obs-y_predicted)**2/error**2\n",
    "    S = np.sum(rel_deviation)\n",
    "    return S"
   ]
  },
  {
   "cell_type": "code",
   "execution_count": 20,
   "metadata": {
    "collapsed": false
   },
   "outputs": [
    {
     "data": {
      "text/plain": [
       "139.37008420087975"
      ]
     },
     "execution_count": 20,
     "metadata": {},
     "output_type": "execute_result"
    }
   ],
   "source": [
    "sum_of_rel_deviation(data['y'], y_model, error=1.0) "
   ]
  },
  {
   "cell_type": "code",
   "execution_count": 21,
   "metadata": {
    "collapsed": true
   },
   "outputs": [],
   "source": [
    "def calc_sum_of_rel_deviation_for_model(model_params, model, data ):\n",
    "    \"\"\"Get the sum of relative deviations for a particular realization\n",
    "       of data given the model.\"\"\"\n",
    "    y_predicted = model(data['x'], *model_params)\n",
    "    S = sum_of_rel_deviation(data['y'], y_predicted, data['err'])\n",
    "    return S"
   ]
  },
  {
   "cell_type": "code",
   "execution_count": 22,
   "metadata": {
    "collapsed": false
   },
   "outputs": [],
   "source": [
    "data = generate_data(a=1.5, b=3.5, noise_mean=0.0, noise_std=0.3)"
   ]
  },
  {
   "cell_type": "markdown",
   "metadata": {},
   "source": [
    "Initial guesses for the parameters:"
   ]
  },
  {
   "cell_type": "code",
   "execution_count": 23,
   "metadata": {
    "collapsed": true
   },
   "outputs": [],
   "source": [
    "initial_guess_a = 5.0\n",
    "initial_guess_b = 3.0"
   ]
  },
  {
   "cell_type": "code",
   "execution_count": 24,
   "metadata": {
    "collapsed": false
   },
   "outputs": [],
   "source": [
    "m = minimize(calc_sum_of_rel_deviation_for_model, [initial_guess_a, initial_guess_b], method = 'Nelder-Mead', args=(data_model,data))"
   ]
  },
  {
   "cell_type": "code",
   "execution_count": 25,
   "metadata": {
    "collapsed": false
   },
   "outputs": [
    {
     "name": "stdout",
     "output_type": "stream",
     "text": [
      "m['success']:  True\n",
      "m['fun']:      2.6475020801\n",
      "m['x']:        [ 1.55574703  3.40341864]\n"
     ]
    }
   ],
   "source": [
    "display_minimization_result(m)"
   ]
  },
  {
   "cell_type": "code",
   "execution_count": 26,
   "metadata": {
    "collapsed": true
   },
   "outputs": [],
   "source": [
    "a = 1.0\n",
    "b = 3.0\n",
    "noise_mean = 0.0\n",
    "noise_std  = 0.3"
   ]
  },
  {
   "cell_type": "code",
   "execution_count": 27,
   "metadata": {
    "collapsed": true
   },
   "outputs": [],
   "source": [
    "initial_guess_a = 5.0\n",
    "initial_guess_b = 3.0"
   ]
  },
  {
   "cell_type": "markdown",
   "metadata": {},
   "source": [
    "To be able to get an ensemble of $S_{min}$ we write a function which generates a dataset consisting of a sample with different noise for each call, and returns the minimum just like above:"
   ]
  },
  {
   "cell_type": "code",
   "execution_count": 28,
   "metadata": {
    "collapsed": true
   },
   "outputs": [],
   "source": [
    "def get_min_sum_of_rel_deviation():\n",
    "    \"\"\"Get the minimum of the sum of relative deviations.\"\"\"\n",
    "    data = generate_data(a, b, noise_mean, noise_std)\n",
    "    m = minimize(calc_sum_of_rel_deviation_for_model, [initial_guess_a, initial_guess_b], method = 'Nelder-Mead', args=(data_model,data))\n",
    "    return m['fun']"
   ]
  },
  {
   "cell_type": "code",
   "execution_count": 29,
   "metadata": {
    "collapsed": false
   },
   "outputs": [
    {
     "data": {
      "text/plain": [
       "14.60242253763092"
      ]
     },
     "execution_count": 29,
     "metadata": {},
     "output_type": "execute_result"
    }
   ],
   "source": [
    "get_min_sum_of_rel_deviation()"
   ]
  },
  {
   "cell_type": "markdown",
   "metadata": {},
   "source": [
    "Generate an ensemble of $S_{min}$:"
   ]
  },
  {
   "cell_type": "code",
   "execution_count": 30,
   "metadata": {
    "collapsed": false
   },
   "outputs": [],
   "source": [
    "S_min_ensemble = [get_min_sum_of_rel_deviation() for i in range(10000)]"
   ]
  },
  {
   "cell_type": "code",
   "execution_count": 31,
   "metadata": {
    "collapsed": true
   },
   "outputs": [],
   "source": [
    "S_x = np.linspace(0.0, 100.0, 200)\n",
    "S_y17dof = chi2.pdf(S_x, 17)\n",
    "S_y18dof = chi2.pdf(S_x, 18)\n",
    "S_y19dof = chi2.pdf(S_x, 19)\n",
    "S_y20dof = chi2.pdf(S_x, 20)"
   ]
  },
  {
   "cell_type": "markdown",
   "metadata": {},
   "source": [
    "Notice that it is $\\chi^{2}(n_{d.o.f.} = 18)$ which follows the distribution of $S_{min}$ the closest."
   ]
  },
  {
   "cell_type": "code",
   "execution_count": 34,
   "metadata": {
    "collapsed": false
   },
   "outputs": [
    {
     "data": {
      "image/png": "[encoded data removed]",
      "text/plain": [
       "<matplotlib.figure.Figure at 0x7fde39d61780>"
      ]
     },
     "metadata": {},
     "output_type": "display_data"
    }
   ],
   "source": [
    "plt.hist(S_min_ensemble, bins=70, normed=True, histtype=\"stepfilled\");\n",
    "plt.plot(S_x, S_y17dof, c='y', linestyle='--', alpha=0.5);\n",
    "plt.plot(S_x, S_y18dof, c='r');\n",
    "plt.plot(S_x, S_y19dof, c='m', linestyle='--', alpha=0.5);\n",
    "plt.plot(S_x, S_y20dof, c='g', linestyle='--', alpha=0.9);"
   ]
  }
 ],
 "metadata": {
  "kernelspec": {
   "display_name": "Python 3",
   "language": "python",
   "name": "python3"
  },
  "language_info": {
   "codemirror_mode": {
    "name": "ipython",
    "version": 3
   },
   "file_extension": ".py",
   "mimetype": "text/x-python",
   "name": "python",
   "nbconvert_exporter": "python",
   "pygments_lexer": "ipython3",
   "version": "3.6.0"
  }
 },
 "nbformat": 4,
 "nbformat_minor": 2
}
