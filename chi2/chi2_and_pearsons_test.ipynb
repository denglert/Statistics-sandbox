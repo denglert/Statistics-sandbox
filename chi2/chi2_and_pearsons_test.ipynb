{
 "cells": [
  {
   "cell_type": "markdown",
   "metadata": {},
   "source": [
    "## $\\chi^{2}$ distribution\n",
    "\n",
    "Let $Z_{1}, Z_{2}, ..., Z_{k}$ be independent, standard normal random variables.\n",
    "\n",
    "The sum of the squares of these $Z_{i}$ variables: \n",
    "\n",
    "\\begin{equation}\n",
    "Q = \\sum\\limits_{i=1}^{k} Z^{2}_{i}\n",
    "\\end{equation}\n",
    "\n",
    "is distributed according to a $\\chi^{2}$ distribution with number of degress of freedom equal to the number of variables summed, i.e. $n_{d.o.f.} = k$:\n",
    "\n",
    "\\begin{equation}\n",
    "Q \\sim \\chi^{2}(k)\n",
    "\\end{equation}"
   ]
  },
  {
   "cell_type": "markdown",
   "metadata": {},
   "source": [
    "## Pearson $\\chi^{2}$ test\n",
    "\n",
    "The sum of relative deviations given:\n",
    "- our observations of data $\\mathbf{n_{data}}$ (Gaussian distributed in each bin)\n",
    "- the predicted values $\\mathbf{n_{pred}}(\\theta)$ ($\\theta$ being the parameters of our model)\n",
    "- and their uncertainty $\\mathbf{\\sigma}$\n",
    "\n",
    "is:\n",
    "\n",
    "\\begin{equation}\n",
    "S = \\sum\\limits_{i=1}^{n} \\frac{ ( n_{i,data} - n_{i,pred} (\\theta) )^{2} }{ \\sigma^{2}_{i,data}}\n",
    "\\end{equation}\n",
    "\n",
    "Let's denote $S_{min}$ as the minimum of $S$ achivable by varying $\\mathbf{\\theta}$.\n",
    "\n",
    "**Statement:**\n",
    "\n",
    "$S_{min}$ is distributed as $\\chi^{2}$ with $n_{d.o.f} = n_{data} - n_{\\theta}$.\n",
    "\n",
    "**Objective of this notebook:**\n",
    "\n",
    "is to show validity of the above statement through an example."
   ]
  },
  {
   "cell_type": "markdown",
   "metadata": {},
   "source": [
    "## References:\n",
    "\n",
    "- https://en.wikipedia.org/wiki/Chi-squared_distribution\n",
    "- https://www.pp.rhul.ac.uk/~cowan/stat/stat_3.pdf\n",
    "- https://en.wikipedia.org/wiki/Pearson%27s_chi-squared_test"
   ]
  },
  {
   "cell_type": "markdown",
   "metadata": {},
   "source": [
    "Importing the necessary modules"
   ]
  },
  {
   "cell_type": "code",
   "execution_count": 1,
   "metadata": {
    "collapsed": true
   },
   "outputs": [],
   "source": [
    "import matplotlib.pyplot as plt\n",
    "import numpy as np\n",
    "#import seaborn as sns\n",
    "from scipy.stats import norm\n",
    "from scipy.stats import chi2\n",
    "from scipy.stats import ncx2\n",
    "from scipy.optimize import minimize\n",
    "%matplotlib inline"
   ]
  },
  {
   "cell_type": "markdown",
   "metadata": {},
   "source": [
    "## Showing that $Q = \\sum\\limits_{i=1}^{k} Z^{2}_{i} \\sim \\chi^{2}(k)$ "
   ]
  },
  {
   "cell_type": "markdown",
   "metadata": {},
   "source": [
    "Degrees of freedom:"
   ]
  },
  {
   "cell_type": "code",
   "execution_count": 99,
   "metadata": {
    "collapsed": true
   },
   "outputs": [],
   "source": [
    "k = 20"
   ]
  },
  {
   "cell_type": "markdown",
   "metadata": {},
   "source": [
    "Function to get $Q$ for $n_{points}$"
   ]
  },
  {
   "cell_type": "code",
   "execution_count": 107,
   "metadata": {
    "collapsed": true
   },
   "outputs": [],
   "source": [
    "def get_Q(npoints):\n",
    "    x = norm.rvs(size=npoints)\n",
    "    Q = np.sum(x**2)\n",
    "    return Q"
   ]
  },
  {
   "cell_type": "markdown",
   "metadata": {},
   "source": [
    "Generate an ensemble of $Q$s:"
   ]
  },
  {
   "cell_type": "code",
   "execution_count": 103,
   "metadata": {},
   "outputs": [],
   "source": [
    "Q_ensemble = [get_Q(k) for i in range(10000)]"
   ]
  },
  {
   "cell_type": "markdown",
   "metadata": {},
   "source": [
    "$\\chi^{2}$ pdf with $k=20$:"
   ]
  },
  {
   "cell_type": "code",
   "execution_count": 112,
   "metadata": {
    "collapsed": true
   },
   "outputs": [],
   "source": [
    "chi2_x = np.linspace(0.0, 100.0, 100)\n",
    "chi2_y20dof = chi2.pdf(chi2_x, 20)"
   ]
  },
  {
   "cell_type": "code",
   "execution_count": 114,
   "metadata": {},
   "outputs": [
    {
     "data": {
      "image/png": "[encoded data removed]",
      "text/plain": [
       "<matplotlib.figure.Figure at 0x7f9a5faf4da0>"
      ]
     },
     "metadata": {},
     "output_type": "display_data"
    }
   ],
   "source": [
    "f, a = plt.subplots()\n",
    "n, bins, patches = a.hist(Q_ensemble, bins=100, range=(0.0,50.0), normed=True)\n",
    "a.plot(chi2_x, chi2_y20dof)\n",
    "a.set_xlabel(\"Q\");\n",
    "a.set_ylabel(\"Frequency\");"
   ]
  },
  {
   "cell_type": "markdown",
   "metadata": {},
   "source": [
    "## Demonstrating minimization procedure <br/> (with `scipy.optimize.minimize`)"
   ]
  },
  {
   "cell_type": "markdown",
   "metadata": {},
   "source": [
    "To demonstrate that the minimzation procedure indeed works we'll take a simple quadratic function and try to find its minimum."
   ]
  },
  {
   "cell_type": "markdown",
   "metadata": {},
   "source": [
    "Defining the parabola"
   ]
  },
  {
   "cell_type": "code",
   "execution_count": 2,
   "metadata": {
    "collapsed": true
   },
   "outputs": [],
   "source": [
    "def parabola(x):\n",
    "    y = (x-2.0)**2.0 + 1\n",
    "    return y"
   ]
  },
  {
   "cell_type": "code",
   "execution_count": 3,
   "metadata": {
    "collapsed": true
   },
   "outputs": [],
   "source": [
    "x = np.linspace(-5.0, 5.0, 100)\n",
    "y = parabola(x)"
   ]
  },
  {
   "cell_type": "code",
   "execution_count": 4,
   "metadata": {},
   "outputs": [
    {
     "data": {
      "image/png": "[encoded data removed]",
      "text/plain": [
       "<matplotlib.figure.Figure at 0x7f9a62d156a0>"
      ]
     },
     "metadata": {},
     "output_type": "display_data"
    }
   ],
   "source": [
    "plt.plot(x,y);"
   ]
  },
  {
   "cell_type": "markdown",
   "metadata": {},
   "source": [
    "Perform minimzation with default settings"
   ]
  },
  {
   "cell_type": "code",
   "execution_count": 5,
   "metadata": {
    "collapsed": true
   },
   "outputs": [],
   "source": [
    "m = minimize(parabola, [3])"
   ]
  },
  {
   "cell_type": "markdown",
   "metadata": {},
   "source": [
    "Results of the minimization"
   ]
  },
  {
   "cell_type": "code",
   "execution_count": 6,
   "metadata": {
    "collapsed": true
   },
   "outputs": [],
   "source": [
    "def display_minimization_result(m):\n",
    "    print(\"m['success']: \", m['success'])\n",
    "    print(\"m['fun']:     \", m['fun'])\n",
    "    print(\"m['x']:       \", m['x'])"
   ]
  },
  {
   "cell_type": "code",
   "execution_count": 7,
   "metadata": {},
   "outputs": [
    {
     "name": "stdout",
     "output_type": "stream",
     "text": [
      "m['success']:  True\n",
      "m['fun']:      1.0\n",
      "m['x']:        [ 1.99999999]\n"
     ]
    }
   ],
   "source": [
    "display_minimization_result(m)"
   ]
  },
  {
   "cell_type": "markdown",
   "metadata": {},
   "source": [
    "Should get a value of `m['x']` which is close to the location of the minimum of the function above:\n",
    "\\begin{equation}\n",
    "\\texttt{m['x']} \\approx 2.0\n",
    " \\end{equation}"
   ]
  },
  {
   "cell_type": "markdown",
   "metadata": {},
   "source": [
    "## Minimization of the sum of relative squared deviations"
   ]
  },
  {
   "cell_type": "markdown",
   "metadata": {},
   "source": [
    "In the following we consider an example of polynomial fiting with with order 2 (aka straight line). Here we create an ensemble of datasets where each dataset is generated by our model + random noise. After creating this ensemble we evaluate the $S_{min}$ for each dataset and examine its distribution."
   ]
  },
  {
   "cell_type": "markdown",
   "metadata": {},
   "source": [
    "### Domain"
   ]
  },
  {
   "cell_type": "code",
   "execution_count": 8,
   "metadata": {
    "collapsed": true
   },
   "outputs": [],
   "source": [
    "ndatapoints = 20\n",
    "x = np.linspace(0.0, 5.0, ndatapoints)\n",
    "data = {}\n",
    "data['x'] = x"
   ]
  },
  {
   "cell_type": "markdown",
   "metadata": {},
   "source": [
    "### True signal (straigth line)"
   ]
  },
  {
   "cell_type": "markdown",
   "metadata": {},
   "source": [
    "Parameters"
   ]
  },
  {
   "cell_type": "code",
   "execution_count": 9,
   "metadata": {
    "collapsed": true
   },
   "outputs": [],
   "source": [
    "a = 2.4\n",
    "b = 1.1"
   ]
  },
  {
   "cell_type": "code",
   "execution_count": 10,
   "metadata": {
    "collapsed": true
   },
   "outputs": [],
   "source": [
    "signal = a*x + b"
   ]
  },
  {
   "cell_type": "markdown",
   "metadata": {},
   "source": [
    "### Noise (Gaussian)"
   ]
  },
  {
   "cell_type": "markdown",
   "metadata": {},
   "source": [
    "Parameters"
   ]
  },
  {
   "cell_type": "code",
   "execution_count": 11,
   "metadata": {
    "collapsed": true
   },
   "outputs": [],
   "source": [
    "mean = 0.0\n",
    "std  = 0.3"
   ]
  },
  {
   "cell_type": "code",
   "execution_count": 13,
   "metadata": {},
   "outputs": [],
   "source": [
    "noise = np.random.normal(mean, std, ndatapoints)"
   ]
  },
  {
   "cell_type": "markdown",
   "metadata": {},
   "source": [
    "## Data = True signal + Noise"
   ]
  },
  {
   "cell_type": "markdown",
   "metadata": {},
   "source": [
    "Dictionary holding the data and its uncertainty"
   ]
  },
  {
   "cell_type": "code",
   "execution_count": 14,
   "metadata": {
    "collapsed": true
   },
   "outputs": [],
   "source": [
    "data = {}\n",
    "data['y']   = signal + noise\n",
    "data['err'] = std"
   ]
  },
  {
   "cell_type": "code",
   "execution_count": 15,
   "metadata": {},
   "outputs": [
    {
     "data": {
      "image/png": "[encoded data removed]",
      "text/plain": [
       "<matplotlib.figure.Figure at 0x7f9a606d27f0>"
      ]
     },
     "metadata": {},
     "output_type": "display_data"
    }
   ],
   "source": [
    "plt.plot(x, data['y']);"
   ]
  },
  {
   "cell_type": "markdown",
   "metadata": {},
   "source": [
    "## Generate data"
   ]
  },
  {
   "cell_type": "code",
   "execution_count": 30,
   "metadata": {
    "collapsed": true
   },
   "outputs": [],
   "source": [
    "def generate_data(a, b, noise_mean, noise_std):\n",
    "    x  = np.linspace(0.0, 5.0, ndatapoints)\n",
    "    signal = a*x + b\n",
    "    noise = np.random.normal(noise_mean, noise_std, ndatapoints)\n",
    "    data['x'] = x\n",
    "    data['y'] = signal + noise\n",
    "    data['err'] = noise_std\n",
    "    return data"
   ]
  },
  {
   "cell_type": "markdown",
   "metadata": {},
   "source": [
    "## Our model"
   ]
  },
  {
   "cell_type": "code",
   "execution_count": 31,
   "metadata": {
    "collapsed": true
   },
   "outputs": [],
   "source": [
    "def data_model(x, a, b):\n",
    "    y = a*x + b\n",
    "    return y"
   ]
  },
  {
   "cell_type": "markdown",
   "metadata": {},
   "source": [
    "**Test**"
   ]
  },
  {
   "cell_type": "code",
   "execution_count": 32,
   "metadata": {},
   "outputs": [
    {
     "data": {
      "image/png": "[encoded data removed]",
      "text/plain": [
       "<matplotlib.figure.Figure at 0x7f9a60575978>"
      ]
     },
     "metadata": {},
     "output_type": "display_data"
    }
   ],
   "source": [
    "y_model = data_model(x, a=1.0, b=3.0);\n",
    "plt.plot(x, y_model);"
   ]
  },
  {
   "cell_type": "markdown",
   "metadata": {},
   "source": [
    "## Constructing the sum of relative squared deviations"
   ]
  },
  {
   "cell_type": "code",
   "execution_count": 33,
   "metadata": {
    "collapsed": true
   },
   "outputs": [],
   "source": [
    "def sum_of_rel_deviation(y_obs, y_predicted, error):\n",
    "    \"\"\"Simple function to calculate the sum of the relative squared deviations,\n",
    "    given the observed- and predicted values, and the associated uncertainty for\n",
    "    the observed values.\"\"\"\n",
    "    rel_deviation = (y_obs-y_predicted)**2/error**2\n",
    "    S = np.sum(rel_deviation)\n",
    "    return S"
   ]
  },
  {
   "cell_type": "markdown",
   "metadata": {},
   "source": [
    "**Test example**"
   ]
  },
  {
   "cell_type": "code",
   "execution_count": 34,
   "metadata": {},
   "outputs": [
    {
     "data": {
      "text/plain": [
       "135.90801685822015"
      ]
     },
     "execution_count": 34,
     "metadata": {},
     "output_type": "execute_result"
    }
   ],
   "source": [
    "sum_of_rel_deviation(data['y'], y_model, error=1.0) "
   ]
  },
  {
   "cell_type": "code",
   "execution_count": 35,
   "metadata": {
    "collapsed": true
   },
   "outputs": [],
   "source": [
    "def calc_sum_of_rel_deviation_for_model(model_params, model, data ):\n",
    "    \"\"\"Get the sum of relative deviations for a particular realization\n",
    "       of data given the model parameters, the model and the observed data.\"\"\"\n",
    "    y_predicted = model(data['x'], *model_params)\n",
    "    S = sum_of_rel_deviation(data['y'], y_predicted, data['err'])\n",
    "    return S"
   ]
  },
  {
   "cell_type": "code",
   "execution_count": 36,
   "metadata": {},
   "outputs": [],
   "source": [
    "data = generate_data(a=1.5, b=3.5, noise_mean=0.0, noise_std=0.3)"
   ]
  },
  {
   "cell_type": "markdown",
   "metadata": {},
   "source": [
    "Initial guesses for the parameters:"
   ]
  },
  {
   "cell_type": "code",
   "execution_count": 37,
   "metadata": {
    "collapsed": true
   },
   "outputs": [],
   "source": [
    "initial_guess_a = 5.0\n",
    "initial_guess_b = 3.0"
   ]
  },
  {
   "cell_type": "code",
   "execution_count": 38,
   "metadata": {
    "collapsed": true
   },
   "outputs": [],
   "source": [
    "m = minimize(calc_sum_of_rel_deviation_for_model, [initial_guess_a, initial_guess_b], method = 'Nelder-Mead', args=(data_model,data))"
   ]
  },
  {
   "cell_type": "code",
   "execution_count": 39,
   "metadata": {},
   "outputs": [
    {
     "name": "stdout",
     "output_type": "stream",
     "text": [
      "m['success']:  True\n",
      "m['fun']:      37.3261070605\n",
      "m['x']:        [ 1.46999492  3.58014534]\n"
     ]
    }
   ],
   "source": [
    "display_minimization_result(m)"
   ]
  },
  {
   "cell_type": "code",
   "execution_count": 40,
   "metadata": {
    "collapsed": true
   },
   "outputs": [],
   "source": [
    "a = 1.0\n",
    "b = 3.0\n",
    "noise_mean = 0.0\n",
    "noise_std  = 0.3"
   ]
  },
  {
   "cell_type": "code",
   "execution_count": 41,
   "metadata": {
    "collapsed": true
   },
   "outputs": [],
   "source": [
    "initial_guess_a = 5.0\n",
    "initial_guess_b = 3.0"
   ]
  },
  {
   "cell_type": "markdown",
   "metadata": {},
   "source": [
    "To be able to get an ensemble of $S_{min}$ we create a function which generates a dataset consisting of a sample with different realization of a Gaussian distributed noise for each call, and returns the minimum just like above:"
   ]
  },
  {
   "cell_type": "code",
   "execution_count": 42,
   "metadata": {
    "collapsed": true
   },
   "outputs": [],
   "source": [
    "def get_min_sum_of_rel_deviation():\n",
    "    \"\"\"Get the minimum of the sum of relative deviations.\"\"\"\n",
    "    data = generate_data(a, b, noise_mean, noise_std)\n",
    "    m = minimize(calc_sum_of_rel_deviation_for_model, [initial_guess_a, initial_guess_b], method = 'Nelder-Mead', args=(data_model,data))\n",
    "    return m['fun']"
   ]
  },
  {
   "cell_type": "code",
   "execution_count": 43,
   "metadata": {},
   "outputs": [
    {
     "data": {
      "text/plain": [
       "10.182960097701477"
      ]
     },
     "execution_count": 43,
     "metadata": {},
     "output_type": "execute_result"
    }
   ],
   "source": [
    "get_min_sum_of_rel_deviation()"
   ]
  },
  {
   "cell_type": "markdown",
   "metadata": {},
   "source": [
    "Generate an ensemble of $S_{min}$:"
   ]
  },
  {
   "cell_type": "code",
   "execution_count": 44,
   "metadata": {
    "collapsed": true
   },
   "outputs": [],
   "source": [
    "S_min_ensemble = [get_min_sum_of_rel_deviation() for i in range(10000)]"
   ]
  },
  {
   "cell_type": "code",
   "execution_count": 79,
   "metadata": {
    "collapsed": true
   },
   "outputs": [],
   "source": [
    "S_x = np.linspace(0.0, 100.0, 100)\n",
    "S_y16dof = chi2.pdf(S_x, 16)\n",
    "S_y17dof = chi2.pdf(S_x, 17)\n",
    "S_y18dof = chi2.pdf(S_x, 18)\n",
    "S_y19dof = chi2.pdf(S_x, 19)\n",
    "S_y20dof = chi2.pdf(S_x, 20)"
   ]
  },
  {
   "cell_type": "markdown",
   "metadata": {},
   "source": [
    "Notice that it is $\\chi^{2}(n_{d.o.f.} = 18)$ which follows the distribution of $S_{min}$ the closest."
   ]
  },
  {
   "cell_type": "code",
   "execution_count": 82,
   "metadata": {},
   "outputs": [
    {
     "data": {
      "image/png": "[encoded data removed]",
      "text/plain": [
       "<matplotlib.figure.Figure at 0x7f9a60273898>"
      ]
     },
     "metadata": {},
     "output_type": "display_data"
    }
   ],
   "source": [
    "f,a = plt.subplots()\n",
    "n, bins, patches = plt.hist(S_min_ensemble, bins=100, range=(0.0, 100.0), normed=True, histtype=\"stepfilled\");\n",
    "plt.plot(S_x, S_y16dof, c='orange', linestyle='--', alpha=0.5);\n",
    "plt.plot(S_x, S_y17dof, c='y', linestyle='--', alpha=0.5);\n",
    "plt.plot(S_x, S_y18dof, c='r');\n",
    "plt.plot(S_x, S_y19dof, c='m', linestyle='--', alpha=0.5);\n",
    "plt.plot(S_x, S_y20dof, c='g', linestyle='--', alpha=0.9);"
   ]
  },
  {
   "cell_type": "code",
   "execution_count": 73,
   "metadata": {},
   "outputs": [],
   "source": [
    "def S(y1, y2, unc_sq):\n",
    "    square = (y1-y2)**2\n",
    "    array = np.where(unc_sq==0, 0, square/unc_sq)\n",
    "    return np.sum(array)"
   ]
  },
  {
   "cell_type": "code",
   "execution_count": 83,
   "metadata": {},
   "outputs": [
    {
     "name": "stderr",
     "output_type": "stream",
     "text": [
      "/home/edy/lib/build/anaconda3/lib/python3.6/site-packages/ipykernel_launcher.py:3: RuntimeWarning: invalid value encountered in true_divide\n",
      "  This is separate from the ipykernel package so we can avoid doing imports until\n"
     ]
    },
    {
     "data": {
      "text/plain": [
       "0.024654935599243661"
      ]
     },
     "execution_count": 83,
     "metadata": {},
     "output_type": "execute_result"
    }
   ],
   "source": [
    "S(n, S_y17dof, S_y17dof)"
   ]
  },
  {
   "cell_type": "code",
   "execution_count": 75,
   "metadata": {},
   "outputs": [
    {
     "name": "stderr",
     "output_type": "stream",
     "text": [
      "/home/edy/lib/build/anaconda3/lib/python3.6/site-packages/ipykernel_launcher.py:3: RuntimeWarning: invalid value encountered in true_divide\n",
      "  This is separate from the ipykernel package so we can avoid doing imports until\n"
     ]
    },
    {
     "data": {
      "text/plain": [
       "0.011130212856629426"
      ]
     },
     "execution_count": 75,
     "metadata": {},
     "output_type": "execute_result"
    }
   ],
   "source": [
    "S(n, S_y18dof, S_y18dof)"
   ]
  },
  {
   "cell_type": "code",
   "execution_count": 84,
   "metadata": {},
   "outputs": [
    {
     "name": "stderr",
     "output_type": "stream",
     "text": [
      "/home/edy/lib/build/anaconda3/lib/python3.6/site-packages/ipykernel_launcher.py:3: RuntimeWarning: invalid value encountered in true_divide\n",
      "  This is separate from the ipykernel package so we can avoid doing imports until\n"
     ]
    },
    {
     "data": {
      "text/plain": [
       "0.065697877999065499"
      ]
     },
     "execution_count": 84,
     "metadata": {},
     "output_type": "execute_result"
    }
   ],
   "source": [
    "S(n, S_y19dof, S_y19dof)"
   ]
  },
  {
   "cell_type": "code",
   "execution_count": 85,
   "metadata": {},
   "outputs": [
    {
     "name": "stderr",
     "output_type": "stream",
     "text": [
      "/home/edy/lib/build/anaconda3/lib/python3.6/site-packages/ipykernel_launcher.py:3: RuntimeWarning: invalid value encountered in true_divide\n",
      "  This is separate from the ipykernel package so we can avoid doing imports until\n"
     ]
    },
    {
     "data": {
      "text/plain": [
       "0.2014020245891934"
      ]
     },
     "execution_count": 85,
     "metadata": {},
     "output_type": "execute_result"
    }
   ],
   "source": [
    "S(n, S_y20dof, S_y20dof)"
   ]
  }
 ],
 "metadata": {
  "kernelspec": {
   "display_name": "Python 3",
   "language": "python",
   "name": "python3"
  },
  "language_info": {
   "codemirror_mode": {
    "name": "ipython",
    "version": 3
   },
   "file_extension": ".py",
   "mimetype": "text/x-python",
   "name": "python",
   "nbconvert_exporter": "python",
   "pygments_lexer": "ipython3",
   "version": "3.6.2"
  }
 },
 "nbformat": 4,
 "nbformat_minor": 2
}
