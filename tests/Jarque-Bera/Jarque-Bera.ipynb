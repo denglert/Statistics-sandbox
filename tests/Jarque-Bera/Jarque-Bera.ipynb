{
 "cells": [
  {
   "cell_type": "markdown",
   "metadata": {},
   "source": [
    "# Jarque-Bera test"
   ]
  },
  {
   "cell_type": "markdown",
   "metadata": {},
   "source": [
    "**References:**\n",
    "- https://en.wikipedia.org/wiki/Jarque%E2%80%93Bera_test\n",
    "- https://www.quantopian.com/posts/data-structures-for-financial-machine-learning"
   ]
  },
  {
   "cell_type": "code",
   "execution_count": 1,
   "metadata": {},
   "outputs": [
    {
     "name": "stderr",
     "output_type": "stream",
     "text": [
      "/Users/edy/lib/build/anaconda/lib/python3.6/importlib/_bootstrap.py:219: RuntimeWarning: numpy.dtype size changed, may indicate binary incompatibility. Expected 96, got 88\n",
      "  return f(*args, **kwds)\n",
      "/Users/edy/lib/build/anaconda/lib/python3.6/importlib/_bootstrap.py:219: RuntimeWarning: numpy.dtype size changed, may indicate binary incompatibility. Expected 96, got 88\n",
      "  return f(*args, **kwds)\n",
      "/Users/edy/lib/build/anaconda/lib/python3.6/importlib/_bootstrap.py:219: RuntimeWarning: numpy.dtype size changed, may indicate binary incompatibility. Expected 96, got 88\n",
      "  return f(*args, **kwds)\n"
     ]
    }
   ],
   "source": [
    "import scipy.stats\n",
    "import seaborn as sns\n",
    "import numpy as np\n",
    "import matplotlib.pyplot as plt\n",
    "%matplotlib inline\n",
    "import warnings\n",
    "warnings.simplefilter(\"ignore\")"
   ]
  },
  {
   "cell_type": "code",
   "execution_count": 2,
   "metadata": {},
   "outputs": [],
   "source": [
    "stdnorm = scipy.stats.norm(loc=0., scale=1.0) "
   ]
  },
  {
   "cell_type": "code",
   "execution_count": 3,
   "metadata": {},
   "outputs": [],
   "source": [
    "x = stdnorm.rvs(size=200000)"
   ]
  },
  {
   "cell_type": "code",
   "execution_count": 4,
   "metadata": {},
   "outputs": [
    {
     "data": {
      "text/plain": [
       "<matplotlib.axes._subplots.AxesSubplot at 0x111b76a58>"
      ]
     },
     "execution_count": 4,
     "metadata": {},
     "output_type": "execute_result"
    },
    {
     "data": {
      "image/png": "[encoded data removed]",
      "text/plain": [
       "<Figure size 432x288 with 1 Axes>"
      ]
     },
     "metadata": {},
     "output_type": "display_data"
    }
   ],
   "source": [
    "fig, ax = plt.subplots()\n",
    "sns.distplot(x, fit=scipy.stats.norm, kde=False,ax=ax)"
   ]
  },
  {
   "cell_type": "markdown",
   "metadata": {},
   "source": [
    "\\begin{equation}\n",
    "    b_{1}\n",
    "    =\n",
    "    \\frac{m_{s}}{s^{3}}\n",
    "    =\n",
    "    \\frac{ \\frac{1}{n} \\sum^{n}_{i} (x_{i} - \\bar{x})^{3} }{  \\sqrt{\\frac{1}{n-1} \\sum_{i=1}^{n} (x_{i} - \\bar{x})^{2} }^{3} }\n",
    "\\end{equation}"
   ]
  },
  {
   "cell_type": "code",
   "execution_count": 5,
   "metadata": {},
   "outputs": [
    {
     "data": {
      "text/plain": [
       "-0.0020230611420162877"
      ]
     },
     "execution_count": 5,
     "metadata": {},
     "output_type": "execute_result"
    }
   ],
   "source": [
    "scipy.stats.skew(x)"
   ]
  },
  {
   "cell_type": "code",
   "execution_count": 6,
   "metadata": {},
   "outputs": [
    {
     "data": {
      "text/plain": [
       "-0.0020230459690766876"
      ]
     },
     "execution_count": 6,
     "metadata": {},
     "output_type": "execute_result"
    }
   ],
   "source": [
    "skew = np.mean(np.power(x-np.mean(x),3))/(np.var(x,ddof=1)**(3/2))\n",
    "skew"
   ]
  },
  {
   "cell_type": "markdown",
   "metadata": {},
   "source": [
    "\\begin{equation}\n",
    "    g_{2}\n",
    "    =\n",
    "    \\frac{\\frac{1}{n} \\sum_{i=1}^{n} (x_{i}-\\bar{x})^{4}}{ \\left(\\frac{1}{n}\\sum_{i=1}^{n} (x_{i} - \\bar{x})^{2}\\right)^{2} }\n",
    "\\end{equation}"
   ]
  },
  {
   "cell_type": "code",
   "execution_count": 7,
   "metadata": {},
   "outputs": [
    {
     "data": {
      "text/plain": [
       "-0.000590090213286043"
      ]
     },
     "execution_count": 7,
     "metadata": {},
     "output_type": "execute_result"
    }
   ],
   "source": [
    "kurtosis = np.mean(np.power(x-np.mean(x),4))/(np.var(x,ddof=1)**2) - 3 \n",
    "kurtosis"
   ]
  },
  {
   "cell_type": "code",
   "execution_count": 8,
   "metadata": {},
   "outputs": [
    {
     "data": {
      "text/plain": [
       "-0.0005600958892308938"
      ]
     },
     "execution_count": 8,
     "metadata": {},
     "output_type": "execute_result"
    }
   ],
   "source": [
    "scipy.stats.kurtosis(x)"
   ]
  },
  {
   "cell_type": "markdown",
   "metadata": {},
   "source": [
    "\\begin{equation}\n",
    "    JB\n",
    "    =\n",
    "    \\frac{n-k+1}{6}\n",
    "    \\left(\n",
    "        S^{2}\n",
    "        +\n",
    "        \\frac{1}{4}\n",
    "        (C-3)^{3}\n",
    "    \\right)\n",
    "\\end{equation}\n",
    "\n",
    "where\n",
    "\n",
    "- $S$: is the sample skewness\n",
    "- $C$: is the sample kurtosis"
   ]
  },
  {
   "cell_type": "code",
   "execution_count": 9,
   "metadata": {},
   "outputs": [
    {
     "name": "stdout",
     "output_type": "stream",
     "text": [
      "Help on function jarque_bera in module scipy.stats.stats:\n",
      "\n",
      "jarque_bera(x)\n",
      "    Perform the Jarque-Bera goodness of fit test on sample data.\n",
      "    \n",
      "    The Jarque-Bera test tests whether the sample data has the skewness and\n",
      "    kurtosis matching a normal distribution.\n",
      "    \n",
      "    Note that this test only works for a large enough number of data samples\n",
      "    (>2000) as the test statistic asymptotically has a Chi-squared distribution\n",
      "    with 2 degrees of freedom.\n",
      "    \n",
      "    Parameters\n",
      "    ----------\n",
      "    x : array_like\n",
      "        Observations of a random variable.\n",
      "    \n",
      "    Returns\n",
      "    -------\n",
      "    jb_value : float\n",
      "        The test statistic.\n",
      "    p : float\n",
      "        The p-value for the hypothesis test.\n",
      "    \n",
      "    References\n",
      "    ----------\n",
      "    .. [1] Jarque, C. and Bera, A. (1980) \"Efficient tests for normality,\n",
      "           homoscedasticity and serial independence of regression residuals\",\n",
      "           6 Econometric Letters 255-259.\n",
      "    \n",
      "    Examples\n",
      "    --------\n",
      "    >>> from scipy import stats\n",
      "    >>> np.random.seed(987654321)\n",
      "    >>> x = np.random.normal(0, 1, 100000)\n",
      "    >>> y = np.random.rayleigh(1, 100000)\n",
      "    >>> stats.jarque_bera(x)\n",
      "    (4.7165707989581342, 0.09458225503041906)\n",
      "    >>> stats.jarque_bera(y)\n",
      "    (6713.7098548143422, 0.0)\n",
      "\n"
     ]
    }
   ],
   "source": [
    "help(scipy.stats.jarque_bera)"
   ]
  },
  {
   "cell_type": "code",
   "execution_count": 10,
   "metadata": {},
   "outputs": [
    {
     "data": {
      "text/plain": [
       "(0.1390401078539901, 0.9328414260631228)"
      ]
     },
     "execution_count": 10,
     "metadata": {},
     "output_type": "execute_result"
    }
   ],
   "source": [
    "scipy.stats.jarque_bera(x)"
   ]
  },
  {
   "cell_type": "code",
   "execution_count": 11,
   "metadata": {},
   "outputs": [],
   "source": [
    "x = scipy.stats.t.rvs(size=200000, df=10)"
   ]
  },
  {
   "cell_type": "code",
   "execution_count": 12,
   "metadata": {},
   "outputs": [
    {
     "data": {
      "text/plain": [
       "<matplotlib.axes._subplots.AxesSubplot at 0x1122b0e10>"
      ]
     },
     "execution_count": 12,
     "metadata": {},
     "output_type": "execute_result"
    },
    {
     "data": {
      "image/png": "[encoded data removed]",
      "text/plain": [
       "<Figure size 432x288 with 1 Axes>"
      ]
     },
     "metadata": {},
     "output_type": "display_data"
    }
   ],
   "source": [
    "fig, ax = plt.subplots()\n",
    "sns.distplot(x, fit=scipy.stats.norm, kde=False, ax=ax)"
   ]
  },
  {
   "cell_type": "code",
   "execution_count": 13,
   "metadata": {},
   "outputs": [
    {
     "data": {
      "text/plain": [
       "(7632.580822908721, 0.0)"
      ]
     },
     "execution_count": 13,
     "metadata": {},
     "output_type": "execute_result"
    }
   ],
   "source": [
    "scipy.stats.jarque_bera(x)"
   ]
  }
 ],
 "metadata": {
  "kernelspec": {
   "display_name": "Python 3",
   "language": "python",
   "name": "python3"
  },
  "language_info": {
   "codemirror_mode": {
    "name": "ipython",
    "version": 3
   },
   "file_extension": ".py",
   "mimetype": "text/x-python",
   "name": "python",
   "nbconvert_exporter": "python",
   "pygments_lexer": "ipython3",
   "version": "3.6.6"
  }
 },
 "nbformat": 4,
 "nbformat_minor": 2
}
