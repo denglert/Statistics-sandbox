{
 "cells": [
  {
   "cell_type": "markdown",
   "metadata": {},
   "source": [
    "# Likelihood ratio"
   ]
  },
  {
   "cell_type": "markdown",
   "metadata": {},
   "source": [
    "**References:**\n",
    "- Kendall II. Chapter 23, Likelihood ratio tests and the general linear hypothesis"
   ]
  },
  {
   "cell_type": "markdown",
   "metadata": {},
   "source": [
    "Likelihood ratio is defined as\n",
    "\n",
    "\\begin{equation}\n",
    "    l\n",
    "    =\n",
    "    \\frac{\\mathcal{L}(\\text{data}|\\theta_{r0}, \\hat{\\hat{\\theta}}_{s})}{\\mathcal{L}(\\text{data}|\\hat{\\theta}_{r},\\hat{\\theta}_{s})}\n",
    "\\end{equation}\n",
    "\n",
    "\\begin{equation}\n",
    "    t\n",
    "    =\n",
    "    - 2 \\ln \\frac{\\mathcal{L}(\\text{data}|\\theta_{r0}, \\hat{\\hat{\\theta}}_{s})}{\\mathcal{L}(\\text{data}|\\hat{\\theta}_{r},\\hat{\\theta}_{s})}\n",
    "\\end{equation}\n",
    "\n",
    "\\begin{equation}\n",
    "    t\n",
    "    =\n",
    "    - 2 \\ln \\mathcal{L}(\\text{data}|\\theta_{r0}, \\hat{\\hat{\\theta}}_{s}) \n",
    "    + 2 \\ln \\mathcal{L}(\\text{data}|\\hat{\\theta}_{r},\\hat{\\theta}_{s})\n",
    "\\end{equation}\n",
    "\n",
    "\n",
    "Range:\n",
    "\n",
    "\\begin{equation}\n",
    "    0 \\leq l \\leq 1\n",
    "\\end{equation}"
   ]
  },
  {
   "cell_type": "code",
   "execution_count": 2,
   "metadata": {
    "collapsed": true
   },
   "outputs": [],
   "source": [
    "import numpy as np\n",
    "import scipy.stats \n",
    "import scipy.optimize\n",
    "import matplotlib.pyplot as plt\n",
    "%matplotlib inline"
   ]
  },
  {
   "cell_type": "code",
   "execution_count": 11,
   "metadata": {
    "collapsed": true
   },
   "outputs": [],
   "source": [
    "def llr_gaussian(data, logpdf, theta):\n",
    "    \n",
    "    logpdf_sum = np.sum(logpdf(data)) \n",
    "    \n",
    "    "
   ]
  },
  {
   "cell_type": "markdown",
   "metadata": {},
   "source": [
    "## Example: Gaussian"
   ]
  },
  {
   "cell_type": "markdown",
   "metadata": {},
   "source": [
    "\\begin{equation}\n",
    "    \\hat{\\mu} = \\bar{x}\n",
    "\\end{equation}\n",
    "\\begin{equation}\n",
    "    \\hat{\\sigma}^{2}\n",
    "    =\n",
    "    \\frac{1}{n}\n",
    "    \\sum_{i}\n",
    "    (x_{i}-\\bar{x})^{2}\n",
    "\\end{equation}"
   ]
  },
  {
   "cell_type": "code",
   "execution_count": null,
   "metadata": {
    "collapsed": true
   },
   "outputs": [],
   "source": []
  },
  {
   "cell_type": "code",
   "execution_count": 17,
   "metadata": {},
   "outputs": [
    {
     "data": {
      "text/plain": [
       "(10.001912790421716, 5.0007421833775698)"
      ]
     },
     "execution_count": 17,
     "metadata": {},
     "output_type": "execute_result"
    }
   ],
   "source": [
    "scipy.stats.norm.fit(x_ensemble, scale=5)"
   ]
  },
  {
   "cell_type": "code",
   "execution_count": 5,
   "metadata": {
    "collapsed": true
   },
   "outputs": [],
   "source": [
    "nensemble = 1000\n",
    "nsamples = 10"
   ]
  },
  {
   "cell_type": "code",
   "execution_count": 6,
   "metadata": {
    "collapsed": true
   },
   "outputs": [],
   "source": [
    "mu = 10.0\n",
    "sigma = 5.0"
   ]
  },
  {
   "cell_type": "code",
   "execution_count": 7,
   "metadata": {},
   "outputs": [],
   "source": [
    "x_ensemble = np.array([scipy.stats.norm.rvs(loc=mu, scale=sigma, size=nsamples) for i in range(nensemble)])"
   ]
  },
  {
   "cell_type": "code",
   "execution_count": 10,
   "metadata": {},
   "outputs": [
    {
     "data": {
      "image/png": "[encoded data removed]",
      "text/plain": [
       "<Figure size 432x288 with 1 Axes>"
      ]
     },
     "metadata": {},
     "output_type": "display_data"
    }
   ],
   "source": [
    "fig, ax = plt.subplots()\n",
    "ax.hist(x_ensemble.flatten(), bins=20);"
   ]
  },
  {
   "cell_type": "code",
   "execution_count": null,
   "metadata": {
    "collapsed": true
   },
   "outputs": [],
   "source": []
  }
 ],
 "metadata": {
  "kernelspec": {
   "display_name": "Python 3",
   "language": "python",
   "name": "python3"
  },
  "language_info": {
   "codemirror_mode": {
    "name": "ipython",
    "version": 3
   },
   "file_extension": ".py",
   "mimetype": "text/x-python",
   "name": "python",
   "nbconvert_exporter": "python",
   "pygments_lexer": "ipython3",
   "version": "3.6.8"
  }
 },
 "nbformat": 4,
 "nbformat_minor": 2
}
