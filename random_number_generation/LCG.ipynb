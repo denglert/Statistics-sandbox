{
 "cells": [
  {
   "cell_type": "markdown",
   "metadata": {},
   "source": [
    "# Linear congruential generator"
   ]
  },
  {
   "cell_type": "markdown",
   "metadata": {},
   "source": [
    "Recurrance relation:\n",
    "\n",
    "\\begin{equation}\n",
    "    X_{n+1} = \\left( a X_{n} + c \\right) \\mod m\n",
    "\\end{equation}\n",
    "\n",
    "\n",
    "|  variable |    name     |     condition      |\n",
    "| --------- | ----------- | ------------------ |\n",
    "|    $m$    |  modulus    | $0 < m$            |\n",
    "|    $a$    |  multiplier | $0 < a < m$        | \n",
    "|    $c$    |  increment  | $0 \\leq c < m$     |\n",
    "|   $X_{0}$ |   seed      | $0 \\leq X_{0} < m$ |\n",
    "\n",
    "\n",
    "Depending on the value of the increment, $c$:\n",
    "- $c=0$ (zero increment), the generator is often called a mutliplicative congruential genreator (MCG), or Legmer RNG\n",
    "- $c \\neq 0$ (non-zero increment), mixed congruential generator"
   ]
  },
  {
   "cell_type": "markdown",
   "metadata": {},
   "source": [
    "**References**\n",
    "- https://en.wikipedia.org/wiki/Linear_congruential_generator\n",
    "- Efficient and portable combined random number generators: https://doi.org/10.1145/62959.62969\n",
    "- Statistical Data Analysis, https://www.pp.rhul.ac.uk/~cowan/stat/stat_2.pdf"
   ]
  },
  {
   "cell_type": "markdown",
   "metadata": {},
   "source": [
    "Load necessary modules"
   ]
  },
  {
   "cell_type": "code",
   "execution_count": 61,
   "metadata": {},
   "outputs": [
    {
     "name": "stdout",
     "output_type": "stream",
     "text": [
      "The autoreload extension is already loaded. To reload it, use:\n",
      "  %reload_ext autoreload\n"
     ]
    }
   ],
   "source": [
    "import os\n",
    "setup_script = os.path.join(os.environ['ENV_JUPYTER_SETUPS_DIR'], 'setup_sci_env_basic.py')\n",
    "%run $setup_script"
   ]
  },
  {
   "cell_type": "markdown",
   "metadata": {},
   "source": [
    "Linear congruential generator class"
   ]
  },
  {
   "cell_type": "code",
   "execution_count": 90,
   "metadata": {},
   "outputs": [],
   "source": [
    "class lcg:\n",
    "    \n",
    "    def __init__(self, multiplier=40692, increment=0, modulo=2147483399, seed=42):\n",
    "        self.rand = seed\n",
    "        self.multiplier = multiplier\n",
    "        self.increment = increment\n",
    "        self.modulo = modulo\n",
    "        \n",
    "    def getRand(self):\n",
    "        self.rand = (self.rand * self.multiplier) % self.modulo\n",
    "        return self.rand\n",
    "    \n",
    "    def getRandUni(self):\n",
    "        self.getRand()\n",
    "        return self.rand / self.modulo\n",
    "    \n",
    "    def getRandUni(self, n):\n",
    "        for _ in range(n):\n",
    "            self.getRandUni()"
   ]
  },
  {
   "cell_type": "code",
   "execution_count": 91,
   "metadata": {
    "collapsed": true
   },
   "outputs": [],
   "source": [
    "gen = mlcg()"
   ]
  },
  {
   "cell_type": "code",
   "execution_count": 98,
   "metadata": {},
   "outputs": [],
   "source": [
    "numbers = [gen.getRandUni() for i in range(10000)]"
   ]
  },
  {
   "cell_type": "code",
   "execution_count": 99,
   "metadata": {},
   "outputs": [
    {
     "data": {
      "image/png": "[encoded data removed]",
      "text/plain": [
       "<matplotlib.figure.Figure at 0x7f1efc34a780>"
      ]
     },
     "metadata": {},
     "output_type": "display_data"
    }
   ],
   "source": [
    "n, bins, patches = plt.hist(numbers, bins=100, range=(0.0, 1.0), normed=True)"
   ]
  }
 ],
 "metadata": {
  "kernelspec": {
   "display_name": "Python 3",
   "language": "python",
   "name": "python3"
  },
  "language_info": {
   "codemirror_mode": {
    "name": "ipython",
    "version": 3
   },
   "file_extension": ".py",
   "mimetype": "text/x-python",
   "name": "python",
   "nbconvert_exporter": "python",
   "pygments_lexer": "ipython3",
   "version": "3.6.2"
  }
 },
 "nbformat": 4,
 "nbformat_minor": 2
}
