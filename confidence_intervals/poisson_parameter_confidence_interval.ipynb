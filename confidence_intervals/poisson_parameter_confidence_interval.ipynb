{
 "cells": [
  {
   "cell_type": "markdown",
   "metadata": {},
   "source": [
    "# Confidence interval for poisson parameter $\\lambda$"
   ]
  },
  {
   "cell_type": "markdown",
   "metadata": {},
   "source": [
    "## Relation between Poisson and $\\chi^{2}$ distributions\n",
    "\n",
    "**References:**\n",
    "- [Norman L. Johnson Adrienne W. Kemp Samuel Kotz: Univariate Discrete Distributions](dx.doi.org/10.1002/0471715816)\n",
    "    - Section 4.5 Approximations, bounds, and transformation\n",
    "    - Section 4.12.2 Gamma Distribution\n",
    "- [Statsdirect: Poisson Rate Confidence Interval](https://www.statsdirect.com/help/rates/poisson_rate_confidence_interval.htm)\n",
    "\n",
    "\\begin{equation}\n",
    "\\begin{aligned}\n",
    "    X &\\sim Poi(\\lambda)\\\\\n",
    "    Y &\\sim \\chi^{2}\\left(df=2 (\\nu+1) \\right)\n",
    "\\end{aligned}\n",
    "\\end{equation}\n",
    "\n",
    "\\begin{equation}\n",
    "    Pr\\left[X \\leq \\nu \\right]\n",
    "    =\n",
    "    Pr\\left[Y \\geq 2 \\lambda \\right]\n",
    "\\end{equation}\n",
    "\n",
    "\\begin{equation}\n",
    "    CDF_{Poi(\\lambda)}\\left( \\nu \\right)\n",
    "    =\n",
    "    1 - CDF_{\\chi^{2}(df=2 (\\nu+1))} \\left( 2\\lambda \\right)\n",
    "\\end{equation}"
   ]
  },
  {
   "cell_type": "markdown",
   "metadata": {},
   "source": [
    "## One-sided, upper confidence interval for $\\lambda$"
   ]
  },
  {
   "cell_type": "markdown",
   "metadata": {},
   "source": [
    "\\begin{equation}\n",
    "    N \\sim Poi(\\lambda)\n",
    "\\end{equation}\n",
    "\n",
    "We observe $N=n_{obs}$ events. Construct the one-sided, upper bound confidence interval with $\\alpha$ significance level ($1-\\alpha$ confidence level)."
   ]
  },
  {
   "cell_type": "markdown",
   "metadata": {},
   "source": [
    "**Reformulating problem:**\n",
    "\n",
    "Find $\\lambda^{U.L.}$ such that:\n",
    "\n",
    "\\begin{equation}\n",
    "    \\alpha = \\sum_{n=0}^{n=n_{obs}}  Poi (n, \\lambda=\\lambda_{U.L})\n",
    "\\end{equation}\n",
    "\n",
    "Using the relation between Poission and $\\chi^{2}$ distribution (see above), the right side can be expressed as:\n",
    "\n",
    "\\begin{equation}\n",
    "    \\sum_{n=0}^{n=n_{obs}}  Poi (n, \\lambda=\\lambda_{U.L})\n",
    "    =\n",
    "    CDF_{Poi(\\lambda^{U.L.})}\\left( n_{obs} \\right)\n",
    "    =\n",
    "    1 - CDF_{\\chi^{2}(df=2(n_{obs}+1) )} \\left( 2\\lambda^{U.L.} \\right),\n",
    "\\end{equation}\n",
    "\n",
    "yielding\n",
    "\n",
    "\\begin{equation}\n",
    "    \\alpha\n",
    "    =\n",
    "    1 - CDF_{\\chi^{2}(df=2(n_{obs}+1) )} \\left( 2\\lambda^{U.L.} \\right)\n",
    "\\end{equation}\n",
    "\n",
    "Rearranging the terms:\n",
    "\n",
    "\\begin{equation}\n",
    "    CDF_{\\chi^{2}(df=2(n_{obs}+1) )} \\left( 2\\lambda^{U.L.} \\right) = 1 - \\alpha\n",
    "\\end{equation}\n",
    "\n",
    "Taking the inverse of the $CDF_{\\chi^{2}(df=2(n_{obs}+1) )}$ function\n",
    "\n",
    "\\begin{equation}\n",
    "    2\\lambda^{U.L.}\n",
    "    =\n",
    "    CDF^{-1}_{\\chi^{2}(df=2(n_{obs}+1) )} (1 - \\alpha) \n",
    "\\end{equation}\n",
    "\n",
    "we find the $\\lambda^{U.L.}$ is:\n",
    "\n",
    "\\begin{equation}\n",
    "    \\lambda^{U.L.}\n",
    "    =\n",
    "    \\frac{1}{2}\n",
    "    CDF^{-1}_{\\chi^{2}(df=2(n_{obs}+1) )} (1 - \\alpha) \n",
    "\\end{equation}"
   ]
  },
  {
   "cell_type": "code",
   "execution_count": 1,
   "metadata": {
    "collapsed": true
   },
   "outputs": [],
   "source": [
    "import numpy as np\n",
    "import scipy.stats\n",
    "import matplotlib.pyplot as plt\n",
    "%matplotlib inline"
   ]
  },
  {
   "cell_type": "code",
   "execution_count": 2,
   "metadata": {
    "collapsed": true
   },
   "outputs": [],
   "source": [
    "def calc_lambda_CI_upper(n_obs, alpha=0.05):\n",
    "    \"\"\"Calculates the one-sided, upper bound confidence interval with α significance level\"\"\"\n",
    "    chi2_df = 2 * (n_obs+1)\n",
    "    lambda_UL = 0.5 * scipy.stats.chi2.ppf(1.0-alpha, df=chi2_df)\n",
    "    return lambda_UL"
   ]
  },
  {
   "cell_type": "code",
   "execution_count": 3,
   "metadata": {
    "collapsed": true
   },
   "outputs": [],
   "source": [
    "def calc_lambda_CI_two_sided(n_obs, alpha=0.05): \n",
    "    \"\"\"\n",
    "    Calculates the two-sided, symmetric confidence interval with α significance level.\n",
    "    \"\"\"\n",
    "    lambda_CI_LL = 0.5 * scipy.stats.chi2.ppf(  alpha/2.0, 2*(n_obs))\n",
    "    lambda_CI_UL = 0.5 * scipy.stats.chi2.ppf(1.0-alpha/2.0, 2*(n_obs+1))\n",
    "    return lambda_CI_LL, lambda_CI_UL"
   ]
  },
  {
   "cell_type": "code",
   "execution_count": 4,
   "metadata": {
    "collapsed": true
   },
   "outputs": [],
   "source": [
    "def calc_CI_bounds(n_obs, alpha):\n",
    "    lambda_CI_LL_twosided, lambda_CI_UL_twosided = calc_lambda_CI_two_sided(n_obs, alpha=0.05)\n",
    "    lambda_CI_UL_onesided = calc_lambda_CI_upper(n_obs, alpha=0.05)\n",
    "    return lambda_CI_LL_twosided, lambda_CI_UL_twosided, lambda_CI_UL_onesided"
   ]
  },
  {
   "cell_type": "code",
   "execution_count": 5,
   "metadata": {},
   "outputs": [],
   "source": [
    "def show_confidence_intervals(experiments, xmin_inf = -1e10, figsize=(10,8)):\n",
    "\n",
    "    fig, axes = plt.subplots(ncols=2, figsize=figsize)\n",
    "    ax = axes.flatten()\n",
    "\n",
    "    for i, experiment in enumerate(experiments):\n",
    "        n = experiment[0]\n",
    "        ll_2s = experiment[1]\n",
    "        ul_2s = experiment[2]\n",
    "        ul_1s = experiment[3]\n",
    "        ax[0].scatter(n, 2*i, c='navy',)\n",
    "        ax[1].scatter(n, 2*i, c='navy',)\n",
    "        ax[0].hlines(2*i, xmin=ll_2s, xmax=ul_2s, colors='r')\n",
    "        ax[1].hlines(2*i, xmin=xmin_inf, xmax=ul_1s, colors='purple')\n",
    "\n",
    "    ax[0].axvline(lambda_true, linestyle='--', label=r\"$\\lambda_{true}$\", c='k')\n",
    "    ax[1].axvline(lambda_true, linestyle='--', label=r\"$\\lambda_{true}$\", c='k')\n",
    "    \n",
    "    ax[0].scatter(experiments[0,0], 0, c='navy', label='$n_{obs}$')\n",
    "    ax[1].scatter(experiments[0,0], 0, c='navy', label='$n_{obs}$')\n",
    "    \n",
    "    ax[0].hlines(9, xmin=experiments[0,1], xmax=experiments[0,2], colors='r', label='Two-sided CI')\n",
    "    ax[1].hlines(0, xmin=xmin_inf, xmax=experiments[0,3], colors='purple', label='One-sided, upper bound CI')\n",
    "\n",
    "    ax[0].legend()\n",
    "    ax[1].legend()\n",
    "    \n",
    "    ax[0].set_xlim(0.0, 30.0)\n",
    "    ax[1].set_xlim(0.0, 30.0)\n",
    "\n",
    "    ax[0].get_yaxis().set_visible(False)\n",
    "    ax[1].get_yaxis().set_visible(False)\n",
    "\n",
    "    #ax[0].set_xlabel(r\"$\\lambda$\")\n",
    "    #ax[1].set_xlabel(r\"$\\lambda$\")\n",
    "\n",
    "    ax[0].set_title(r\"Two-sided confidence interval\")\n",
    "    ax[1].set_title(r\"One-sided, upper bounded confidence interval\")\n",
    "    \n",
    "    return fig, ax"
   ]
  },
  {
   "cell_type": "markdown",
   "metadata": {},
   "source": [
    "## Demonstration"
   ]
  },
  {
   "cell_type": "code",
   "execution_count": 6,
   "metadata": {
    "collapsed": true
   },
   "outputs": [],
   "source": [
    "nsamples = 10000\n",
    "lambda_true = 5\n",
    "alpha = 0.05"
   ]
  },
  {
   "cell_type": "code",
   "execution_count": 7,
   "metadata": {},
   "outputs": [],
   "source": [
    "n_obs = scipy.stats.poisson.rvs(mu=lambda_true, size=nsamples)"
   ]
  },
  {
   "cell_type": "code",
   "execution_count": 8,
   "metadata": {
    "collapsed": true
   },
   "outputs": [],
   "source": [
    "CI_bounds = np.array([calc_CI_bounds(n, alpha) for n in n_obs])"
   ]
  },
  {
   "cell_type": "code",
   "execution_count": 9,
   "metadata": {
    "collapsed": true
   },
   "outputs": [],
   "source": [
    "experiments = np.c_[n_obs, CI_bounds]"
   ]
  },
  {
   "cell_type": "markdown",
   "metadata": {},
   "source": [
    "### Generated sampels"
   ]
  },
  {
   "cell_type": "code",
   "execution_count": 10,
   "metadata": {},
   "outputs": [
    {
     "data": {
      "image/png": "[encoded data removed]",
      "text/plain": [
       "<Figure size 432x288 with 1 Axes>"
      ]
     },
     "metadata": {},
     "output_type": "display_data"
    }
   ],
   "source": [
    "fig, ax = plt.subplots()\n",
    "bins = np.array(range(0,20))-0.5\n",
    "ax.hist(experiments[:,0], bins=bins, density=True);\n",
    "ax.axvline(lambda_true, linestyle='--', c='k', label=\"$\\lambda_{true}$\")\n",
    "ax.set_xlabel('N')\n",
    "ax.set_ylabel('PDF')\n",
    "ax.legend();"
   ]
  },
  {
   "cell_type": "markdown",
   "metadata": {},
   "source": [
    "### Confidence intervals"
   ]
  },
  {
   "cell_type": "code",
   "execution_count": 11,
   "metadata": {},
   "outputs": [
    {
     "data": {
      "image/png": "[encoded data removed]",
      "text/plain": [
       "<Figure size 720x576 with 2 Axes>"
      ]
     },
     "metadata": {},
     "output_type": "display_data"
    }
   ],
   "source": [
    "fig, ax = show_confidence_intervals(experiments[:30])"
   ]
  },
  {
   "cell_type": "markdown",
   "metadata": {},
   "source": [
    "Find examples where $\\lambda_{true}$ is outside the confidence interval"
   ]
  },
  {
   "cell_type": "code",
   "execution_count": 12,
   "metadata": {},
   "outputs": [],
   "source": [
    "not_covered_2s_examples = experiments[np.where((experiments[:,1] > lambda_true) | (experiments[:,2] < lambda_true))]\n",
    "not_covered_1s_examples = experiments[np.where(experiments[:,3] < lambda_true)]"
   ]
  },
  {
   "cell_type": "code",
   "execution_count": 13,
   "metadata": {},
   "outputs": [
    {
     "data": {
      "text/plain": [
       "(<Figure size 576x432 with 2 Axes>,\n",
       " array([<matplotlib.axes._subplots.AxesSubplot object at 0x7f99a95f46a0>,\n",
       "        <matplotlib.axes._subplots.AxesSubplot object at 0x7f99a9419b38>], dtype=object))"
      ]
     },
     "execution_count": 13,
     "metadata": {},
     "output_type": "execute_result"
    },
    {
     "data": {
      "image/png": "[encoded data removed]",
      "text/plain": [
       "<Figure size 576x432 with 2 Axes>"
      ]
     },
     "metadata": {},
     "output_type": "display_data"
    }
   ],
   "source": [
    "show_confidence_intervals(not_covered_2s_examples[:5], figsize=(8,6))"
   ]
  },
  {
   "cell_type": "code",
   "execution_count": 14,
   "metadata": {},
   "outputs": [
    {
     "data": {
      "text/plain": [
       "(<Figure size 576x432 with 2 Axes>,\n",
       " array([<matplotlib.axes._subplots.AxesSubplot object at 0x7f99a92f96d8>,\n",
       "        <matplotlib.axes._subplots.AxesSubplot object at 0x7f99ab899898>], dtype=object))"
      ]
     },
     "execution_count": 14,
     "metadata": {},
     "output_type": "execute_result"
    },
    {
     "data": {
      "image/png": "[encoded data removed]",
      "text/plain": [
       "<Figure size 576x432 with 2 Axes>"
      ]
     },
     "metadata": {},
     "output_type": "display_data"
    }
   ],
   "source": [
    "show_confidence_intervals(not_covered_1s_examples[:5], figsize=(8,6))"
   ]
  },
  {
   "cell_type": "markdown",
   "metadata": {},
   "source": [
    "### Calculate empirical coverage"
   ]
  },
  {
   "cell_type": "code",
   "execution_count": 15,
   "metadata": {},
   "outputs": [
    {
     "data": {
      "text/plain": [
       "(0.9775, 0.9588)"
      ]
     },
     "execution_count": 15,
     "metadata": {},
     "output_type": "execute_result"
    }
   ],
   "source": [
    "coverage_CI_2s_empirical = 1.0-len(not_covered_2s_examples)/len(experiments)\n",
    "coverage_CI_1s_empirical = 1.0-len(not_covered_1s_examples)/len(experiments)\n",
    "coverage_CI_2s_empirical, coverage_CI_1s_empirical"
   ]
  }
 ],
 "metadata": {
  "kernelspec": {
   "display_name": "Python 3",
   "language": "python",
   "name": "python3"
  },
  "language_info": {
   "codemirror_mode": {
    "name": "ipython",
    "version": 3
   },
   "file_extension": ".py",
   "mimetype": "text/x-python",
   "name": "python",
   "nbconvert_exporter": "python",
   "pygments_lexer": "ipython3",
   "version": "3.6.8"
  }
 },
 "nbformat": 4,
 "nbformat_minor": 2
}
