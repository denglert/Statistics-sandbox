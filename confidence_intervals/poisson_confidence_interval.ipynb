{
 "cells": [
  {
   "cell_type": "markdown",
   "metadata": {},
   "source": [
    "# Confidence interval for poisson parameter $\\lambda$"
   ]
  },
  {
   "cell_type": "markdown",
   "metadata": {},
   "source": [
    "## Relation between Poisson and $\\chi^{2}$ distributions\n",
    "\n",
    "**References:**\n",
    "- [Norman L. Johnson Adrienne W. Kemp Samuel Kotz: Univariate Discrete Distributions](dx.doi.org/10.1002/0471715816)\n",
    "- [Statsdirect: Poisson Rate Confidence Interval](https://www.statsdirect.com/help/rates/poisson_rate_confidence_interval.htm)\n",
    "\n",
    "\\begin{equation}\n",
    "\\begin{aligned}\n",
    "    X &\\sim Poi(\\lambda)\\\\\n",
    "    Y &\\sim \\chi^{2}\\left(df=2 (\\nu+1) \\right)\n",
    "\\end{aligned}\n",
    "\\end{equation}\n",
    "\n",
    "\\begin{equation}\n",
    "    Pr\\left[X \\leq \\nu \\right]\n",
    "    =\n",
    "    Pr\\left[Y \\geq 2 \\lambda \\right]\n",
    "\\end{equation}\n",
    "\n",
    "\\begin{equation}\n",
    "    CDF_{Poi(\\lambda)}\\left( \\nu \\right)\n",
    "    =\n",
    "    1 - CDF_{\\chi^{2}(df=2 (\\nu+1))} \\left( 2\\lambda \\right)\n",
    "\\end{equation}"
   ]
  },
  {
   "cell_type": "markdown",
   "metadata": {},
   "source": [
    "## One-sided, upper confidence interval for $\\lambda$"
   ]
  },
  {
   "cell_type": "markdown",
   "metadata": {},
   "source": [
    "\\begin{equation}\n",
    "    N \\sim Poi(\\lambda)\n",
    "\\end{equation}\n",
    "\n",
    "We observe $N=n_{obs}$ events. Construct the one-sided, upper bound confidence interval with $\\alpha$ significance level ($1-\\alpha$ confidence level)."
   ]
  },
  {
   "cell_type": "markdown",
   "metadata": {},
   "source": [
    "**Reformulating problem:**\n",
    "\n",
    "Find $\\lambda^{U.L.}$ such that:\n",
    "\n",
    "\\begin{equation}\n",
    "    \\alpha = \\sum_{n=0}^{n=n_{obs}}  Poi (n, \\lambda=\\lambda_{U.L})\n",
    "\\end{equation}\n",
    "\n",
    "Using the relation between Poission and $\\chi^{2}$ distribution (see above), the right side can be expressed as:\n",
    "\n",
    "\\begin{equation}\n",
    "    \\sum_{n=0}^{n=n_{obs}}  Poi (n, \\lambda=\\lambda_{U.L})\n",
    "    =\n",
    "    CDF_{Poi(\\lambda^{U.L.})}\\left( n_{obs} \\right)\n",
    "    =\n",
    "    1 - CDF_{\\chi^{2}(df=2(n_{obs}+1) )} \\left( 2\\lambda^{U.L.} \\right),\n",
    "\\end{equation}\n",
    "\n",
    "yielding\n",
    "\n",
    "\\begin{equation}\n",
    "    \\alpha\n",
    "    =\n",
    "    1 - CDF_{\\chi^{2}(df=2(n_{obs}+1) )} \\left( 2\\lambda^{U.L.} \\right)\n",
    "\\end{equation}\n",
    "\n",
    "Rearranging the terms:\n",
    "\n",
    "\\begin{equation}\n",
    "    CDF_{\\chi^{2}(df=2(n_{obs}+1) )} \\left( 2\\lambda^{U.L.} \\right) = 1 - \\alpha\n",
    "\\end{equation}\n",
    "\n",
    "Taking the inverse of the $CDF_{\\chi^{2}(df=2(n_{obs}+1) )}$ function\n",
    "\n",
    "\\begin{equation}\n",
    "    2\\lambda^{U.L.}\n",
    "    =\n",
    "    CDF^{-1}_{\\chi^{2}(df=2(n_{obs}+1) )} (1 - \\alpha) \n",
    "\\end{equation}\n",
    "\n",
    "we find the $\\lambda^{U.L.}$ is:\n",
    "\n",
    "\\begin{equation}\n",
    "    \\lambda^{U.L.}\n",
    "    =\n",
    "    \\frac{1}{2}\n",
    "    CDF^{-1}_{\\chi^{2}(df=2(n_{obs}+1) )} (1 - \\alpha) \n",
    "\\end{equation}"
   ]
  },
  {
   "cell_type": "code",
   "execution_count": 1,
   "metadata": {
    "collapsed": true
   },
   "outputs": [],
   "source": [
    "import numpy as np\n",
    "import scipy.stats\n",
    "import matplotlib.pyplot as plt\n",
    "%matplotlib inline"
   ]
  },
  {
   "cell_type": "code",
   "execution_count": 26,
   "metadata": {
    "collapsed": true
   },
   "outputs": [],
   "source": [
    "def upper_CI_bound_for_Poisson(n_obs, alpha):\n",
    "    \"\"\"Calculates the one-sided, upper bound confidence interval with  α  significance level\"\"\"\n",
    "    chi2_df = 2 * (n_obs+1)\n",
    "    lambda_UL = 0.5 * scipy.stats.chi2.isf(alpha, df=chi2_df)\n",
    "    return lambda_UL"
   ]
  },
  {
   "cell_type": "code",
   "execution_count": 15,
   "metadata": {
    "collapsed": true
   },
   "outputs": [],
   "source": [
    "N = scipy.stats.poisson.rvs(mu=5, size=1000)"
   ]
  },
  {
   "cell_type": "code",
   "execution_count": 19,
   "metadata": {},
   "outputs": [
    {
     "data": {
      "text/plain": [
       "Text(0,0.5,'PDF')"
      ]
     },
     "execution_count": 19,
     "metadata": {},
     "output_type": "execute_result"
    },
    {
     "data": {
      "image/png": "[encoded data removed]",
      "text/plain": [
       "<Figure size 432x288 with 1 Axes>"
      ]
     },
     "metadata": {},
     "output_type": "display_data"
    }
   ],
   "source": [
    "fig, ax = plt.subplots()\n",
    "bins = np.array(range(0,20))-0.5\n",
    "ax.hist(N, bins=bins, density=True);\n",
    "ax.set_xlabel('N')\n",
    "ax.set_ylabel('PDF')"
   ]
  }
 ],
 "metadata": {
  "kernelspec": {
   "display_name": "Python 3",
   "language": "python",
   "name": "python3"
  },
  "language_info": {
   "codemirror_mode": {
    "name": "ipython",
    "version": 3
   },
   "file_extension": ".py",
   "mimetype": "text/x-python",
   "name": "python",
   "nbconvert_exporter": "python",
   "pygments_lexer": "ipython3",
   "version": "3.6.8"
  }
 },
 "nbformat": 4,
 "nbformat_minor": 2
}
