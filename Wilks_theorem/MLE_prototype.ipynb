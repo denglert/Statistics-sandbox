{
 "cells": [
  {
   "cell_type": "code",
   "execution_count": 1,
   "metadata": {},
   "outputs": [
    {
     "name": "stdout",
     "output_type": "stream",
     "text": [
      "The autoreload extension is already loaded. To reload it, use:\n",
      "  %reload_ext autoreload\n"
     ]
    }
   ],
   "source": [
    "import os\n",
    "setup_script = os.path.join(os.environ['ENV_JUPYTER_SETUPS_DIR'], 'setup_sci_env_basic.py')\n",
    "%run $setup_script"
   ]
  },
  {
   "cell_type": "code",
   "execution_count": 2,
   "metadata": {
    "collapsed": true
   },
   "outputs": [],
   "source": [
    "from scipy.stats import norm, poisson\n",
    "from scipy.optimize import minimize"
   ]
  },
  {
   "cell_type": "markdown",
   "metadata": {},
   "source": [
    "# Likelihood\n",
    "\n",
    "\\begin{equation}\n",
    "    \\mathcal{L}_{comb}(\\mathbf{x},\\theta) = \\prod^{N}_{i=1} \\mathcal{L}(x_{i},\\theta)\n",
    "\\end{equation}\n",
    "\n",
    "\\begin{equation}\n",
    "    \\ln \\mathcal{L}_{comb}(\\mathbf{x}, \\theta) = \\sum^{N}_{i=1} \\ln \\mathcal{L}(x_{i},\\theta)\n",
    "\\end{equation}\n",
    "\n",
    "Maximum likelihood estimator:\n",
    "\n",
    "\\begin{equation}\n",
    "    \\hat{\\theta} = \\underset{\\theta}{\\text{argmax}} ~ \\mathcal{L}(\\theta,\\mathbf{x})\n",
    "\\end{equation}\n",
    "\n",
    "\\begin{equation}\n",
    "    \\hat{\\theta} = \\underset{\\theta}{\\text{argmin}} ~ \\left[ - \\ln \\mathcal{L}(\\theta,\\mathbf{x}) \\right]\n",
    "\\end{equation}"
   ]
  },
  {
   "cell_type": "code",
   "execution_count": 3,
   "metadata": {},
   "outputs": [],
   "source": [
    "def NLL(pars, x):\n",
    "    mult = 2.0\n",
    "    mu = pars[0]\n",
    "    sigma = pars[1]\n",
    "    ll = mult*(-0.5 * np.log(2.0*np.pi) - np.log(sigma) - (x-mu)**2/(2.0*sigma**2))\n",
    "    return -ll"
   ]
  },
  {
   "cell_type": "code",
   "execution_count": 4,
   "metadata": {
    "collapsed": true
   },
   "outputs": [],
   "source": [
    "def NLL_comb(pars, X, NLL):\n",
    "    nll_sum = 0\n",
    "    for xi in X:\n",
    "        nll = NLL(pars, xi)\n",
    "        nll_sum += nll\n",
    "    return nll_sum"
   ]
  },
  {
   "cell_type": "code",
   "execution_count": 5,
   "metadata": {
    "collapsed": true
   },
   "outputs": [],
   "source": [
    "def NLL_comb_conditional(par_opt, par_fix, x, NLL):\n",
    "    pars = (par_opt, par_fix)\n",
    "    nll_sum = NLL_comb(pars, x, NLL)\n",
    "    return nll_sum"
   ]
  },
  {
   "cell_type": "markdown",
   "metadata": {},
   "source": [
    "Generate a datasample"
   ]
  },
  {
   "cell_type": "code",
   "execution_count": 6,
   "metadata": {},
   "outputs": [],
   "source": [
    "x_sample = norm.rvs(size=100, loc=5.0, scale=2.0)"
   ]
  },
  {
   "cell_type": "code",
   "execution_count": 7,
   "metadata": {},
   "outputs": [
    {
     "data": {
      "image/png": "[encoded data removed]",
      "text/plain": [
       "<matplotlib.figure.Figure at 0x7f5b4c49fac8>"
      ]
     },
     "metadata": {},
     "output_type": "display_data"
    }
   ],
   "source": [
    "f,a = plt.subplots()\n",
    "n, bins, patches = a.hist(x_sample, bins=100)"
   ]
  },
  {
   "cell_type": "markdown",
   "metadata": {},
   "source": [
    "Parameter scan"
   ]
  },
  {
   "cell_type": "code",
   "execution_count": 8,
   "metadata": {},
   "outputs": [],
   "source": [
    "x = np.linspace(4.0, 6.0, 100)\n",
    "y = np.linspace(0.1, 3.0, 100)\n",
    "X,Y = np.meshgrid(x,y)"
   ]
  },
  {
   "cell_type": "code",
   "execution_count": 9,
   "metadata": {},
   "outputs": [],
   "source": [
    "Z = NLL_comb((X,Y), x_sample, NLL)"
   ]
  },
  {
   "cell_type": "code",
   "execution_count": 10,
   "metadata": {},
   "outputs": [],
   "source": [
    "def plot_NLL(X,Y,Z):\n",
    "    f,a = plt.subplots()\n",
    "    \n",
    "    pcm = a.pcolor(X, Y, Z, cmap='viridis_r', norm=colors.LogNorm(vmin=Z.min(), vmax=Z.max()))\n",
    "    cb = f.colorbar(pcm, ax=a, extend='max')\n",
    "    cb.set_label(r'$-2\\ln \\mathcal{L}$')\n",
    "        \n",
    "    min_index = np.argmin(Z)\n",
    "    min_value = np.min(Z)\n",
    "    a.scatter(X.flatten()[min_index], Y.flatten()[min_index], c='k', marker='x')\n",
    "    \n",
    "    a.contour(X,Y,Z, [min_value+1.0, min_value+4.0, min_value+9.0])\n",
    "    \n",
    "    label = \"Min value: {:.2e}\".format(min_value)\n",
    "    a.text(0.2, 0.1, label, transform=a.transAxes)\n",
    "    return f,a"
   ]
  },
  {
   "cell_type": "code",
   "execution_count": 11,
   "metadata": {},
   "outputs": [
    {
     "data": {
      "image/png": "[encoded data removed]",
      "text/plain": [
       "<matplotlib.figure.Figure at 0x7f5b49de5358>"
      ]
     },
     "metadata": {},
     "output_type": "display_data"
    }
   ],
   "source": [
    "f,a = plot_NLL(X,Y,Z)"
   ]
  },
  {
   "cell_type": "markdown",
   "metadata": {},
   "source": [
    "## MLE"
   ]
  },
  {
   "cell_type": "code",
   "execution_count": 12,
   "metadata": {
    "collapsed": true
   },
   "outputs": [],
   "source": [
    "def MLE(NLL_comb, x0, args, method='Nelder-Mead'):\n",
    "    m = minimize(fun=NLL_comb, x0=x0, args=args, method=method)\n",
    "    return m"
   ]
  },
  {
   "cell_type": "code",
   "execution_count": 13,
   "metadata": {},
   "outputs": [
    {
     "data": {
      "text/plain": [
       " final_simplex: (array([[ 5.137182  ,  1.99400035],\n",
       "       [ 5.1372329 ,  1.99398106],\n",
       "       [ 5.13710431,  1.99393612]]), array([ 421.81310266,  421.81310267,  421.81310284]))\n",
       "           fun: 421.81310266338988\n",
       "       message: 'Optimization terminated successfully.'\n",
       "          nfev: 93\n",
       "           nit: 48\n",
       "        status: 0\n",
       "       success: True\n",
       "             x: array([ 5.137182  ,  1.99400035])"
      ]
     },
     "execution_count": 13,
     "metadata": {},
     "output_type": "execute_result"
    }
   ],
   "source": [
    "MLE(NLL_comb, x0=(1.0, 1.0),  args=(x_sample, NLL))"
   ]
  },
  {
   "cell_type": "code",
   "execution_count": 14,
   "metadata": {},
   "outputs": [
    {
     "data": {
      "text/plain": [
       " final_simplex: (array([[ 5.13720703],\n",
       "       [ 5.13710938]]), array([ 421.81492328,  421.81492342]))\n",
       "           fun: 421.81492327537177\n",
       "       message: 'Optimization terminated successfully.'\n",
       "          nfev: 42\n",
       "           nit: 21\n",
       "        status: 0\n",
       "       success: True\n",
       "             x: array([ 5.13720703])"
      ]
     },
     "execution_count": 14,
     "metadata": {},
     "output_type": "execute_result"
    }
   ],
   "source": [
    "MLE(NLL_comb_conditional, x0=1.0, args=(2.0, x_sample, NLL))"
   ]
  }
 ],
 "metadata": {
  "kernelspec": {
   "display_name": "Python 3",
   "language": "python",
   "name": "python3"
  },
  "language_info": {
   "codemirror_mode": {
    "name": "ipython",
    "version": 3
   },
   "file_extension": ".py",
   "mimetype": "text/x-python",
   "name": "python",
   "nbconvert_exporter": "python",
   "pygments_lexer": "ipython3",
   "version": "3.6.2"
  }
 },
 "nbformat": 4,
 "nbformat_minor": 2
}
