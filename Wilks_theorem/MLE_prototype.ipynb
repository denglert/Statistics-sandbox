{
 "cells": [
  {
   "cell_type": "code",
   "execution_count": 34,
   "metadata": {},
   "outputs": [
    {
     "name": "stdout",
     "output_type": "stream",
     "text": [
      "The autoreload extension is already loaded. To reload it, use:\n",
      "  %reload_ext autoreload\n"
     ]
    }
   ],
   "source": [
    "import os\n",
    "setup_script = os.path.join(os.environ['ENV_JUPYTER_SETUPS_DIR'], 'setup_sci_env_basic.py')\n",
    "%run $setup_script"
   ]
  },
  {
   "cell_type": "code",
   "execution_count": 35,
   "metadata": {
    "collapsed": true
   },
   "outputs": [],
   "source": [
    "from scipy.stats import norm, poisson\n",
    "from scipy.optimize import minimize"
   ]
  },
  {
   "cell_type": "markdown",
   "metadata": {},
   "source": [
    "# Likelihood\n",
    "\n",
    "\\begin{equation}\n",
    "    \\mathcal{L}_{comb}(\\mathbf{x},\\theta) = \\prod^{N}_{i=1} \\mathcal{L}(x_{i},\\theta)\n",
    "\\end{equation}\n",
    "\n",
    "\\begin{equation}\n",
    "    \\ln \\mathcal{L}_{comb}(\\mathbf{x}, \\theta) = \\sum^{N}_{i=1} \\ln \\mathcal{L}(x_{i},\\theta)\n",
    "\\end{equation}\n",
    "\n",
    "## Maximum likelihood estimator:\n",
    "\n",
    "\\begin{equation}\n",
    "    \\hat{\\theta} = \\underset{\\theta}{\\text{argmax}} ~ \\mathcal{L}(\\theta,\\mathbf{x})\n",
    "\\end{equation}\n",
    "\n",
    "\\begin{equation}\n",
    "    \\hat{\\theta} = \\underset{\\theta}{\\text{argmin}} ~ \\left[ - \\ln \\mathcal{L}(\\theta,\\mathbf{x}) \\right]\n",
    "\\end{equation}"
   ]
  },
  {
   "cell_type": "markdown",
   "metadata": {},
   "source": [
    "Functions:\n",
    "- `NLL(pars, x)` = $- 2 \\ln \\mathcal{L}(\\theta, x)$\n",
    "- `NLL_comb(pars, x)` = $- \\sum_{i=1}^{N} 2 \\ln \\mathcal{L}(\\theta, x_{i})$"
   ]
  },
  {
   "cell_type": "markdown",
   "metadata": {},
   "source": [
    "Prototype NLL"
   ]
  },
  {
   "cell_type": "code",
   "execution_count": 31,
   "metadata": {},
   "outputs": [],
   "source": [
    "def NLL_norm(pars, x):\n",
    "    \"\"\"Returns -2*ln*L\"\"\"\n",
    "    mu = pars[1]\n",
    "    sigma = pars[0]\n",
    "    ll = -0.5 * np.log(2.0*np.pi) - np.log(sigma) - (x-mu)**2/(2.0*sigma**2)\n",
    "    return - 2.0 * ll"
   ]
  },
  {
   "cell_type": "markdown",
   "metadata": {},
   "source": [
    "Combined NLL"
   ]
  },
  {
   "cell_type": "code",
   "execution_count": 4,
   "metadata": {
    "collapsed": true
   },
   "outputs": [],
   "source": [
    "def NLL(pars, X, NLL_func):\n",
    "    nll_sum = 0\n",
    "    for xi in X:\n",
    "        nll = NLL_func(pars, xi)\n",
    "        nll_sum += nll\n",
    "    return nll_sum"
   ]
  },
  {
   "cell_type": "markdown",
   "metadata": {},
   "source": [
    "Conditional NLL"
   ]
  },
  {
   "cell_type": "code",
   "execution_count": 5,
   "metadata": {
    "collapsed": true
   },
   "outputs": [],
   "source": [
    "def NLL_cond(par_opt, par_fix, X, NLL_func):\n",
    "    pars = (par_opt, par_fix)\n",
    "    nll_sum = NLL(pars, X, NLL_func)\n",
    "    return nll_sum"
   ]
  },
  {
   "cell_type": "markdown",
   "metadata": {},
   "source": [
    "MLEs"
   ]
  },
  {
   "cell_type": "code",
   "execution_count": 6,
   "metadata": {
    "collapsed": true
   },
   "outputs": [],
   "source": [
    "def MLE(NLL, X, NLL_func, init_values, method='Nelder-Mead'):\n",
    "    args = (X, NLL_func)\n",
    "    m = minimize(fun=NLL, x0=init_values, args=args, method=method)\n",
    "    return m"
   ]
  },
  {
   "cell_type": "code",
   "execution_count": 7,
   "metadata": {
    "collapsed": true
   },
   "outputs": [],
   "source": [
    "def MLE_cond(NLL_cond, X, NLL_func, par_fix, init_values, method='Nelder-Mead'):\n",
    "    args = (par_fix, X, NLL_func)\n",
    "    m = minimize(fun=NLL_cond, x0=init_values, args=args, method=method)\n",
    "    return m"
   ]
  },
  {
   "cell_type": "markdown",
   "metadata": {},
   "source": [
    "Generate a datasample"
   ]
  },
  {
   "cell_type": "code",
   "execution_count": 8,
   "metadata": {},
   "outputs": [],
   "source": [
    "x_sample = norm.rvs(size=100, loc=5.0, scale=2.0)"
   ]
  },
  {
   "cell_type": "code",
   "execution_count": 9,
   "metadata": {},
   "outputs": [
    {
     "data": {
      "image/png": "[encoded data removed]",
      "text/plain": [
       "<matplotlib.figure.Figure at 0x7f779ecf44a8>"
      ]
     },
     "metadata": {},
     "output_type": "display_data"
    }
   ],
   "source": [
    "f,a = plt.subplots()\n",
    "n, bins, patches = a.hist(x_sample, bins=100)"
   ]
  },
  {
   "cell_type": "markdown",
   "metadata": {},
   "source": [
    "Parameter scan"
   ]
  },
  {
   "cell_type": "code",
   "execution_count": 10,
   "metadata": {},
   "outputs": [],
   "source": [
    "x = np.linspace(4.0, 6.0, 100)\n",
    "y = np.linspace(0.1, 3.0, 100)\n",
    "X,Y = np.meshgrid(x,y)"
   ]
  },
  {
   "cell_type": "code",
   "execution_count": 11,
   "metadata": {},
   "outputs": [],
   "source": [
    "Z = NLL((X,Y), x_sample, NLL_norm)"
   ]
  },
  {
   "cell_type": "code",
   "execution_count": 12,
   "metadata": {},
   "outputs": [],
   "source": [
    "def plot_NLL(X,Y,Z):\n",
    "    f,a = plt.subplots()\n",
    "    \n",
    "    pcm = a.pcolor(X, Y, Z, cmap='viridis_r', norm=colors.LogNorm(vmin=Z.min(), vmax=Z.max()))\n",
    "    cb = f.colorbar(pcm, ax=a, extend='max')\n",
    "    cb.set_label(r'$-2\\ln \\mathcal{L}$')\n",
    "        \n",
    "    min_index = np.argmin(Z)\n",
    "    min_value = np.min(Z)\n",
    "    a.scatter(X.flatten()[min_index], Y.flatten()[min_index], c='k', marker='x')\n",
    "    \n",
    "    a.contour(X,Y,Z, [min_value+1.0, min_value+4.0, min_value+9.0])\n",
    "    \n",
    "    label = \"Min value: {:.2e}\".format(min_value)\n",
    "    a.text(0.2, 0.1, label, transform=a.transAxes)\n",
    "    return f,a"
   ]
  },
  {
   "cell_type": "code",
   "execution_count": 13,
   "metadata": {},
   "outputs": [
    {
     "data": {
      "image/png": "[encoded data removed]",
      "text/plain": [
       "<matplotlib.figure.Figure at 0x7f779c5ed780>"
      ]
     },
     "metadata": {},
     "output_type": "display_data"
    }
   ],
   "source": [
    "f,a = plot_NLL(X,Y,Z)"
   ]
  },
  {
   "cell_type": "markdown",
   "metadata": {},
   "source": [
    "## MLE"
   ]
  },
  {
   "cell_type": "code",
   "execution_count": 32,
   "metadata": {},
   "outputs": [
    {
     "data": {
      "text/plain": [
       " final_simplex: (array([[ 2.14215032,  5.03056516],\n",
       "       [ 2.14215496,  5.03065145],\n",
       "       [ 2.14209662,  5.03059405]]), array([ 436.15001388,  436.15001388,  436.15001398]))\n",
       "           fun: 436.15001387744286\n",
       "       message: 'Optimization terminated successfully.'\n",
       "          nfev: 95\n",
       "           nit: 49\n",
       "        status: 0\n",
       "       success: True\n",
       "             x: array([ 2.14215032,  5.03056516])"
      ]
     },
     "execution_count": 32,
     "metadata": {},
     "output_type": "execute_result"
    }
   ],
   "source": [
    "MLE(NLL, X=x_sample, NLL_func=NLL_norm, init_values=(1.0, 1.0))"
   ]
  },
  {
   "cell_type": "code",
   "execution_count": 33,
   "metadata": {},
   "outputs": [
    {
     "data": {
      "text/plain": [
       " final_simplex: (array([[ 2.14238281],\n",
       "       [ 2.14228516]]), array([ 436.17042761,  436.17042793]))\n",
       "           fun: 436.17042760627652\n",
       "       message: 'Optimization terminated successfully.'\n",
       "          nfev: 34\n",
       "           nit: 17\n",
       "        status: 0\n",
       "       success: True\n",
       "             x: array([ 2.14238281])"
      ]
     },
     "execution_count": 33,
     "metadata": {},
     "output_type": "execute_result"
    }
   ],
   "source": [
    "MLE_cond(NLL_cond, X=x_sample, NLL_func=NLL_norm, par_fix=5.0, init_values=(1.0))"
   ]
  },
  {
   "cell_type": "code",
   "execution_count": null,
   "metadata": {
    "collapsed": true
   },
   "outputs": [],
   "source": []
  }
 ],
 "metadata": {
  "kernelspec": {
   "display_name": "Python 3",
   "language": "python",
   "name": "python3"
  },
  "language_info": {
   "codemirror_mode": {
    "name": "ipython",
    "version": 3
   },
   "file_extension": ".py",
   "mimetype": "text/x-python",
   "name": "python",
   "nbconvert_exporter": "python",
   "pygments_lexer": "ipython3",
   "version": "3.6.2"
  }
 },
 "nbformat": 4,
 "nbformat_minor": 2
}
