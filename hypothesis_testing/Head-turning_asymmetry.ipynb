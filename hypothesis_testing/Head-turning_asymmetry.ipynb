{
 "cells": [
  {
   "cell_type": "markdown",
   "metadata": {},
   "source": [
    "# Hypothesis testing: Binomial distribution<br>Example: Adult persistence of head-turning asymmetry"
   ]
  },
  {
   "cell_type": "markdown",
   "metadata": {},
   "source": [
    "**References:**\n",
    "- [Onur Güntürkün: Adult persistence of head-turning asymmetry Nature volume 421, page 711 (13 February 2003)](https://www.nature.com/articles/421711a)\n",
    "- [MIT 18.650 Statistics for Applications, Fall 2016](https://www.youtube.com/watch?v=VPZD_aij8H0)"
   ]
  },
  {
   "cell_type": "markdown",
   "metadata": {},
   "source": [
    "**Measurement:**\n",
    "\n",
    "Observerd kissing couples in public places.\n",
    "The head-turning behaviour of each couple was recorded for a single kiss, with only the first being counted in instances of multiple kissing.\n",
    "\n",
    "**Observation:**\n",
    "\n",
    "Of 124 kissing pairs\n",
    "- 80 (64.5%) turned their heads to the right\n",
    "- 44 (35.5%) turned to the left"
   ]
  },
  {
   "cell_type": "markdown",
   "metadata": {},
   "source": [
    "**Model:**\n",
    "\n",
    "$X$: number of couples turning their head to the right\n",
    "\n",
    "\\begin{equation}\n",
    "    X \\sim Binom(n,p)\n",
    "\\end{equation}\n",
    "\n",
    "\\begin{equation}\n",
    "    P(X=k)\n",
    "    =\n",
    "    \\begin{pmatrix}\n",
    "        n \\\\\n",
    "        k\n",
    "    \\end{pmatrix}\n",
    "    p^{k}\n",
    "    (1-p)^{n-k}\n",
    "\\end{equation}"
   ]
  },
  {
   "cell_type": "markdown",
   "metadata": {},
   "source": [
    "Hypothesis testing\n",
    "\n",
    "- $H_{0}$: turning left or right is equally probable, there is symmetry in head-turning, $p=0.5$\n",
    "- $H_{1}$: turning right is preferred, head-turning asymmetry, $p>0.5$"
   ]
  },
  {
   "cell_type": "code",
   "execution_count": 1,
   "metadata": {
    "collapsed": true
   },
   "outputs": [],
   "source": [
    "import scipy.stats\n",
    "import numpy as np\n",
    "import matplotlib.pyplot as plt\n",
    "%matplotlib inline"
   ]
  },
  {
   "cell_type": "code",
   "execution_count": 2,
   "metadata": {
    "collapsed": true
   },
   "outputs": [],
   "source": [
    "n_all   = 124\n",
    "n_right = 80\n",
    "n_left  = 44"
   ]
  },
  {
   "cell_type": "markdown",
   "metadata": {},
   "source": [
    "## Probability mass function"
   ]
  },
  {
   "cell_type": "code",
   "execution_count": 3,
   "metadata": {
    "collapsed": true
   },
   "outputs": [],
   "source": [
    "ks = np.arange(0,n_all,1)\n",
    "ps = np.array([scipy.stats.binom.pmf(k,n=n_all, p=0.5) for k in ks])"
   ]
  },
  {
   "cell_type": "code",
   "execution_count": 4,
   "metadata": {
    "collapsed": true
   },
   "outputs": [],
   "source": [
    "x = np.linspace(0.0, n_all, 100)\n",
    "p = 0.5\n",
    "mean = n_all*p\n",
    "stdev = np.sqrt(p*(1-p)*n_all)\n",
    "p_norm = scipy.stats.norm.pdf(x, loc=n_all*p, scale=stdev)"
   ]
  },
  {
   "cell_type": "code",
   "execution_count": 5,
   "metadata": {},
   "outputs": [
    {
     "data": {
      "text/plain": [
       "<matplotlib.legend.Legend at 0x7fa69dcfc358>"
      ]
     },
     "execution_count": 5,
     "metadata": {},
     "output_type": "execute_result"
    },
    {
     "data": {
      "image/png": "[encoded data removed]",
      "text/plain": [
       "<Figure size 576x432 with 1 Axes>"
      ]
     },
     "metadata": {},
     "output_type": "display_data"
    }
   ],
   "source": [
    "f,a = plt.subplots(figsize=(8,6))\n",
    "a.scatter(ks,ps, label='Binom$(n,p)$ with $p=0.5$')\n",
    "a.plot(x,p_norm,c='C1',label=r'N$\\left(\\mu=n p,\\sigma = \\sqrt{p(1-p)n}\\right)$, with $p=0.5$')\n",
    "a.set_xlabel('k')\n",
    "a.set_ylabel('Probability')\n",
    "a.set_yscale('log')\n",
    "a.axvline(80,linestyle='--')\n",
    "a.set_ylim(1e-7,1e-1)\n",
    "a.legend()"
   ]
  },
  {
   "cell_type": "markdown",
   "metadata": {},
   "source": [
    "## p-value"
   ]
  },
  {
   "cell_type": "markdown",
   "metadata": {},
   "source": [
    "**Definition:**\n",
    "Probability under $H_{0}$ of obtaining a result equal to or more extreme than what was observed"
   ]
  },
  {
   "cell_type": "code",
   "execution_count": 6,
   "metadata": {},
   "outputs": [
    {
     "data": {
      "text/plain": [
       "<matplotlib.legend.Legend at 0x7fa69db3d128>"
      ]
     },
     "execution_count": 6,
     "metadata": {},
     "output_type": "execute_result"
    },
    {
     "data": {
      "image/png": "[encoded data removed]",
      "text/plain": [
       "<Figure size 576x432 with 1 Axes>"
      ]
     },
     "metadata": {},
     "output_type": "display_data"
    }
   ],
   "source": [
    "f,a = plt.subplots(figsize=(8,6))\n",
    "a.scatter(ks,ps, label='Binom$(n,p)$ with $p=0.5$')\n",
    "a.plot(x,p_norm,c='C1',label=r'N$\\left(\\mu=n p,\\sigma = \\sqrt{p(1-p)n}\\right)$, with $p=0.5$')\n",
    "a.set_xlabel('k')\n",
    "a.set_ylabel('Probability')\n",
    "a.set_yscale('log')\n",
    "a.fill_between(ks,ps,where=((ps>=0) & (ks>=80)), color='grey')\n",
    "a.axvline(80,linestyle='--')\n",
    "a.set_ylim(1e-6,1e-1)\n",
    "a.legend()"
   ]
  },
  {
   "cell_type": "code",
   "execution_count": 7,
   "metadata": {},
   "outputs": [
    {
     "data": {
      "text/plain": [
       "0.00078236701308487255"
      ]
     },
     "execution_count": 7,
     "metadata": {},
     "output_type": "execute_result"
    }
   ],
   "source": [
    "pval = 1.0 - scipy.stats.binom.cdf(k=n_right-1, n=n_all, p=0.5)\n",
    "pval"
   ]
  },
  {
   "cell_type": "code",
   "execution_count": 8,
   "metadata": {},
   "outputs": [
    {
     "data": {
      "text/plain": [
       "0.00078236701308483265"
      ]
     },
     "execution_count": 8,
     "metadata": {},
     "output_type": "execute_result"
    }
   ],
   "source": [
    "pval = scipy.stats.binom.cdf(k=n_left, n=n_all, p=0.5)\n",
    "pval"
   ]
  },
  {
   "cell_type": "markdown",
   "metadata": {},
   "source": [
    "### $\\chi^{2}(df=1)$ equivalent"
   ]
  },
  {
   "cell_type": "code",
   "execution_count": 9,
   "metadata": {},
   "outputs": [
    {
     "data": {
      "text/plain": [
       "11.282604917490346"
      ]
     },
     "execution_count": 9,
     "metadata": {},
     "output_type": "execute_result"
    }
   ],
   "source": [
    "chi2_val_for_pval = scipy.stats.chi2.isf(pval,df=1)\n",
    "chi2_val_for_pval"
   ]
  },
  {
   "cell_type": "code",
   "execution_count": 15,
   "metadata": {},
   "outputs": [
    {
     "data": {
      "text/plain": [
       "10.000786291187229"
      ]
     },
     "execution_count": 15,
     "metadata": {},
     "output_type": "execute_result"
    }
   ],
   "source": [
    "chi2_val_for_pval = scipy.stats.chi2.isf(pval*2.0,df=1)\n",
    "chi2_val_for_pval"
   ]
  },
  {
   "cell_type": "code",
   "execution_count": 10,
   "metadata": {
    "collapsed": true
   },
   "outputs": [],
   "source": [
    "x = np.linspace(0.0, 15, 100)\n",
    "chi2_vals = scipy.stats.chi2.pdf(x, df=1)"
   ]
  },
  {
   "cell_type": "code",
   "execution_count": 11,
   "metadata": {},
   "outputs": [
    {
     "data": {
      "text/plain": [
       "<matplotlib.lines.Line2D at 0x7fa69da3dd68>"
      ]
     },
     "execution_count": 11,
     "metadata": {},
     "output_type": "execute_result"
    },
    {
     "data": {
      "image/png": "[encoded data removed]",
      "text/plain": [
       "<Figure size 432x288 with 1 Axes>"
      ]
     },
     "metadata": {},
     "output_type": "display_data"
    }
   ],
   "source": [
    "f,a = plt.subplots()\n",
    "a.plot(x,chi2_vals)\n",
    "a.axhline(0.0,c='k',linestyle='--')\n",
    "a.set_xlabel('x')\n",
    "a.set_ylabel('$\\chi^{2}$ pdf')\n",
    "a.set_yscale('log')\n",
    "a.axvline(chi2_val_for_pval,linestyle='--')"
   ]
  },
  {
   "cell_type": "markdown",
   "metadata": {},
   "source": [
    "The article however quotes:\n",
    "> This roughly 2:1 ratio is significantly different from 50% ( $\\chi^{2} = 5.34$, d.f.= 1, P<0.05)"
   ]
  },
  {
   "cell_type": "code",
   "execution_count": 12,
   "metadata": {},
   "outputs": [
    {
     "data": {
      "text/plain": [
       "0.020841473072792049"
      ]
     },
     "execution_count": 12,
     "metadata": {},
     "output_type": "execute_result"
    }
   ],
   "source": [
    "pval_article = 1.0 - scipy.stats.chi2.cdf(x=5.34, df=1)\n",
    "pval_article"
   ]
  },
  {
   "cell_type": "code",
   "execution_count": 13,
   "metadata": {},
   "outputs": [
    {
     "data": {
      "text/plain": [
       "25.638997713637238"
      ]
     },
     "execution_count": 13,
     "metadata": {},
     "output_type": "execute_result"
    }
   ],
   "source": [
    "reldiff = np.abs(pval - pval_article)/pval\n",
    "reldiff"
   ]
  },
  {
   "cell_type": "code",
   "execution_count": 14,
   "metadata": {},
   "outputs": [
    {
     "data": {
      "text/plain": [
       "False"
      ]
     },
     "execution_count": 14,
     "metadata": {},
     "output_type": "execute_result"
    }
   ],
   "source": [
    "epsilon = 1e-1\n",
    "reldiff < epsilon"
   ]
  },
  {
   "cell_type": "code",
   "execution_count": 19,
   "metadata": {},
   "outputs": [
    {
     "data": {
      "text/plain": [
       "10.451612903225806"
      ]
     },
     "execution_count": 19,
     "metadata": {},
     "output_type": "execute_result"
    }
   ],
   "source": [
    "S = (80-62)**2/62 + (44-62)**2/62\n",
    "S"
   ]
  },
  {
   "cell_type": "code",
   "execution_count": 20,
   "metadata": {},
   "outputs": [
    {
     "data": {
      "text/plain": [
       "5.225806451612903"
      ]
     },
     "execution_count": 20,
     "metadata": {},
     "output_type": "execute_result"
    }
   ],
   "source": [
    "(80-62)**2/62"
   ]
  },
  {
   "cell_type": "code",
   "execution_count": 21,
   "metadata": {},
   "outputs": [
    {
     "data": {
      "text/plain": [
       "5.225806451612903"
      ]
     },
     "execution_count": 21,
     "metadata": {},
     "output_type": "execute_result"
    }
   ],
   "source": [
    "(44-62)**2/62"
   ]
  },
  {
   "cell_type": "code",
   "execution_count": null,
   "metadata": {
    "collapsed": true
   },
   "outputs": [],
   "source": []
  }
 ],
 "metadata": {
  "kernelspec": {
   "display_name": "Python 3",
   "language": "python",
   "name": "python3"
  },
  "language_info": {
   "codemirror_mode": {
    "name": "ipython",
    "version": 3
   },
   "file_extension": ".py",
   "mimetype": "text/x-python",
   "name": "python",
   "nbconvert_exporter": "python",
   "pygments_lexer": "ipython3",
   "version": "3.6.6"
  }
 },
 "nbformat": 4,
 "nbformat_minor": 2
}
