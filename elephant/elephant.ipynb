{
 "cells": [
  {
   "cell_type": "markdown",
   "metadata": {},
   "source": [
    "# “With four parameters I can fit an elephant, and with five I can make him wiggle his trunk” – John von Neumann\n",
    "\n",
    "Although with a little bit of cheating (4 complex parameters = 8 real parameters), but here is an elephant.\n",
    "\n",
    "References:\n",
    "- https://aapt.scitation.org/doi/10.1119/1.3254017\n",
    "- https://www.johndcook.com/blog/2011/06/21/how-to-fit-an-elephant/\n",
    "- https://debris.glaciology.net/2015/09/25/sea-level-the-moon-and-frankenstein/"
   ]
  },
  {
   "cell_type": "code",
   "execution_count": 1,
   "metadata": {},
   "outputs": [
    {
     "name": "stdout",
     "output_type": "stream",
     "text": [
      "The autoreload extension is already loaded. To reload it, use:\n",
      "  %reload_ext autoreload\n"
     ]
    }
   ],
   "source": [
    "import os\n",
    "setup_script = os.path.join(os.environ['ENV_JUPYTER_SETUPS_DIR'], 'setup_sci_env_basic.py')\n",
    "%run $setup_script"
   ]
  },
  {
   "cell_type": "code",
   "execution_count": 2,
   "metadata": {},
   "outputs": [],
   "source": [
    "from ipywidgets import interact, interactive, fixed, interact_manual\n",
    "import ipywidgets as widgets"
   ]
  },
  {
   "cell_type": "code",
   "execution_count": 3,
   "metadata": {
    "collapsed": true
   },
   "outputs": [],
   "source": [
    "def fourier(t, C):\n",
    "    f = np.zeros(t.shape)\n",
    "    A, B = C.real, C.imag\n",
    "    for k in range(len(C)):\n",
    "        f = f + A[k]*np.cos(k*t) + B[k]*np.sin(k*t)\n",
    "    return f"
   ]
  },
  {
   "cell_type": "code",
   "execution_count": 4,
   "metadata": {
    "collapsed": true
   },
   "outputs": [],
   "source": [
    "def elephant(t, p1, p2, p3, p4):\n",
    "    npar = 6\n",
    "    Cx = np.zeros((npar,), dtype='complex')\n",
    "    Cy = np.zeros((npar,), dtype='complex')\n",
    " \n",
    "    Cx[1] = p1.real*1j\n",
    "    Cx[2] = p1.imag*1j\n",
    "    Cx[3] = p2.real\n",
    "    Cx[5] = p2.imag\n",
    " \n",
    "    Cy[1] = p3\n",
    "    Cy[2] = p4.real*1j\n",
    "    Cy[3] = p4.imag*1j\n",
    " \n",
    "    x = fourier(t,Cx)\n",
    "    y = fourier(t,Cy)\n",
    "    \n",
    "    eye = (-20.0, 20.0)\n",
    "    x = np.append(x, eye[0])\n",
    "    y = np.append(y, eye[1])\n",
    " \n",
    "    return x,y"
   ]
  },
  {
   "cell_type": "code",
   "execution_count": 5,
   "metadata": {
    "collapsed": true
   },
   "outputs": [],
   "source": [
    "p1, p2, p3, p4 = (50 + 18j, 12 - 14j, -60-30j, 8 - 10j)"
   ]
  },
  {
   "cell_type": "code",
   "execution_count": 6,
   "metadata": {},
   "outputs": [],
   "source": [
    "def plot_elephant(p1=p1, p2=p2, p3=p3, p4=p4, start=0, stop=2*np.pi):\n",
    "    x, y = elephant(np.linspace(start,stop,1000), p1, p2, p3, p4)\n",
    "    obj = plt.plot(y,-x,'.')\n",
    "    plt.show()\n",
    "    return obj"
   ]
  },
  {
   "cell_type": "code",
   "execution_count": 7,
   "metadata": {},
   "outputs": [
    {
     "data": {
      "image/png": "[encoded data removed]",
      "text/plain": [
       "<matplotlib.figure.Figure at 0x7fdd380cdba8>"
      ]
     },
     "metadata": {},
     "output_type": "display_data"
    },
    {
     "data": {
      "text/plain": [
       "[<matplotlib.lines.Line2D at 0x7fdd3591b9e8>]"
      ]
     },
     "execution_count": 7,
     "metadata": {},
     "output_type": "execute_result"
    }
   ],
   "source": [
    "plot_elephant(p1,p2,p3,p4)"
   ]
  },
  {
   "cell_type": "markdown",
   "metadata": {},
   "source": [
    "## Wiggling its trunk"
   ]
  },
  {
   "cell_type": "code",
   "execution_count": 8,
   "metadata": {
    "collapsed": true
   },
   "outputs": [],
   "source": [
    "def plot_elephant_body():\n",
    "    start = 0.4+1.3*np.pi\n",
    "    stop = 2*np.pi+0.9*np.pi\n",
    "    obj = plot_elephant(start=start, stop=stop)\n",
    "    return obj"
   ]
  },
  {
   "cell_type": "code",
   "execution_count": 9,
   "metadata": {
    "collapsed": true
   },
   "outputs": [],
   "source": [
    "def plot_elephant_trunk():\n",
    "    start = 2*np.pi+0.9*np.pi\n",
    "    stop = 0.4+3.3*np.pi\n",
    "    obj = plot_elephant(start=start, stop=stop)\n",
    "    return obj"
   ]
  }
 ],
 "metadata": {
  "kernelspec": {
   "display_name": "Python 3",
   "language": "python",
   "name": "python3"
  },
  "language_info": {
   "codemirror_mode": {
    "name": "ipython",
    "version": 3
   },
   "file_extension": ".py",
   "mimetype": "text/x-python",
   "name": "python",
   "nbconvert_exporter": "python",
   "pygments_lexer": "ipython3",
   "version": "3.6.2"
  }
 },
 "nbformat": 4,
 "nbformat_minor": 2
}
