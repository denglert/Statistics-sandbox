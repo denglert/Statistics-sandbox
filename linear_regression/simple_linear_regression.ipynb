{
 "cells": [
  {
   "cell_type": "markdown",
   "metadata": {},
   "source": [
    "# Simple Linear Regression Model <br>$y=\\beta_{0} + \\beta_{1} x + \\epsilon$"
   ]
  },
  {
   "cell_type": "markdown",
   "metadata": {},
   "source": [
    "**References:**\n",
    "- William Mendenhall, Dennis Wackerly, Richard Scheaffer: Mathematical Statistics with Applications"
   ]
  },
  {
   "cell_type": "markdown",
   "metadata": {},
   "source": [
    "For Multi Linear Regression see the [general linear regression notebook](linear_regression.ipynb)."
   ]
  },
  {
   "cell_type": "markdown",
   "metadata": {},
   "source": [
    "## Model\n",
    "\n",
    "\\begin{equation}\n",
    "\\boxed{\n",
    "    y_{i} = \\beta_{0} + \\beta_{1} x_{i} + \\epsilon_{i}}\n",
    "\\end{equation}\n",
    "\n",
    "where:\n",
    "- $y_{i}$ is the dependent/response variables ($i=1,..,n$)\n",
    "- $x_{ij}$ is the the independent variables ($i=1,...,n$, $j=0,...,k$)\n",
    "- $\\beta_{j}$ are the regrssion parameters ($j=0,...,k$)\n",
    "- $\\epsilon_{i}$ is the residual, or error term ($i=1,...,n$)\n",
    "- $g_{j}(x)$, some arbitrary function of $x$, ($j=1,..,k$)"
   ]
  },
  {
   "cell_type": "markdown",
   "metadata": {},
   "source": [
    "Model Least-Squares estimate is denoted by $\\hat{y}_{i}$:\n",
    "\n",
    "\\begin{equation}\n",
    "    \\hat{y}_{i}\n",
    "    =\n",
    "    \\hat{\\beta}_{0}\n",
    "    +\n",
    "    \\hat{\\beta}_{1} x_{i}\n",
    "\\end{equation}"
   ]
  },
  {
   "cell_type": "markdown",
   "metadata": {},
   "source": [
    "Sum of squares for error (SSE):\n",
    "\n",
    "\\begin{equation}\n",
    "    \\text{SSE}\n",
    "    =\n",
    "    \\sum_{i=1}^{n}\n",
    "    \\left( \n",
    "    y_{i} - \\hat{y}_{i}\n",
    "    \\right)^{2}\n",
    "\\end{equation}"
   ]
  },
  {
   "cell_type": "markdown",
   "metadata": {},
   "source": [
    "## Least-Squares estimators for $\\beta_{0}$ and $\\beta_{1}$: $\\hat{\\beta}_{0}$ and $\\hat{\\beta}_{1}$\n",
    "\n",
    "\\begin{equation}\n",
    "    \\hat{\\beta}_{0}\n",
    "    =\n",
    "    \\bar{y} - \\bar{x} \\hat{\\beta}_{1}\n",
    "    =\n",
    "    \\bar{y} - \\bar{x}\n",
    "    \\frac{S_{xy}}{S_{xx}}\n",
    "\\end{equation}\n",
    "\n",
    "\n",
    "\\begin{equation}\n",
    "    \\hat{\\beta}_{1}\n",
    "    = \n",
    "    \\frac{S_{xy}}{S_{xx}}\n",
    "\\end{equation}"
   ]
  },
  {
   "cell_type": "markdown",
   "metadata": {},
   "source": [
    "where the auxiliary quantities $S_{xx}$ and $S_{xy}$ are:\n",
    "\n",
    "\\begin{equation}\n",
    "    S_{xx}\n",
    "    =\n",
    "    \\sum_{i=1}^{n}\n",
    "    \\left(\n",
    "        x_{i} - \\bar{x}\n",
    "    \\right)^{2}\n",
    "\\end{equation}\n",
    "\n",
    "\\begin{equation}\n",
    "    S_{xy}\n",
    "    =\n",
    "    \\sum_{i=1}^{n}\n",
    "    \\left(\n",
    "        x_{i} - \\bar{x}\n",
    "    \\right)\n",
    "    \\left(\n",
    "        y_{i} - \\bar{y}\n",
    "    \\right)\n",
    "\\end{equation}"
   ]
  },
  {
   "cell_type": "markdown",
   "metadata": {},
   "source": [
    "### Properties of $\\hat{\\beta}_{i}$"
   ]
  },
  {
   "cell_type": "markdown",
   "metadata": {},
   "source": [
    "#### Bias\n",
    "\n",
    "##### General case\n",
    "\n",
    "\\begin{equation}\n",
    "    b(\\hat{\\beta}_{0})\n",
    "    =\n",
    "    E[\\hat{\\beta}_{0}] - \\beta_{0}\n",
    "    =\n",
    "    \\frac{1}{n} \\sum_{i=1}^{n} E[\\epsilon_{i}]\n",
    "    -\n",
    "    \\frac{\\bar{x}}{S_{xx}} \\sum_{i=1}^{n} (x_{i} - \\bar{x}) E[\\epsilon_{i}]\n",
    "\\end{equation}\n",
    "\\begin{equation}\n",
    "    b(\\hat{\\beta}_{1})\n",
    "    =\n",
    "    E[\\hat{\\beta}_{1}] - \\beta_{1}\n",
    "    =\n",
    "    \\frac{1}{S_{xx}} \\sum_{i=1}^{n} (x_{i} - \\bar{x}) E[\\epsilon_{i}]\n",
    "\\end{equation}\n",
    "\n",
    "##### If the expected value of the error term is constant for all $i$\n",
    "\n",
    "\\begin{equation}\n",
    "    E[\\epsilon_{i}] = c,   \\forall i\n",
    "\\end{equation}\n",
    "\n",
    "then\n",
    "\\begin{equation}\n",
    "    b(\\hat{\\beta}_{0})\n",
    "    =\n",
    "    E[\\hat{\\beta}_{0}] - \\beta_{0}\n",
    "    =\n",
    "    c\n",
    "\\end{equation}\n",
    "\\begin{equation}\n",
    "    b(\\hat{\\beta}_{1})\n",
    "    =\n",
    "    E[\\hat{\\beta}_{1}] - \\beta_{1}\n",
    "    =\n",
    "    0\n",
    "\\end{equation}\n",
    "\n",
    "##### If the expected value of the error term is 0 for all $i$\n",
    "\n",
    "\\begin{equation}\n",
    "    E[\\epsilon_{i}] = 0, \\forall i\n",
    "\\end{equation}\n",
    "\n",
    "then\n",
    "\n",
    "\\begin{equation}\n",
    "    b(\\hat{\\beta}_{0})\n",
    "    =\n",
    "    E[\\hat{\\beta}_{0}] - \\beta_{0}\n",
    "    =\n",
    "    0\n",
    "\\end{equation}\n",
    "\\begin{equation}\n",
    "    b(\\hat{\\beta}_{1})\n",
    "    =\n",
    "    E[\\hat{\\beta}_{1}] - \\beta_{1}\n",
    "    =\n",
    "    0\n",
    "\\end{equation}"
   ]
  },
  {
   "cell_type": "markdown",
   "metadata": {},
   "source": [
    "#### Variance\n",
    "\n",
    "##### General case\n",
    "\n",
    "\\begin{equation}\n",
    "\\begin{aligned}\n",
    "    V[\\hat{\\beta}_{0}]\n",
    "    &=\n",
    "    \\frac{1}{n^{2}} \\sum_{i=1}^{n} V[\\epsilon_{i}]\n",
    "    +\n",
    "    \\frac{\\bar{x}}{S^{2}_{xx}}\n",
    "    \\sum_{i=1}^{n}\n",
    "    \\left( x_{i} - \\bar{x} \\right)^{2} V[\\epsilon_{i}]\n",
    "    -\n",
    "    2 \\frac{\\bar{x}}{n S_{xx}}\n",
    "    \\sum_{i=1}^{n}\n",
    "    \\sum_{j=1}^{n}\n",
    "    (x_{j} - \\bar{x})\n",
    "    Cov[\\epsilon_{i}, \\epsilon_{j}]\n",
    "    \\\\\n",
    "    V[\\hat{\\beta}_{1}]\n",
    "    &=\n",
    "    \\frac{1}{S^{2}_{xx}}\n",
    "    \\sum_{i=1}^{n} \\left( x_{i} - \\bar{x} \\right) V[\\epsilon_{i}]\n",
    "\\end{aligned}\n",
    "\\end{equation}\n",
    "\n",
    "##### If the variance of the error terms are the same for $\\forall i$\n",
    "\n",
    "Provided \n",
    "\n",
    "\\begin{equation}\n",
    "    V[\\epsilon_{i}]\n",
    "    =\n",
    "    \\sigma^{2}\n",
    "\\end{equation}\n",
    "\n",
    "we have\n",
    "\n",
    "\\begin{equation}\n",
    "\\begin{aligned}\n",
    "    V[\\hat{\\beta}_{0}]\n",
    "    &=\n",
    "    \\frac{\\sigma^{2} \\sum_{i} x^{2}_{i}}{n S_{xx}}\n",
    "    -\n",
    "    2 \\frac{\\bar{x}}{n S_{xx}}\n",
    "    \\sum_{i=1}^{n}\n",
    "    \\sum_{j=1}^{n}\n",
    "    (x_{j} - \\bar{x})\n",
    "    Cov[\\epsilon_{i}, \\epsilon_{j}]\n",
    "    \\\\\n",
    "    V[\\hat{\\beta}_{1}]\n",
    "    &=\n",
    "    \\frac{ \\sigma^{2} }{ S_{xx}}\n",
    "\\end{aligned}\n",
    "\\end{equation}\n",
    "\n",
    "##### If the variance of the error terms are the same for $\\forall i$ and there are no correlations between the errors terms\n",
    "\n",
    "Provided\n",
    "\n",
    "\\begin{equation}\n",
    "    V[\\epsilon_{i}]\n",
    "    =\n",
    "    \\sigma^{2}\n",
    "\\end{equation}\n",
    "\n",
    "and\n",
    "\n",
    "\\begin{equation}\n",
    "    Cov[\\epsilon_{i}, \\epsilon_{j}] = 0, \\text{if} \\,\\, i \\neq j\n",
    "\\end{equation}\n",
    "\n",
    "we have\n",
    "\n",
    "\\begin{equation}\n",
    "\\begin{aligned}\n",
    "    V[\\hat{\\beta}_{0}]\n",
    "    &=\n",
    "    \\frac{\\sigma^{2} \\sum_{i} x^{2}_{i}}{n S_{xx}}\n",
    "    \\\\\n",
    "    V[\\hat{\\beta}_{1}]\n",
    "    &=\n",
    "    \\frac{ \\sigma^{2} }{ S_{xx}}\n",
    "\\end{aligned}\n",
    "\\end{equation}\n"
   ]
  },
  {
   "cell_type": "markdown",
   "metadata": {},
   "source": [
    "----------------"
   ]
  },
  {
   "cell_type": "code",
   "execution_count": 1,
   "metadata": {
    "collapsed": true
   },
   "outputs": [],
   "source": [
    "import scipy.stats\n",
    "import statsmodels\n",
    "import numpy as np\n",
    "import pandas as pd\n",
    "from sklearn.linear_model import LinearRegression\n",
    "from sklearn import datasets\n",
    "import matplotlib.pyplot as plt\n",
    "%matplotlib inline"
   ]
  },
  {
   "cell_type": "markdown",
   "metadata": {},
   "source": [
    "Utility functions for simple linear regression"
   ]
  },
  {
   "cell_type": "code",
   "execution_count": 2,
   "metadata": {
    "collapsed": true
   },
   "outputs": [],
   "source": [
    "def calc_Sxx(x):\n",
    "    xbar = np.mean(x)\n",
    "    Sxx = np.sum( (x - xbar)*x)\n",
    "    return Sxx"
   ]
  },
  {
   "cell_type": "code",
   "execution_count": 3,
   "metadata": {
    "collapsed": true
   },
   "outputs": [],
   "source": [
    "def calc_Sxy(x,y):\n",
    "    xbar = np.mean(x)\n",
    "    ybar = np.mean(y)\n",
    "    Sxy = np.sum( (x-xbar) * (y-ybar) )\n",
    "    return Sxy"
   ]
  },
  {
   "cell_type": "code",
   "execution_count": 4,
   "metadata": {
    "collapsed": true
   },
   "outputs": [],
   "source": [
    "def calc_beta0hat(x, y):\n",
    "    ybar = np.mean(y)\n",
    "    xbar = np.mean(x)\n",
    "    beta1hat = calc_beta1hat(x,y)\n",
    "    beta0hat = ybar - xbar * beta1hat\n",
    "    return beta0hat"
   ]
  },
  {
   "cell_type": "code",
   "execution_count": 5,
   "metadata": {
    "collapsed": true
   },
   "outputs": [],
   "source": [
    "def calc_beta1hat(x,y):\n",
    "    Sxx = calc_Sxx(x)\n",
    "    Sxy = calc_Sxy(x,y)\n",
    "    beta1hat = Sxy/Sxx\n",
    "    return beta1hat"
   ]
  },
  {
   "cell_type": "code",
   "execution_count": 6,
   "metadata": {
    "collapsed": true
   },
   "outputs": [],
   "source": [
    "def calc_beta0hat_bias(x, epsilon_means):\n",
    "    Sxx = calc_Sxx(x)\n",
    "    beta0hat_bias = np.mean(epsilon_means) - np.sum( np.mean(x) * (x - np.mean(x)) * epsilon_means)/Sxx\n",
    "    return beta0hat_bias"
   ]
  },
  {
   "cell_type": "code",
   "execution_count": 7,
   "metadata": {
    "collapsed": true
   },
   "outputs": [],
   "source": [
    "def calc_beta1hat_bias(x, epsilon_means):\n",
    "    Sxx = calc_Sxx(x)\n",
    "    beta1hat_bias = np.sum( (x - np.mean(x))*epsilon_means )/Sxx\n",
    "    return beta1hat_bias"
   ]
  },
  {
   "cell_type": "code",
   "execution_count": 67,
   "metadata": {
    "collapsed": true
   },
   "outputs": [],
   "source": [
    "# unfinished\n",
    "def calc_beta0hat_variance(x, epsilon_variances, eps):\n",
    "    Sxx = calc_Sxx(x)\n",
    "    xbar = np.mean(x)\n",
    "    n = len(x)\n",
    "    beta0hat_variance = np.sum( epsilon_variances/n**2 +\n",
    "                                (xbar/(Sxx**2))*np.sum( (x-xbar)**2 * epsilon_variances) +\n",
    "                                - 2 \n",
    "                              )\n",
    "    return beta0hat_variance"
   ]
  },
  {
   "cell_type": "code",
   "execution_count": 51,
   "metadata": {
    "collapsed": true
   },
   "outputs": [],
   "source": [
    "def calc_beta1hat_variance(x, epsilon_variances):\n",
    "    Sxx = calc_Sxx(x)\n",
    "    xbar = np.mean(x)\n",
    "    beta1hat_variance = np.sum( (x-xbar)**2 * epsilon_variances )/(Sxx**2)\n",
    "    return beta1hat_variance"
   ]
  },
  {
   "cell_type": "code",
   "execution_count": 8,
   "metadata": {
    "collapsed": true
   },
   "outputs": [],
   "source": [
    "def generate_experiment(xrange, npts, epsilon_means, beta0_t, beta1_t):\n",
    "    x = np.linspace(xrange[0], xrange[1], npts)\n",
    "    epsilon = scipy.stats.norm.rvs(loc=epsilon_means, scale=1.0, size=npts)\n",
    "    y_t = beta0_t + beta1_t*x\n",
    "    y = y_t + epsilon\n",
    "    beta0hat = calc_beta0hat(x,y)\n",
    "    beta1hat = calc_beta1hat(x,y)\n",
    "    return x, y_t, y, epsilon, beta0hat, beta1hat"
   ]
  },
  {
   "cell_type": "markdown",
   "metadata": {},
   "source": [
    "## Example for the general case <br>$E[\\epsilon_{i}] \\neq 0$"
   ]
  },
  {
   "cell_type": "markdown",
   "metadata": {},
   "source": [
    "\\begin{equation}\n",
    "    y_{i}\n",
    "    =\n",
    "    \\beta_{0}\n",
    "    +\n",
    "    \\beta_{1} x_{i}\n",
    "    +\n",
    "    \\epsilon_{i}\n",
    "\\end{equation}"
   ]
  },
  {
   "cell_type": "markdown",
   "metadata": {},
   "source": [
    "where\n",
    "\n",
    "\\begin{equation}\n",
    "    E[\\epsilon] = a x^{2}\n",
    "\\end{equation}"
   ]
  },
  {
   "cell_type": "code",
   "execution_count": 20,
   "metadata": {
    "collapsed": true
   },
   "outputs": [],
   "source": [
    "xrange = (0.0, 10.0)\n",
    "npts = 11\n",
    "x = np.linspace(xrange[0], xrange[1], npts)\n",
    "a = 0.05\n",
    "beta0_t = 2.0\n",
    "beta1_t = 1.3"
   ]
  },
  {
   "cell_type": "code",
   "execution_count": 44,
   "metadata": {
    "collapsed": true
   },
   "outputs": [],
   "source": [
    "epsilon_means = a * x**2\n",
    "epsilon_variances = np.ones_like(x)"
   ]
  },
  {
   "cell_type": "code",
   "execution_count": 45,
   "metadata": {},
   "outputs": [
    {
     "name": "stdout",
     "output_type": "stream",
     "text": [
      "betahat0_bias: -0.75\n",
      "betahat1_bias: 0.5\n"
     ]
    }
   ],
   "source": [
    "beta0hat_bias = calc_beta0hat_bias(x, epsilon_means)\n",
    "beta1hat_bias = calc_beta1hat_bias(x, epsilon_means)\n",
    "print(\"betahat0_bias: {}\".format(beta0hat_bias))\n",
    "print(\"betahat1_bias: {}\".format(beta1hat_bias))"
   ]
  },
  {
   "cell_type": "code",
   "execution_count": 52,
   "metadata": {},
   "outputs": [
    {
     "name": "stdout",
     "output_type": "stream",
     "text": [
      "betahat1_variance: 0.00909090909090909\n"
     ]
    }
   ],
   "source": [
    "beta1hat_variance = calc_beta1hat_variance(x, epsilon_variances)\n",
    "print(\"betahat1_variance: {}\".format(beta1hat_variance))"
   ]
  },
  {
   "cell_type": "code",
   "execution_count": 24,
   "metadata": {
    "collapsed": true
   },
   "outputs": [],
   "source": [
    "nensemble = 1000"
   ]
  },
  {
   "cell_type": "code",
   "execution_count": 25,
   "metadata": {
    "collapsed": true
   },
   "outputs": [],
   "source": [
    "experiments = np.array([generate_experiment(xrange, npts, epsilon_means, beta0_t, beta1_t) for i in range(nensemble)])"
   ]
  },
  {
   "cell_type": "code",
   "execution_count": 26,
   "metadata": {},
   "outputs": [
    {
     "data": {
      "text/plain": [
       "<matplotlib.legend.Legend at 0x7f7a59664c50>"
      ]
     },
     "execution_count": 26,
     "metadata": {},
     "output_type": "execute_result"
    },
    {
     "data": {
      "image/png": "[encoded data removed]",
      "text/plain": [
       "<Figure size 432x288 with 1 Axes>"
      ]
     },
     "metadata": {},
     "output_type": "display_data"
    }
   ],
   "source": [
    "f,ax = plt.subplots()\n",
    "x   = experiments[0][0]\n",
    "y_t = experiments[0][1]\n",
    "ax.plot(x,y_t, linestyle='--', c='k', label=r'$\\beta_{0,t} + \\beta_{1,t} x$')\n",
    "\n",
    "for experiment in experiments:\n",
    "    x = experiment[0]\n",
    "    y = experiment[2]\n",
    "    ax.scatter(x,y, alpha=0.05, c='C0', rasterized=True)\n",
    "ax.set_xlim(-1.0, 11.0)\n",
    "ax.set_ylim(0.0, 20)\n",
    "ax.legend()"
   ]
  },
  {
   "cell_type": "code",
   "execution_count": 27,
   "metadata": {
    "collapsed": true
   },
   "outputs": [],
   "source": [
    "beta0hats = np.asarray(experiments[:,4], dtype=np.float32)\n",
    "beta1hats = np.asarray(experiments[:,5], dtype=np.float32)"
   ]
  },
  {
   "cell_type": "code",
   "execution_count": 28,
   "metadata": {},
   "outputs": [
    {
     "data": {
      "text/plain": [
       "<matplotlib.legend.Legend at 0x7f7a58e61518>"
      ]
     },
     "execution_count": 28,
     "metadata": {},
     "output_type": "execute_result"
    },
    {
     "data": {
      "image/png": "[encoded data removed]",
      "text/plain": [
       "<Figure size 432x288 with 1 Axes>"
      ]
     },
     "metadata": {},
     "output_type": "display_data"
    }
   ],
   "source": [
    "f,ax = plt.subplots()\n",
    "beta0hat_mean = np.mean(beta0hats)\n",
    "ax.hist(beta0hats,bins=50)\n",
    "ax.set_xlabel(r\"$\\hat{\\beta}_{0}$\")\n",
    "label_beta0hat_mean = r\"Mean of $\\hat{{\\beta}}_{{0}}: {:.2f}$\".format(beta0hat_mean)\n",
    "label_beta0_t = r\"True $\\beta_{{0}}$: {:.2f}\".format(beta0_t)\n",
    "ax.axvline(beta0hat_mean, linestyle='--', c='navy', label=label_beta0hat_mean)\n",
    "ax.axvline(beta0_t, linestyle='-', c='k', label=label_beta0_t)\n",
    "ax.axvline(beta0_t+beta0hat_bias, c='firebrick', label=r'Expected $\\hat{\\beta}_{0}$')\n",
    "ax.legend()"
   ]
  },
  {
   "cell_type": "code",
   "execution_count": 49,
   "metadata": {},
   "outputs": [
    {
     "data": {
      "text/plain": [
       "<matplotlib.legend.Legend at 0x7f7a580f2748>"
      ]
     },
     "execution_count": 49,
     "metadata": {},
     "output_type": "execute_result"
    },
    {
     "data": {
      "image/png": "[encoded data removed]",
      "text/plain": [
       "<Figure size 432x288 with 1 Axes>"
      ]
     },
     "metadata": {},
     "output_type": "display_data"
    }
   ],
   "source": [
    "f,ax = plt.subplots()\n",
    "beta1hat_mean = np.mean(beta1hats)\n",
    "beta1hat_sample_variance = np.var(beta1hats, ddof=1)\n",
    "ax.hist(beta1hats, bins=50)\n",
    "ax.set_xlabel(r\"$\\hat{\\beta}_{1}$\")\n",
    "label_beta1hat_mean = r\"Mean of $\\hat{{\\beta}}_{{1}}: {:.2f}$\".format(beta1hat_mean)\n",
    "label_beta1_t = r\"True $\\beta_{{1}}$: {:.2f}\".format(beta1_t)\n",
    "ax.axvline(beta1hat_mean, linestyle='--', c='navy', label=label_beta1hat_mean)\n",
    "ax.axvline(beta1_t, linestyle='-', c='k', label=label_beta1_t)\n",
    "ax.axvline(beta1_t+beta1hat_bias, c='firebrick', label=r'Expected $\\hat{\\beta}_{1}$')\n",
    "ax.legend()"
   ]
  },
  {
   "cell_type": "code",
   "execution_count": 50,
   "metadata": {},
   "outputs": [
    {
     "data": {
      "text/plain": [
       "0.0090776039"
      ]
     },
     "execution_count": 50,
     "metadata": {},
     "output_type": "execute_result"
    }
   ],
   "source": [
    "beta1hat_sample_variance"
   ]
  },
  {
   "cell_type": "markdown",
   "metadata": {},
   "source": [
    "\n",
    "## Example for ideal case <br>$E[\\epsilon_{i}] = 0 ~~~~ \\forall i$"
   ]
  },
  {
   "cell_type": "code",
   "execution_count": 30,
   "metadata": {
    "collapsed": true
   },
   "outputs": [],
   "source": [
    "xrange = (0.0, 10.0)\n",
    "npts = 11\n",
    "x = np.linspace(xrange[0], xrange[1], npts)\n",
    "a = 0.05\n",
    "epsilon_means = np.zeros_like(x)\n",
    "beta0_t = 2.0\n",
    "beta1_t = 1.3"
   ]
  },
  {
   "cell_type": "code",
   "execution_count": 33,
   "metadata": {},
   "outputs": [
    {
     "name": "stdout",
     "output_type": "stream",
     "text": [
      "betahat0_bias: 0.0\n",
      "betahat1_bias: 0.0\n"
     ]
    }
   ],
   "source": [
    "beta0hat_bias = calc_beta0hat_bias(x, epsilon_means)\n",
    "beta1hat_bias = calc_beta1hat_bias(x, epsilon_means)\n",
    "print(\"betahat0_bias: {}\".format(beta0hat_bias))\n",
    "print(\"betahat1_bias: {}\".format(beta1hat_bias))"
   ]
  },
  {
   "cell_type": "code",
   "execution_count": 32,
   "metadata": {
    "collapsed": true
   },
   "outputs": [],
   "source": [
    "nensemble = 1000"
   ]
  },
  {
   "cell_type": "code",
   "execution_count": 34,
   "metadata": {
    "collapsed": true
   },
   "outputs": [],
   "source": [
    "experiments = np.array([generate_experiment(xrange, npts, epsilon_means, beta0_t, beta1_t) for i in range(nensemble)])"
   ]
  },
  {
   "cell_type": "code",
   "execution_count": 35,
   "metadata": {},
   "outputs": [
    {
     "data": {
      "text/plain": [
       "<matplotlib.legend.Legend at 0x7f7a58b79be0>"
      ]
     },
     "execution_count": 35,
     "metadata": {},
     "output_type": "execute_result"
    },
    {
     "data": {
      "image/png": "[encoded data removed]",
      "text/plain": [
       "<Figure size 432x288 with 1 Axes>"
      ]
     },
     "metadata": {},
     "output_type": "display_data"
    }
   ],
   "source": [
    "f,ax = plt.subplots()\n",
    "x   = experiments[0][0]\n",
    "y_t = experiments[0][1]\n",
    "ax.plot(x,y_t, linestyle='--', c='k', label=r'$\\beta_{0,t} + \\beta_{1,t} x$')\n",
    "\n",
    "for experiment in experiments:\n",
    "    x = experiment[0]\n",
    "    y = experiment[2]\n",
    "    ax.scatter(x,y, alpha=0.05, c='C0', rasterized=True)\n",
    "ax.set_xlim(-1.0, 11.0)\n",
    "ax.set_ylim(0.0, 20)\n",
    "ax.legend()"
   ]
  },
  {
   "cell_type": "code",
   "execution_count": 36,
   "metadata": {
    "collapsed": true
   },
   "outputs": [],
   "source": [
    "beta0hats = np.asarray(experiments[:,4], dtype=np.float32)\n",
    "beta1hats = np.asarray(experiments[:,5], dtype=np.float32)"
   ]
  },
  {
   "cell_type": "code",
   "execution_count": 37,
   "metadata": {},
   "outputs": [
    {
     "data": {
      "text/plain": [
       "<matplotlib.legend.Legend at 0x7f7a582fcc18>"
      ]
     },
     "execution_count": 37,
     "metadata": {},
     "output_type": "execute_result"
    },
    {
     "data": {
      "image/png": "[encoded data removed]",
      "text/plain": [
       "<Figure size 432x288 with 1 Axes>"
      ]
     },
     "metadata": {},
     "output_type": "display_data"
    }
   ],
   "source": [
    "f,ax = plt.subplots()\n",
    "beta0hat_mean = np.mean(beta0hats)\n",
    "ax.hist(beta0hats,bins=50)\n",
    "ax.set_xlabel(r\"$\\hat{\\beta}_{0}$\")\n",
    "label_beta0hat_mean = r\"Mean of $\\hat{{\\beta}}_{{0}}: {:.2f}$\".format(beta0hat_mean)\n",
    "label_beta0_t = r\"True $\\beta_{{0}}$: {:.2f}\".format(beta0_t)\n",
    "ax.axvline(beta0hat_mean, linestyle='--', c='navy', label=label_beta0hat_mean)\n",
    "ax.axvline(beta0_t, linestyle='-', c='k', label=label_beta0_t)\n",
    "ax.axvline(beta0_t+beta0hat_bias, c='firebrick', label=r'Expected $\\hat{\\beta}_{0}$')\n",
    "ax.legend()"
   ]
  },
  {
   "cell_type": "code",
   "execution_count": 38,
   "metadata": {},
   "outputs": [
    {
     "data": {
      "text/plain": [
       "<matplotlib.legend.Legend at 0x7f7a5826cc18>"
      ]
     },
     "execution_count": 38,
     "metadata": {},
     "output_type": "execute_result"
    },
    {
     "data": {
      "image/png": "[encoded data removed]",
      "text/plain": [
       "<Figure size 432x288 with 1 Axes>"
      ]
     },
     "metadata": {},
     "output_type": "display_data"
    }
   ],
   "source": [
    "f,ax = plt.subplots()\n",
    "beta1hat_mean = np.mean(beta1hats)\n",
    "ax.hist(beta1hats, bins=50)\n",
    "ax.set_xlabel(r\"$\\hat{\\beta}_{1}$\")\n",
    "label_beta1hat_mean = r\"Mean of $\\hat{{\\beta}}_{{1}}: {:.2f}$\".format(beta1hat_mean)\n",
    "label_beta1_t = r\"True $\\beta_{{1}}$: {:.2f}\".format(beta1_t)\n",
    "ax.axvline(beta1hat_mean, linestyle='--', c='navy', label=label_beta1hat_mean)\n",
    "ax.axvline(beta1_t, linestyle='-', c='k', label=label_beta1_t)\n",
    "ax.axvline(beta1_t+beta1hat_bias, c='firebrick', label=r'Expected $\\hat{\\beta}_{1}$')\n",
    "ax.legend()"
   ]
  }
 ],
 "metadata": {
  "kernelspec": {
   "display_name": "Python 3",
   "language": "python",
   "name": "python3"
  },
  "language_info": {
   "codemirror_mode": {
    "name": "ipython",
    "version": 3
   },
   "file_extension": ".py",
   "mimetype": "text/x-python",
   "name": "python",
   "nbconvert_exporter": "python",
   "pygments_lexer": "ipython3",
   "version": "3.6.6"
  }
 },
 "nbformat": 4,
 "nbformat_minor": 2
}
