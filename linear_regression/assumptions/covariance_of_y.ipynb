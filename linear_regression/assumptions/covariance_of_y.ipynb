{
 "cells": [
  {
   "cell_type": "markdown",
   "metadata": {},
   "source": [
    "# Covariance of $y$"
   ]
  },
  {
   "cell_type": "code",
   "execution_count": 1,
   "metadata": {},
   "outputs": [],
   "source": [
    "import numpy as np\n",
    "import scipy.stats\n",
    "import matplotlib.pyplot as plt\n",
    "%matplotlib inline"
   ]
  },
  {
   "cell_type": "markdown",
   "metadata": {},
   "source": [
    "## Data generating process"
   ]
  },
  {
   "cell_type": "code",
   "execution_count": 57,
   "metadata": {},
   "outputs": [],
   "source": [
    "xmin, xmax = 0.0, 10.0"
   ]
  },
  {
   "cell_type": "code",
   "execution_count": 15,
   "metadata": {},
   "outputs": [],
   "source": [
    "x = scipy.stats.uniform.rvs(size=100, loc=0, scale=10)"
   ]
  },
  {
   "cell_type": "code",
   "execution_count": 16,
   "metadata": {},
   "outputs": [
    {
     "data": {
      "text/plain": [
       "(array([14., 14.,  9.,  5., 12.,  6.,  9., 14., 10.,  7.]),\n",
       " array([0.09131921, 1.0680867 , 2.04485418, 3.02162166, 3.99838914,\n",
       "        4.97515662, 5.9519241 , 6.92869159, 7.90545907, 8.88222655,\n",
       "        9.85899403]),\n",
       " <a list of 10 Patch objects>)"
      ]
     },
     "execution_count": 16,
     "metadata": {},
     "output_type": "execute_result"
    },
    {
     "data": {
      "image/png": "[encoded data removed]",
      "text/plain": [
       "<Figure size 432x288 with 1 Axes>"
      ]
     },
     "metadata": {
      "needs_background": "light"
     },
     "output_type": "display_data"
    }
   ],
   "source": [
    "plt.hist(x)"
   ]
  },
  {
   "cell_type": "code",
   "execution_count": 6,
   "metadata": {},
   "outputs": [],
   "source": [
    "def generate_samples(x_min=0, x_max=10):\n",
    "    \n",
    "    x = scipy.stats.uniform.rvs(size=, loc=x_min, scale=x_max)"
   ]
  },
  {
   "cell_type": "code",
   "execution_count": 86,
   "metadata": {},
   "outputs": [],
   "source": [
    "C = [[3.0, 0.0, 0.0],\n",
    "     [0.0, 1.0, 0.99],\n",
    "     [0.0, 0.99, 1.0]]"
   ]
  },
  {
   "cell_type": "code",
   "execution_count": 87,
   "metadata": {},
   "outputs": [],
   "source": [
    "nsamples = 100"
   ]
  },
  {
   "cell_type": "code",
   "execution_count": 88,
   "metadata": {},
   "outputs": [],
   "source": [
    "samples = scipy.stats.multivariate_normal.rvs(size=nsamples, mean=[5.0, 0.0, 0.0], cov=C)"
   ]
  },
  {
   "cell_type": "code",
   "execution_count": 89,
   "metadata": {},
   "outputs": [],
   "source": [
    "beta0 = 1.0\n",
    "beta1 = 2.0"
   ]
  },
  {
   "cell_type": "code",
   "execution_count": 90,
   "metadata": {},
   "outputs": [],
   "source": [
    "X = samples[:,0]"
   ]
  },
  {
   "cell_type": "code",
   "execution_count": 91,
   "metadata": {},
   "outputs": [
    {
     "data": {
      "text/plain": [
       "50.0"
      ]
     },
     "execution_count": 91,
     "metadata": {},
     "output_type": "execute_result"
    }
   ],
   "source": [
    "nsamples / 2.0"
   ]
  },
  {
   "cell_type": "code",
   "execution_count": 92,
   "metadata": {},
   "outputs": [],
   "source": [
    "mask1 = X < 5.0\n",
    "mask2 = X > 5.0"
   ]
  },
  {
   "cell_type": "code",
   "execution_count": 93,
   "metadata": {},
   "outputs": [],
   "source": [
    "X1 = X[mask1]\n",
    "X2 = X[mask2]"
   ]
  },
  {
   "cell_type": "code",
   "execution_count": 94,
   "metadata": {},
   "outputs": [],
   "source": [
    "y1 = beta0 + beta1*X1 + samples[mask1,1]\n",
    "y2 = beta0 + beta1*X2 + samples[mask2,2]"
   ]
  },
  {
   "cell_type": "code",
   "execution_count": 95,
   "metadata": {},
   "outputs": [],
   "source": [
    "Xn = np.r_[X1, X2]\n",
    "yn = np.r_[y1, y2]"
   ]
  },
  {
   "cell_type": "code",
   "execution_count": 96,
   "metadata": {},
   "outputs": [],
   "source": [
    "xtrue = np.linspace(xmin, xmax, 100)\n",
    "ytrue = beta0 + beta1*xtrue"
   ]
  },
  {
   "cell_type": "code",
   "execution_count": 97,
   "metadata": {},
   "outputs": [
    {
     "data": {
      "text/plain": [
       "[<matplotlib.lines.Line2D at 0x7fb18530c7d0>]"
      ]
     },
     "execution_count": 97,
     "metadata": {},
     "output_type": "execute_result"
    },
    {
     "data": {
      "image/png": "[encoded data removed]",
      "text/plain": [
       "<Figure size 432x288 with 1 Axes>"
      ]
     },
     "metadata": {
      "needs_background": "light"
     },
     "output_type": "display_data"
    }
   ],
   "source": [
    "fig, ax = plt.subplots()\n",
    "ax.scatter(Xn, yn)\n",
    "ax.plot(xtrue, ytrue, c='k')"
   ]
  },
  {
   "cell_type": "code",
   "execution_count": 29,
   "metadata": {},
   "outputs": [
    {
     "data": {
      "text/plain": [
       "array([3.26173585, 4.10212131, 5.63027807, 7.8448272 , 6.12371445,\n",
       "       6.77217776, 6.46044769, 6.70079479, 7.27316713, 4.07575112,\n",
       "       6.94328795, 4.61654537, 4.61248733, 4.99048754, 4.02901691,\n",
       "       5.93780696, 5.02810659, 6.69386527, 4.30324252, 1.46774516,\n",
       "       4.48295037, 4.31185495, 3.80061777, 3.0075155 , 2.62450952,\n",
       "       6.77446979, 5.54226199, 6.13616731, 8.56176158, 4.44835369,\n",
       "       2.02335759, 7.86952077, 4.57126714, 3.37923767, 4.33701043,\n",
       "       5.002733  , 0.03214991, 3.40018309, 4.19656928, 4.47359035,\n",
       "       4.05430326, 6.80702727, 7.41292523, 5.88823212, 7.29712887,\n",
       "       4.19165364, 4.66002854, 4.10919626, 7.93472078, 5.58605768,\n",
       "       4.35205797, 6.12492572, 4.20229809, 3.04565588, 4.43557122,\n",
       "       6.96697498, 5.70912904, 4.52696254, 7.04457878, 6.99730908,\n",
       "       7.29154098, 7.33805402, 4.24588888, 6.07924989, 4.11602164,\n",
       "       6.87783327, 4.15507805, 6.0074377 , 8.20999166, 6.25898955,\n",
       "       4.84792318, 3.7115334 , 4.79817535, 4.78437208, 3.97914704,\n",
       "       5.99433634, 5.5479132 , 6.59374453, 7.06427931, 8.15533107,\n",
       "       2.66244309, 3.74799226, 7.54455293, 6.96164473, 8.28956716,\n",
       "       5.64579119, 6.86668241, 4.87746479, 4.22531663, 6.69884272,\n",
       "       7.85609129, 6.79213002, 3.71520337, 5.0910743 , 5.2338361 ,\n",
       "       4.88042484, 3.95667541, 5.01815466, 5.06245643, 3.36077603])"
      ]
     },
     "execution_count": 29,
     "metadata": {},
     "output_type": "execute_result"
    }
   ],
   "source": [
    "X"
   ]
  },
  {
   "cell_type": "code",
   "execution_count": null,
   "metadata": {},
   "outputs": [],
   "source": []
  }
 ],
 "metadata": {
  "kernelspec": {
   "display_name": "Python 3",
   "language": "python",
   "name": "python3"
  },
  "language_info": {
   "codemirror_mode": {
    "name": "ipython",
    "version": 3
   },
   "file_extension": ".py",
   "mimetype": "text/x-python",
   "name": "python",
   "nbconvert_exporter": "python",
   "pygments_lexer": "ipython3",
   "version": "3.7.4"
  }
 },
 "nbformat": 4,
 "nbformat_minor": 2
}
