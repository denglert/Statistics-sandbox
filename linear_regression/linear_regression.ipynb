{
 "cells": [
  {
   "cell_type": "markdown",
   "metadata": {},
   "source": [
    "# Linear Regression Models"
   ]
  },
  {
   "cell_type": "markdown",
   "metadata": {},
   "source": [
    "**References:**\n",
    "- William Mendenhall, Dennis Wackerly, Richard Scheaffer: Mathematical Statistics with Applications\n",
    "- MIT 18.S096 - Topics in Mathematics with Applications in Finance, [Lecture 6: Regression Analysis](https://ocw.mit.edu/courses/mathematics/18-s096-topics-in-mathematics-with-applications-in-finance-fall-2013/video-lectures/lecture-6-regression-analysis)\n",
    "- [Trevor Hastie, Robert Tibshirani, Jerome Friedman: The Elements of Statistical Learning](https://web.stanford.edu/~hastie/Papers/ESLII.pdf)"
   ]
  },
  {
   "cell_type": "markdown",
   "metadata": {},
   "source": [
    "\n",
    "\\begin{equation}\n",
    "\\boxed{\n",
    "    y_{i} = \\beta_{0} + \\sum_{j} \\beta_{i} ~ g_{j}(x_{ij}) + \\epsilon_{i}}\n",
    "\\end{equation}\n",
    "\n",
    "where:\n",
    "- $y_{i}$ is the dependent/response variables ($i=1,..,n$)\n",
    "- $x_{ij}$ is the the independent variables ($i=1,...,n$, $j=0,...,k$)\n",
    "- $\\beta_{j}$ are the regrssion parameters ($j=0,...,k$)\n",
    "- $\\epsilon_{i}$ is the residual, or error term ($i=1,...,n$)\n",
    "- $g_{j}(x)$, some arbitrary function of $x$, ($j=1,..,k$)\n",
    "\n",
    "Assuming that expected value of the residual term is 0:\n",
    "\n",
    "\\begin{equation}\n",
    "    E[\\epsilon_{i}]\n",
    "    =\n",
    "    0\n",
    "\\end{equation}\n",
    "\n",
    "The expected value of $y_{i}$ is:\n",
    "\n",
    "\\begin{equation}\n",
    "    E[y_{i}]\n",
    "    =\n",
    "    \\beta_{0} + \\sum_{j} \\beta_{i} ~ g(x_{ij})\n",
    "\\end{equation}"
   ]
  },
  {
   "cell_type": "markdown",
   "metadata": {},
   "source": [
    "Sum of squares for error (SSE):\n",
    "\n",
    "\\begin{equation}\n",
    "    \\text{SSE}\n",
    "    =\n",
    "    \\sum_{i=1}^{n}\n",
    "    \\left( \n",
    "    y_{i} - \\hat{y}_{i}\n",
    "    \\right)^{2}\n",
    "\\end{equation}"
   ]
  },
  {
   "cell_type": "markdown",
   "metadata": {},
   "source": [
    "In case the residual term follows a normal distribution with zero mean and some variance $\\sigma^{2}:$\n",
    "\n",
    "\\begin{equation}\n",
    "    \\epsilon_{i}\n",
    "    \\sim\n",
    "    \\mathcal{N}(\\mu=0, \\sigma^{2})\n",
    "\\end{equation}"
   ]
  },
  {
   "cell_type": "markdown",
   "metadata": {},
   "source": [
    "## Simple Linear Regression ($y=\\beta_{0} + \\beta_{1} x + \\epsilon$)\n",
    "\n",
    "[Relagated to a seperate notebook](./simple_linear_regression.ipynb)"
   ]
  },
  {
   "cell_type": "markdown",
   "metadata": {},
   "source": [
    "## Multiple Linear Regression"
   ]
  },
  {
   "cell_type": "code",
   "execution_count": 1,
   "metadata": {},
   "outputs": [],
   "source": [
    "import scipy.stats\n",
    "import statsmodels\n",
    "import numpy as np\n",
    "from sklearn.linear_model import LinearRegression\n",
    "from sklearn import datasets\n",
    "import matplotlib.pyplot as plt\n",
    "%matplotlib inline"
   ]
  },
  {
   "cell_type": "code",
   "execution_count": null,
   "metadata": {
    "collapsed": true
   },
   "outputs": [],
   "source": []
  }
 ],
 "metadata": {
  "kernelspec": {
   "display_name": "Python 3",
   "language": "python",
   "name": "python3"
  },
  "language_info": {
   "codemirror_mode": {
    "name": "ipython",
    "version": 3
   },
   "file_extension": ".py",
   "mimetype": "text/x-python",
   "name": "python",
   "nbconvert_exporter": "python",
   "pygments_lexer": "ipython3",
   "version": "3.6.6"
  }
 },
 "nbformat": 4,
 "nbformat_minor": 2
}
