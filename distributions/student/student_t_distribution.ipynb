{
 "cells": [
  {
   "cell_type": "markdown",
   "metadata": {},
   "source": [
    "# Student's $t$-distribution"
   ]
  },
  {
   "cell_type": "markdown",
   "metadata": {},
   "source": [
    "**References:**\n",
    "- https://en.wikipedia.org/wiki/Student%27s_t-distribution"
   ]
  },
  {
   "cell_type": "markdown",
   "metadata": {},
   "source": [
    "> Any member of a family of continuous probability distributions that arises when estimating the mean of a normally distributed population in situations where the sample size is small and population standard deviation is unknown."
   ]
  },
  {
   "cell_type": "markdown",
   "metadata": {},
   "source": [
    "**Sample mean:**\n",
    "\n",
    "\\begin{equation}\n",
    "    \\bar{X}\n",
    "    =\n",
    "    \\frac{1}{n} \\sum_{i=1}^{n} X_{i}\n",
    "\\end{equation}\n",
    "\n",
    "**Sample variance (Bessel-corrected):**\n",
    "\n",
    "\\begin{equation}\n",
    "    S^{2}\n",
    "    =\n",
    "    \\frac{1}{n-1}    \n",
    "    \\sum_{i=1}^{n}\n",
    "    (X_{i} - \\bar{X})^{2}\n",
    "\\end{equation}\n",
    "\n",
    "**Truth standard deviation ($\\sigma/\\sqrt{n}$) normalized deviation of the sample mean:**\n",
    "\n",
    "\\begin{equation}\n",
    "    Y_{true}\n",
    "    = \n",
    "    \\frac{\\bar{X} - \\mu}{\\sigma / \\sqrt{n}}\n",
    "\\end{equation}\n",
    "\n",
    "**Sample standard deviation ($S/\\sqrt{n}$) normalized deviation of the sample mean:**\n",
    "\n",
    "\\begin{equation}\n",
    "    Y\n",
    "    = \n",
    "    \\frac{\\bar{X} - \\mu}{S / \\sqrt{n}}\n",
    "\\end{equation}\n",
    "\n",
    "In this case the $Y$ and $Y_{true}$ are distributed as:\n",
    "\n",
    "\\begin{equation}\n",
    "    Y_{true}\n",
    "    \\sim\n",
    "    Norm(0,1)\n",
    "\\end{equation}\n",
    "\n",
    "\\begin{equation}\n",
    "    Y\n",
    "    \\sim\n",
    "    f_{Student-t}(Y)\n",
    "\\end{equation}"
   ]
  },
  {
   "cell_type": "code",
   "execution_count": 1,
   "metadata": {},
   "outputs": [],
   "source": [
    "\n",
    "import matplotlib.pyplot as plt\n",
    "import numpy as np\n",
    "import scipy.stats as stats\n",
    "%matplotlib inline"
   ]
  },
  {
   "cell_type": "code",
   "execution_count": 2,
   "metadata": {
    "collapsed": true
   },
   "outputs": [],
   "source": [
    "def create_experiments(mean, sigma, sample_size, nExperiments=1):\n",
    "    \n",
    "    X = np.array([stats.norm.rvs(loc=mean, scale=sigma, size=sample_size) for i in range(nExperiments)])\n",
    "    \n",
    "    n = len(X[0])\n",
    "    \n",
    "    X_sample_means = X.mean(axis=1)\n",
    "    X_sample_means_reshaped = X_sample_means.reshape(nExperiments,1)\n",
    "    \n",
    "    S = np.sum((X - X_sample_means_reshaped)**2, axis=1)/(n-1)\n",
    "       \n",
    "    Y      = (X_sample_means - mean)/(np.sqrt(S)/np.sqrt(n))\n",
    "    Y_true = (X_sample_means - mean)/(sigma/np.sqrt(n))\n",
    "    \n",
    "    experiments = {}\n",
    "    \n",
    "    experiments['X'] = X\n",
    "    experiments['X_sample_means'] = X_sample_means\n",
    "    experiments['S'] = S\n",
    "    experiments['Y'] = Y\n",
    "    experiments['Y_true'] = Y_true\n",
    "    \n",
    "    return experiments"
   ]
  },
  {
   "cell_type": "code",
   "execution_count": 3,
   "metadata": {
    "collapsed": true
   },
   "outputs": [],
   "source": [
    "mean = 2.0\n",
    "sigma = 1.0\n",
    "sample_size = 10\n",
    "nExperiments = 10000"
   ]
  },
  {
   "cell_type": "code",
   "execution_count": 4,
   "metadata": {
    "collapsed": true
   },
   "outputs": [],
   "source": [
    "nu = sample_size - 1"
   ]
  },
  {
   "cell_type": "code",
   "execution_count": 5,
   "metadata": {},
   "outputs": [],
   "source": [
    "experiments = create_experiments(mean, sigma, sample_size, nExperiments)"
   ]
  },
  {
   "cell_type": "code",
   "execution_count": 6,
   "metadata": {
    "collapsed": true
   },
   "outputs": [],
   "source": [
    "x_grid = np.linspace(-5.0, 5.0, 100)"
   ]
  },
  {
   "cell_type": "code",
   "execution_count": 7,
   "metadata": {
    "collapsed": true
   },
   "outputs": [],
   "source": [
    "y_student = stats.t.pdf(x_grid, df=nu)\n",
    "y_normal = stats.norm.pdf(x_grid, loc=0.0, scale=1.0)"
   ]
  },
  {
   "cell_type": "code",
   "execution_count": 8,
   "metadata": {
    "collapsed": true
   },
   "outputs": [],
   "source": [
    "S_x_grid = np.linspace(0.0, 10.0, 100)\n",
    "S_chi2   = nu*stats.chi2.pdf(S_x_grid*nu, df=nu)"
   ]
  },
  {
   "cell_type": "code",
   "execution_count": 9,
   "metadata": {
    "collapsed": true
   },
   "outputs": [],
   "source": [
    "label_t_distr = r\"t-distr, $\\nu={}$\".format(nu)"
   ]
  },
  {
   "cell_type": "code",
   "execution_count": 10,
   "metadata": {},
   "outputs": [
    {
     "name": "stderr",
     "output_type": "stream",
     "text": [
      "/home/edy/lib/build/anaconda3/lib/python3.6/site-packages/matplotlib/axes/_axes.py:545: UserWarning: No labelled objects found. Use label='...' kwarg on individual plots.\n",
      "  warnings.warn(\"No labelled objects found. \"\n"
     ]
    },
    {
     "data": {
      "image/png": "[encoded data removed]",
      "text/plain": [
       "<matplotlib.figure.Figure at 0x7f7beb006be0>"
      ]
     },
     "metadata": {},
     "output_type": "display_data"
    }
   ],
   "source": [
    "f,axes = plt.subplots(nrows=3, ncols=2, figsize=(10,15))\n",
    "axes = axes.flatten()\n",
    "\n",
    "# - X\n",
    "axes[0].hist(experiments['X'].flatten(), bins=50, normed=True);\n",
    "axes[0].vlines(mean, 0.0, 0.3, linestyle='--')\n",
    "axes[0].set_title(r'Distribution of $X$')\n",
    "\n",
    "# - X sample mean\n",
    "axes[1].hist(experiments['X_sample_means'], bins=50, normed=True);\n",
    "axes[1].set_title(r'Distribution of $\\bar{X}$ (sample mean)')\n",
    "\n",
    "# - S\n",
    "axes[2].hist(experiments['S'], bins=50, normed=True)\n",
    "axes[2].set_title(r'Distribution of $S$ (sample variance)')\n",
    "axes[2].vlines(experiments['S'].mean(), 0.0, 0.3, linestyle='-')\n",
    "axes[2].plot(S_x_grid, S_chi2, label=r'scaled $\\chi^{2}(df=\\nu)$ distribution')\n",
    "\n",
    "# - Y\n",
    "axes[3].hist(experiments['Y'], bins=50, normed=True)\n",
    "axes[3].plot(x_grid, y_student, c='r', label=label_t_distr)\n",
    "axes[3].plot(x_grid, y_normal, c='g', label='std. normal')\n",
    "axes[3].set_xlim(-5.0, 5.0)\n",
    "axes[3].set_title(r'Distribution of $Y$')\n",
    "\n",
    "# - Y true\n",
    "axes[4].hist(experiments['Y_true'], bins=50, normed=True)\n",
    "axes[4].plot(x_grid, y_student, c='r', label=label_t_distr)\n",
    "axes[4].plot(x_grid, y_normal, c='g', label='std. normal')\n",
    "axes[4].set_xlim(-5.0, 5.0)\n",
    "axes[4].set_title(r'Distribution of $Y_{true}$')\n",
    "\n",
    "\n",
    "axes[0].set_xlim(-2,6)\n",
    "axes[1].set_xlim(-2,6)\n",
    "for a in axes:\n",
    "    a.legend()"
   ]
  },
  {
   "cell_type": "markdown",
   "metadata": {},
   "source": [
    "## Test area"
   ]
  },
  {
   "cell_type": "code",
   "execution_count": 11,
   "metadata": {},
   "outputs": [],
   "source": [
    "experiments = create_experiments(mean, sigma, sample_size, 1)"
   ]
  },
  {
   "cell_type": "code",
   "execution_count": 12,
   "metadata": {
    "collapsed": true
   },
   "outputs": [],
   "source": [
    "X = experiments['X']\n",
    "X_sample_means = experiments['X_sample_means']\n",
    "S = experiments['S']\n",
    "Y = experiments['Y']\n",
    "Y_true = experiments['Y_true']"
   ]
  },
  {
   "cell_type": "code",
   "execution_count": 13,
   "metadata": {},
   "outputs": [
    {
     "data": {
      "text/plain": [
       "array([[ 1.67339409,  2.86756568,  2.51457282,  2.28047942,  3.13602943,\n",
       "         3.02216334,  1.25380702,  1.6239403 ,  1.28482628,  2.11515635]])"
      ]
     },
     "execution_count": 13,
     "metadata": {},
     "output_type": "execute_result"
    }
   ],
   "source": [
    "X"
   ]
  },
  {
   "cell_type": "code",
   "execution_count": 14,
   "metadata": {},
   "outputs": [
    {
     "data": {
      "text/plain": [
       "array([ 2.17719347])"
      ]
     },
     "execution_count": 14,
     "metadata": {},
     "output_type": "execute_result"
    }
   ],
   "source": [
    "X_sample_means"
   ]
  },
  {
   "cell_type": "code",
   "execution_count": 15,
   "metadata": {
    "collapsed": true
   },
   "outputs": [],
   "source": [
    "assert np.mean(X) == X_sample_means"
   ]
  },
  {
   "cell_type": "code",
   "execution_count": 16,
   "metadata": {},
   "outputs": [
    {
     "data": {
      "text/plain": [
       "1.1102230246251565e-16"
      ]
     },
     "execution_count": 16,
     "metadata": {},
     "output_type": "execute_result"
    }
   ],
   "source": [
    "np.mean(X - X_sample_means)"
   ]
  },
  {
   "cell_type": "code",
   "execution_count": 17,
   "metadata": {},
   "outputs": [
    {
     "data": {
      "text/plain": [
       "array([ 1.11179008])"
      ]
     },
     "execution_count": 17,
     "metadata": {},
     "output_type": "execute_result"
    }
   ],
   "source": [
    "np.sum((X - X_sample_means)**2,axis=1)/4"
   ]
  },
  {
   "cell_type": "code",
   "execution_count": 18,
   "metadata": {},
   "outputs": [
    {
     "data": {
      "text/plain": [
       "array([ 0.49412892])"
      ]
     },
     "execution_count": 18,
     "metadata": {},
     "output_type": "execute_result"
    }
   ],
   "source": [
    "S"
   ]
  },
  {
   "cell_type": "code",
   "execution_count": 19,
   "metadata": {},
   "outputs": [
    {
     "data": {
      "text/plain": [
       "array([ 0.79712712])"
      ]
     },
     "execution_count": 19,
     "metadata": {},
     "output_type": "execute_result"
    }
   ],
   "source": [
    "Y"
   ]
  },
  {
   "cell_type": "code",
   "execution_count": 20,
   "metadata": {},
   "outputs": [
    {
     "data": {
      "text/plain": [
       "array([ 0.80184874])"
      ]
     },
     "execution_count": 20,
     "metadata": {},
     "output_type": "execute_result"
    }
   ],
   "source": [
    "(X_sample_means - 2.0)/(S/np.sqrt(5))"
   ]
  },
  {
   "cell_type": "markdown",
   "metadata": {},
   "source": [
    "----------------"
   ]
  },
  {
   "cell_type": "code",
   "execution_count": 21,
   "metadata": {
    "collapsed": true
   },
   "outputs": [],
   "source": [
    "M = np.array([[1,2],[-1, 1]])"
   ]
  },
  {
   "cell_type": "code",
   "execution_count": 22,
   "metadata": {},
   "outputs": [],
   "source": [
    "x = np.array([[1],[2]])"
   ]
  },
  {
   "cell_type": "code",
   "execution_count": 23,
   "metadata": {},
   "outputs": [
    {
     "data": {
      "text/plain": [
       "(2, 2)"
      ]
     },
     "execution_count": 23,
     "metadata": {},
     "output_type": "execute_result"
    }
   ],
   "source": [
    "M.shape"
   ]
  },
  {
   "cell_type": "code",
   "execution_count": 24,
   "metadata": {},
   "outputs": [
    {
     "data": {
      "text/plain": [
       "(2, 1)"
      ]
     },
     "execution_count": 24,
     "metadata": {},
     "output_type": "execute_result"
    }
   ],
   "source": [
    "x.shape"
   ]
  },
  {
   "cell_type": "code",
   "execution_count": null,
   "metadata": {
    "collapsed": true
   },
   "outputs": [],
   "source": []
  },
  {
   "cell_type": "code",
   "execution_count": 25,
   "metadata": {},
   "outputs": [
    {
     "data": {
      "text/plain": [
       "array([[ 1,  2],\n",
       "       [-1,  1]])"
      ]
     },
     "execution_count": 25,
     "metadata": {},
     "output_type": "execute_result"
    }
   ],
   "source": [
    "M"
   ]
  },
  {
   "cell_type": "code",
   "execution_count": 26,
   "metadata": {},
   "outputs": [
    {
     "data": {
      "text/plain": [
       "array([[1],\n",
       "       [2]])"
      ]
     },
     "execution_count": 26,
     "metadata": {},
     "output_type": "execute_result"
    }
   ],
   "source": [
    "x"
   ]
  },
  {
   "cell_type": "code",
   "execution_count": 27,
   "metadata": {},
   "outputs": [
    {
     "data": {
      "text/plain": [
       "array([[ 0,  1],\n",
       "       [-3, -1]])"
      ]
     },
     "execution_count": 27,
     "metadata": {},
     "output_type": "execute_result"
    }
   ],
   "source": [
    "M - x"
   ]
  },
  {
   "cell_type": "code",
   "execution_count": null,
   "metadata": {
    "collapsed": true
   },
   "outputs": [],
   "source": []
  },
  {
   "cell_type": "code",
   "execution_count": 28,
   "metadata": {},
   "outputs": [
    {
     "data": {
      "text/plain": [
       "array([ 1.,  2.])"
      ]
     },
     "execution_count": 28,
     "metadata": {},
     "output_type": "execute_result"
    }
   ],
   "source": [
    "np.mean(x, axis=1)"
   ]
  },
  {
   "cell_type": "code",
   "execution_count": 29,
   "metadata": {
    "collapsed": true
   },
   "outputs": [],
   "source": [
    "mean = 3.0\n",
    "sigma = 2.4"
   ]
  },
  {
   "cell_type": "code",
   "execution_count": null,
   "metadata": {
    "collapsed": true
   },
   "outputs": [],
   "source": []
  },
  {
   "cell_type": "code",
   "execution_count": 30,
   "metadata": {},
   "outputs": [],
   "source": [
    "Xs = stats.norm.rvs(loc=mean, scale=sigma, size=50)"
   ]
  },
  {
   "cell_type": "code",
   "execution_count": 31,
   "metadata": {
    "collapsed": true
   },
   "outputs": [],
   "source": [
    "n = len(Xs)"
   ]
  },
  {
   "cell_type": "code",
   "execution_count": 32,
   "metadata": {
    "collapsed": true
   },
   "outputs": [],
   "source": [
    "X_sample_mean = np.mean(Xs)"
   ]
  },
  {
   "cell_type": "code",
   "execution_count": 33,
   "metadata": {
    "collapsed": true
   },
   "outputs": [],
   "source": [
    "S = np.sum( (Xs - X_sample_mean)**2 )\n",
    "S_normed = S/(n-1)"
   ]
  },
  {
   "cell_type": "code",
   "execution_count": 34,
   "metadata": {
    "collapsed": true
   },
   "outputs": [],
   "source": [
    "Y = X_sample_mean"
   ]
  }
 ],
 "metadata": {
  "kernelspec": {
   "display_name": "Python 3",
   "language": "python",
   "name": "python3"
  },
  "language_info": {
   "codemirror_mode": {
    "name": "ipython",
    "version": 3
   },
   "file_extension": ".py",
   "mimetype": "text/x-python",
   "name": "python",
   "nbconvert_exporter": "python",
   "pygments_lexer": "ipython3",
   "version": "3.6.2"
  }
 },
 "nbformat": 4,
 "nbformat_minor": 2
}
