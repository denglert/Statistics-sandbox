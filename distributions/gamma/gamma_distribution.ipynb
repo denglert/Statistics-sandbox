{
 "cells": [
  {
   "cell_type": "markdown",
   "metadata": {},
   "source": [
    "# Gamma distribution"
   ]
  },
  {
   "cell_type": "markdown",
   "metadata": {},
   "source": [
    "**References:**\n",
    "- https://en.wikipedia.org/wiki/Gamma_distribution\n",
    "\n",
    "In probability theory and statistics, the gamma distribution is a two-parameter family of continuous probability distributions.\n",
    "\n",
    "Special cases of the gamma distribution:\n",
    "- exponential distribution\n",
    "- Erlang distribution\n",
    "- $\\chi^{2}$ distribution\n",
    "\n",
    "There are three different parametrizations in common use:\n",
    "\n",
    "- With a shape parameter k and a scale parameter θ.\n",
    "- With a shape parameter α = k and an inverse scale parameter β = 1/θ, called a rate parameter.\n",
    "- With a shape parameter k and a mean parameter μ = kθ = α/β.\n",
    "\n",
    "In each of these three forms, both parameters are positive real numbers."
   ]
  },
  {
   "cell_type": "markdown",
   "metadata": {},
   "source": [
    "## Probability distribution function (PDF)\n",
    "\n",
    "\n",
    "### Characterization with parameters shape $\\alpha$ and rate $\\beta$\n",
    "\n",
    "\\begin{equation}\n",
    "    f(x)\n",
    "    =\n",
    "    \\frac{\\beta^\\alpha\n",
    "    x^{\\alpha - 1}\n",
    "    e^{-\\beta x}}\n",
    "    {\\Gamma(\\alpha)}\n",
    "\\end{equation}\n",
    "\n",
    "where:\n",
    "\n",
    "- $x > 0$\n",
    "- $\\alpha > 0$\n",
    "- $\\beta > 0$\n",
    "\n",
    "### Characterization with parameters shape $k$ and scale $\\theta$\n",
    "\n",
    "\\begin{equation}\n",
    "    f(x)\n",
    "    =\n",
    "    \\frac{x^{k-1} e^{-\\frac{x}{\\theta}}}\n",
    "    {\\theta^{k}\\Gamma(k)}\n",
    "\\end{equation}\n",
    "\n",
    "where:\n",
    "\n",
    "- $x > 0$\n",
    "- $k > 0$\n",
    "- $\\theta > 0$"
   ]
  },
  {
   "cell_type": "code",
   "execution_count": 1,
   "metadata": {
    "collapsed": true
   },
   "outputs": [],
   "source": [
    "import numpy as np\n",
    "import matplotlib.pyplot as plt\n",
    "import matplotlib.colors as colors\n",
    "import matplotlib.cm as cmx\n",
    "import scipy.stats\n",
    "%matplotlib inline"
   ]
  },
  {
   "cell_type": "markdown",
   "metadata": {},
   "source": [
    "## PDF"
   ]
  },
  {
   "cell_type": "code",
   "execution_count": 2,
   "metadata": {
    "collapsed": true
   },
   "outputs": [],
   "source": [
    "x = np.linspace(0.0, 10.0, 100)"
   ]
  },
  {
   "cell_type": "code",
   "execution_count": null,
   "metadata": {
    "collapsed": true
   },
   "outputs": [],
   "source": [
    "scipy.stats.g"
   ]
  },
  {
   "cell_type": "code",
   "execution_count": 10,
   "metadata": {
    "collapsed": true
   },
   "outputs": [],
   "source": [
    "alpha_beta = [[1.0,1.0],\n",
    "              [1.0,2.0],\n",
    "              [1.0,3.0],\n",
    "             ]"
   ]
  },
  {
   "cell_type": "code",
   "execution_count": 11,
   "metadata": {},
   "outputs": [],
   "source": [
    "alpha = 1.0\n",
    "beta = 1.0\n",
    "pdf = scipy.stats.gamma.pdf(x, a=alpha, scale=1/beta)"
   ]
  },
  {
   "cell_type": "code",
   "execution_count": 12,
   "metadata": {},
   "outputs": [
    {
     "data": {
      "text/plain": [
       "[<matplotlib.lines.Line2D at 0x7f7920fbf978>]"
      ]
     },
     "execution_count": 12,
     "metadata": {},
     "output_type": "execute_result"
    },
    {
     "data": {
      "image/png": "[encoded data removed]",
      "text/plain": [
       "<Figure size 432x288 with 1 Axes>"
      ]
     },
     "metadata": {},
     "output_type": "display_data"
    }
   ],
   "source": [
    "f,a = plt.subplots()\n",
    "a.plot(x,pdf)"
   ]
  },
  {
   "cell_type": "code",
   "execution_count": 16,
   "metadata": {
    "collapsed": true
   },
   "outputs": [],
   "source": [
    "def plot_gamma(alpha, beta):\n",
    "    x = np.linspace(0.0, 10.0, 100)\n",
    "    pdf = scipy.stats.gamma.pdf(x, a=alpha, scale=1/beta)\n",
    "    f,a = plt.subplots()\n",
    "    a.plot(x,pdf)\n",
    "    return f,a"
   ]
  },
  {
   "cell_type": "code",
   "execution_count": 18,
   "metadata": {},
   "outputs": [
    {
     "data": {
      "text/plain": [
       "(0.0, 2.0)"
      ]
     },
     "execution_count": 18,
     "metadata": {},
     "output_type": "execute_result"
    },
    {
     "data": {
      "image/png": "[encoded data removed]",
      "text/plain": [
       "<Figure size 432x288 with 1 Axes>"
      ]
     },
     "metadata": {},
     "output_type": "display_data"
    }
   ],
   "source": [
    "f,a = plot_gamma(1.0, 1e9)\n",
    "a.set_ylim(0.0, 2.0)"
   ]
  },
  {
   "cell_type": "code",
   "execution_count": null,
   "metadata": {
    "collapsed": true
   },
   "outputs": [],
   "source": []
  }
 ],
 "metadata": {
  "kernelspec": {
   "display_name": "Python 3",
   "language": "python",
   "name": "python3"
  },
  "language_info": {
   "codemirror_mode": {
    "name": "ipython",
    "version": 3
   },
   "file_extension": ".py",
   "mimetype": "text/x-python",
   "name": "python",
   "nbconvert_exporter": "python",
   "pygments_lexer": "ipython3",
   "version": "3.6.6"
  }
 },
 "nbformat": 4,
 "nbformat_minor": 2
}
