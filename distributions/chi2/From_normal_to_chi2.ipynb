{
 "cells": [
  {
   "cell_type": "code",
   "execution_count": 1,
   "metadata": {
    "collapsed": true
   },
   "outputs": [],
   "source": [
    "import numpy as np\n",
    "import matplotlib.pyplot as plt\n",
    "import seaborn as sns\n",
    "from scipy.stats import norm\n",
    "from scipy.stats import chi2\n",
    "from scipy.stats import ncx2\n",
    "from ipywidgets import interact, interactive, fixed, interact_manual\n",
    "%matplotlib inline"
   ]
  },
  {
   "cell_type": "markdown",
   "metadata": {},
   "source": [
    "## Relation between normal and $\\chi^{2}$ distribution"
   ]
  },
  {
   "cell_type": "markdown",
   "metadata": {},
   "source": [
    "### Random variable $\\hat{x}$ ~ $\\mathcal{N}(E[\\hat{x}], V[\\hat{x}])$ \n",
    "\n",
    "Distributed as a normal with parameters:\n",
    "\n",
    "- Mean: `xhat_mean`\n",
    "- std. deviation: `xhat_stdev`"
   ]
  },
  {
   "cell_type": "markdown",
   "metadata": {},
   "source": [
    "Parameters of the normal distribution"
   ]
  },
  {
   "cell_type": "code",
   "execution_count": 2,
   "metadata": {
    "collapsed": true
   },
   "outputs": [],
   "source": [
    "xhat_mean  = 5.0\n",
    "xhat_stdev = 0.6"
   ]
  },
  {
   "cell_type": "markdown",
   "metadata": {},
   "source": [
    "Draw samples from the distribution"
   ]
  },
  {
   "cell_type": "code",
   "execution_count": 3,
   "metadata": {
    "collapsed": true
   },
   "outputs": [],
   "source": [
    "nsamples = 10000"
   ]
  },
  {
   "cell_type": "code",
   "execution_count": 4,
   "metadata": {
    "collapsed": false
   },
   "outputs": [],
   "source": [
    "x = norm.rvs(size=nsamples, loc=xhat_mean, scale=xhat_stdev)"
   ]
  },
  {
   "cell_type": "markdown",
   "metadata": {},
   "source": [
    "Distribution of the sample"
   ]
  },
  {
   "cell_type": "code",
   "execution_count": 5,
   "metadata": {
    "collapsed": false
   },
   "outputs": [
    {
     "data": {
      "image/png": "[encoded data removed]",
      "text/plain": [
       "<matplotlib.figure.Figure at 0x7fc7a65ecdd8>"
      ]
     },
     "metadata": {},
     "output_type": "display_data"
    }
   ],
   "source": [
    "f, a = plt.subplots(nrows=1, ncols=1);\n",
    "a.hist(x, normed=True, histtype='stepfilled', bins=100);\n",
    "a.set_xlabel('x');\n",
    "a.set_ylabel('Frequency');"
   ]
  },
  {
   "cell_type": "markdown",
   "metadata": {},
   "source": [
    "### Relative squared deviation"
   ]
  },
  {
   "cell_type": "markdown",
   "metadata": {},
   "source": [
    "Relative squared deviation is defined as:\n",
    "\n",
    "$ s = y^{2} = \\frac{(\\hat{x} - x_{0})^{2}}{\\sigma^{2}}$\n",
    "\n",
    "$y =  \\frac{\\hat{x} - x_{0}}{\\sigma}$ \n",
    "\n",
    "Note that if below:\n",
    "\n",
    "- `x0 = xhat_mean`\n",
    "\n",
    "and\n",
    "\n",
    "- `sigma = xhat_stdev`\n",
    "\n",
    "Then $y$ is a random variable normal distributed with:\n",
    "- $E[y] = 0$\n",
    "- $V[y] = 1$\n",
    "\n",
    "and $s$ is the square of a random variable that is standard normal distributed $\\implies$ we expect that $s$ follows $\\chi^{2}$ distribution with $k = 1$ degrees of freedom."
   ]
  },
  {
   "cell_type": "code",
   "execution_count": 6,
   "metadata": {
    "collapsed": true
   },
   "outputs": [],
   "source": [
    "x0    = xhat_mean\n",
    "sigma = xhat_stdev"
   ]
  },
  {
   "cell_type": "markdown",
   "metadata": {},
   "source": [
    "#### Constructing a centered and normalized random variable"
   ]
  },
  {
   "cell_type": "code",
   "execution_count": 7,
   "metadata": {
    "collapsed": true
   },
   "outputs": [],
   "source": [
    "y = (x-x0)/sigma"
   ]
  },
  {
   "cell_type": "code",
   "execution_count": 8,
   "metadata": {
    "collapsed": false
   },
   "outputs": [
    {
     "data": {
      "image/png": "[encoded data removed]",
      "text/plain": [
       "<matplotlib.figure.Figure at 0x7fc7a3a9a7b8>"
      ]
     },
     "metadata": {},
     "output_type": "display_data"
    }
   ],
   "source": [
    "f, a = plt.subplots(nrows=1, ncols=1);\n",
    "a.hist(y, normed=True, histtype='stepfilled', bins=100, range=(-5, 5));\n",
    "a.set_xlim(-5.0, 5.0)\n",
    "a.set_xlabel('y');\n",
    "a.set_ylabel('Frequency');"
   ]
  },
  {
   "cell_type": "markdown",
   "metadata": {},
   "source": [
    "#### Constructing a sample of relative squared deviation  from the $x$'s we generated above."
   ]
  },
  {
   "cell_type": "code",
   "execution_count": 9,
   "metadata": {
    "collapsed": true
   },
   "outputs": [],
   "source": [
    "s = y**2"
   ]
  },
  {
   "cell_type": "markdown",
   "metadata": {},
   "source": [
    "Distribution of s"
   ]
  },
  {
   "cell_type": "code",
   "execution_count": 10,
   "metadata": {
    "collapsed": false
   },
   "outputs": [
    {
     "data": {
      "image/png": "[encoded data removed]",
      "text/plain": [
       "<matplotlib.figure.Figure at 0x7fc7a39d0d68>"
      ]
     },
     "metadata": {},
     "output_type": "display_data"
    }
   ],
   "source": [
    "f, a = plt.subplots(nrows=1, ncols=1);\n",
    "a.hist(s, normed=True, histtype='stepfilled', bins=100, range=(0, 10));\n",
    "a.set_xlim(0.0, 10)\n",
    "a.set_ylim(-0.1, 1.0)\n",
    "a.set_xlabel('s');\n",
    "a.set_ylabel('Frequency');"
   ]
  },
  {
   "cell_type": "markdown",
   "metadata": {},
   "source": [
    "### Comparing distribution of $s$ and the $\\chi^{2} (df)$ distribution"
   ]
  },
  {
   "cell_type": "markdown",
   "metadata": {},
   "source": [
    "$\\chi^{2}$ distribution parameteres"
   ]
  },
  {
   "cell_type": "code",
   "execution_count": 11,
   "metadata": {
    "collapsed": true
   },
   "outputs": [],
   "source": [
    "df = 1"
   ]
  },
  {
   "cell_type": "code",
   "execution_count": 12,
   "metadata": {
    "collapsed": true
   },
   "outputs": [],
   "source": [
    "x_pdf = np.linspace(chi2.ppf(0.01, df), chi2.ppf(0.99, df), 100)"
   ]
  },
  {
   "cell_type": "markdown",
   "metadata": {},
   "source": [
    "Show both the distribution of $s$ and the $\\chi^{2}$ p.d.f.:"
   ]
  },
  {
   "cell_type": "code",
   "execution_count": 27,
   "metadata": {
    "collapsed": false
   },
   "outputs": [
    {
     "data": {
      "image/png": "[encoded data removed]",
      "text/plain": [
       "<matplotlib.figure.Figure at 0x7fc7a3331b38>"
      ]
     },
     "metadata": {},
     "output_type": "display_data"
    }
   ],
   "source": [
    "f, a = plt.subplots(nrows=1, ncols=1);\n",
    "a.hist(s, normed=True, bins=100, range=(0, 5));\n",
    "a.plot(x_pdf, chi2.pdf(x_pdf, df), 'r-', lw=3, alpha=0.6, label='chi2 pdf');\n",
    "a.set_xlim(0.1, 5);\n",
    "a.set_ylim(-0.1, 1.0);\n",
    "a.set_xlabel('s');\n",
    "a.set_ylabel('Frequency');"
   ]
  },
  {
   "cell_type": "markdown",
   "metadata": {},
   "source": [
    "## Non-central $\\chi^{2}$"
   ]
  },
  {
   "cell_type": "markdown",
   "metadata": {},
   "source": [
    "### Random variable $\\hat{x}$\n",
    "\n",
    "Normal distributed with parameters:\n",
    "\n",
    "- Mean: `xhat_mean`\n",
    "- std. deviation: `xhat_stdev`"
   ]
  },
  {
   "cell_type": "markdown",
   "metadata": {},
   "source": [
    "Parameters of the normal distribution"
   ]
  },
  {
   "cell_type": "code",
   "execution_count": 14,
   "metadata": {
    "collapsed": true
   },
   "outputs": [],
   "source": [
    "xhat_mean  = 5.0\n",
    "xhat_stdev = 2.0"
   ]
  },
  {
   "cell_type": "markdown",
   "metadata": {},
   "source": [
    "Draw samples from the distribution"
   ]
  },
  {
   "cell_type": "code",
   "execution_count": 15,
   "metadata": {
    "collapsed": true
   },
   "outputs": [],
   "source": [
    "nsamples = 10000"
   ]
  },
  {
   "cell_type": "code",
   "execution_count": 16,
   "metadata": {
    "collapsed": false
   },
   "outputs": [],
   "source": [
    "x = norm.rvs(size=nsamples, loc=xhat_mean, scale=xhat_stdev)"
   ]
  },
  {
   "cell_type": "markdown",
   "metadata": {},
   "source": [
    "Distribution of the sample"
   ]
  },
  {
   "cell_type": "code",
   "execution_count": 17,
   "metadata": {
    "collapsed": false
   },
   "outputs": [
    {
     "data": {
      "image/png": "[encoded data removed]",
      "text/plain": [
       "<matplotlib.figure.Figure at 0x7fc7a3996f98>"
      ]
     },
     "metadata": {},
     "output_type": "display_data"
    }
   ],
   "source": [
    "f, a = plt.subplots(nrows=1, ncols=1);\n",
    "a.hist(x, normed=True, histtype='stepfilled', bins=100);\n",
    "a.set_xlabel('x');\n",
    "a.set_ylabel('Frequency');"
   ]
  },
  {
   "cell_type": "markdown",
   "metadata": {},
   "source": [
    "### Relative squared deviation"
   ]
  },
  {
   "cell_type": "markdown",
   "metadata": {},
   "source": [
    "Relative squared deviation is defined ad:\n",
    "\n",
    "$ s = y^{2} = \\frac{(\\hat{x} - x_{0})^{2}}{\\sigma^{2}}$\n",
    "\n",
    "Note that if below:\n",
    "\n",
    "- `sigma = xhat_stdev`\n",
    "\n",
    "Then $y$ is a random variable normal distributed with:\n",
    "- $E[y] = \\mu = \\frac{E[\\hat{x}]}{\\sigma} - \\frac{x_{0}}{\\sigma}$\n",
    "- $V[y] = 1$\n",
    "\n",
    "and $s$ is the square of this normal distributed random variable $\\implies$ we expect that $s$ follows non-central $\\chi^{2}$ distribution with $k = 1$ degrees of freedom."
   ]
  },
  {
   "cell_type": "code",
   "execution_count": 18,
   "metadata": {
    "collapsed": true
   },
   "outputs": [],
   "source": [
    "x0    = 4.0\n",
    "sigma = xhat_stdev"
   ]
  },
  {
   "cell_type": "markdown",
   "metadata": {},
   "source": [
    "#### Constructing a normalized random variable"
   ]
  },
  {
   "cell_type": "code",
   "execution_count": 19,
   "metadata": {
    "collapsed": true
   },
   "outputs": [],
   "source": [
    "y = (x-x0)/sigma"
   ]
  },
  {
   "cell_type": "code",
   "execution_count": 20,
   "metadata": {
    "collapsed": true
   },
   "outputs": [],
   "source": [
    "y_mean = (xhat_mean/sigma) - (x0/sigma)"
   ]
  },
  {
   "cell_type": "code",
   "execution_count": 21,
   "metadata": {
    "collapsed": false
   },
   "outputs": [
    {
     "data": {
      "image/png": "[encoded data removed]",
      "text/plain": [
       "<matplotlib.figure.Figure at 0x7fc7a3660978>"
      ]
     },
     "metadata": {},
     "output_type": "display_data"
    }
   ],
   "source": [
    "f, a = plt.subplots(nrows=1, ncols=1);\n",
    "a.hist(y, normed=True, histtype='stepfilled', bins=100, range=(-5, 5));\n",
    "a.set_xlim(-5.0, 5.0);\n",
    "a.axvline(y_mean, c='k')\n",
    "a.set_xlabel('y');\n",
    "a.set_ylabel('Frequency');"
   ]
  },
  {
   "cell_type": "markdown",
   "metadata": {},
   "source": [
    "#### Constructing a sample of relative squared deviation  from the $x$'s we generated above."
   ]
  },
  {
   "cell_type": "code",
   "execution_count": 22,
   "metadata": {
    "collapsed": true
   },
   "outputs": [],
   "source": [
    "s = y**2"
   ]
  },
  {
   "cell_type": "markdown",
   "metadata": {},
   "source": [
    "Distribution of s"
   ]
  },
  {
   "cell_type": "code",
   "execution_count": 23,
   "metadata": {
    "collapsed": false
   },
   "outputs": [
    {
     "data": {
      "image/png": "[encoded data removed]",
      "text/plain": [
       "<matplotlib.figure.Figure at 0x7fc7a35f8630>"
      ]
     },
     "metadata": {},
     "output_type": "display_data"
    }
   ],
   "source": [
    "f, a = plt.subplots(nrows=1, ncols=1);\n",
    "a.hist(s, normed=True, histtype='stepfilled', bins=100, range=(0, 10));\n",
    "a.set_xlim(0.0, 10)\n",
    "a.set_ylim(-0.1, 1.0)\n",
    "a.set_xlabel('s');\n",
    "a.set_ylabel('Frequency');"
   ]
  },
  {
   "cell_type": "markdown",
   "metadata": {},
   "source": [
    "### Comparing distribution of $s$ and the noncentral $\\chi^{2}(df,nc)$ distribution"
   ]
  },
  {
   "cell_type": "markdown",
   "metadata": {},
   "source": [
    "$\\chi^{2}$ distribution parameteres"
   ]
  },
  {
   "cell_type": "code",
   "execution_count": 24,
   "metadata": {
    "collapsed": true
   },
   "outputs": [],
   "source": [
    "df = 1\n",
    "nc = y_mean**2"
   ]
  },
  {
   "cell_type": "code",
   "execution_count": 25,
   "metadata": {
    "collapsed": false
   },
   "outputs": [],
   "source": [
    "x_pdf = np.linspace(ncx2.ppf(0.01, df, nc), ncx2.ppf(0.99, df, nc), 100)"
   ]
  },
  {
   "cell_type": "markdown",
   "metadata": {},
   "source": [
    "Show both the distribution of $s$ and the $\\chi^{2}$ p.d.f.:"
   ]
  },
  {
   "cell_type": "code",
   "execution_count": 28,
   "metadata": {
    "collapsed": false
   },
   "outputs": [
    {
     "data": {
      "image/png": "[encoded data removed]",
      "text/plain": [
       "<matplotlib.figure.Figure at 0x7fc7a33dd438>"
      ]
     },
     "metadata": {},
     "output_type": "display_data"
    }
   ],
   "source": [
    "f, a = plt.subplots(nrows=1, ncols=1);\n",
    "a.hist(s, normed=True, bins=100, range=(0, 5));\n",
    "a.plot(x_pdf, ncx2.pdf(x_pdf, df, nc), 'r-', lw=3, alpha=0.6, label='chi2 pdf');\n",
    "a.set_xlim(0, 5);\n",
    "a.set_ylim(-0.1, 1.0);\n",
    "a.set_xlabel('s');\n",
    "a.set_ylabel('Frequency');"
   ]
  },
  {
   "cell_type": "code",
   "execution_count": null,
   "metadata": {
    "collapsed": true
   },
   "outputs": [],
   "source": []
  }
 ],
 "metadata": {
  "kernelspec": {
   "display_name": "Python 3",
   "language": "python",
   "name": "python3"
  },
  "language_info": {
   "codemirror_mode": {
    "name": "ipython",
    "version": 3
   },
   "file_extension": ".py",
   "mimetype": "text/x-python",
   "name": "python",
   "nbconvert_exporter": "python",
   "pygments_lexer": "ipython3",
   "version": "3.6.0"
  }
 },
 "nbformat": 4,
 "nbformat_minor": 2
}
