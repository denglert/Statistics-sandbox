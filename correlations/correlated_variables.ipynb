{
 "cells": [
  {
   "cell_type": "code",
   "execution_count": 1,
   "metadata": {},
   "outputs": [
    {
     "name": "stdout",
     "output_type": "stream",
     "text": [
      "The autoreload extension is already loaded. To reload it, use:\n",
      "  %reload_ext autoreload\n"
     ]
    }
   ],
   "source": [
    "import os\n",
    "from matplotlib.mlab import griddata\n",
    "setup_script = os.path.join(os.environ['ENV_JUPYTER_SETUPS_DIR'], 'setup_sci_env_basic.py')\n",
    "%run $setup_script"
   ]
  },
  {
   "cell_type": "code",
   "execution_count": 2,
   "metadata": {
    "collapsed": true
   },
   "outputs": [],
   "source": [
    "def joint_probability(x1,x2, mu1=0.0, mu2=0.0, sigma1=1.0, sigma2=1.0, rho=0.0):\n",
    "    V = np.matrix([[sigma1**2, rho*sigma1*sigma2],\n",
    "                 [rho*sigma1*sigma2, sigma2**2]])\n",
    "    D = np.linalg.det(V)\n",
    "    x = np.array([[x1],[x2]])\n",
    "    mu = np.array([[mu1], [mu2]])\n",
    "    expo = - 0.5 * (x-mu).transpose() * np.linalg.inv(V) * (x-mu)\n",
    "    norm = 1.0 / (2.0*np.pi * np.sqrt(D))\n",
    "    p = norm * np.exp(expo)\n",
    "    return p[0,0]"
   ]
  },
  {
   "cell_type": "code",
   "execution_count": 3,
   "metadata": {
    "collapsed": true
   },
   "outputs": [],
   "source": [
    "joint_probability_vec = np.vectorize(joint_probability)"
   ]
  },
  {
   "cell_type": "code",
   "execution_count": 4,
   "metadata": {
    "collapsed": true
   },
   "outputs": [],
   "source": [
    "x1 = np.linspace(-10.0, 10.0, 50)\n",
    "x2 = np.linspace(-10.0, 10.0, 50)"
   ]
  },
  {
   "cell_type": "code",
   "execution_count": 5,
   "metadata": {
    "collapsed": true
   },
   "outputs": [],
   "source": [
    "xi, yi = np.meshgrid(x1,x2)"
   ]
  },
  {
   "cell_type": "code",
   "execution_count": 6,
   "metadata": {
    "collapsed": true
   },
   "outputs": [],
   "source": [
    "zi = joint_probability_vec(xi,yi, sigma1=1.0, sigma2=5.0, rho=0.5, mu1=5.0)"
   ]
  },
  {
   "cell_type": "code",
   "execution_count": 7,
   "metadata": {},
   "outputs": [
    {
     "data": {
      "image/png": "[encoded data removed]",
      "text/plain": [
       "<matplotlib.figure.Figure at 0x7f033f5589e8>"
      ]
     },
     "metadata": {},
     "output_type": "display_data"
    }
   ],
   "source": [
    "f,a = plt.subplots()\n",
    "cs = a.contourf(xi,yi,zi)\n",
    "cb = plt.colorbar(cs)"
   ]
  }
 ],
 "metadata": {
  "kernelspec": {
   "display_name": "Python 3",
   "language": "python",
   "name": "python3"
  },
  "language_info": {
   "codemirror_mode": {
    "name": "ipython",
    "version": 3
   },
   "file_extension": ".py",
   "mimetype": "text/x-python",
   "name": "python",
   "nbconvert_exporter": "python",
   "pygments_lexer": "ipython3",
   "version": "3.6.6"
  }
 },
 "nbformat": 4,
 "nbformat_minor": 2
}
